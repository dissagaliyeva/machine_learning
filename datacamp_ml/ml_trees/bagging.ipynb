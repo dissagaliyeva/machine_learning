{
 "cells": [
  {
   "cell_type": "markdown",
   "id": "d22aa550-536f-4945-8837-6d63aec04942",
   "metadata": {},
   "source": [
    "# Bagging and Random Forest\n",
    "Bagging stands for <b>Bootstrap Aggregation</b>. It basically draw N samples with replacement and chooses a better model. In the case of <b>classification</b>, it aggregates predictions through <b>majority voting</b>. In the case of <b>regressions</b>, it aggregates predictions through <b>averaging</b>. "
   ]
  },
  {
   "cell_type": "code",
   "execution_count": 10,
   "id": "45dc9d74-aaaa-4e2a-9b86-9afa5f8b8866",
   "metadata": {},
   "outputs": [],
   "source": [
    "import pandas as pd \n",
    "import numpy as np\n",
    "import seaborn as sns\n",
    "import matplotlib.pyplot as plt\n",
    "\n",
    "from sklearn.linear_model import LogisticRegression\n",
    "from sklearn.tree import DecisionTreeClassifier, DecisionTreeRegressor\n",
    "from sklearn.ensemble import RandomForestClassifier, VotingClassifier, BaggingClassifier, RandomForestRegressor, VotingRegressor, BaggingRegressor\n",
    "\n",
    "from sklearn.datasets import load_breast_cancer\n",
    "from sklearn.model_selection import train_test_split\n",
    "from sklearn.metrics import accuracy_score, mean_squared_error as MSE\n",
    "\n",
    "sns.set()\n",
    "%matplotlib inline"
   ]
  },
  {
   "cell_type": "markdown",
   "id": "c10635f3-630d-46c9-8d0d-0e923cb2f949",
   "metadata": {},
   "source": [
    "### Bagging classifier with Breast-Cancer dataset\n"
   ]
  },
  {
   "cell_type": "code",
   "execution_count": 4,
   "id": "3f78a461-002c-412e-aa88-3a391a0dbfd6",
   "metadata": {},
   "outputs": [
    {
     "name": "stdout",
     "output_type": "stream",
     "text": [
      "(569, 30) (569,)\n"
     ]
    }
   ],
   "source": [
    "cancer = load_breast_cancer()\n",
    "X, y = cancer.data, cancer.target \n",
    "print(X.shape, y.shape)\n",
    "\n",
    "X_train, X_test, y_train, y_test = train_test_split(X, y, test_size=.3, stratify=y)"
   ]
  },
  {
   "cell_type": "code",
   "execution_count": 5,
   "id": "b22b5ef4-9cfc-4f1f-88dd-459d0dfe64e0",
   "metadata": {},
   "outputs": [
    {
     "name": "stdout",
     "output_type": "stream",
     "text": [
      "Accuracy score of DecisionTreeClassifier: 0.9005847953216374\n",
      "Accuracy score of BaggingClassifier: 0.9005847953216374\n"
     ]
    }
   ],
   "source": [
    "# instantiate Deicison tree classifier\n",
    "dt = DecisionTreeClassifier(max_depth=4, min_samples_leaf=.16)\n",
    "\n",
    "# instantiate a bagging classifier\n",
    "bc = BaggingClassifier(base_estimator=dt, n_estimators=300, n_jobs=-1)\n",
    "\n",
    "# fit the model\n",
    "bc.fit(X_train, y_train)\n",
    "\n",
    "# predict\n",
    "y_pred = bc.predict(X_test)\n",
    "\n",
    "print(f'Accuracy score of DecisionTreeClassifier: {accuracy_score(y_test, DecisionTreeClassifier(max_depth=4, min_samples_leaf=.16).fit(X_train, y_train).predict(X_test))}')\n",
    "print(f'Accuracy score of BaggingClassifier: {accuracy_score(y_test, y_pred)}')"
   ]
  },
  {
   "cell_type": "markdown",
   "id": "0a35b289-9961-42a6-ac1f-3418ab7ebcbe",
   "metadata": {},
   "source": [
    "# Out of Bag Evaluation\n",
    "During the training stage, Bagging Classifier samples only ~63% of the data. Therefore, there is roughly 37% that the model \"skips\". Those skipped instances are called Out-of-Bag (OOB) instances. Since they're being overlooked, we can test the model's performance by estimating the performance of the model on such instances. To do so, we simply need to pass \"oob_score=True\" when instantiating a model. "
   ]
  },
  {
   "cell_type": "code",
   "execution_count": 6,
   "id": "e043271d-d8ee-4638-bfae-8da10e6806ed",
   "metadata": {},
   "outputs": [
    {
     "name": "stdout",
     "output_type": "stream",
     "text": [
      "Test Accuracy score: 0.9005847953216374\n",
      "OOB accuracy: 0.914572864321608\n"
     ]
    }
   ],
   "source": [
    "# instantiate the base estimator model\n",
    "dt = DecisionTreeClassifier(max_depth=4, min_samples_leaf=.16)\n",
    "\n",
    "# instantiate a bagging model\n",
    "bagging = BaggingClassifier(base_estimator=dt, n_estimators=200, oob_score=True, n_jobs=-1)\n",
    "\n",
    "# fit and predict\n",
    "bagging.fit(X_train, y_train)\n",
    "y_pred = bagging.predict(X_test)\n",
    "\n",
    "# evaluate test set accuracy\n",
    "test_accuracy = accuracy_score(y_test, y_pred)\n",
    "\n",
    "# extract the OOB accuracy score\n",
    "oob_accuracy = bagging.oob_score_\n",
    "\n",
    "# print test and OOB accuracy\n",
    "print(f'Test Accuracy score: {test_accuracy}')\n",
    "print(f'OOB accuracy: {oob_accuracy}')"
   ]
  },
  {
   "cell_type": "markdown",
   "id": "28b0c9fc-17f4-4d9c-84de-3343ce06b196",
   "metadata": {},
   "source": [
    "# Random Forest\n",
    "- base estimator: Decision Tree\n",
    "- each estimator is trained on a different bootstrap sample having the same size as the training set \n",
    "- introduces further randomization in the training of individual trees\n",
    "- splits into samples with features without replacement \n",
    "- aggregates predictions by majority voting for classifications, and averaging for regressions\n",
    "\n"
   ]
  },
  {
   "cell_type": "code",
   "execution_count": 7,
   "id": "bf7c6385-f372-47c9-ba20-a22873ea2cc7",
   "metadata": {},
   "outputs": [
    {
     "data": {
      "text/html": [
       "<div>\n",
       "<style scoped>\n",
       "    .dataframe tbody tr th:only-of-type {\n",
       "        vertical-align: middle;\n",
       "    }\n",
       "\n",
       "    .dataframe tbody tr th {\n",
       "        vertical-align: top;\n",
       "    }\n",
       "\n",
       "    .dataframe thead th {\n",
       "        text-align: right;\n",
       "    }\n",
       "</style>\n",
       "<table border=\"1\" class=\"dataframe\">\n",
       "  <thead>\n",
       "    <tr style=\"text-align: right;\">\n",
       "      <th></th>\n",
       "      <th>mpg</th>\n",
       "      <th>displ</th>\n",
       "      <th>hp</th>\n",
       "      <th>weight</th>\n",
       "      <th>accel</th>\n",
       "      <th>origin</th>\n",
       "      <th>size</th>\n",
       "    </tr>\n",
       "  </thead>\n",
       "  <tbody>\n",
       "    <tr>\n",
       "      <th>0</th>\n",
       "      <td>18.0</td>\n",
       "      <td>250.0</td>\n",
       "      <td>88</td>\n",
       "      <td>3139</td>\n",
       "      <td>14.5</td>\n",
       "      <td>US</td>\n",
       "      <td>15.0</td>\n",
       "    </tr>\n",
       "    <tr>\n",
       "      <th>1</th>\n",
       "      <td>9.0</td>\n",
       "      <td>304.0</td>\n",
       "      <td>193</td>\n",
       "      <td>4732</td>\n",
       "      <td>18.5</td>\n",
       "      <td>US</td>\n",
       "      <td>20.0</td>\n",
       "    </tr>\n",
       "    <tr>\n",
       "      <th>2</th>\n",
       "      <td>36.1</td>\n",
       "      <td>91.0</td>\n",
       "      <td>60</td>\n",
       "      <td>1800</td>\n",
       "      <td>16.4</td>\n",
       "      <td>Asia</td>\n",
       "      <td>10.0</td>\n",
       "    </tr>\n",
       "  </tbody>\n",
       "</table>\n",
       "</div>"
      ],
      "text/plain": [
       "    mpg  displ   hp  weight  accel origin  size\n",
       "0  18.0  250.0   88    3139   14.5     US  15.0\n",
       "1   9.0  304.0  193    4732   18.5     US  20.0\n",
       "2  36.1   91.0   60    1800   16.4   Asia  10.0"
      ]
     },
     "execution_count": 7,
     "metadata": {},
     "output_type": "execute_result"
    }
   ],
   "source": [
    "auto_mpg = pd.read_csv('datasets/auto_mpg.csv')\n",
    "auto_mpg.head(3)"
   ]
  },
  {
   "cell_type": "code",
   "execution_count": 8,
   "id": "0a0a79ed-8303-4fbd-87ec-817027a7e30e",
   "metadata": {},
   "outputs": [
    {
     "data": {
      "text/html": [
       "<div>\n",
       "<style scoped>\n",
       "    .dataframe tbody tr th:only-of-type {\n",
       "        vertical-align: middle;\n",
       "    }\n",
       "\n",
       "    .dataframe tbody tr th {\n",
       "        vertical-align: top;\n",
       "    }\n",
       "\n",
       "    .dataframe thead th {\n",
       "        text-align: right;\n",
       "    }\n",
       "</style>\n",
       "<table border=\"1\" class=\"dataframe\">\n",
       "  <thead>\n",
       "    <tr style=\"text-align: right;\">\n",
       "      <th></th>\n",
       "      <th>mpg</th>\n",
       "      <th>displ</th>\n",
       "      <th>hp</th>\n",
       "      <th>weight</th>\n",
       "      <th>accel</th>\n",
       "      <th>size</th>\n",
       "      <th>origin_Europe</th>\n",
       "      <th>origin_US</th>\n",
       "    </tr>\n",
       "  </thead>\n",
       "  <tbody>\n",
       "    <tr>\n",
       "      <th>0</th>\n",
       "      <td>18.0</td>\n",
       "      <td>250.0</td>\n",
       "      <td>88</td>\n",
       "      <td>3139</td>\n",
       "      <td>14.5</td>\n",
       "      <td>15.0</td>\n",
       "      <td>0</td>\n",
       "      <td>1</td>\n",
       "    </tr>\n",
       "    <tr>\n",
       "      <th>1</th>\n",
       "      <td>9.0</td>\n",
       "      <td>304.0</td>\n",
       "      <td>193</td>\n",
       "      <td>4732</td>\n",
       "      <td>18.5</td>\n",
       "      <td>20.0</td>\n",
       "      <td>0</td>\n",
       "      <td>1</td>\n",
       "    </tr>\n",
       "    <tr>\n",
       "      <th>2</th>\n",
       "      <td>36.1</td>\n",
       "      <td>91.0</td>\n",
       "      <td>60</td>\n",
       "      <td>1800</td>\n",
       "      <td>16.4</td>\n",
       "      <td>10.0</td>\n",
       "      <td>0</td>\n",
       "      <td>0</td>\n",
       "    </tr>\n",
       "  </tbody>\n",
       "</table>\n",
       "</div>"
      ],
      "text/plain": [
       "    mpg  displ   hp  weight  accel  size  origin_Europe  origin_US\n",
       "0  18.0  250.0   88    3139   14.5  15.0              0          1\n",
       "1   9.0  304.0  193    4732   18.5  20.0              0          1\n",
       "2  36.1   91.0   60    1800   16.4  10.0              0          0"
      ]
     },
     "execution_count": 8,
     "metadata": {},
     "output_type": "execute_result"
    }
   ],
   "source": [
    "auto_mpg = pd.get_dummies(auto_mpg, columns=['origin'], drop_first=True)\n",
    "auto_mpg.head(3)"
   ]
  },
  {
   "cell_type": "code",
   "execution_count": 15,
   "id": "c7d0153c-6c28-4c29-a6eb-7f8d4c6b8584",
   "metadata": {},
   "outputs": [
    {
     "name": "stdout",
     "output_type": "stream",
     "text": [
      "MSE: 9.678216913022345\n",
      "RMSE: 3.1109832710932963\n"
     ]
    }
   ],
   "source": [
    "X, y = auto_mpg.drop('mpg', axis=1), auto_mpg['mpg']\n",
    "X_train, X_test, y_train, y_test = train_test_split(X, y, test_size=.25)\n",
    "\n",
    "# instantiate a \n",
    "rf = RandomForestRegressor(n_estimators=400, min_samples_leaf=.12).fit(X_train, y_train)\n",
    "y_pred = rf.predict(X_test)\n",
    "\n",
    "mse = MSE(y_test, y_pred)\n",
    "print(f'MSE: {mse}')\n",
    "print(f'RMSE: {np.sqrt(mse)}')"
   ]
  },
  {
   "cell_type": "code",
   "execution_count": 16,
   "id": "8bf29597-a21f-4f4f-869d-2e1d48656db7",
   "metadata": {},
   "outputs": [
    {
     "data": {
      "image/png": "[encoded data removed]",
      "text/plain": [
       "<Figure size 432x288 with 1 Axes>"
      ]
     },
     "metadata": {
      "needs_background": "light"
     },
     "output_type": "display_data"
    }
   ],
   "source": [
    "# create a pd.Series of feature importances\n",
    "importances_rf = pd.Series(rf.feature_importances_, index=X.columns)\n",
    "\n",
    "# sort importances\n",
    "sorted_importances = importances_rf.sort_values()\n",
    "\n",
    "# make a horizontal bar plot\n",
    "sorted_importances.plot(kind='barh', color='lightblue')\n",
    "plt.show()"
   ]
  },
  {
   "cell_type": "code",
   "execution_count": null,
   "id": "8e89e727-9af2-411a-a1e1-1a0118d97c9a",
   "metadata": {},
   "outputs": [],
   "source": []
  }
 ],
 "metadata": {
  "kernelspec": {
   "display_name": "Python 3",
   "language": "python",
   "name": "python3"
  },
  "language_info": {
   "codemirror_mode": {
    "name": "ipython",
    "version": 3
   },
   "file_extension": ".py",
   "mimetype": "text/x-python",
   "name": "python",
   "nbconvert_exporter": "python",
   "pygments_lexer": "ipython3",
   "version": "3.8.5"
  }
 },
 "nbformat": 4,
 "nbformat_minor": 5
}
