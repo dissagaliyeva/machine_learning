{
 "cells": [
  {
   "cell_type": "markdown",
   "metadata": {
    "collapsed": true,
    "pycharm": {
     "name": "#%% md\n"
    }
   },
   "source": []
  },
  {
   "cell_type": "code",
   "execution_count": 1,
   "outputs": [],
   "source": [
    "# load packages\n",
    "import pandas as pd\n",
    "import numpy as np\n",
    "import seaborn as sns\n",
    "import matplotlib.pyplot as plt\n",
    "\n",
    "from sklearn.preprocessing import StandardScaler, PolynomialFeatures\n",
    "from sklearn.model_selection import train_test_split\n",
    "from sklearn.metrics import mean_squared_error\n",
    "from sklearn.linear_model import LinearRegression\n",
    "from sklearn.pipeline import make_pipeline\n",
    "import statsmodels.api as sm\n",
    "import requests\n",
    "\n",
    "from sklearn.datasets import load_boston\n",
    "\n",
    "%matplotlib inline\n",
    "sns.set()"
   ],
   "metadata": {
    "collapsed": false,
    "pycharm": {
     "name": "#%%\n"
    }
   }
  },
  {
   "cell_type": "code",
   "execution_count": 2,
   "outputs": [],
   "source": [
    "df = load_boston()\n",
    "boston = pd.DataFrame(df.data, columns=df.feature_names)\n",
    "boston['Price'] = df.target\n",
    "X = boston.iloc[:, :-1]\n",
    "y = boston.iloc[:, -1]"
   ],
   "metadata": {
    "collapsed": false,
    "pycharm": {
     "name": "#%%\n"
    }
   }
  },
  {
   "cell_type": "code",
   "execution_count": 3,
   "outputs": [
    {
     "name": "stdout",
     "output_type": "stream",
     "text": [
      "In-sample MSE: 19.34825475625585\n",
      "Out-sample MSE: 30.119048511444202\n"
     ]
    }
   ],
   "source": [
    "X_train, X_test, y_train, y_test = train_test_split(X, y, test_size=0.25, random_state=101)\n",
    "linreg = LinearRegression().fit(X_train, y_train)\n",
    "print(f'In-sample MSE: {mean_squared_error(y_train, linreg.predict(X_train))}')\n",
    "print(f'Out-sample MSE: {mean_squared_error(y_test, linreg.predict(X_test))}')"
   ],
   "metadata": {
    "collapsed": false,
    "pycharm": {
     "name": "#%%\n"
    }
   }
  },
  {
   "cell_type": "code",
   "execution_count": 4,
   "outputs": [
    {
     "name": "stdout",
     "output_type": "stream",
     "text": [
      "In-sample MSE: 5.7263599318921194\n",
      "Out-sample MSE: 14.062763575306372\n"
     ]
    }
   ],
   "source": [
    "poly = PolynomialFeatures(degree=2, interaction_only=False)\n",
    "pipeline = make_pipeline(poly, LinearRegression()).fit(X_train, y_train)\n",
    "print(f'In-sample MSE: {mean_squared_error(y_train, pipeline.predict(X_train))}')\n",
    "print(f'Out-sample MSE: {mean_squared_error(y_test, pipeline.predict(X_test))}')\n"
   ],
   "metadata": {
    "collapsed": false,
    "pycharm": {
     "name": "#%%\n"
    }
   }
  },
  {
   "cell_type": "markdown",
   "source": [
    "As seen above, the difference between in-sample & out-sample results is enormous, therefore it's a sign of\n",
    "<b>overfitting</b>!\n"
   ],
   "metadata": {
    "collapsed": false,
    "pycharm": {
     "name": "#%% md\n"
    }
   }
  },
  {
   "cell_type": "markdown",
   "source": [
    "### Dealing with a hardcore dataset - Madelon\n"
   ],
   "metadata": {
    "collapsed": false,
    "pycharm": {
     "name": "#%% md\n"
    }
   }
  },
  {
   "cell_type": "code",
   "execution_count": 5,
   "outputs": [],
   "source": [
    "X_train = np.loadtxt('datasets/madelon_train.data')\n",
    "y_train = np.loadtxt('datasets/madelon_train.labels')\n",
    "\n",
    "# do not touch this one!\n",
    "X_validation = np.loadtxt('datasets/madelon_valid.data')\n",
    "y_validation = np.loadtxt('datasets/madelon_valid.labels')"
   ],
   "metadata": {
    "collapsed": false,
    "pycharm": {
     "name": "#%%\n"
    }
   }
  },
  {
   "cell_type": "code",
   "execution_count": 6,
   "outputs": [
    {
     "data": {
      "text/plain": "(2000,\n (array([462., 381., 370., 453., 371., 459., 334., 471., 430., 455., 354.,\n         389., 347., 352., 444., 410., 433., 377., 408., 441., 426., 412.,\n         456., 438., 343., 416., 421., 441., 438., 417., 451., 382., 369.,\n         363., 384., 342., 441., 396., 464., 471., 463., 362., 392., 438.,\n         406., 392., 371., 373., 367., 382., 381., 382., 399., 465., 401.,\n         409., 288., 377., 378., 408., 400., 462., 377., 458., 214., 385.,\n         373., 395., 462., 452., 362., 427., 402., 354., 456., 371., 446.,\n         396., 379., 424., 415., 385., 396., 430., 372., 391., 458., 406.,\n         454., 377., 474., 395., 399., 438., 452., 384., 468., 406., 412.,\n         355., 448., 448., 460., 428., 361.,   0., 349., 370., 391., 442.,\n         392., 356., 450., 385., 353., 413., 418., 441., 389., 414., 469.,\n         380., 437., 355., 406., 389., 440., 387., 435., 347., 401., 420.,\n         402., 461., 403., 382., 369., 425., 461., 430., 427., 376., 443.,\n         452., 421., 398., 468., 369., 462., 343., 325., 447., 437., 182.,\n         472., 398., 406., 382., 419., 400., 379., 443., 438., 458., 335.,\n         414., 471., 466., 473., 369., 350., 375., 380., 473., 414., 368.,\n         446., 457., 347., 378., 381., 393., 397., 387., 438., 407., 362.,\n         383., 327., 457., 372., 400., 428., 359., 350., 451., 461., 449.,\n         472., 393., 417., 409., 430., 332., 376., 471., 374., 466., 427.,\n         423., 444., 374., 402., 358., 443., 358., 403., 449., 396., 450.,\n         381., 350., 399., 364., 360., 408., 409., 470., 473., 412., 427.,\n         420., 430., 422., 427., 420., 430., 468., 410., 458., 385., 333.,\n         402., 430., 371., 394., 343., 468., 453., 401., 383., 379., 464.,\n         395., 453., 389., 350., 330., 455., 447., 419., 461., 432., 355.,\n         450., 425., 332., 431., 393., 421., 440., 369., 318., 354., 423.,\n         442., 474., 387., 394., 387., 473., 317., 420., 472., 374., 363.,\n         361., 342., 465., 420., 386., 399., 427., 455., 325., 385., 394.,\n         372., 406., 421., 345., 433., 463., 422., 378., 378., 436., 450.,\n         415., 347., 401., 414., 392., 390., 445., 385., 448., 457., 346.,\n         338., 440., 373., 426., 438., 424., 462., 385., 389., 444., 395.,\n         368., 437., 473., 383., 352., 447., 180., 356., 207., 368., 383.,\n         401., 389., 407., 358., 452., 457., 327., 409., 398., 453., 347.,\n         351., 436., 431., 420., 366., 471., 392., 359., 368., 416., 293.,\n         410., 459., 361., 407., 447., 440., 367., 374., 342., 421., 391.,\n         406., 381., 456., 410., 347., 361., 462., 404., 383., 441., 424.,\n         442., 404., 471., 424., 344., 459., 350., 468., 377., 469., 407.,\n         454., 346., 347., 461., 461., 381., 471., 387., 474., 368., 354.,\n         459., 381., 451., 419., 369., 378., 426., 398., 385., 448., 375.,\n         361., 387., 461., 427., 443., 474., 445., 436., 435., 362., 362.,\n         463., 398., 404., 383., 263., 418., 363., 436., 393., 368., 452.,\n         349., 417., 207., 345., 433., 472., 435., 449., 343., 435., 433.,\n         450., 417.,  84., 460., 265., 461., 384., 350., 383., 376., 403.,\n         379., 347., 424., 426., 452., 364., 408., 333., 398., 464., 347.,\n         472., 455., 276., 428., 423., 347., 450., 418., 391., 439., 375.,\n         376., 444., 444., 355., 411., 449., 407., 463., 391., 130., 368.,\n         398., 457., 435., 363., 403.]),\n  array([503., 600., 654., 519., 688., 505., 611., 481., 536., 503., 620.,\n         603., 593., 632., 523., 551., 523., 601., 566., 513., 526., 571.,\n         499., 516., 653., 597., 573., 528., 520., 573., 510., 628., 668.,\n         637., 557., 619., 517., 564., 496., 482., 487., 643., 568., 548.,\n         602., 557., 641., 619., 614., 571., 658., 641., 577., 498., 598.,\n         561., 644., 617., 675., 554., 558., 504., 641., 505., 768., 647.,\n         641., 569., 498., 501., 668., 537., 568., 629., 508., 651., 513.,\n         581., 640., 551., 584., 674., 613., 534., 647., 587., 494., 567.,\n         507., 654., 478., 612., 551., 557., 508., 622., 492., 554., 545.,\n         603., 510., 510., 506., 533., 645., 999., 577., 608., 608., 518.,\n         610., 630., 506., 586., 617., 545., 564., 522., 592., 577., 485.,\n         574., 518., 615., 553., 612., 530., 574., 516., 613., 618., 588.,\n         558., 491., 562., 651., 648., 555., 503., 535., 566., 641., 524.,\n         525., 549., 563., 495., 624., 497., 618., 612., 529., 517., 814.,\n         481., 583., 554., 573., 589., 602., 563., 521., 518., 500., 661.,\n         579., 481., 493., 481., 668., 639., 637., 633., 481., 524., 616.,\n         527., 504., 620., 654., 625., 664., 593., 571., 542., 575., 631.,\n         591., 673., 498., 560., 611., 559., 661., 680., 516., 502., 512.,\n         481., 609., 558., 557., 564., 647., 625., 481., 641., 493., 542.,\n         562., 542., 649., 574., 611., 523., 639., 630., 520., 585., 524.,\n         589., 649., 599., 636., 628., 601., 553., 485., 479., 556., 535.,\n         568., 530., 565., 564., 583., 529., 488., 542., 499., 603., 653.,\n         601., 530., 642., 626., 592., 492., 515., 584., 586., 590., 493.,\n         643., 506., 628., 688., 647., 520., 527., 551., 502., 560., 610.,\n         513., 571., 632., 554., 605., 590., 529., 639., 613., 692., 531.,\n         529., 478., 613., 576., 593., 482., 646., 536., 481., 609., 619.,\n         571., 653., 495., 561., 583., 605., 574., 499., 650., 614., 561.,\n         679., 578., 563., 597., 536., 492., 576., 602., 571., 530., 512.,\n         606., 568., 577., 548., 634., 605., 520., 621., 510., 506., 607.,\n         650., 525., 571., 564., 524., 556., 498., 564., 591., 526., 658.,\n         605., 522., 480., 586., 632., 529., 828., 626., 829., 643., 643.,\n         584., 606., 628., 678., 512., 507., 634., 566., 620., 507., 624.,\n         619., 525., 561., 545., 667., 482., 621., 651., 597., 561., 638.,\n         573., 501., 642., 582., 527., 529., 650., 622., 645., 570., 567.,\n         599., 594., 507., 560., 661., 630., 502., 569., 653., 532., 548.,\n         514., 581., 485., 561., 619., 496., 626., 487., 600., 490., 548.,\n         522., 616., 648., 504., 491., 606., 480., 579., 479., 593., 598.,\n         492., 601., 500., 562., 645., 602., 547., 617., 721., 531., 634.,\n         657., 635., 500., 530., 518., 478., 526., 542., 556., 633., 593.,\n         494., 568., 604., 584., 719., 558., 657., 517., 653., 603., 521.,\n         626., 542., 794., 651., 575., 483., 517., 532., 631., 510., 536.,\n         505., 569., 807., 500., 735., 501., 586., 650., 592., 639., 560.,\n         625., 615., 547., 566., 510., 670., 540., 633., 666., 493., 621.,\n         484., 506., 680., 535., 548., 630., 528., 554., 587., 509., 623.,\n         619., 523., 512., 618., 606., 513., 549., 497., 566., 920., 615.,\n         661., 500., 535., 644., 583.])))"
     },
     "execution_count": 6,
     "metadata": {},
     "output_type": "execute_result"
    }
   ],
   "source": [
    "# since we can't use pandas.describe(), we can use scipy's same function\n",
    "from scipy.stats import describe\n",
    "\n",
    "describe(X_train)[:2]\n"
   ],
   "metadata": {
    "collapsed": false,
    "pycharm": {
     "name": "#%%\n"
    }
   }
  },
  {
   "cell_type": "code",
   "execution_count": 7,
   "outputs": [
    {
     "data": {
      "text/plain": "<Figure size 432x288 with 2 Axes>",
      "image/png": "[encoded data removed]"
     },
     "metadata": {},
     "output_type": "display_data"
    }
   ],
   "source": [
    "import matplotlib as mpl\n",
    "\n",
    "# visualize all the nightmare above\n",
    "def visualize_correlation_matrix(data, hurdle=0.0):\n",
    "    R = np.corrcoef(data, rowvar=0)\n",
    "    R[np.where(np.abs(R) < hurdle)] = 0.0\n",
    "    heatmap = plt.pcolor(R, cmap=mpl.cm.coolwarm, alpha=0.6)\n",
    "    heatmap.axes.set_frame_on(False)\n",
    "    plt.xticks(rotation=90)\n",
    "    plt.tick_params(axis='both', which='both')\n",
    "    plt.colorbar()\n",
    "    plt.show()\n",
    "\n",
    "visualize_correlation_matrix(X_train[:, 100:150])"
   ],
   "metadata": {
    "collapsed": false,
    "pycharm": {
     "name": "#%%\n"
    }
   }
  },
  {
   "cell_type": "code",
   "execution_count": 8,
   "outputs": [
    {
     "name": "stdout",
     "output_type": "stream",
     "text": [
      "0.744\n",
      "Training area under the curve: 0.824\n",
      "Validation area under the curve: 0.601\n"
     ]
    }
   ],
   "source": [
    "from sklearn.model_selection import cross_val_score\n",
    "from sklearn.linear_model import LogisticRegression\n",
    "from sklearn.metrics import roc_auc_score, roc_curve, auc\n",
    "\n",
    "log_reg = LogisticRegression(max_iter=1e5).fit(X_train, y_train)\n",
    "print(log_reg.score(X_train, y_train))\n",
    "\n",
    "print(f'Training area under the curve: {round(roc_auc_score(y_train, log_reg.predict_proba(X_train)[:, 1]), 3)}')\n",
    "print(f'Validation area under the curve: {round(roc_auc_score(y_validation, log_reg.predict_proba(X_validation)[:, 1]), 3)}')\n"
   ],
   "metadata": {
    "collapsed": false,
    "pycharm": {
     "name": "#%%\n"
    }
   }
  },
  {
   "cell_type": "markdown",
   "source": [
    "<h1>Univariate Feature Selection</h1>\n",
    "\n",
    "<h3>SelectPercentile & f_classif</h3>\n",
    "SelectPercentile is a classification selection of the best parameters (number specified by us) using\n",
    "<b>percentile</b> as a threshold."
   ],
   "metadata": {
    "collapsed": false,
    "pycharm": {
     "name": "#%% md\n"
    }
   }
  },
  {
   "cell_type": "code",
   "execution_count": 9,
   "outputs": [
    {
     "data": {
      "text/plain": "<Figure size 432x288 with 1 Axes>",
      "image/png": "[encoded data removed]"
     },
     "metadata": {},
     "output_type": "display_data"
    }
   ],
   "source": [
    "#\n",
    "from sklearn.feature_selection import SelectPercentile\n",
    "selector = SelectPercentile(percentile=50).fit(X_train, y_train)\n",
    "# variable_filter = selector.get_support()\n",
    "\n",
    "plt.hist(selector.scores_, bins=30, histtype='bar')\n",
    "plt.show()"
   ],
   "metadata": {
    "collapsed": false,
    "pycharm": {
     "name": "#%%\n"
    }
   }
  },
  {
   "cell_type": "code",
   "execution_count": 10,
   "outputs": [
    {
     "name": "stdout",
     "output_type": "stream",
     "text": [
      "Number of filtered variables: 13\n",
      "Number of variables and interactions: (2000, 92)\n"
     ]
    }
   ],
   "source": [
    "from sklearn.preprocessing import PolynomialFeatures\n",
    "\n",
    "# now select the most important features\n",
    "variable_filter = selector.scores_ > 10\n",
    "print(f'Number of filtered variables: {np.sum(variable_filter)}')\n",
    "\n",
    "interactions = PolynomialFeatures(degree=2, interaction_only=True)\n",
    "Xs = interactions.fit_transform(X_train[:, variable_filter])\n",
    "print(f'Number of variables and interactions: {Xs.shape}')"
   ],
   "metadata": {
    "collapsed": false,
    "pycharm": {
     "name": "#%%\n"
    }
   }
  },
  {
   "cell_type": "markdown",
   "source": [
    "### As we can see, the number of features decreased from 92 to 13\n",
    "\n",
    "Now, let's try and catch any relevant non-linear relationships"
   ],
   "metadata": {
    "collapsed": false,
    "pycharm": {
     "name": "#%% md\n"
    }
   }
  },
  {
   "cell_type": "code",
   "execution_count": 11,
   "outputs": [
    {
     "name": "stdout",
     "output_type": "stream",
     "text": [
      "Validation under the curve: 0.8115777777777778\n"
     ]
    }
   ],
   "source": [
    "log_reg.fit(Xs, y_train)\n",
    "Xvs = interactions.fit_transform(X_validation[:, variable_filter])\n",
    "print(f'Validation under the curve: {roc_auc_score(y_validation, log_reg.predict_proba(Xvs)[:, 1])}')"
   ],
   "metadata": {
    "collapsed": false,
    "pycharm": {
     "name": "#%%\n"
    }
   }
  },
  {
   "cell_type": "markdown",
   "source": [
    "## Recursive Feature Selection\n",
    "The only problem with univariate selection is that it will decide the best features by\n",
    "considering each feature separately from the others, not verifying how they work together\n",
    "in unison. Consequently, redundant variables are not infrequently picked (due to\n",
    "collinearity).\n",
    "\n",
    "A multivariate approach, such as recursive elimination, can avoid this problem; however,\n",
    "it is more computationally expensive.\n"
   ],
   "metadata": {
    "collapsed": false,
    "pycharm": {
     "name": "#%% md\n"
    }
   }
  },
  {
   "cell_type": "code",
   "execution_count": 17,
   "outputs": [
    {
     "name": "stdout",
     "output_type": "stream",
     "text": [
      "Initial # of features: 105\n",
      "Extracted # of features: 70\n"
     ]
    }
   ],
   "source": [
    "# boston dataset\n",
    "X_bost = boston.iloc[:, :-1]\n",
    "y_bost = boston.iloc[:, -1]\n",
    "\n",
    "from sklearn.feature_selection import RFECV\n",
    "from sklearn.model_selection import KFold\n",
    "\n",
    "X_train, X_test, y_train, y_test = train_test_split(X_bost, y_bost, test_size=0.3, random_state=32)\n",
    "\n",
    "poly = PolynomialFeatures(degree=2)\n",
    "\n",
    "lm = LinearRegression()\n",
    "cv_iter = KFold(n_splits=10, shuffle=True, random_state=101)\n",
    "recursive_selector = RFECV(estimator=lm, step=1,\n",
    "                           cv=cv_iter, scoring='neg_mean_squared_error').fit(poly.fit_transform(X_train), y_train)\n",
    "print(f'Initial # of features: {poly.fit_transform(X_train).shape[1]}')\n",
    "print(f'Extracted # of features: {recursive_selector.n_features_}')\n"
   ],
   "metadata": {
    "collapsed": false,
    "pycharm": {
     "name": "#%%\n"
    }
   }
  },
  {
   "cell_type": "code",
   "execution_count": 18,
   "outputs": [
    {
     "name": "stdout",
     "output_type": "stream",
     "text": [
      "cases = 152 features = 70\n",
      "In-sample mean squared error: 6.580745978516398\n",
      "Out-sample mean squared error: 10.868680073124048\n"
     ]
    }
   ],
   "source": [
    "essential_X_train = recursive_selector.transform(poly.fit_transform(X_train))\n",
    "essential_X_test = recursive_selector.transform(poly.fit_transform(X_test))\n",
    "lm.fit(essential_X_train, y_train)\n",
    "print('cases = %i features = %i' % essential_X_test.shape)\n",
    "print(f'In-sample mean squared error: {mean_squared_error(y_train, lm.predict(essential_X_train))}')\n",
    "print(f'Out-sample mean squared error: {mean_squared_error(y_test, lm.predict(essential_X_test))}')"
   ],
   "metadata": {
    "collapsed": false,
    "pycharm": {
     "name": "#%%\n"
    }
   }
  },
  {
   "cell_type": "code",
   "execution_count": 23,
   "outputs": [
    {
     "name": "stdout",
     "output_type": "stream",
     "text": [
      "CV score - MEAN: 13.050613285527698, STD: 4.704360903947743\n"
     ]
    }
   ],
   "source": [
    "# cross validation\n",
    "# from sklearn.model_selection import StratifiedKFold\n",
    "edges = np.histogram(y, bins=5)[1]\n",
    "binning = np.digitize(y, edges)\n",
    "stratified_cv = KFold(10, shuffle=True, random_state=101)\n",
    "essential_X = recursive_selector.transform(poly.fit_transform(X))\n",
    "cv_score = cross_val_score(lm, essential_X, y, cv=stratified_cv, scoring='neg_mean_squared_error')\n",
    "print(f'CV score - MEAN: {np.mean(np.abs(cv_score))}, STD: {np.std(cv_score)}')\n"
   ],
   "metadata": {
    "collapsed": false,
    "pycharm": {
     "name": "#%%\n"
    }
   }
  },
  {
   "cell_type": "code",
   "execution_count": 24,
   "outputs": [],
   "source": [],
   "metadata": {
    "collapsed": false,
    "pycharm": {
     "name": "#%%\n"
    }
   }
  },
  {
   "cell_type": "code",
   "execution_count": null,
   "outputs": [],
   "source": [],
   "metadata": {
    "collapsed": false,
    "pycharm": {
     "name": "#%%\n"
    }
   }
  },
  {
   "cell_type": "code",
   "execution_count": null,
   "outputs": [],
   "source": [],
   "metadata": {
    "collapsed": false,
    "pycharm": {
     "name": "#%%\n"
    }
   }
  },
  {
   "cell_type": "code",
   "execution_count": null,
   "outputs": [],
   "source": [],
   "metadata": {
    "collapsed": false,
    "pycharm": {
     "name": "#%%\n"
    }
   }
  },
  {
   "cell_type": "code",
   "execution_count": null,
   "outputs": [],
   "source": [],
   "metadata": {
    "collapsed": false,
    "pycharm": {
     "name": "#%%\n"
    }
   }
  },
  {
   "cell_type": "code",
   "execution_count": null,
   "outputs": [],
   "source": [],
   "metadata": {
    "collapsed": false,
    "pycharm": {
     "name": "#%%\n"
    }
   }
  },
  {
   "cell_type": "code",
   "execution_count": null,
   "outputs": [],
   "source": [],
   "metadata": {
    "collapsed": false,
    "pycharm": {
     "name": "#%%\n"
    }
   }
  },
  {
   "cell_type": "code",
   "execution_count": null,
   "outputs": [],
   "source": [],
   "metadata": {
    "collapsed": false,
    "pycharm": {
     "name": "#%%\n"
    }
   }
  },
  {
   "cell_type": "code",
   "execution_count": null,
   "outputs": [],
   "source": [],
   "metadata": {
    "collapsed": false,
    "pycharm": {
     "name": "#%%\n"
    }
   }
  },
  {
   "cell_type": "code",
   "execution_count": null,
   "outputs": [],
   "source": [],
   "metadata": {
    "collapsed": false,
    "pycharm": {
     "name": "#%%\n"
    }
   }
  },
  {
   "cell_type": "code",
   "execution_count": null,
   "outputs": [],
   "source": [],
   "metadata": {
    "collapsed": false,
    "pycharm": {
     "name": "#%%\n"
    }
   }
  },
  {
   "cell_type": "code",
   "execution_count": null,
   "outputs": [],
   "source": [],
   "metadata": {
    "collapsed": false,
    "pycharm": {
     "name": "#%%\n"
    }
   }
  },
  {
   "cell_type": "code",
   "execution_count": null,
   "outputs": [],
   "source": [],
   "metadata": {
    "collapsed": false,
    "pycharm": {
     "name": "#%%\n"
    }
   }
  },
  {
   "cell_type": "code",
   "execution_count": null,
   "outputs": [],
   "source": [],
   "metadata": {
    "collapsed": false,
    "pycharm": {
     "name": "#%%\n"
    }
   }
  },
  {
   "cell_type": "code",
   "execution_count": null,
   "outputs": [],
   "source": [],
   "metadata": {
    "collapsed": false,
    "pycharm": {
     "name": "#%%\n"
    }
   }
  },
  {
   "cell_type": "code",
   "execution_count": null,
   "outputs": [],
   "source": [],
   "metadata": {
    "collapsed": false,
    "pycharm": {
     "name": "#%%\n"
    }
   }
  },
  {
   "cell_type": "code",
   "execution_count": null,
   "outputs": [],
   "source": [],
   "metadata": {
    "collapsed": false,
    "pycharm": {
     "name": "#%%\n"
    }
   }
  },
  {
   "cell_type": "code",
   "execution_count": null,
   "outputs": [],
   "source": [],
   "metadata": {
    "collapsed": false,
    "pycharm": {
     "name": "#%%\n"
    }
   }
  },
  {
   "cell_type": "code",
   "execution_count": null,
   "outputs": [],
   "source": [],
   "metadata": {
    "collapsed": false,
    "pycharm": {
     "name": "#%%\n"
    }
   }
  },
  {
   "cell_type": "code",
   "execution_count": null,
   "outputs": [],
   "source": [],
   "metadata": {
    "collapsed": false,
    "pycharm": {
     "name": "#%%\n"
    }
   }
  }
 ],
 "metadata": {
  "kernelspec": {
   "display_name": "Python 3",
   "language": "python",
   "name": "python3"
  },
  "language_info": {
   "codemirror_mode": {
    "name": "ipython",
    "version": 2
   },
   "file_extension": ".py",
   "mimetype": "text/x-python",
   "name": "python",
   "nbconvert_exporter": "python",
   "pygments_lexer": "ipython2",
   "version": "2.7.6"
  }
 },
 "nbformat": 4,
 "nbformat_minor": 0
}