{
 "cells": [
  {
   "cell_type": "markdown",
   "metadata": {
    "collapsed": true,
    "pycharm": {
     "name": "#%% md\n"
    }
   },
   "source": []
  },
  {
   "cell_type": "code",
   "execution_count": 103,
   "outputs": [],
   "source": [
    "import pandas as pd\n",
    "import numpy as np\n",
    "import matplotlib.pyplot as plt\n",
    "import seaborn as sns\n",
    "\n",
    "from sklearn.linear_model import LogisticRegression\n",
    "from sklearn.neighbors import KNeighborsClassifier\n",
    "from sklearn.svm import LinearSVC\n",
    "from sklearn.model_selection import train_test_split\n",
    "from sklearn.preprocessing import StandardScaler\n",
    "\n",
    "from sklearn.datasets import load_wine\n",
    "\n",
    "\n",
    "%matplotlib inline\n",
    "sns.set()"
   ],
   "metadata": {
    "collapsed": false,
    "pycharm": {
     "name": "#%%\n"
    }
   }
  },
  {
   "cell_type": "code",
   "execution_count": 2,
   "outputs": [],
   "source": [
    "wine = load_wine()\n",
    "X, y = wine.data, wine.target\n",
    "labels = wine.feature_names\n",
    "target_labels = wine.target_names"
   ],
   "metadata": {
    "collapsed": false,
    "pycharm": {
     "name": "#%%\n"
    }
   }
  },
  {
   "cell_type": "code",
   "execution_count": 3,
   "outputs": [
    {
     "name": "stdout",
     "output_type": "stream",
     "text": [
      "In-sample score: 0.9919354838709677\n",
      "Out-sample score: 1.0\n"
     ]
    }
   ],
   "source": [
    "X_train, X_test, y_train, y_test = train_test_split(X, y, test_size=0.3, random_state=42)\n",
    "\n",
    "logreg = LogisticRegression(max_iter=1e5).fit(X_train, y_train)\n",
    "print(f'In-sample score: {logreg.score(X_train, y_train)}')\n",
    "print(f'Out-sample score: {logreg.score(X_test, y_test)}')"
   ],
   "metadata": {
    "collapsed": false,
    "pycharm": {
     "name": "#%%\n"
    }
   }
  },
  {
   "cell_type": "code",
   "execution_count": 4,
   "outputs": [
    {
     "data": {
      "text/plain": "array([[9.99649319e-01, 6.81834069e-05, 2.82498025e-04]])"
     },
     "execution_count": 4,
     "metadata": {},
     "output_type": "execute_result"
    }
   ],
   "source": [
    "logreg.predict_proba(wine.data[:1])"
   ],
   "metadata": {
    "collapsed": false,
    "pycharm": {
     "name": "#%%\n"
    }
   }
  },
  {
   "cell_type": "code",
   "execution_count": 4,
   "outputs": [],
   "source": [],
   "metadata": {
    "collapsed": false,
    "pycharm": {
     "name": "#%%\n"
    }
   }
  },
  {
   "cell_type": "markdown",
   "source": [
    "### LinearSVC\n",
    "It's same as SVC(kernel='linear') but provides greater flexibility in choosing penalties and scales better\n",
    "for big amount of data\n"
   ],
   "metadata": {
    "collapsed": false,
    "pycharm": {
     "name": "#%% md\n"
    }
   }
  },
  {
   "cell_type": "code",
   "execution_count": 5,
   "outputs": [
    {
     "name": "stdout",
     "output_type": "stream",
     "text": [
      "In-sample score: 1.0\n",
      "Out-sample score: 0.9814814814814815\n"
     ]
    }
   ],
   "source": [
    "Xst = StandardScaler().fit_transform(X)\n",
    "X_train, X_test, y_train, y_test = train_test_split(Xst, y, test_size=0.3, random_state=42)\n",
    "\n",
    "svc = LinearSVC().fit(X_train, y_train)\n",
    "print(f'In-sample score: {svc.score(X_train, y_train)}')\n",
    "print(f'Out-sample score: {svc.score(X_test, y_test)}')"
   ],
   "metadata": {
    "collapsed": false,
    "pycharm": {
     "name": "#%%\n"
    }
   }
  },
  {
   "cell_type": "markdown",
   "source": [
    "## Logistic Regression vs SVM loss functions\n"
   ],
   "metadata": {
    "collapsed": false,
    "pycharm": {
     "name": "#%% md\n"
    }
   }
  },
  {
   "cell_type": "code",
   "execution_count": 10,
   "outputs": [
    {
     "data": {
      "text/plain": "<Figure size 432x288 with 1 Axes>",
      "image/png": "[encoded data removed]"
     },
     "metadata": {},
     "output_type": "display_data"
    }
   ],
   "source": [
    "# Mathematical functions for logistic and hinge losses\n",
    "def log_loss(raw_model_output):\n",
    "   return np.log(1+np.exp(-raw_model_output))\n",
    "def hinge_loss(raw_model_output):\n",
    "   return np.maximum(0,1-raw_model_output)\n",
    "\n",
    "# Create a grid of values and plot\n",
    "grid = np.linspace(-2,2,1000)\n",
    "plt.plot(grid, log_loss(grid), label='logistic')\n",
    "plt.plot(grid, hinge_loss(grid), label='hinge, SVM')\n",
    "plt.legend()\n",
    "plt.show()"
   ],
   "metadata": {
    "collapsed": false,
    "pycharm": {
     "name": "#%%\n"
    }
   }
  },
  {
   "cell_type": "markdown",
   "source": [
    "# WRITE ABOUT REGULARIZATION DIFFERENCES\n",
    "\n"
   ],
   "metadata": {
    "collapsed": false,
    "pycharm": {
     "name": "#%% md\n"
    }
   }
  },
  {
   "cell_type": "code",
   "execution_count": 20,
   "outputs": [
    {
     "name": "stdout",
     "output_type": "stream",
     "text": [
      "UNSTANDARDIZED VERSION\n",
      "In-sample weak regularization: 0.99\n",
      "In-sample strong regularization: 0.945\n",
      "\n",
      "============================\n",
      "\n",
      "Out-sample weak regularization: 0.977\n",
      "Out-sample strong regularization: 0.965\n"
     ]
    }
   ],
   "source": [
    "# unstandardized version\n",
    "\n",
    "# split the data\n",
    "X_train, X_test, y_train, y_test = train_test_split(X, y, test_size=0.3, random_state=42, shuffle=True)\n",
    "\n",
    "# more and less regularization. Big C value -> less regularization, small C the opposite\n",
    "lr_weak_reg = LogisticRegression(C=1e4, max_iter=1e5).fit(X_train, y_train)\n",
    "lr_strong_reg = LogisticRegression(C=1e-2, max_iter=1e5).fit(X_train, y_train)\n",
    "\n",
    "print('UNSTANDARDIZED VERSION')\n",
    "print(f'In-sample weak regularization: {round(lr_weak_reg.score(X_train, y_train), 3)}')\n",
    "print(f'In-sample strong regularization: {round(lr_strong_reg.score(X_train, y_train), 3)}')\n",
    "print('\\n============================\\n')\n",
    "print(f'Out-sample weak regularization: {round(lr_weak_reg.score(X_test, y_test), 3)}')\n",
    "print(f'Out-sample strong regularization: {round(lr_strong_reg.score(X_test, y_test), 3)}')"
   ],
   "metadata": {
    "collapsed": false,
    "pycharm": {
     "name": "#%%\n"
    }
   }
  },
  {
   "cell_type": "code",
   "execution_count": 21,
   "outputs": [
    {
     "name": "stdout",
     "output_type": "stream",
     "text": [
      "STANDARDIZED VERSION\n",
      "In-sample weak regularization: 1.0\n",
      "In-sample strong regularization: 0.95\n",
      "\n",
      "============================\n",
      "\n",
      "Out-sample weak regularization: 0.942\n",
      "Out-sample strong regularization: 0.959\n"
     ]
    }
   ],
   "source": [
    "# standardized version\n",
    "Xs = StandardScaler().fit_transform(X)\n",
    "X_train, X_test, y_train, y_test = train_test_split(Xs, y, test_size=0.3, random_state=42, shuffle=True)\n",
    "\n",
    "# more and less regularization. Big C value -> less regularization, small C the opposite\n",
    "lr_weak_reg = LogisticRegression(C=1e4, max_iter=1e5).fit(X_train, y_train)\n",
    "lr_strong_reg = LogisticRegression(C=1e-2, max_iter=1e5).fit(X_train, y_train)\n",
    "\n",
    "print('STANDARDIZED VERSION')\n",
    "print(f'In-sample weak regularization: {round(lr_weak_reg.score(X_train, y_train), 3)}')\n",
    "print(f'In-sample strong regularization: {round(lr_strong_reg.score(X_train, y_train), 3)}')\n",
    "print('\\n============================\\n')\n",
    "print(f'Out-sample weak regularization: {round(lr_weak_reg.score(X_test, y_test), 3)}')\n",
    "print(f'Out-sample strong regularization: {round(lr_strong_reg.score(X_test, y_test), 3)}')\n"
   ],
   "metadata": {
    "collapsed": false,
    "pycharm": {
     "name": "#%%\n"
    }
   }
  },
  {
   "cell_type": "markdown",
   "source": [
    "## Lasso & Ridge for Logistic Regression\n"
   ],
   "metadata": {
    "collapsed": false,
    "pycharm": {
     "name": "#%% md\n"
    }
   }
  },
  {
   "cell_type": "code",
   "execution_count": 47,
   "outputs": [
    {
     "name": "stderr",
     "output_type": "stream",
     "text": [
      "No handles with labels found to put in legend.\n"
     ]
    },
    {
     "data": {
      "text/plain": "<Figure size 864x432 with 2 Axes>",
      "image/png": "[encoded data removed]"
     },
     "metadata": {},
     "output_type": "display_data"
    }
   ],
   "source": [
    "l1_reg = LogisticRegression(penalty='l1', solver='liblinear').fit(X_train, y_train)\n",
    "l2_reg = LogisticRegression().fit(X_train, y_train)  # default L2\n",
    "\n",
    "\n",
    "fig, ax = plt.subplots(1, 2, figsize=(12, 6))\n",
    "ax[0].plot(l1_reg.coef_.flatten())\n",
    "ax[0].set_title('L1 regularization', size=16)\n",
    "ax[1].plot(l2_reg.coef_.flatten())\n",
    "ax[1].set_title('L2 regularization', size=16)\n",
    "\n",
    "ax[0].set_xlabel('feature index', size=14)\n",
    "ax[1].set_xlabel('feature index', size=14)\n",
    "ax[0].set_ylabel('coefficient value', size=14)\n",
    "ax[1].set_ylabel('coefficient value', size=14)\n",
    "plt.legend()\n",
    "plt.show()"
   ],
   "metadata": {
    "collapsed": false,
    "pycharm": {
     "name": "#%%\n"
    }
   }
  },
  {
   "cell_type": "markdown",
   "source": [
    "### Effect of L2 regularization\n"
   ],
   "metadata": {
    "collapsed": false,
    "pycharm": {
     "name": "#%% md\n"
    }
   }
  },
  {
   "cell_type": "code",
   "execution_count": 50,
   "outputs": [
    {
     "data": {
      "text/plain": "<Figure size 432x288 with 1 Axes>",
      "image/png": "[encoded data removed]"
     },
     "metadata": {},
     "output_type": "display_data"
    }
   ],
   "source": [
    "# hand-written digits\n",
    "from sklearn.datasets import load_digits\n",
    "\n",
    "X, y = load_digits(return_X_y=True)\n",
    "Xs = StandardScaler().fit_transform(X)\n",
    "\n",
    "X_train, X_test, y_train, y_test = train_test_split(Xs, y, test_size=0.3, random_state=101, shuffle=True)\n",
    "\n",
    "train_errors = list()\n",
    "test_errors = list()\n",
    "\n",
    "c_vals = [0.001, 0.01, 0.1, 1, 10, 100, 1000]\n",
    "\n",
    "for c_value in c_vals:\n",
    "    lr = LogisticRegression(C=c_value, max_iter=1e5).fit(X_train, y_train)\n",
    "    train_errors.append(1 - lr.score(X_train, y_train))\n",
    "    test_errors.append(1- lr.score(X_test, y_test))\n",
    "\n",
    "plt.semilogx(c_vals, train_errors, c_vals, test_errors)\n",
    "plt.legend(('train', 'test'))\n",
    "plt.xlabel('C(inverse regularization strength)')\n",
    "plt.ylabel('classification error')\n",
    "plt.show()"
   ],
   "metadata": {
    "collapsed": false,
    "pycharm": {
     "name": "#%%\n"
    }
   }
  },
  {
   "cell_type": "markdown",
   "source": [
    "### Too small & too large coefficients do not work well\n"
   ],
   "metadata": {
    "collapsed": false,
    "pycharm": {
     "name": "#%% md\n"
    }
   }
  },
  {
   "cell_type": "markdown",
   "source": [
    "## GridSearchCV\n"
   ],
   "metadata": {
    "collapsed": false,
    "pycharm": {
     "name": "#%% md\n"
    }
   }
  },
  {
   "cell_type": "code",
   "execution_count": 69,
   "outputs": [
    {
     "name": "stdout",
     "output_type": "stream",
     "text": [
      "Best Params: {'C': 1}\n",
      "Total number of features: 640\n",
      "Number of selected features: 328\n"
     ]
    }
   ],
   "source": [
    "from sklearn.model_selection import GridSearchCV\n",
    "\n",
    "#\n",
    "log_reg = LogisticRegression(penalty='l1', solver='liblinear')\n",
    "\n",
    "# instantiate GridSearchCV & run the search\n",
    "grid_search = GridSearchCV(log_reg, {'C': [0.001, 0.01, 0.1, 1, 10]}, refit=True).fit(X_train, y_train)\n",
    "\n",
    "print(f'Best Params: {grid_search.best_params_}')\n",
    "\n",
    "best_features = grid_search.best_estimator_\n",
    "coefs = best_features.coef_\n",
    "print(\"Total number of features:\", coefs.size)\n",
    "print(\"Number of selected features:\", np.count_nonzero(coefs))\n",
    "\n",
    "# for k, v in grid_search.cv_results_.items():\n",
    "#     print(f'{k}: {v}')\n"
   ],
   "metadata": {
    "collapsed": false,
    "pycharm": {
     "name": "#%%\n"
    }
   }
  },
  {
   "cell_type": "code",
   "execution_count": 70,
   "outputs": [
    {
     "name": "stdout",
     "output_type": "stream",
     "text": [
      "              precision    recall  f1-score   support\n",
      "\n",
      "           0       1.00      1.00      1.00        53\n",
      "           1       0.93      0.96      0.95        55\n",
      "           2       1.00      1.00      1.00        49\n",
      "           3       0.98      0.98      0.98        54\n",
      "           4       0.97      0.97      0.97        61\n",
      "           5       0.98      0.98      0.98        59\n",
      "           6       1.00      0.96      0.98        46\n",
      "           7       1.00      0.96      0.98        56\n",
      "           8       0.92      0.93      0.92        59\n",
      "           9       0.98      1.00      0.99        48\n",
      "\n",
      "    accuracy                           0.97       540\n",
      "   macro avg       0.98      0.97      0.98       540\n",
      "weighted avg       0.97      0.97      0.97       540\n",
      "\n",
      "              precision    recall  f1-score   support\n",
      "\n",
      "           0       0.96      1.00      0.98        53\n",
      "           1       0.93      0.96      0.95        55\n",
      "           2       1.00      1.00      1.00        49\n",
      "           3       0.98      1.00      0.99        54\n",
      "           4       0.97      0.97      0.97        61\n",
      "           5       1.00      0.98      0.99        59\n",
      "           6       0.98      0.98      0.98        46\n",
      "           7       0.98      0.96      0.97        56\n",
      "           8       0.93      0.90      0.91        59\n",
      "           9       1.00      0.98      0.99        48\n",
      "\n",
      "    accuracy                           0.97       540\n",
      "   macro avg       0.97      0.97      0.97       540\n",
      "weighted avg       0.97      0.97      0.97       540\n",
      "\n"
     ]
    }
   ],
   "source": [
    "from sklearn.metrics import classification_report\n",
    "\n",
    "# usual logistic regression\n",
    "logistic = LogisticRegression(max_iter=1e4).fit(X_train, y_train)\n",
    "y_pred = logistic.predict(X_test)\n",
    "print(classification_report(y_test, y_pred))\n",
    "\n",
    "# gridsearchcv version\n",
    "y_pred = grid_search.predict(X_test)\n",
    "print(classification_report(y_test, y_pred))"
   ],
   "metadata": {
    "collapsed": false,
    "pycharm": {
     "name": "#%%\n"
    }
   }
  },
  {
   "cell_type": "code",
   "execution_count": null,
   "outputs": [],
   "source": [],
   "metadata": {
    "collapsed": false,
    "pycharm": {
     "name": "#%%\n"
    }
   }
  },
  {
   "cell_type": "code",
   "execution_count": 52,
   "outputs": [],
   "source": [
    "# trial with L2\n",
    "\n",
    "#\n",
    "log_reg = LogisticRegression(max_iter=1e5)\n",
    "\n",
    "# instantiate GridSearchCV & run the search\n",
    "grid_search = GridSearchCV(log_reg, {'C': [0.001, 0.01, 0.1, 1, 10]}, return_train_score=True).fit(X_train, y_train)\n",
    "\n",
    "print(f'Best Params: {grid_search.best_params_}')\n",
    "\n",
    "best_features = grid_search.best_estimator_\n",
    "coefs = best_features.coef_\n",
    "print(\"Total number of features:\", coefs.size)\n",
    "print(\"Number of selected features:\", np.count_nonzero(coefs))"
   ],
   "metadata": {
    "collapsed": false,
    "pycharm": {
     "name": "#%%\n"
    }
   }
  },
  {
   "cell_type": "code",
   "execution_count": 52,
   "outputs": [],
   "source": [],
   "metadata": {
    "collapsed": false,
    "pycharm": {
     "name": "#%%\n"
    }
   }
  },
  {
   "cell_type": "markdown",
   "source": [
    "## Multiclass Logistic Regression\n",
    "\n"
   ],
   "metadata": {
    "collapsed": false,
    "pycharm": {
     "name": "#%% md\n"
    }
   }
  },
  {
   "cell_type": "code",
   "execution_count": 87,
   "outputs": [
    {
     "name": "stdout",
     "output_type": "stream",
     "text": [
      "[[1. 0. 0.]]\n",
      "[1101.35870758 -998.90372298 -102.45498459]\n",
      "[0]\n",
      "(3, 13)\n"
     ]
    }
   ],
   "source": [
    "from scipy.stats import describe\n",
    "\n",
    "wine = load_wine()\n",
    "wine_df = pd.DataFrame(wine.data, columns=wine.feature_names)\n",
    "wine_df['target'] = wine.target\n",
    "X, y = load_wine(return_X_y=True)\n",
    "Xs = StandardScaler().fit_transform(X)\n",
    "\n",
    "X_train, X_test, y_train, y_test = train_test_split(Xs, y, test_size=0.25, shuffle=True, random_state=101)\n",
    "# one-vs-rest approach\n",
    "logreg = LogisticRegression().fit(X_train, y_train)\n",
    "print(logreg.predict_proba(X[:1, :]))\n",
    "print(logreg.decision_function(X)[0])  # confidence scores\n",
    "print(logreg.predict(X[:1, :]))\n",
    "print(logreg.coef_.shape)"
   ],
   "metadata": {
    "collapsed": false,
    "pycharm": {
     "name": "#%%\n"
    }
   }
  },
  {
   "cell_type": "code",
   "execution_count": 88,
   "outputs": [
    {
     "name": "stdout",
     "output_type": "stream",
     "text": [
      "OVR training accuracy: 1.0\n",
      "OVR test accuracy    : 1.0\n",
      "Softmax training accuracy: 1.0\n",
      "Softmax test accuracy    : 1.0\n"
     ]
    }
   ],
   "source": [
    "# ovr approach\n",
    "logreg = LogisticRegression().fit(X_train, y_train)\n",
    "print(\"OVR training accuracy:\", logreg.score(X_train, y_train))\n",
    "print(\"OVR test accuracy    :\", logreg.score(X_test, y_test))\n",
    "\n",
    "logreg = LogisticRegression(solver='lbfgs', multi_class='multinomial').fit(X_train, y_train)\n",
    "print(\"Softmax training accuracy:\", logreg.score(X_train, y_train))\n",
    "print(\"Softmax test accuracy    :\", logreg.score(X_test, y_test))"
   ],
   "metadata": {
    "collapsed": false,
    "pycharm": {
     "name": "#%%\n"
    }
   }
  },
  {
   "cell_type": "code",
   "execution_count": 107,
   "outputs": [
    {
     "data": {
      "text/plain": "<matplotlib.collections.PathCollection at 0x16f829da0d0>"
     },
     "execution_count": 107,
     "metadata": {},
     "output_type": "execute_result"
    },
    {
     "data": {
      "text/plain": "<Figure size 432x288 with 1 Axes>",
      "image/png": "[encoded data removed]"
     },
     "metadata": {},
     "output_type": "display_data"
    }
   ],
   "source": [
    "# training an ovr algorithm\n",
    "class_1_clf = LogisticRegression().fit(X_train, y_train==1)\n",
    "y_pred = class_1_clf.predict(X_train)\n",
    "colors = ['red' if x else 'blue' for x in y_pred]\n",
    "\n",
    "plt.scatter(X_train[:, 0], X_train[:, 1], c=colors)\n"
   ],
   "metadata": {
    "collapsed": false,
    "pycharm": {
     "name": "#%%\n"
    }
   }
  },
  {
   "cell_type": "code",
   "execution_count": 70,
   "outputs": [],
   "source": [],
   "metadata": {
    "collapsed": false,
    "pycharm": {
     "name": "#%%\n"
    }
   }
  },
  {
   "cell_type": "code",
   "execution_count": 70,
   "outputs": [],
   "source": [],
   "metadata": {
    "collapsed": false,
    "pycharm": {
     "name": "#%%\n"
    }
   }
  },
  {
   "cell_type": "code",
   "execution_count": 70,
   "outputs": [],
   "source": [],
   "metadata": {
    "collapsed": false,
    "pycharm": {
     "name": "#%%\n"
    }
   }
  },
  {
   "cell_type": "code",
   "execution_count": 70,
   "outputs": [],
   "source": [],
   "metadata": {
    "collapsed": false,
    "pycharm": {
     "name": "#%%\n"
    }
   }
  },
  {
   "cell_type": "code",
   "execution_count": 70,
   "outputs": [],
   "source": [],
   "metadata": {
    "collapsed": false,
    "pycharm": {
     "name": "#%%\n"
    }
   }
  },
  {
   "cell_type": "code",
   "execution_count": 70,
   "outputs": [],
   "source": [],
   "metadata": {
    "collapsed": false,
    "pycharm": {
     "name": "#%%\n"
    }
   }
  },
  {
   "cell_type": "code",
   "execution_count": null,
   "outputs": [],
   "source": [],
   "metadata": {
    "collapsed": false,
    "pycharm": {
     "name": "#%%\n"
    }
   }
  }
 ],
 "metadata": {
  "kernelspec": {
   "display_name": "Python 3",
   "language": "python",
   "name": "python3"
  },
  "language_info": {
   "codemirror_mode": {
    "name": "ipython",
    "version": 2
   },
   "file_extension": ".py",
   "mimetype": "text/x-python",
   "name": "python",
   "nbconvert_exporter": "python",
   "pygments_lexer": "ipython2",
   "version": "2.7.6"
  }
 },
 "nbformat": 4,
 "nbformat_minor": 0
}