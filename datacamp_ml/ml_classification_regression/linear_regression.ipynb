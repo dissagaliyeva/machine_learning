{
 "cells": [
  {
   "cell_type": "markdown",
   "metadata": {
    "collapsed": true,
    "pycharm": {
     "name": "#%% md\n"
    }
   },
   "source": [
    "### In this notebook I'll attempt to describe the whats-and-hows of Linear Regression. \n",
    "This part consists of explanation of the steps that need to be taken to analyze and build the algorithm.\n",
    "Even though, Linear Regression might be the easiest one to learn, it <b>does require</b> extensive knowledge\n",
    "of statistics and statistical analysis.\n",
    "<h3>Steps</h3>\n",
    "<li>analyze the dataset & look for insights</li>\n",
    "<li>clean up & make sure everything is accurate</li>\n",
    "<li>determine the outliers' impact (if necessary remove them)</li>\n",
    "<li>check collinearity</li>\n",
    "<li>fit & predict without scaling/normalizing/outliers' reduction</li>\n",
    "<li>fit & predict with scaling/normalizing/outliers' reduction</li>\n",
    "<li>regularize if necessary</li>"
   ]
  },
  {
   "cell_type": "markdown",
   "metadata": {
    "pycharm": {
     "name": "#%% md\n"
    }
   },
   "source": [
    "### Let's look at the famous dataset - California Housing\n"
   ]
  },
  {
   "cell_type": "code",
   "execution_count": 1,
   "metadata": {
    "pycharm": {
     "name": "#%%\n"
    }
   },
   "outputs": [],
   "source": [
    "import pandas as pd\n",
    "import numpy as np\n",
    "import seaborn as sns\n",
    "import matplotlib.pyplot as plt\n",
    "\n",
    "from sklearn.datasets import fetch_california_housing\n",
    "from statsmodels.api import OLS\n",
    "\n",
    "from sklearn.preprocessing import StandardScaler, PolynomialFeatures\n",
    "from sklearn.model_selection import train_test_split, KFold, StratifiedKFold\n",
    "from sklearn.linear_model import LinearRegression\n",
    "\n",
    "%matplotlib inline\n",
    "sns.set()"
   ]
  },
  {
   "cell_type": "code",
   "execution_count": 2,
   "metadata": {
    "pycharm": {
     "name": "#%%\n"
    }
   },
   "outputs": [
    {
     "name": "stdout",
     "output_type": "stream",
     "text": [
      ".. _california_housing_dataset:\n",
      "\n",
      "California Housing dataset\n",
      "--------------------------\n",
      "\n",
      "**Data Set Characteristics:**\n",
      "\n",
      "    :Number of Instances: 20640\n",
      "\n",
      "    :Number of Attributes: 8 numeric, predictive attributes and the target\n",
      "\n",
      "    :Attribute Information:\n",
      "        - MedInc        median income in block\n",
      "        - HouseAge      median house age in block\n",
      "        - AveRooms      average number of rooms\n",
      "        - AveBedrms     average number of bedrooms\n",
      "        - Population    block population\n",
      "        - AveOccup      average house occupancy\n",
      "        - Latitude      house block latitude\n",
      "        - Longitude     house block longitude\n",
      "\n",
      "    :Missing Attribute Values: None\n",
      "\n",
      "This dataset was obtained from the StatLib repository.\n",
      "http://lib.stat.cmu.edu/datasets/\n",
      "\n",
      "The target variable is the median house value for California districts.\n",
      "\n",
      "This dataset was derived from the 1990 U.S. census, using one row per census\n",
      "block group. A block group is the smallest geographical unit for which the U.S.\n",
      "Census Bureau publishes sample data (a block group typically has a population\n",
      "of 600 to 3,000 people).\n",
      "\n",
      "It can be downloaded/loaded using the\n",
      ":func:`sklearn.datasets.fetch_california_housing` function.\n",
      "\n",
      ".. topic:: References\n",
      "\n",
      "    - Pace, R. Kelley and Ronald Barry, Sparse Spatial Autoregressions,\n",
      "      Statistics and Probability Letters, 33 (1997) 291-297\n",
      "\n"
     ]
    }
   ],
   "source": [
    "df = fetch_california_housing()\n",
    "print(df.DESCR)"
   ]
  },
  {
   "cell_type": "code",
   "execution_count": 3,
   "metadata": {
    "pycharm": {
     "name": "#%%\n"
    }
   },
   "outputs": [
    {
     "name": "stdout",
     "output_type": "stream",
     "text": [
      "<class 'pandas.core.frame.DataFrame'>\n",
      "RangeIndex: 20640 entries, 0 to 20639\n",
      "Data columns (total 9 columns):\n",
      " #   Column      Non-Null Count  Dtype  \n",
      "---  ------      --------------  -----  \n",
      " 0   MedInc      20640 non-null  float64\n",
      " 1   HouseAge    20640 non-null  float64\n",
      " 2   AveRooms    20640 non-null  float64\n",
      " 3   AveBedrms   20640 non-null  float64\n",
      " 4   Population  20640 non-null  float64\n",
      " 5   AveOccup    20640 non-null  float64\n",
      " 6   Latitude    20640 non-null  float64\n",
      " 7   Longitude   20640 non-null  float64\n",
      " 8   Price       20640 non-null  float64\n",
      "dtypes: float64(9)\n",
      "memory usage: 1.4 MB\n",
      "None\n"
     ]
    },
    {
     "data": {
      "text/plain": "   MedInc  HouseAge  AveRooms  AveBedrms  Population  AveOccup  Latitude  \\\n0  8.3252      41.0  6.984127    1.02381       322.0  2.555556     37.88   \n1  8.3014      21.0  6.238137    0.97188      2401.0  2.109842     37.86   \n\n   Longitude  Price  \n0    -122.23  4.526  \n1    -122.22  3.585  ",
      "text/html": "<div>\n<style scoped>\n    .dataframe tbody tr th:only-of-type {\n        vertical-align: middle;\n    }\n\n    .dataframe tbody tr th {\n        vertical-align: top;\n    }\n\n    .dataframe thead th {\n        text-align: right;\n    }\n</style>\n<table border=\"1\" class=\"dataframe\">\n  <thead>\n    <tr style=\"text-align: right;\">\n      <th></th>\n      <th>MedInc</th>\n      <th>HouseAge</th>\n      <th>AveRooms</th>\n      <th>AveBedrms</th>\n      <th>Population</th>\n      <th>AveOccup</th>\n      <th>Latitude</th>\n      <th>Longitude</th>\n      <th>Price</th>\n    </tr>\n  </thead>\n  <tbody>\n    <tr>\n      <th>0</th>\n      <td>8.3252</td>\n      <td>41.0</td>\n      <td>6.984127</td>\n      <td>1.02381</td>\n      <td>322.0</td>\n      <td>2.555556</td>\n      <td>37.88</td>\n      <td>-122.23</td>\n      <td>4.526</td>\n    </tr>\n    <tr>\n      <th>1</th>\n      <td>8.3014</td>\n      <td>21.0</td>\n      <td>6.238137</td>\n      <td>0.97188</td>\n      <td>2401.0</td>\n      <td>2.109842</td>\n      <td>37.86</td>\n      <td>-122.22</td>\n      <td>3.585</td>\n    </tr>\n  </tbody>\n</table>\n</div>"
     },
     "execution_count": 3,
     "metadata": {},
     "output_type": "execute_result"
    }
   ],
   "source": [
    "california = pd.DataFrame(df.data, columns=df.feature_names)\n",
    "california['Price'] = df.target\n",
    "print(california.info())\n",
    "california.head(2)"
   ]
  },
  {
   "cell_type": "code",
   "execution_count": 4,
   "metadata": {
    "pycharm": {
     "name": "#%%\n"
    }
   },
   "outputs": [
    {
     "name": "stdout",
     "output_type": "stream",
     "text": [
      "(20640, 8) (20640,)\n"
     ]
    }
   ],
   "source": [
    "# the reason why I didn't include .values, because I want the feature names to be present in statsmodels' summary\n",
    "X = california.iloc[:, :-1]\n",
    "y = california.iloc[:, -1]\n",
    "print(X.shape, y.shape)"
   ]
  },
  {
   "cell_type": "markdown",
   "metadata": {
    "pycharm": {
     "name": "#%% md\n"
    }
   },
   "source": [
    "<h3>Things to look out for when using statsmodels</h3>\n",
    "<li>R2 is goodness of fit (shows how much better the model is in comparison to the mean)</li>\n",
    "<li>Adjusted R2 shows how much data can be explained with features</li>\n",
    "<li>p-values are <b>best friends</b>, they hint at the insignificant features. If it is <= 0.05 - they are <b>important</b></li>\n",
    "<li>Cond No is also an important aspect since it show if the data is <b>unstable</b>. Rule of thumb: it cannot exceed 30</li>\n",
    "\n",
    "<b>IMPORTANT</b>: the bigger the difference is between R2 & Adjusted R2, the worse! If it's exceeds 20%, it a <b>clear sign of redundancy</b>"
   ]
  },
  {
   "cell_type": "code",
   "execution_count": 5,
   "metadata": {},
   "outputs": [
    {
     "data": {
      "text/plain": "<class 'statsmodels.iolib.summary.Summary'>\n\"\"\"\n                                 OLS Regression Results                                \n=======================================================================================\nDep. Variable:                  Price   R-squared (uncentered):                   0.892\nModel:                            OLS   Adj. R-squared (uncentered):              0.892\nMethod:                 Least Squares   F-statistic:                          2.137e+04\nDate:                Tue, 16 Mar 2021   Prob (F-statistic):                        0.00\nTime:                        11:09:15   Log-Likelihood:                         -24087.\nNo. Observations:               20640   AIC:                                  4.819e+04\nDf Residuals:                   20632   BIC:                                  4.825e+04\nDf Model:                           8                                                  \nCovariance Type:            nonrobust                                                  \n==============================================================================\n                 coef    std err          t      P>|t|      [0.025      0.975]\n------------------------------------------------------------------------------\nMedInc         0.5135      0.004    120.594      0.000       0.505       0.522\nHouseAge       0.0157      0.000     33.727      0.000       0.015       0.017\nAveRooms      -0.1825      0.006    -29.673      0.000      -0.195      -0.170\nAveBedrms      0.8651      0.030     28.927      0.000       0.806       0.924\nPopulation  7.792e-06   5.09e-06      1.530      0.126   -2.19e-06    1.78e-05\nAveOccup      -0.0047      0.001     -8.987      0.000      -0.006      -0.004\nLatitude      -0.0639      0.004    -17.826      0.000      -0.071      -0.057\nLongitude     -0.0164      0.001    -14.381      0.000      -0.019      -0.014\n==============================================================================\nOmnibus:                     4353.392   Durbin-Watson:                   0.909\nProb(Omnibus):                  0.000   Jarque-Bera (JB):            14087.489\nSkew:                           1.069   Prob(JB):                         0.00\nKurtosis:                       6.436   Cond. No.                     1.03e+04\n==============================================================================\n\nNotes:\n[1] R² is computed without centering (uncentered) since the model does not contain a constant.\n[2] Standard Errors assume that the covariance matrix of the errors is correctly specified.\n[3] The condition number is large, 1.03e+04. This might indicate that there are\nstrong multicollinearity or other numerical problems.\n\"\"\"",
      "text/html": "<table class=\"simpletable\">\n<caption>OLS Regression Results</caption>\n<tr>\n  <th>Dep. Variable:</th>          <td>Price</td>      <th>  R-squared (uncentered):</th>      <td>   0.892</td> \n</tr>\n<tr>\n  <th>Model:</th>                   <td>OLS</td>       <th>  Adj. R-squared (uncentered):</th> <td>   0.892</td> \n</tr>\n<tr>\n  <th>Method:</th>             <td>Least Squares</td>  <th>  F-statistic:       </th>          <td>2.137e+04</td>\n</tr>\n<tr>\n  <th>Date:</th>             <td>Tue, 16 Mar 2021</td> <th>  Prob (F-statistic):</th>           <td>  0.00</td>  \n</tr>\n<tr>\n  <th>Time:</th>                 <td>11:09:15</td>     <th>  Log-Likelihood:    </th>          <td> -24087.</td> \n</tr>\n<tr>\n  <th>No. Observations:</th>      <td> 20640</td>      <th>  AIC:               </th>          <td>4.819e+04</td>\n</tr>\n<tr>\n  <th>Df Residuals:</th>          <td> 20632</td>      <th>  BIC:               </th>          <td>4.825e+04</td>\n</tr>\n<tr>\n  <th>Df Model:</th>              <td>     8</td>      <th>                     </th>              <td> </td>    \n</tr>\n<tr>\n  <th>Covariance Type:</th>      <td>nonrobust</td>    <th>                     </th>              <td> </td>    \n</tr>\n</table>\n<table class=\"simpletable\">\n<tr>\n       <td></td>         <th>coef</th>     <th>std err</th>      <th>t</th>      <th>P>|t|</th>  <th>[0.025</th>    <th>0.975]</th>  \n</tr>\n<tr>\n  <th>MedInc</th>     <td>    0.5135</td> <td>    0.004</td> <td>  120.594</td> <td> 0.000</td> <td>    0.505</td> <td>    0.522</td>\n</tr>\n<tr>\n  <th>HouseAge</th>   <td>    0.0157</td> <td>    0.000</td> <td>   33.727</td> <td> 0.000</td> <td>    0.015</td> <td>    0.017</td>\n</tr>\n<tr>\n  <th>AveRooms</th>   <td>   -0.1825</td> <td>    0.006</td> <td>  -29.673</td> <td> 0.000</td> <td>   -0.195</td> <td>   -0.170</td>\n</tr>\n<tr>\n  <th>AveBedrms</th>  <td>    0.8651</td> <td>    0.030</td> <td>   28.927</td> <td> 0.000</td> <td>    0.806</td> <td>    0.924</td>\n</tr>\n<tr>\n  <th>Population</th> <td> 7.792e-06</td> <td> 5.09e-06</td> <td>    1.530</td> <td> 0.126</td> <td>-2.19e-06</td> <td> 1.78e-05</td>\n</tr>\n<tr>\n  <th>AveOccup</th>   <td>   -0.0047</td> <td>    0.001</td> <td>   -8.987</td> <td> 0.000</td> <td>   -0.006</td> <td>   -0.004</td>\n</tr>\n<tr>\n  <th>Latitude</th>   <td>   -0.0639</td> <td>    0.004</td> <td>  -17.826</td> <td> 0.000</td> <td>   -0.071</td> <td>   -0.057</td>\n</tr>\n<tr>\n  <th>Longitude</th>  <td>   -0.0164</td> <td>    0.001</td> <td>  -14.381</td> <td> 0.000</td> <td>   -0.019</td> <td>   -0.014</td>\n</tr>\n</table>\n<table class=\"simpletable\">\n<tr>\n  <th>Omnibus:</th>       <td>4353.392</td> <th>  Durbin-Watson:     </th> <td>   0.909</td> \n</tr>\n<tr>\n  <th>Prob(Omnibus):</th>  <td> 0.000</td>  <th>  Jarque-Bera (JB):  </th> <td>14087.489</td>\n</tr>\n<tr>\n  <th>Skew:</th>           <td> 1.069</td>  <th>  Prob(JB):          </th> <td>    0.00</td> \n</tr>\n<tr>\n  <th>Kurtosis:</th>       <td> 6.436</td>  <th>  Cond. No.          </th> <td>1.03e+04</td> \n</tr>\n</table><br/><br/>Notes:<br/>[1] R² is computed without centering (uncentered) since the model does not contain a constant.<br/>[2] Standard Errors assume that the covariance matrix of the errors is correctly specified.<br/>[3] The condition number is large, 1.03e+04. This might indicate that there are<br/>strong multicollinearity or other numerical problems."
     },
     "execution_count": 5,
     "metadata": {},
     "output_type": "execute_result"
    }
   ],
   "source": [
    "ols = OLS(endog=y, exog=X).fit()\n",
    "ols.summary()"
   ]
  },
  {
   "cell_type": "code",
   "execution_count": 6,
   "metadata": {},
   "outputs": [
    {
     "name": "stdout",
     "output_type": "stream",
     "text": [
      "0.606232685199805\n"
     ]
    }
   ],
   "source": [
    "from sklearn.linear_model import LinearRegression\n",
    "\n",
    "ls = LinearRegression().fit(X, y)\n",
    "ls_score1 = ls.score(X, y)\n",
    "print(ls_score1)"
   ]
  },
  {
   "cell_type": "markdown",
   "metadata": {},
   "source": [
    "<h3>What to look at?</h3>\n",
    "We can clearly see the goodness of fit, R2, is 89.2% and is identical to Adjusted R2. By looking at p-values, P > |t|, we can see that Population is way off limit (0.05), which is a sign to get rid of it. Also, Cond No is way too big: 10,300. If the data could scream at as, it would do so (actually, <b>it is doing</b> so).\n",
    "\n",
    "First, let's remove Populations & see what happens.\n"
   ]
  },
  {
   "cell_type": "code",
   "execution_count": 7,
   "metadata": {},
   "outputs": [
    {
     "name": "stderr",
     "output_type": "stream",
     "text": [
      "c:\\users\\dinar\\appdata\\local\\programs\\python\\python38\\lib\\site-packages\\pandas\\core\\frame.py:4162: SettingWithCopyWarning: \n",
      "A value is trying to be set on a copy of a slice from a DataFrame\n",
      "\n",
      "See the caveats in the documentation: https://pandas.pydata.org/pandas-docs/stable/user_guide/indexing.html#returning-a-view-versus-a-copy\n",
      "  return super().drop(\n"
     ]
    },
    {
     "data": {
      "text/plain": "Index(['MedInc', 'HouseAge', 'AveRooms', 'AveBedrms', 'AveOccup', 'Latitude',\n       'Longitude'],\n      dtype='object')"
     },
     "execution_count": 7,
     "metadata": {},
     "output_type": "execute_result"
    }
   ],
   "source": [
    "X.drop('Population', axis=1, inplace=True)\n",
    "X.columns  # sanity check"
   ]
  },
  {
   "cell_type": "code",
   "execution_count": 8,
   "metadata": {},
   "outputs": [
    {
     "data": {
      "text/plain": "<class 'statsmodels.iolib.summary.Summary'>\n\"\"\"\n                                 OLS Regression Results                                \n=======================================================================================\nDep. Variable:                  Price   R-squared (uncentered):                   0.892\nModel:                            OLS   Adj. R-squared (uncentered):              0.892\nMethod:                 Least Squares   F-statistic:                          2.442e+04\nDate:                Tue, 16 Mar 2021   Prob (F-statistic):                        0.00\nTime:                        11:09:15   Log-Likelihood:                         -24088.\nNo. Observations:               20640   AIC:                                  4.819e+04\nDf Residuals:                   20633   BIC:                                  4.825e+04\nDf Model:                           7                                                  \nCovariance Type:            nonrobust                                                  \n==============================================================================\n                 coef    std err          t      P>|t|      [0.025      0.975]\n------------------------------------------------------------------------------\nMedInc         0.5135      0.004    120.584      0.000       0.505       0.522\nHouseAge       0.0154      0.000     35.078      0.000       0.015       0.016\nAveRooms      -0.1830      0.006    -29.784      0.000      -0.195      -0.171\nAveBedrms      0.8657      0.030     28.949      0.000       0.807       0.924\nAveOccup      -0.0046      0.001     -8.893      0.000      -0.006      -0.004\nLatitude      -0.0647      0.004    -18.201      0.000      -0.072      -0.058\nLongitude     -0.0168      0.001    -15.089      0.000      -0.019      -0.015\n==============================================================================\nOmnibus:                     4339.028   Durbin-Watson:                   0.909\nProb(Omnibus):                  0.000   Jarque-Bera (JB):            14057.657\nSkew:                           1.065   Prob(JB):                         0.00\nKurtosis:                       6.436   Cond. No.                         725.\n==============================================================================\n\nNotes:\n[1] R² is computed without centering (uncentered) since the model does not contain a constant.\n[2] Standard Errors assume that the covariance matrix of the errors is correctly specified.\n\"\"\"",
      "text/html": "<table class=\"simpletable\">\n<caption>OLS Regression Results</caption>\n<tr>\n  <th>Dep. Variable:</th>          <td>Price</td>      <th>  R-squared (uncentered):</th>      <td>   0.892</td> \n</tr>\n<tr>\n  <th>Model:</th>                   <td>OLS</td>       <th>  Adj. R-squared (uncentered):</th> <td>   0.892</td> \n</tr>\n<tr>\n  <th>Method:</th>             <td>Least Squares</td>  <th>  F-statistic:       </th>          <td>2.442e+04</td>\n</tr>\n<tr>\n  <th>Date:</th>             <td>Tue, 16 Mar 2021</td> <th>  Prob (F-statistic):</th>           <td>  0.00</td>  \n</tr>\n<tr>\n  <th>Time:</th>                 <td>11:09:15</td>     <th>  Log-Likelihood:    </th>          <td> -24088.</td> \n</tr>\n<tr>\n  <th>No. Observations:</th>      <td> 20640</td>      <th>  AIC:               </th>          <td>4.819e+04</td>\n</tr>\n<tr>\n  <th>Df Residuals:</th>          <td> 20633</td>      <th>  BIC:               </th>          <td>4.825e+04</td>\n</tr>\n<tr>\n  <th>Df Model:</th>              <td>     7</td>      <th>                     </th>              <td> </td>    \n</tr>\n<tr>\n  <th>Covariance Type:</th>      <td>nonrobust</td>    <th>                     </th>              <td> </td>    \n</tr>\n</table>\n<table class=\"simpletable\">\n<tr>\n      <td></td>         <th>coef</th>     <th>std err</th>      <th>t</th>      <th>P>|t|</th>  <th>[0.025</th>    <th>0.975]</th>  \n</tr>\n<tr>\n  <th>MedInc</th>    <td>    0.5135</td> <td>    0.004</td> <td>  120.584</td> <td> 0.000</td> <td>    0.505</td> <td>    0.522</td>\n</tr>\n<tr>\n  <th>HouseAge</th>  <td>    0.0154</td> <td>    0.000</td> <td>   35.078</td> <td> 0.000</td> <td>    0.015</td> <td>    0.016</td>\n</tr>\n<tr>\n  <th>AveRooms</th>  <td>   -0.1830</td> <td>    0.006</td> <td>  -29.784</td> <td> 0.000</td> <td>   -0.195</td> <td>   -0.171</td>\n</tr>\n<tr>\n  <th>AveBedrms</th> <td>    0.8657</td> <td>    0.030</td> <td>   28.949</td> <td> 0.000</td> <td>    0.807</td> <td>    0.924</td>\n</tr>\n<tr>\n  <th>AveOccup</th>  <td>   -0.0046</td> <td>    0.001</td> <td>   -8.893</td> <td> 0.000</td> <td>   -0.006</td> <td>   -0.004</td>\n</tr>\n<tr>\n  <th>Latitude</th>  <td>   -0.0647</td> <td>    0.004</td> <td>  -18.201</td> <td> 0.000</td> <td>   -0.072</td> <td>   -0.058</td>\n</tr>\n<tr>\n  <th>Longitude</th> <td>   -0.0168</td> <td>    0.001</td> <td>  -15.089</td> <td> 0.000</td> <td>   -0.019</td> <td>   -0.015</td>\n</tr>\n</table>\n<table class=\"simpletable\">\n<tr>\n  <th>Omnibus:</th>       <td>4339.028</td> <th>  Durbin-Watson:     </th> <td>   0.909</td> \n</tr>\n<tr>\n  <th>Prob(Omnibus):</th>  <td> 0.000</td>  <th>  Jarque-Bera (JB):  </th> <td>14057.657</td>\n</tr>\n<tr>\n  <th>Skew:</th>           <td> 1.065</td>  <th>  Prob(JB):          </th> <td>    0.00</td> \n</tr>\n<tr>\n  <th>Kurtosis:</th>       <td> 6.436</td>  <th>  Cond. No.          </th> <td>    725.</td> \n</tr>\n</table><br/><br/>Notes:<br/>[1] R² is computed without centering (uncentered) since the model does not contain a constant.<br/>[2] Standard Errors assume that the covariance matrix of the errors is correctly specified."
     },
     "execution_count": 8,
     "metadata": {},
     "output_type": "execute_result"
    }
   ],
   "source": [
    "ols = OLS(endog=y, exog=X).fit()\n",
    "ols.summary()"
   ]
  },
  {
   "cell_type": "markdown",
   "metadata": {},
   "source": [
    "<h3>WOAH, look at that!</h3>\n",
    "<li>R2 & Adjusted R2 haven't changed (which is incredible that we weren't punished for kicking out population)</li>\n",
    "<li>Cond No <b>drastically decreased</b> from over 10k to 725!</li>"
   ]
  },
  {
   "cell_type": "code",
   "execution_count": 9,
   "metadata": {},
   "outputs": [],
   "source": [
    "from sklearn.linear_model import LinearRegression\n",
    "\n",
    "ls = LinearRegression().fit(X, y)\n",
    "ls_score2 = ls.score(X, y)"
   ]
  },
  {
   "cell_type": "markdown",
   "metadata": {},
   "source": [
    "<h3>Now, since we still have a high Cond No., let's look at Correlation Matrix</h3>"
   ]
  },
  {
   "cell_type": "code",
   "execution_count": 10,
   "metadata": {},
   "outputs": [
    {
     "name": "stdout",
     "output_type": "stream",
     "text": [
      "['MedInc', 'HouseAge', 'AveRooms', 'AveBedrms', 'AveOccup', 'Latitude', 'Longitude']\n"
     ]
    },
    {
     "data": {
      "text/plain": "<Figure size 504x504 with 2 Axes>",
      "image/png": "[encoded data removed]"
     },
     "metadata": {},
     "output_type": "display_data"
    }
   ],
   "source": [
    "features = X.columns.tolist()\n",
    "print(features)\n",
    "\n",
    "def show_correlations(predictors, dataset):\n",
    "    mask = np.triu(dataset.corr())\n",
    "    plt.figure(figsize=(7, 7))\n",
    "    plt.title('Correlation Matrix')\n",
    "    sns.heatmap(dataset.corr(), annot=True, cmap='winter', mask=mask)\n",
    "    plt.show()\n",
    "\n",
    "show_correlations(features, X)"
   ]
  },
  {
   "cell_type": "markdown",
   "metadata": {},
   "source": [
    "<h3>Eigenvalues & Eigenvectors to the rescue!</h3>\n",
    "\n",
    "To see how things are correlated, we can use <b>eigenvalues</b> and <b>eigenvectors</b>. What they do is iteratively add new features and check correlations. \n",
    "<li>Eigenvalues </li>\n",
    "<li>Eigenvectors </li>\n",
    "\n",
    "<h3>What to look at?</h3>\n",
    "Always check for the values that <b>differ a lot | close to 0</b>. \"Near zero values can represent a real problem for normal equations and other optimization methods based on matrix inversion. Small values represent a high but not critical source of multicollinearity\" (Massaron, L. & Boschetti, A., 2016, p. 133)\n",
    "\n",
    "When you run the cell below, you will see that values at indices 2 & 3 are distinctive. Let's take a closer look. \n",
    "\n",
    "*Reference: Massaron, L. & Boschetti, A. (2016, February). <i>Regression analysis with python</i>. Packt Publishing Ltd. "
   ]
  },
  {
   "cell_type": "code",
   "execution_count": 11,
   "metadata": {},
   "outputs": [
    {
     "name": "stdout",
     "output_type": "stream",
     "text": [
      "[1.99986184 1.87105346 0.04572752 0.08240656 1.09107259 0.90680178\n",
      " 1.00307626]\n",
      "\n",
      "==============\n",
      "\n",
      "Features for: AVEROOMS\n",
      "\n",
      "    features   results\n",
      "1  HouseAge  0.040014\n",
      "2  AveRooms -0.464350\n",
      "4  AveOccup -0.007936\n",
      "\n",
      "==============\n",
      "\n",
      "Features for: AVEBEDRMS\n",
      "\n",
      "     features   results\n",
      "2   AveRooms -0.524789\n",
      "5   Latitude -0.436482\n",
      "6  Longitude -0.468898\n",
      "\n",
      "==============\n",
      "\n",
      "Features for: LATITUDE\n",
      "\n",
      "    features   results\n",
      "0    MedInc -0.507729\n",
      "1  HouseAge -0.815835\n",
      "2  AveRooms -0.125791\n",
      "\n",
      "==============\n",
      "\n"
     ]
    }
   ],
   "source": [
    "correlation = np.corrcoef(X, rowvar=False)  # rowvar is set to False since our data is presented as columns\n",
    "eigenvalues, eigenvectors = np.linalg.eig(correlation)\n",
    "\n",
    "print(eigenvalues)\n",
    "print('\\n==============\\n')\n",
    "\n",
    "def show_eigenvectors(index):\n",
    "    results = eigenvectors[:, index]\n",
    "    eigen = pd.DataFrame({'features': features, 'results': results})\n",
    "    \n",
    "    print(f'Features for: {features[index].upper()}\\n\\n', eigen[eigen.results < eigen.results.median()])\n",
    "    print('\\n==============\\n')\n",
    "\n",
    "show_eigenvectors(2)\n",
    "show_eigenvectors(3)\n",
    "show_eigenvectors(5)"
   ]
  },
  {
   "cell_type": "markdown",
   "metadata": {},
   "source": [
    "<h3>Standardize the dataset</h3>\n",
    "After running standardization & linear regression and looking at the coefficients, we can see the most important\n",
    "variables (but it's not enough, we need <b>regularization</b>). Nevertheless, let's see how the coefficients are\n",
    "interpreted without and with standardization."
   ]
  },
  {
   "cell_type": "code",
   "execution_count": 22,
   "metadata": {},
   "outputs": [
    {
     "name": "stdout",
     "output_type": "stream",
     "text": [
      "0.6449021952418085 AveBedrms\n",
      "0.4367597478036242 MedInc\n",
      "0.43404215355951803 Longitude\n",
      "0.42069941655554993 Latitude\n",
      "0.10713405779069182 AveRooms\n",
      "0.009555467799549803 HouseAge\n",
      "0.003819327912848975 AveOccup\n",
      "\n",
      "==============\n",
      "\n",
      "0.8985721588732175 Latitude\n",
      "0.8695961574299772 Longitude\n",
      "0.8297455532459809 MedInc\n",
      "0.3056187480723477 AveBedrms\n",
      "0.2650617867995122 AveRooms\n",
      "0.12025797716985952 HouseAge\n",
      "0.03966676804251057 AveOccup\n"
     ]
    }
   ],
   "source": [
    "from sklearn.preprocessing import StandardScaler\n",
    "from sklearn.pipeline import make_pipeline\n",
    "\n",
    "scaler = StandardScaler()\n",
    "linreg = LinearRegression(normalize=False, fit_intercept=True)\n",
    "pipeline = make_pipeline(scaler, linreg)\n",
    "\n",
    "# unstandardized\n",
    "linreg.fit(X, y)\n",
    "for coef, var in sorted(zip(map(abs, linreg.coef_), features), reverse=True):\n",
    "    print(coef, var)\n",
    "\n",
    "print('\\n==============\\n')\n",
    "\n",
    "\n",
    "# standardized\n",
    "pipeline.fit(X, y)\n",
    "for coef, var in sorted(zip(map(abs, pipeline.steps[1][1].coef_), features), reverse=True):\n",
    "    print(coef, var)\n",
    "\n"
   ]
  },
  {
   "cell_type": "markdown",
   "metadata": {
    "pycharm": {
     "name": "#%% md\n"
    }
   },
   "source": [
    "## Partial R2"
   ]
  },
  {
   "cell_type": "code",
   "execution_count": 24,
   "metadata": {},
   "outputs": [
    {
     "name": "stdout",
     "output_type": "stream",
     "text": [
      "Baseline R2: 0.606\n",
      "0.207 MedInc\n",
      "0.066 Latitude\n",
      "0.064 Longitude\n",
      "0.01 AveBedrms\n",
      "0.01 HouseAge\n",
      "0.006 AveRooms\n",
      "0.001 AveOccup\n"
     ]
    }
   ],
   "source": [
    "from sklearn.metrics import r2_score\n",
    "\n",
    "linreg = LinearRegression(normalize=False, fit_intercept=True)\n",
    "\n",
    "def r2_est(X, y):\n",
    "    return r2_score(y, linreg.fit(X, y).predict(X))\n",
    "\n",
    "print(f'Baseline R2: {round(r2_est(X, y), 3)}')\n",
    "\n",
    "\n",
    "r2_impact = list()\n",
    "for j in range(X.shape[1]):\n",
    "    selection = [i for i in range(X.shape[1]) if i != j]\n",
    "    r2_impact.append(((r2_est(X, y) - r2_est(X.values[:, selection], y)), features[j]))\n",
    "for imp, varname in sorted(r2_impact, reverse=True):\n",
    "    print(round(imp, 3), varname)"
   ]
  },
  {
   "cell_type": "code",
   "execution_count": 12,
   "metadata": {},
   "outputs": [],
   "source": []
  },
  {
   "cell_type": "code",
   "execution_count": 12,
   "metadata": {},
   "outputs": [],
   "source": []
  },
  {
   "cell_type": "code",
   "execution_count": 12,
   "metadata": {},
   "outputs": [],
   "source": []
  },
  {
   "cell_type": "code",
   "execution_count": 12,
   "metadata": {},
   "outputs": [],
   "source": []
  },
  {
   "cell_type": "code",
   "execution_count": 16,
   "metadata": {
    "pycharm": {
     "name": "#%%\n"
    }
   },
   "outputs": [],
   "source": []
  },
  {
   "cell_type": "code",
   "execution_count": 16,
   "metadata": {
    "pycharm": {
     "name": "#%%\n"
    }
   },
   "outputs": [],
   "source": []
  },
  {
   "cell_type": "code",
   "execution_count": 16,
   "outputs": [],
   "source": [],
   "metadata": {
    "collapsed": false,
    "pycharm": {
     "name": "#%%\n"
    }
   }
  },
  {
   "cell_type": "code",
   "execution_count": 16,
   "outputs": [],
   "source": [],
   "metadata": {
    "collapsed": false,
    "pycharm": {
     "name": "#%%\n"
    }
   }
  },
  {
   "cell_type": "code",
   "execution_count": 16,
   "outputs": [],
   "source": [],
   "metadata": {
    "collapsed": false,
    "pycharm": {
     "name": "#%%\n"
    }
   }
  },
  {
   "cell_type": "code",
   "execution_count": 16,
   "outputs": [],
   "source": [],
   "metadata": {
    "collapsed": false,
    "pycharm": {
     "name": "#%%\n"
    }
   }
  },
  {
   "cell_type": "code",
   "execution_count": 16,
   "outputs": [],
   "source": [],
   "metadata": {
    "collapsed": false,
    "pycharm": {
     "name": "#%%\n"
    }
   }
  },
  {
   "cell_type": "code",
   "execution_count": 16,
   "outputs": [],
   "source": [],
   "metadata": {
    "collapsed": false,
    "pycharm": {
     "name": "#%%\n"
    }
   }
  },
  {
   "cell_type": "code",
   "execution_count": null,
   "outputs": [],
   "source": [],
   "metadata": {
    "collapsed": false,
    "pycharm": {
     "name": "#%%\n"
    }
   }
  }
 ],
 "metadata": {
  "kernelspec": {
   "display_name": "Python 3",
   "language": "python",
   "name": "python3"
  },
  "language_info": {
   "codemirror_mode": {
    "name": "ipython",
    "version": 3
   },
   "file_extension": ".py",
   "mimetype": "text/x-python",
   "name": "python",
   "nbconvert_exporter": "python",
   "pygments_lexer": "ipython3",
   "version": "3.8.6rc1"
  }
 },
 "nbformat": 4,
 "nbformat_minor": 1
}