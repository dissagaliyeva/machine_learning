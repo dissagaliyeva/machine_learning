{
 "cells": [
  {
   "cell_type": "markdown",
   "id": "later-orchestra",
   "metadata": {},
   "source": [
    "## Statistical Thinking in Python 2\n",
    "\n",
    "* [Hypothesis Testing](#hypothesis)\n",
    "* [Hypothesis Test Examples](#examples)\n",
    "\n",
    "**Pipeline for Hypothesis Testing**\n",
    "- clearly state the null hypothesis\n",
    "- define your test statistic\n",
    "- generate many sets of simulated data assuming the null hypothesis is true\n",
    "- compute the test statistic for each simulated dataset\n",
    "- p-value is the fraction of your simulated datasets for which the test statistic is at least as extreme as for the real data"
   ]
  },
  {
   "cell_type": "code",
   "execution_count": 2,
   "id": "eight-retention",
   "metadata": {
    "pycharm": {
     "is_executing": true
    }
   },
   "outputs": [],
   "source": [
    "import numpy as np\n",
    "import pandas as pd\n",
    "import seaborn as sns\n",
    "import matplotlib.pyplot as plt\n",
    "\n",
    "sns.set()"
   ]
  },
  {
   "cell_type": "code",
   "execution_count": 20,
   "id": "egyptian-warning",
   "metadata": {
    "pycharm": {
     "name": "#%%\n"
    }
   },
   "outputs": [],
   "source": [
    "# create a function to return CDF axis\n",
    "def ecdf(data):\n",
    "    n = len(data)\n",
    "    x = np.sort(data)\n",
    "    y = np.arange(1, n + 1) / n\n",
    "    return x, y\n",
    "\n",
    "\n",
    "def vis_ecdf(data1, data2, label1, label2):\n",
    "    x1, y1 = ecdf(data1)\n",
    "    x2, y2 = ecdf(data2)\n",
    "    \n",
    "    plt.plot(x1, y1, marker='.', linestyle='none', label=label1)\n",
    "    plt.plot(x2, y2, marker='.', linestyle='none', label=label2)\n",
    "    plt.legend(loc=4)\n",
    "\n",
    "    \n",
    "def permutation_sample(data1, data2):\n",
    "    both = np.concatenate((data1, data2))\n",
    "    perm = np.random.permutation(both)\n",
    "    return perm[:len(data1)], perm[len(data1):]\n",
    "    \n",
    "    \n",
    "def draw_perm_reps(data1, data2, func, size=1):\n",
    "    \"\"\"Generate multiple permutation replicates.\"\"\"\n",
    "\n",
    "    # Initialize array of replicates: perm_replicates\n",
    "    perm_replicates = np.empty(size)\n",
    "\n",
    "    for i in range(size):\n",
    "        # Generate permutation sample\n",
    "        perm_sample_1, perm_sample_2 = permutation_sample(data1, data2)\n",
    "\n",
    "        # Compute the test statistic\n",
    "        perm_replicates[i] = func(perm_sample_1, perm_sample_2)\n",
    "\n",
    "    return perm_replicates\n",
    "\n",
    "\n",
    "def diff_of_means(data1, data2):\n",
    "    return np.mean(data1) - np.mean(data2)"
   ]
  },
  {
   "cell_type": "code",
   "execution_count": 14,
   "id": "stuffed-navigator",
   "metadata": {},
   "outputs": [],
   "source": [
    "# read all the data necessary\n",
    "speed_of_light = pd.read_csv('datasets/speed_of_light.csv', index_col=0)\n",
    "no_hitters = pd.read_csv('datasets/major_league_baseball_no_hitters.csv')\n",
    "swing_states = pd.read_csv('datasets/swing_states.csv')\n",
    "female_literacy = pd.read_csv('datasets/female_literacy.csv')\n",
    "bees = pd.read_csv('datasets/bee_sperm.csv')\n",
    "frogs = pd.read_csv('datasets/frog_tongue.csv')"
   ]
  },
  {
   "cell_type": "code",
   "execution_count": 6,
   "id": "greater-yukon",
   "metadata": {},
   "outputs": [
    {
     "data": {
      "text/html": [
       "<div>\n",
       "<style scoped>\n",
       "    .dataframe tbody tr th:only-of-type {\n",
       "        vertical-align: middle;\n",
       "    }\n",
       "\n",
       "    .dataframe tbody tr th {\n",
       "        vertical-align: top;\n",
       "    }\n",
       "\n",
       "    .dataframe thead th {\n",
       "        text-align: right;\n",
       "    }\n",
       "</style>\n",
       "<table border=\"1\" class=\"dataframe\">\n",
       "  <thead>\n",
       "    <tr style=\"text-align: right;\">\n",
       "      <th></th>\n",
       "      <th>state</th>\n",
       "      <th>county</th>\n",
       "      <th>total_votes</th>\n",
       "      <th>dem_votes</th>\n",
       "      <th>rep_votes</th>\n",
       "      <th>dem_share</th>\n",
       "    </tr>\n",
       "  </thead>\n",
       "  <tbody>\n",
       "    <tr>\n",
       "      <th>0</th>\n",
       "      <td>PA</td>\n",
       "      <td>Erie County</td>\n",
       "      <td>127691</td>\n",
       "      <td>75775</td>\n",
       "      <td>50351</td>\n",
       "      <td>60.08</td>\n",
       "    </tr>\n",
       "    <tr>\n",
       "      <th>1</th>\n",
       "      <td>PA</td>\n",
       "      <td>Bradford County</td>\n",
       "      <td>25787</td>\n",
       "      <td>10306</td>\n",
       "      <td>15057</td>\n",
       "      <td>40.64</td>\n",
       "    </tr>\n",
       "  </tbody>\n",
       "</table>\n",
       "</div>"
      ],
      "text/plain": [
       "  state           county  total_votes  dem_votes  rep_votes  dem_share\n",
       "0    PA      Erie County       127691      75775      50351      60.08\n",
       "1    PA  Bradford County        25787      10306      15057      40.64"
      ]
     },
     "execution_count": 6,
     "metadata": {},
     "output_type": "execute_result"
    }
   ],
   "source": [
    "swing_states.head(2)"
   ]
  },
  {
   "cell_type": "markdown",
   "id": "surprised-freedom",
   "metadata": {},
   "source": [
    "### Hypothesis Testing\n",
    "\n",
    "We will look at an example where we hypothesize that PA and OH have identical county-level voting. Using **hypothesis testing** we will assess how reasonable the observed data are assuming the hypothesis is true. The hypothesis we're testing is **null hypothesis**. We will start by plotting the two ECDFs of country-level votes. Then, we will simulate the data while ignoring what state they belong to. Then, we randomly scramble the ordering of the counties. Next, we will split the data and look at the difference. "
   ]
  },
  {
   "cell_type": "code",
   "execution_count": 7,
   "id": "internal-prison",
   "metadata": {},
   "outputs": [
    {
     "data": {
      "image/png": "[encoded data removed]",
      "text/plain": [
       "<Figure size 432x288 with 1 Axes>"
      ]
     },
     "metadata": {},
     "output_type": "display_data"
    }
   ],
   "source": [
    "oh_dem_share = swing_states[swing_states['state'] == 'OH']['dem_share']\n",
    "pa_dem_share = swing_states[swing_states['state'] == 'PA']['dem_share']\n",
    "\n",
    "# show cdfs\n",
    "plt.title('Ohio & Pennsylvania CDF')\n",
    "vis_ecdf(oh_dem_share, pa_dem_share, 'PA', 'OH')\n",
    "plt.show()"
   ]
  },
  {
   "cell_type": "code",
   "execution_count": 10,
   "id": "fancy-fruit",
   "metadata": {},
   "outputs": [
    {
     "data": {
      "image/png": "[encoded data removed]",
      "text/plain": [
       "<Figure size 432x288 with 1 Axes>"
      ]
     },
     "metadata": {},
     "output_type": "display_data"
    }
   ],
   "source": [
    "# generate permutations\n",
    "perm_sample_pa, perm_sample_oh = permutation_sample(pa_dem_share, oh_dem_share)\n",
    "\n",
    "# show cdfs\n",
    "plt.title('Ohio & Pennsylvania Permutation')\n",
    "vis_ecdf(perm_sample_pa, perm_sample_oh, 'PA perm', 'OH perm')\n",
    "vis_ecdf(pa_dem_share, oh_dem_share, 'PA', 'OH')\n",
    "plt.show()"
   ]
  },
  {
   "cell_type": "code",
   "execution_count": 12,
   "id": "precise-science",
   "metadata": {},
   "outputs": [
    {
     "name": "stdout",
     "output_type": "stream",
     "text": [
      "Permutation difference: 0.07171132971506466\n",
      "Actual difference: 1.1582360922659447\n"
     ]
    }
   ],
   "source": [
    "print('Permutation difference:', np.mean(perm_sample_pa) - np.mean(perm_sample_oh))\n",
    "print('Actual difference:', np.mean(pa_dem_share) - np.mean(oh_dem_share))"
   ]
  },
  {
   "cell_type": "markdown",
   "id": "placed-parameter",
   "metadata": {},
   "source": [
    "**Example: Frog tongue length** will consist of the EDA step, followed by hypothesis testing. \n",
    "\n",
    "Kleinteich and Gorb (Sci. Rep., 4, 5225, 2014) performed an interesting experiment with South American horned frogs. They held a plate connected to a force transducer, along with a bait fly, in front of them. They then measured the impact force and adhesive force of the frog's tongue when it struck the target.\n",
    "\n",
    "Frog A is an adult and Frog B is a juvenile. The researchers measured the impact force of 20 strikes for each frog. In the next exercise, we will test the hypothesis that the two frogs have the same distribution of impact forces. But, remember, it is important to do EDA first!"
   ]
  },
  {
   "cell_type": "code",
   "execution_count": 18,
   "id": "accepting-adelaide",
   "metadata": {},
   "outputs": [
    {
     "data": {
      "image/png": "[encoded data removed]",
      "text/plain": [
       "<Figure size 432x288 with 1 Axes>"
      ]
     },
     "metadata": {},
     "output_type": "display_data"
    }
   ],
   "source": [
    "frogs_adults_juvenile = frogs[(frogs['ID'] == 'I') | (frogs['ID'] == 'III')][['ID', 'impact force (mN)']]\n",
    "frogs_adults_juvenile['impact force (N)'] = frogs_adults_juvenile['impact force (mN)'] / 1000000 \n",
    "sns.swarmplot(data=frogs_adults_juvenile, x='ID', y='impact force (N)')\n",
    "plt.xlabel('frog')\n",
    "plt.ylabel('impact force (N)')\n",
    "plt.legend(['Adult', 'Juvenile'], loc=4)\n",
    "plt.show()"
   ]
  },
  {
   "cell_type": "code",
   "execution_count": 23,
   "id": "fancy-heritage",
   "metadata": {},
   "outputs": [
    {
     "name": "stdout",
     "output_type": "stream",
     "text": [
      "p-value = 0.0043\n"
     ]
    }
   ],
   "source": [
    "force_adults = np.array([1.612, 0.605, 0.327, 0.946, 0.541, 1.539, 0.529, 0.628, 1.453,\n",
    "                         0.297, 0.703, 0.269, 0.751, 0.245, 1.182, 0.515, 0.435, 0.383,\n",
    "                         0.457, 0.73 ])\n",
    "force_juvenile = np.array([0.172, 0.142, 0.037, 0.453, 0.355, 0.022, 0.502, 0.273, 0.72 ,\n",
    "                           0.582, 0.198, 0.198, 0.597, 0.516, 0.815, 0.402, 0.605, 0.711,\n",
    "                           0.614, 0.468])\n",
    "\n",
    "# Compute difference of mean impact force from experiment: empirical_diff_means\n",
    "empirical_diff_means = diff_of_means(force_adults, force_juvenile)\n",
    "\n",
    "# Draw 10,000 permutation replicates: perm_replicates\n",
    "perm_replicates = draw_perm_reps(force_adults, force_juvenile, diff_of_means, size=10000)\n",
    "\n",
    "# Compute p-value: p\n",
    "p = np.sum(perm_replicates >= empirical_diff_means) / len(perm_replicates)\n",
    "\n",
    "# Print the result\n",
    "print('p-value =', p)"
   ]
  },
  {
   "cell_type": "markdown",
   "id": "toxic-fantasy",
   "metadata": {},
   "source": [
    "The p-value tells you that there is about a 0.4% chance that you would get the difference of means observed in the experiment if frogs were exactly the same. A p-value below 0.01 is typically said to be \"statistically significant,\" but: warning! warning! warning! You have computed a p-value; it is a number. I encourage you not to distill it to a yes-or-no phrase. p = 0.004 and p = 0.000000004 are both said to be \"statistically significant,\" but they are definitely not the same!"
   ]
  },
  {
   "cell_type": "code",
   "execution_count": null,
   "id": "domestic-collective",
   "metadata": {},
   "outputs": [],
   "source": []
  }
 ],
 "metadata": {
  "kernelspec": {
   "display_name": "Python 3",
   "language": "python",
   "name": "python3"
  },
  "language_info": {
   "codemirror_mode": {
    "name": "ipython",
    "version": 3
   },
   "file_extension": ".py",
   "mimetype": "text/x-python",
   "name": "python",
   "nbconvert_exporter": "python",
   "pygments_lexer": "ipython3",
   "version": "3.8.6rc1"
  }
 },
 "nbformat": 4,
 "nbformat_minor": 5
}