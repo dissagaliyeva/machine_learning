{
 "cells": [
  {
   "cell_type": "markdown",
   "id": "altered-working",
   "metadata": {},
   "source": [
    "# Efficient Python (part II)\n",
    "* Efficient combining, counting, and iterating\n",
    "* Pandas operations"
   ]
  },
  {
   "cell_type": "code",
   "execution_count": 7,
   "id": "numerical-police",
   "metadata": {},
   "outputs": [],
   "source": [
    "# %load_ext line_profiler\n",
    "\n",
    "import numpy as np\n",
    "import pandas as pd\n",
    "import collections \n",
    "import itertools"
   ]
  },
  {
   "cell_type": "code",
   "execution_count": 2,
   "id": "failing-communication",
   "metadata": {},
   "outputs": [
    {
     "data": {
      "text/plain": [
       "{'Bulbasaur': 45, 'Charmander': 39, 'Squirtle': 44}"
      ]
     },
     "execution_count": 2,
     "metadata": {},
     "output_type": "execute_result"
    }
   ],
   "source": [
    "# combining objects\n",
    "names = ['Bulbasaur', 'Charmander', 'Squirtle']\n",
    "hps = [45, 39, 44]\n",
    "\n",
    "# dict representation\n",
    "dict(zip(names, hps))"
   ]
  },
  {
   "cell_type": "code",
   "execution_count": 3,
   "id": "conscious-yeast",
   "metadata": {},
   "outputs": [
    {
     "data": {
      "text/plain": [
       "[('Bulbasaur', 45), ('Charmander', 39), ('Squirtle', 44)]"
      ]
     },
     "execution_count": 3,
     "metadata": {},
     "output_type": "execute_result"
    }
   ],
   "source": [
    "# tuple representation\n",
    "[*zip(names, hps)]"
   ]
  },
  {
   "cell_type": "markdown",
   "id": "physical-garden",
   "metadata": {},
   "source": [
    "### itertools module\n",
    "Functional tools for creating & using iterations. It has the following functions:\n",
    "- **Infinite iterations**: count, cycle, repeat\n",
    "- **Finite iterations**: accumulate, chain, zip_longest, etc\n",
    "- **Combination generators**: product, permutations, combinations"
   ]
  },
  {
   "cell_type": "code",
   "execution_count": 14,
   "id": "floppy-chair",
   "metadata": {},
   "outputs": [
    {
     "name": "stdout",
     "output_type": "stream",
     "text": [
      "6.57 µs ± 71.5 ns per loop (mean ± std. dev. of 7 runs, 100000 loops each)\n"
     ]
    }
   ],
   "source": [
    "%%timeit\n",
    "# combinations loop - BAD\n",
    "pokemon_types = ['Bug', 'Fire', 'Water', 'Grass', 'Ghost']\n",
    "combinations = []\n",
    "\n",
    "for x in pokemon_types:\n",
    "    for y in pokemon_types:\n",
    "        if x == y:\n",
    "            continue\n",
    "        if ((x, y) not in combinations) and ((y, x) not in combinations):\n",
    "            combinations.append((x, y))"
   ]
  },
  {
   "cell_type": "code",
   "execution_count": 15,
   "id": "unsigned-liverpool",
   "metadata": {},
   "outputs": [
    {
     "name": "stdout",
     "output_type": "stream",
     "text": [
      "123 ns ± 0.463 ns per loop (mean ± std. dev. of 7 runs, 10000000 loops each)\n"
     ]
    }
   ],
   "source": [
    "%%timeit\n",
    "# combinations loop - BETTER\n",
    "itertools.combinations(pokemon_types, 2)"
   ]
  },
  {
   "cell_type": "code",
   "execution_count": 17,
   "id": "conventional-chile",
   "metadata": {},
   "outputs": [
    {
     "name": "stdout",
     "output_type": "stream",
     "text": [
      "<class 'itertools.combinations'> \n",
      "\n",
      "[('Geodude', 'Cubone'), ('Geodude', 'Lickitung'), ('Geodude', 'Persian'), ('Geodude', 'Diglett'), ('Cubone', 'Lickitung'), ('Cubone', 'Persian'), ('Cubone', 'Diglett'), ('Lickitung', 'Persian'), ('Lickitung', 'Diglett'), ('Persian', 'Diglett')] \n",
      "\n",
      "[('Geodude', 'Cubone', 'Lickitung', 'Persian'), ('Geodude', 'Cubone', 'Lickitung', 'Diglett'), ('Geodude', 'Cubone', 'Persian', 'Diglett'), ('Geodude', 'Lickitung', 'Persian', 'Diglett'), ('Cubone', 'Lickitung', 'Persian', 'Diglett')]\n"
     ]
    }
   ],
   "source": [
    "pokemon = ['Geodude', 'Cubone', 'Lickitung', 'Persian', 'Diglett']\n",
    "\n",
    "# Create a combination object with pairs of Pokémon\n",
    "combos_obj = itertools.combinations(pokemon, 2)\n",
    "print(type(combos_obj), '\\n')\n",
    "\n",
    "# Convert combos_obj to a list by unpacking\n",
    "combos_2 = [*combos_obj]\n",
    "print(combos_2, '\\n')\n",
    "\n",
    "# Collect all possible combinations of 4 Pokémon directly into a list\n",
    "combos_4 = [*itertools.combinations(pokemon, 4)]\n",
    "print(combos_4)"
   ]
  },
  {
   "cell_type": "code",
   "execution_count": 18,
   "id": "authentic-entertainment",
   "metadata": {},
   "outputs": [
    {
     "name": "stdout",
     "output_type": "stream",
     "text": [
      "{'Squirtle', 'Psyduck'}\n",
      "{'Koffing', 'Rattata', 'Vulpix', 'Bulbasaur', 'Zubat', 'Wigglytuff', 'Pikachu', 'Spearow'}\n",
      "{'Tentacool', 'Koffing', 'Krabby', 'Rattata', 'Wigglytuff', 'Slowbro', 'Poliwag', 'Vulpix', 'Spearow', 'Bulbasaur', 'Zubat', 'Magikarp', 'Pikachu', 'Horsea', 'Vaporeon', 'Starmie'}\n"
     ]
    }
   ],
   "source": [
    "ash_pokedex = ['Pikachu', 'Bulbasaur', 'Koffing', 'Spearow', 'Vulpix', \n",
    "               'Wigglytuff', 'Zubat', 'Rattata', 'Psyduck', 'Squirtle']\n",
    "misty_pokedex = ['Krabby', 'Horsea', 'Slowbro', 'Tentacool', 'Vaporeon', \n",
    "                 'Magikarp', 'Poliwag', 'Starmie', 'Psyduck', 'Squirtle']\n",
    "\n",
    "# Convert both lists to sets\n",
    "ash_set = set(ash_pokedex)\n",
    "misty_set = set(misty_pokedex)\n",
    "\n",
    "# Find the Pokémon that exist in both sets\n",
    "both = ash_set.intersection(misty_set)\n",
    "print(both)\n",
    "\n",
    "# Find the Pokémon that Ash has and Misty does not have\n",
    "ash_only = ash_set.difference(misty_set)\n",
    "print(ash_only)\n",
    "\n",
    "# Find the Pokémon that are in only one set (not both)\n",
    "unique_to_set = ash_set.symmetric_difference(misty_set)\n",
    "print(unique_to_set)"
   ]
  },
  {
   "cell_type": "markdown",
   "id": "universal-budapest",
   "metadata": {},
   "source": [
    "### Eliminating loops\n"
   ]
  },
  {
   "cell_type": "code",
   "execution_count": 23,
   "id": "brown-bunch",
   "metadata": {},
   "outputs": [
    {
     "data": {
      "text/plain": [
       "array([[81.83007415, 94.2035647 , 80.29301738, 11.20512775],\n",
       "       [17.24294799, 90.91374051, 27.94736037, 14.67327874],\n",
       "       [60.54105018, 78.24848911, 54.36872904, 89.2033941 ],\n",
       "       [54.22740749, 53.09776311,  4.2176785 , 71.36045105],\n",
       "       [31.53967203, 53.14693028, 45.0210001 , 93.79117127],\n",
       "       [43.41229174, 13.28288775, 21.66522715, 99.47715929],\n",
       "       [37.63984106, 54.77928923, 11.13321216, 33.80140551],\n",
       "       [98.71511391, 89.67792957, 22.24727427, 45.6132658 ],\n",
       "       [78.11585556, 21.27480201, 15.34871521, 23.32901087],\n",
       "       [ 4.55484749, 48.9136162 , 20.2434094 , 48.36386917]])"
      ]
     },
     "execution_count": 23,
     "metadata": {},
     "output_type": "execute_result"
    }
   ],
   "source": [
    "pokemon_stats = np.random.rand(10, 4)\n",
    "pokemon_stats *= 100\n",
    "pokemon_stats"
   ]
  },
  {
   "cell_type": "code",
   "execution_count": 29,
   "id": "standard-bones",
   "metadata": {},
   "outputs": [
    {
     "name": "stdout",
     "output_type": "stream",
     "text": [
      "26 µs ± 1.01 µs per loop (mean ± std. dev. of 2 runs, 10 loops each)\n"
     ]
    }
   ],
   "source": [
    "%%timeit -r2 -n10\n",
    "# for loop\n",
    "total = []\n",
    "for row in pokemon_stats:\n",
    "    total.append(sum(row))"
   ]
  },
  {
   "cell_type": "code",
   "execution_count": 30,
   "id": "executive-annex",
   "metadata": {},
   "outputs": [
    {
     "name": "stdout",
     "output_type": "stream",
     "text": [
      "27 µs ± 925 ns per loop (mean ± std. dev. of 2 runs, 10 loops each)\n"
     ]
    }
   ],
   "source": [
    "%%timeit -r2 -n10\n",
    "# list comprehension\n",
    "total_comp = [sum(row) for row in pokemon_stats]"
   ]
  },
  {
   "cell_type": "code",
   "execution_count": 31,
   "id": "narrative-badge",
   "metadata": {},
   "outputs": [
    {
     "name": "stdout",
     "output_type": "stream",
     "text": [
      "16.8 µs ± 790 ns per loop (mean ± std. dev. of 2 runs, 10 loops each)\n"
     ]
    }
   ],
   "source": [
    "%%timeit -r2 -n10\n",
    "total_map = [*map(sum, pokemon_stats)]"
   ]
  },
  {
   "cell_type": "code",
   "execution_count": 34,
   "id": "regulated-monitor",
   "metadata": {},
   "outputs": [
    {
     "name": "stdout",
     "output_type": "stream",
     "text": [
      "52.7 µs ± 6.61 µs per loop (mean ± std. dev. of 7 runs, 10000 loops each)\n"
     ]
    }
   ],
   "source": [
    "%%timeit \n",
    "# for loop vs numpy\n",
    "avgs = []\n",
    "\n",
    "for row in pokemon_stats:\n",
    "    avgs.append(np.mean(row))\n"
   ]
  },
  {
   "cell_type": "code",
   "execution_count": 35,
   "id": "broadband-telephone",
   "metadata": {},
   "outputs": [
    {
     "name": "stdout",
     "output_type": "stream",
     "text": [
      "5.02 µs ± 45.9 ns per loop (mean ± std. dev. of 7 runs, 100000 loops each)\n"
     ]
    }
   ],
   "source": [
    "%%timeit \n",
    "avgs_np = pokemon_stats.mean(axis=1)"
   ]
  },
  {
   "cell_type": "code",
   "execution_count": null,
   "id": "controlling-cotton",
   "metadata": {},
   "outputs": [],
   "source": []
  }
 ],
 "metadata": {
  "kernelspec": {
   "display_name": "Python 3",
   "language": "python",
   "name": "python3"
  },
  "language_info": {
   "codemirror_mode": {
    "name": "ipython",
    "version": 3
   },
   "file_extension": ".py",
   "mimetype": "text/x-python",
   "name": "python",
   "nbconvert_exporter": "python",
   "pygments_lexer": "ipython3",
   "version": "3.8.6rc1"
  }
 },
 "nbformat": 4,
 "nbformat_minor": 5
}
