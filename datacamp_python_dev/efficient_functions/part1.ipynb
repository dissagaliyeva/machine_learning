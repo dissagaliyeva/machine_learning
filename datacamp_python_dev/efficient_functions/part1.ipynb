{
 "cells": [
  {
   "cell_type": "markdown",
   "metadata": {
    "collapsed": true,
    "pycharm": {
     "name": "#%% md\n"
    }
   },
   "source": [
    "# Efficient Python Practices\n",
    "* Built-in functions (range, enumerate, map)\n",
    "* Examining runtime"
   ]
  },
  {
   "cell_type": "code",
   "execution_count": 1,
   "metadata": {},
   "outputs": [],
   "source": [
    "%load_ext line_profiler\n",
    "import numpy as np"
   ]
  },
  {
   "cell_type": "code",
   "execution_count": 12,
   "metadata": {},
   "outputs": [],
   "source": [
    "%load_ext memory_profiler"
   ]
  },
  {
   "cell_type": "code",
   "execution_count": 2,
   "metadata": {
    "pycharm": {
     "name": "#%%\n"
    }
   },
   "outputs": [
    {
     "name": "stdout",
     "output_type": "stream",
     "text": [
      "<class 'range'>\n",
      "[0, 1, 2, 3, 4, 5]\n",
      "[1, 3, 5, 7, 9, 11]\n"
     ]
    }
   ],
   "source": [
    "# ==== RANGE ====\n",
    "# Create a range object that goes from 0 to 5\n",
    "nums = range(6)\n",
    "print(type(nums))\n",
    "\n",
    "# Convert nums to a list\n",
    "nums_list = list(nums)\n",
    "print(nums_list)\n",
    "\n",
    "# Create a new list of odd numbers from 1 to 11 by unpacking a range object\n",
    "nums_list2 = [*range(1,12,2)]\n",
    "print(nums_list2)"
   ]
  },
  {
   "cell_type": "code",
   "execution_count": 3,
   "metadata": {
    "pycharm": {
     "name": "#%%\n"
    }
   },
   "outputs": [
    {
     "name": "stdout",
     "output_type": "stream",
     "text": [
      "[(1, 'Finn'), (2, 'Noah'), (3, 'Millie'), (4, 'Caleb'), (5, 'Gaten')]\n",
      "[(1, 'Finn'), (2, 'Noah'), (3, 'Millie'), (4, 'Caleb'), (5, 'Gaten')]\n",
      "[['Finn', 'Noah', 'Millie', 'Caleb', 'Gaten'], 1]\n"
     ]
    }
   ],
   "source": [
    "# ==== ENUMERATE ====\n",
    "# Rewrite the for loop to use enumerate\n",
    "names = ['Finn', 'Noah', 'Millie', 'Caleb', 'Gaten']\n",
    "indexed_names = []\n",
    "for idx,name in enumerate(names, start=1):\n",
    "    index_name = (idx,name)\n",
    "    indexed_names.append(index_name)\n",
    "print(indexed_names)\n",
    "\n",
    "# Rewrite the above for loop using list comprehension\n",
    "indexed_names_comp = [(i,name) for i,name in enumerate(names, start=1)]\n",
    "print(indexed_names_comp)\n",
    "\n",
    "# Unpack an enumerate object with a starting index of one\n",
    "indexed_names_unpack = [*(names, 1)]\n",
    "print(indexed_names_unpack)"
   ]
  },
  {
   "cell_type": "code",
   "execution_count": 4,
   "metadata": {
    "pycharm": {
     "name": "#%%\n"
    }
   },
   "outputs": [
    {
     "name": "stdout",
     "output_type": "stream",
     "text": [
      "<class 'map'>\n",
      "['FINN', 'NOAH', 'MILLIE', 'CALEB', 'GATEN']\n"
     ]
    }
   ],
   "source": [
    "# ==== MAP ====\n",
    "# Use map to apply str.upper to each element in names\n",
    "names_map  = map(lambda x: x.upper(), names)\n",
    "\n",
    "# Print the type of the names_map\n",
    "print(type(names_map))\n",
    "\n",
    "# Unpack names_map into a list\n",
    "names_uppercase = [*names_map]\n",
    "\n",
    "# Print the list created above\n",
    "print(names_uppercase)"
   ]
  },
  {
   "cell_type": "code",
   "execution_count": 2,
   "metadata": {
    "pycharm": {
     "name": "#%%\n"
    }
   },
   "outputs": [
    {
     "name": "stdout",
     "output_type": "stream",
     "text": [
      "6.77 µs ± 75.6 ns per loop (mean ± std. dev. of 7 runs, 100000 loops each)\n",
      "30.5 µs ± 3.56 µs per loop (mean ± std. dev. of 2 runs, 10 loops each)\n"
     ]
    }
   ],
   "source": [
    "# ==== RUNTIME ====\n",
    "\n",
    "%timeit rand_nums = np.random.rand(1000)\n",
    "\n",
    "# set # of runs to 2 = -r2\n",
    "# set # of loops to 10 = -n10\n",
    "%timeit -r2 -n10 rand_nums = np.random.rand(1000)"
   ]
  },
  {
   "cell_type": "code",
   "execution_count": 8,
   "metadata": {
    "pycharm": {
     "name": "#%%\n"
    }
   },
   "outputs": [
    {
     "name": "stdout",
     "output_type": "stream",
     "text": [
      "580 ns ± 3.97 ns per loop (mean ± std. dev. of 7 runs, 1000000 loops each)\n"
     ]
    }
   ],
   "source": [
    "%%timeit\n",
    "# using %%timeit will test the whole cell\n",
    "nums = []\n",
    "for x in range(10):\n",
    "    nums.append(x)"
   ]
  },
  {
   "cell_type": "code",
   "execution_count": 10,
   "metadata": {
    "pycharm": {
     "name": "#%%\n"
    }
   },
   "outputs": [
    {
     "name": "stdout",
     "output_type": "stream",
     "text": [
      "6.77 µs ± 197 ns per loop (mean ± std. dev. of 7 runs, 100000 loops each)\n",
      "6.57 µs ± 58.8 ns per loop (mean ± std. dev. of 7 runs, 100000 loops each)\n"
     ]
    }
   ],
   "source": [
    "# saving the results\n",
    "times = %timeit -o rand_nums = np.random.rand(1000)\n"
   ]
  },
  {
   "cell_type": "code",
   "execution_count": 11,
   "metadata": {
    "pycharm": {
     "name": "#%%\n"
    }
   },
   "outputs": [
    {
     "name": "stdout",
     "output_type": "stream",
     "text": [
      "[6.608651999999893e-06, 6.536086000000978e-06, 6.638640000001032e-06, 6.537389000000076e-06, 6.660041000000092e-06, 6.553192999999738e-06, 6.483460000001742e-06]\n",
      "6.483460000001742e-06\n",
      "6.660041000000092e-06\n"
     ]
    }
   ],
   "source": [
    "print(times.timings)\n",
    "print(times.best)\n",
    "print(times.worst)"
   ]
  },
  {
   "cell_type": "markdown",
   "metadata": {
    "pycharm": {
     "name": "#%% md\n"
    }
   },
   "source": [
    "### Code profiling\n",
    "Gives detailed stats on frequency and duration of function calls & line-by-line analysis. Need to run\n",
    "```\n",
    "pip install line_profiler\n",
    "```\n"
   ]
  },
  {
   "cell_type": "code",
   "execution_count": 5,
   "metadata": {
    "pycharm": {
     "name": "#%%\n"
    }
   },
   "outputs": [],
   "source": [
    "heroes = ['Batman', 'Superman', 'Wonder Woman']\n",
    "heights = np.array([188.0, 191.0, 183.0])\n",
    "weights = np.array([95.0, 101.0, 74.0])\n",
    "\n",
    "def convert_units(heroes, heights, weights):\n",
    "    new_heights = [ht * 0.39370 for ht in heights]\n",
    "    new_weights = [wt * 2.20462 for wt in weights]\n",
    "\n",
    "    hero_data = {}\n",
    "\n",
    "    for idx, hero in enumerate(heroes):\n",
    "        hero_data[hero] = (new_heights[idx], new_weights[idx])\n",
    "    return hero_data\n"
   ]
  },
  {
   "cell_type": "code",
   "execution_count": 8,
   "metadata": {
    "pycharm": {
     "name": "#%%\n"
    }
   },
   "outputs": [],
   "source": [
    "%lprun -f convert_units convert_units(heroes, heights, weights)"
   ]
  },
  {
   "cell_type": "code",
   "execution_count": 9,
   "metadata": {
    "pycharm": {
     "name": "#%%\n"
    }
   },
   "outputs": [],
   "source": [
    "def convert_units_broadcast(heroes, heights, weights):\n",
    "\n",
    "    # Array broadcasting instead of list comprehension\n",
    "    new_hts = heights * 0.39370\n",
    "    new_wts = weights * 2.20462\n",
    "\n",
    "    hero_data = {}\n",
    "\n",
    "    for i,hero in enumerate(heroes):\n",
    "        hero_data[hero] = (new_hts[i], new_wts[i])\n",
    "\n",
    "    return hero_data"
   ]
  },
  {
   "cell_type": "code",
   "execution_count": 10,
   "metadata": {},
   "outputs": [],
   "source": [
    "%lprun -f convert_units_broadcast convert_units_broadcast(heroes, heights, weights)"
   ]
  },
  {
   "cell_type": "markdown",
   "metadata": {},
   "source": [
    "### Code profiling for memory usage\n",
    "```\n",
    "# option 1\n",
    "import sys\n",
    "sys.getsizeof(X)\n",
    "\n",
    "# option 2\n",
    "pip install memory_profiler\n",
    "%load_ext memory_profiler\n",
    "%mprun -f func_name func_name(*args)\n",
    "```\n",
    "**Drawback of memory_profiler** is that it can *only* be used with physical files but not the functions defined in the notebook. "
   ]
  },
  {
   "cell_type": "code",
   "execution_count": 11,
   "metadata": {},
   "outputs": [
    {
     "data": {
      "text/plain": [
       "9104"
      ]
     },
     "execution_count": 11,
     "metadata": {},
     "output_type": "execute_result"
    }
   ],
   "source": [
    "import sys\n",
    "num_list = [*range(1000)]\n",
    "sys.getsizeof(num_list)"
   ]
  },
  {
   "cell_type": "code",
   "execution_count": 13,
   "metadata": {},
   "outputs": [
    {
     "name": "stdout",
     "output_type": "stream",
     "text": [
      "ERROR: Could not find file <ipython-input-9-097b3089decf>\n",
      "NOTE: %mprun can only be used on functions defined in physical files, and not in the IPython environment.\n",
      "\n"
     ]
    }
   ],
   "source": [
    "# will throw error\n",
    "%mprun -f convert_units_broadcast convert_units_broadcast(heroes, heights, weights)"
   ]
  },
  {
   "cell_type": "code",
   "execution_count": 15,
   "metadata": {},
   "outputs": [
    {
     "name": "stdout",
     "output_type": "stream",
     "text": [
      "\n"
     ]
    }
   ],
   "source": [
    "from hero_funcs import convert_units\n",
    "\n",
    "%mprun -f convert_units convert_units(heroes, heights, weights)"
   ]
  },
  {
   "cell_type": "code",
   "execution_count": null,
   "metadata": {},
   "outputs": [],
   "source": []
  }
 ],
 "metadata": {
  "kernelspec": {
   "display_name": "Python 3",
   "language": "python",
   "name": "python3"
  },
  "language_info": {
   "codemirror_mode": {
    "name": "ipython",
    "version": 3
   },
   "file_extension": ".py",
   "mimetype": "text/x-python",
   "name": "python",
   "nbconvert_exporter": "python",
   "pygments_lexer": "ipython3",
   "version": "3.8.6rc1"
  }
 },
 "nbformat": 4,
 "nbformat_minor": 1
}