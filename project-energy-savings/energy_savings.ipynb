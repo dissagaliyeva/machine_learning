{
 "cells": [
  {
   "cell_type": "markdown",
   "metadata": {
    "collapsed": true,
    "pycharm": {
     "name": "#%% md\n"
    }
   },
   "source": [
    "## Energy saved from recycling\n",
    "---\n",
    "\n",
    "**Project Description**\n",
    "Did you know that recycling saves energy by reducing or eliminating the need to make materials from scratch? For example, aluminum can manufacturers can skip the energy-costly process of producing aluminum from ore by cleaning and melting recycled cans. Aluminum is classified as a non-ferrous metal.\n",
    "\n",
    "Singapore has an ambitious goal of becoming a zero-waste nation. The amount of waste disposed of in Singapore has increased seven-fold over the last 40 years. At this rate, Semakau Landfill, Singapore’s only landfill, will run out of space by 2035. Making matters worse, Singapore has limited land for building new incineration plants or landfills.\n",
    "\n",
    "The government would like to motivate citizens by sharing the total energy that the combined recycling efforts have saved every year. They have asked you to help them.\n",
    "\n",
    "You have been provided with three datasets. The data come from different teams, so the names of waste types may differ.\n",
    "<img src=\"images/waste_stats.png\" width=\"400px\"/>\n",
    "\n",
    "**Question to answer**:<br>\n",
    "How much energy in kiloWatt hour (kWh) has Singapore saved per year by recycling glass, plastic, ferrous, and non-ferrous metals between 2015 and 2019?"
   ]
  },
  {
   "cell_type": "markdown",
   "source": [
    "### Table of Contents:\n",
    "* [Get to know the datasets](#get_to_know)\n",
    "* [Clean data](#clean)\n",
    "\n",
    "\n"
   ],
   "metadata": {
    "collapsed": false,
    "pycharm": {
     "name": "#%% md\n"
    }
   }
  },
  {
   "cell_type": "markdown",
   "source": [
    "### Get to know the datasets <a class=\"anchor\" id=\"get_to_know\"/>\n",
    "With the information given above, we see that two datasets (2003-2017 and 2018-2019) have different column names. However, some of them are identical. What I want to do is to check the datasets' contents, metrics, missing values, and similarities. If they end up being on the same scale, we will be able to merge them to form one datasets that stores values from 2003 to 2019.\n",
    "\n",
    "From the first sight, we can relate the following columns (left: 2003-2017, right: 2018-2019):<br>\n",
    "waste_type = Waste Type <br>\n",
    "total_waste_recycle_tonne = Total Recycled <br>\n",
    "total_waste_generated = Total Generated <br>\n",
    "year = Year <br>\n",
    "\n",
    "Let's check if that's the case!"
   ],
   "metadata": {
    "collapsed": false,
    "pycharm": {
     "name": "#%% md\n"
    }
   }
  },
  {
   "cell_type": "code",
   "execution_count": 17,
   "outputs": [],
   "source": [
    "# import packages\n",
    "import re\n",
    "import numpy as np\n",
    "import pandas as pd\n",
    "import seaborn as sns\n",
    "import matplotlib.pyplot as plt\n",
    "\n",
    "sns.set()"
   ],
   "metadata": {
    "collapsed": false,
    "pycharm": {
     "name": "#%%\n"
    }
   }
  },
  {
   "cell_type": "code",
   "execution_count": 2,
   "outputs": [],
   "source": [
    "# load data\n",
    "stats2003_2017 = pd.read_csv('datasets/wastestats.csv')\n",
    "stats2018_2019 = pd.read_csv('datasets/2018_2019_waste.csv')\n",
    "\n",
    "# we need to skip the first three rows since it includes description\n",
    "energy_saved = pd.read_csv('datasets/energy_saved.csv', skiprows=3, index_col=0)\n"
   ],
   "metadata": {
    "collapsed": false,
    "pycharm": {
     "name": "#%%\n"
    }
   }
  },
  {
   "cell_type": "code",
   "execution_count": 4,
   "outputs": [
    {
     "data": {
      "text/plain": "        waste_type  waste_disposed_of_tonne  total_waste_recycled_tonne  \\\n0             Food                   679900                    111100.0   \n1  Paper/Cardboard                   576000                    607100.0   \n2         Plastics                   762700                     59500.0   \n\n   total_waste_generated_tonne  recycling_rate  year  \n0                       791000            0.14  2016  \n1                      1183100            0.51  2016  \n2                       822200            0.07  2016  ",
      "text/html": "<div>\n<style scoped>\n    .dataframe tbody tr th:only-of-type {\n        vertical-align: middle;\n    }\n\n    .dataframe tbody tr th {\n        vertical-align: top;\n    }\n\n    .dataframe thead th {\n        text-align: right;\n    }\n</style>\n<table border=\"1\" class=\"dataframe\">\n  <thead>\n    <tr style=\"text-align: right;\">\n      <th></th>\n      <th>waste_type</th>\n      <th>waste_disposed_of_tonne</th>\n      <th>total_waste_recycled_tonne</th>\n      <th>total_waste_generated_tonne</th>\n      <th>recycling_rate</th>\n      <th>year</th>\n    </tr>\n  </thead>\n  <tbody>\n    <tr>\n      <th>0</th>\n      <td>Food</td>\n      <td>679900</td>\n      <td>111100.0</td>\n      <td>791000</td>\n      <td>0.14</td>\n      <td>2016</td>\n    </tr>\n    <tr>\n      <th>1</th>\n      <td>Paper/Cardboard</td>\n      <td>576000</td>\n      <td>607100.0</td>\n      <td>1183100</td>\n      <td>0.51</td>\n      <td>2016</td>\n    </tr>\n    <tr>\n      <th>2</th>\n      <td>Plastics</td>\n      <td>762700</td>\n      <td>59500.0</td>\n      <td>822200</td>\n      <td>0.07</td>\n      <td>2016</td>\n    </tr>\n  </tbody>\n</table>\n</div>"
     },
     "execution_count": 4,
     "metadata": {},
     "output_type": "execute_result"
    }
   ],
   "source": [
    "# show first three rows\n",
    "stats2003_2017.head(3)"
   ],
   "metadata": {
    "collapsed": false,
    "pycharm": {
     "name": "#%%\n"
    }
   }
  },
  {
   "cell_type": "code",
   "execution_count": 5,
   "outputs": [
    {
     "data": {
      "text/plain": "                 Waste Type  Total Generated ('000 tonnes)  \\\n0  Construction& Demolition                           1440   \n1             Ferrous Metal                           1278   \n2           Paper/Cardboard                           1011   \n\n   Total Recycled ('000 tonnes)  Year  \n0                          1434  2019  \n1                          1270  2019  \n2                           449  2019  ",
      "text/html": "<div>\n<style scoped>\n    .dataframe tbody tr th:only-of-type {\n        vertical-align: middle;\n    }\n\n    .dataframe tbody tr th {\n        vertical-align: top;\n    }\n\n    .dataframe thead th {\n        text-align: right;\n    }\n</style>\n<table border=\"1\" class=\"dataframe\">\n  <thead>\n    <tr style=\"text-align: right;\">\n      <th></th>\n      <th>Waste Type</th>\n      <th>Total Generated ('000 tonnes)</th>\n      <th>Total Recycled ('000 tonnes)</th>\n      <th>Year</th>\n    </tr>\n  </thead>\n  <tbody>\n    <tr>\n      <th>0</th>\n      <td>Construction&amp; Demolition</td>\n      <td>1440</td>\n      <td>1434</td>\n      <td>2019</td>\n    </tr>\n    <tr>\n      <th>1</th>\n      <td>Ferrous Metal</td>\n      <td>1278</td>\n      <td>1270</td>\n      <td>2019</td>\n    </tr>\n    <tr>\n      <th>2</th>\n      <td>Paper/Cardboard</td>\n      <td>1011</td>\n      <td>449</td>\n      <td>2019</td>\n    </tr>\n  </tbody>\n</table>\n</div>"
     },
     "execution_count": 5,
     "metadata": {},
     "output_type": "execute_result"
    }
   ],
   "source": [
    "# show first three rows\n",
    "stats2018_2019.head(3)"
   ],
   "metadata": {
    "collapsed": false,
    "pycharm": {
     "name": "#%%\n"
    }
   }
  },
  {
   "cell_type": "code",
   "execution_count": 6,
   "outputs": [
    {
     "data": {
      "text/plain": "                    Plastic   Glass Ferrous Metal Non-Ferrous Metal  \\\nmaterial                                                              \nenergy_saved       5774 Kwh  42 Kwh       642 Kwh         14000 Kwh   \ncrude_oil saved  16 barrels     NaN   1.8 barrels        40 barrels   \n\n                       Paper  \nmaterial                      \nenergy_saved        4000 kWh  \ncrude_oil saved  1.7 barrels  ",
      "text/html": "<div>\n<style scoped>\n    .dataframe tbody tr th:only-of-type {\n        vertical-align: middle;\n    }\n\n    .dataframe tbody tr th {\n        vertical-align: top;\n    }\n\n    .dataframe thead th {\n        text-align: right;\n    }\n</style>\n<table border=\"1\" class=\"dataframe\">\n  <thead>\n    <tr style=\"text-align: right;\">\n      <th></th>\n      <th>Plastic</th>\n      <th>Glass</th>\n      <th>Ferrous Metal</th>\n      <th>Non-Ferrous Metal</th>\n      <th>Paper</th>\n    </tr>\n    <tr>\n      <th>material</th>\n      <th></th>\n      <th></th>\n      <th></th>\n      <th></th>\n      <th></th>\n    </tr>\n  </thead>\n  <tbody>\n    <tr>\n      <th>energy_saved</th>\n      <td>5774 Kwh</td>\n      <td>42 Kwh</td>\n      <td>642 Kwh</td>\n      <td>14000 Kwh</td>\n      <td>4000 kWh</td>\n    </tr>\n    <tr>\n      <th>crude_oil saved</th>\n      <td>16 barrels</td>\n      <td>NaN</td>\n      <td>1.8 barrels</td>\n      <td>40 barrels</td>\n      <td>1.7 barrels</td>\n    </tr>\n  </tbody>\n</table>\n</div>"
     },
     "execution_count": 6,
     "metadata": {},
     "output_type": "execute_result"
    }
   ],
   "source": [
    "energy_saved\n"
   ],
   "metadata": {
    "collapsed": false,
    "pycharm": {
     "name": "#%%\n"
    }
   }
  },
  {
   "cell_type": "markdown",
   "source": [
    "### Clean Data <a class=\"anchor\" id=\"clean\"/>\n",
    "\n",
    "**Structures** of the 2003-2017 and 2018-2019 are pretty much the same. However, if we look at unique values, we see the first has duplications. Therefore, let's take care of it."
   ],
   "metadata": {
    "collapsed": false,
    "pycharm": {
     "name": "#%% md\n"
    }
   }
  },
  {
   "cell_type": "code",
   "execution_count": 7,
   "outputs": [
    {
     "name": "stdout",
     "output_type": "stream",
     "text": [
      "2003-2017 has 32 types of waste:\n",
      " ['Food' 'Paper/Cardboard' 'Plastics' 'C&D' 'Horticultural waste' 'Wood'\n",
      " 'Ferrous metal' 'Non-ferrous metal' 'Used slag' 'Ash & Sludge' 'Glass'\n",
      " 'Textile/Leather' 'Scrap tyres' 'Others (stones, ceramics & rubber etc.)'\n",
      " 'Total' 'Others (stones, ceramics & rubber etc)' 'Food waste'\n",
      " 'Construction Debris' 'Wood/Timber' 'Horticultural Waste' 'Ferrous Metal'\n",
      " 'Non-ferrous Metals' 'Used Slag' 'Sludge' 'Scrap Tyres' 'Ferrous Metals'\n",
      " 'Others' 'Construction debris' 'Non-ferrous metals' 'Ash and sludge'\n",
      " 'Plastic' 'Others (stones, ceramic, rubber, etc.)']\n",
      "\n",
      "=============\n",
      "\n",
      "2018-2019 has 15 types of waste:\n",
      " ['Construction& Demolition' 'Ferrous Metal' 'Paper/Cardboard' 'Plastics'\n",
      " 'Food' 'Wood' 'Horticultural' 'Ash & Sludge' 'Textile/Leather'\n",
      " 'Used Slag' 'Non-Ferrous Metal' 'Glass' 'Scrap Tyres'\n",
      " 'Others (stones, ceramic, rubber, ect)' 'Overall']\n"
     ]
    }
   ],
   "source": [
    "unique_waste2003_2017 = stats2003_2017['waste_type'].unique()\n",
    "unique_waste2018_2019 = stats2018_2019['Waste Type'].unique()\n",
    "\n",
    "print(f'2003-2017 has {len(unique_waste2003_2017)} types of waste:\\n', unique_waste2003_2017)\n",
    "print('\\n=============\\n')\n",
    "print(f'2018-2019 has {len(unique_waste2018_2019)} types of waste:\\n', unique_waste2018_2019)\n"
   ],
   "metadata": {
    "collapsed": false,
    "pycharm": {
     "name": "#%%\n"
    }
   }
  },
  {
   "cell_type": "code",
   "execution_count": 8,
   "outputs": [
    {
     "name": "stdout",
     "output_type": "stream",
     "text": [
      "Common:\n",
      "['Glass', 'Used Slag', 'Scrap Tyres', 'Food', 'Wood', 'Ferrous Metal', 'Ash & Sludge', 'Paper/Cardboard', 'Plastics', 'Textile/Leather']\n",
      "\n",
      "=============\n",
      "\n",
      "Difference:\n",
      "['Non-ferrous Metals', 'Others', 'C&D', 'Sludge', 'Scrap tyres', 'Ash and sludge', 'Plastic', 'Non-ferrous metal', 'Construction Debris', 'Non-ferrous metals', 'Wood/Timber', 'Horticultural waste', 'Total', 'Food waste', 'Others (stones, ceramics & rubber etc)', 'Construction debris', 'Horticultural Waste', 'Others (stones, ceramic, rubber, etc.)', 'Others (stones, ceramics & rubber etc.)', 'Used slag', 'Ferrous Metals', 'Ferrous metal']\n"
     ]
    }
   ],
   "source": [
    "# print what they have in common\n",
    "print('Common:')\n",
    "print(list(set(unique_waste2003_2017).intersection(set(unique_waste2018_2019))))\n",
    "\n",
    "print('\\n=============\\n')\n",
    "\n",
    "# print how they differ\n",
    "print('Difference:')\n",
    "print(list(set(unique_waste2003_2017).difference(set(unique_waste2018_2019))))\n"
   ],
   "metadata": {
    "collapsed": false,
    "pycharm": {
     "name": "#%%\n"
    }
   }
  },
  {
   "cell_type": "code",
   "execution_count": 10,
   "outputs": [],
   "source": [
    "def replace(name):\n",
    "    \"\"\"\n",
    "    This function cleans up the waste types' names.\n",
    "        name: Name that needs to be taken care of\n",
    "    returns: Prettified representation of the class name\n",
    "    \"\"\"\n",
    "    name = re.sub('[\\.]+', '', name.lower())\n",
    "    name = name.replace('  ', ' ').replace('and', '&').replace('overall', 'total')\n",
    "    if name.startswith('construction') or name.startswith('c&d'):\n",
    "        name = 'construction & demolition'\n",
    "    elif name.startswith('others'):\n",
    "        name = 'others (stones, ceramics & rubber etc.)'\n",
    "    elif name.startswith('plastic'):\n",
    "        name = 'plastics'\n",
    "    elif name.startswith('horticultural'):\n",
    "        name = 'horticultural'\n",
    "    elif name.startswith('non-ferrous'):\n",
    "        name = 'non-ferrous metal'\n",
    "    elif name.startswith('food'):\n",
    "        name = 'food'\n",
    "    elif name.startswith('ferrous'):\n",
    "        name = 'ferrous'\n",
    "    elif name.startswith('wood'):\n",
    "        name = 'wood'\n",
    "    elif name.startswith('sludge'):\n",
    "        name = 'ash & sludge'\n",
    "\n",
    "    return name.title()\n",
    "\n",
    "\n",
    "# apply transformations\n",
    "stats2003_2017['waste_type'] = stats2003_2017['waste_type'].apply(replace)\n",
    "stats2018_2019['Waste Type'] = stats2018_2019['Waste Type'].apply(replace)\n",
    "\n",
    "# get unique values once again\n",
    "unique_waste2003_2017 = stats2003_2017['waste_type'].unique()\n",
    "unique_waste2018_2019 = stats2018_2019['Waste Type'].unique()\n",
    "\n",
    "# verify there is no difference in waste types\n",
    "assert set(unique_waste2003_2017) == set(unique_waste2018_2019)"
   ],
   "metadata": {
    "collapsed": false,
    "pycharm": {
     "name": "#%%\n"
    }
   }
  },
  {
   "cell_type": "code",
   "execution_count": 11,
   "outputs": [
    {
     "name": "stdout",
     "output_type": "stream",
     "text": [
      "<class 'pandas.core.frame.DataFrame'>\n",
      "RangeIndex: 225 entries, 0 to 224\n",
      "Data columns (total 6 columns):\n",
      " #   Column                       Non-Null Count  Dtype  \n",
      "---  ------                       --------------  -----  \n",
      " 0   waste_type                   225 non-null    object \n",
      " 1   waste_disposed_of_tonne      225 non-null    int64  \n",
      " 2   total_waste_recycled_tonne   225 non-null    float64\n",
      " 3   total_waste_generated_tonne  225 non-null    int64  \n",
      " 4   recycling_rate               225 non-null    float64\n",
      " 5   year                         225 non-null    int64  \n",
      "dtypes: float64(2), int64(3), object(1)\n",
      "memory usage: 10.7+ KB\n",
      "None\n",
      "\n",
      "=============\n",
      "\n",
      "<class 'pandas.core.frame.DataFrame'>\n",
      "RangeIndex: 30 entries, 0 to 29\n",
      "Data columns (total 4 columns):\n",
      " #   Column                         Non-Null Count  Dtype \n",
      "---  ------                         --------------  ----- \n",
      " 0   Waste Type                     30 non-null     object\n",
      " 1   Total Generated ('000 tonnes)  30 non-null     int64 \n",
      " 2   Total Recycled ('000 tonnes)   30 non-null     int64 \n",
      " 3   Year                           30 non-null     int64 \n",
      "dtypes: int64(3), object(1)\n",
      "memory usage: 1.1+ KB\n",
      "None\n"
     ]
    }
   ],
   "source": [
    "print(stats2003_2017.info())\n",
    "\n",
    "print('\\n=============\\n')\n",
    "\n",
    "print(stats2018_2019.info())\n"
   ],
   "metadata": {
    "collapsed": false,
    "pycharm": {
     "name": "#%%\n"
    }
   }
  },
  {
   "cell_type": "markdown",
   "source": [
    "It's safe to alter the datasets by changing their names as well as adding more columns to the 2018-2019 columns"
   ],
   "metadata": {
    "collapsed": false,
    "pycharm": {
     "name": "#%% md\n"
    }
   }
  },
  {
   "cell_type": "code",
   "execution_count": 12,
   "outputs": [
    {
     "data": {
      "text/plain": "                  Waste Type  Total Disposed (thousands)  \\\n0                       Food                       679.9   \n1            Paper/Cardboard                       576.0   \n2                   Plastics                       762.7   \n3  Construction & Demolition                         9.7   \n4              Horticultural                       111.5   \n\n   Total Recycled (thousands)  Total Generated (thousands)  Recycling Rate  \\\n0                       111.1                        791.0            0.14   \n1                       607.1                       1183.1            0.51   \n2                        59.5                        822.2            0.07   \n3                      1585.7                       1595.4            0.99   \n4                       209.0                        320.5            0.65   \n\n   Year  \n0  2016  \n1  2016  \n2  2016  \n3  2016  \n4  2016  ",
      "text/html": "<div>\n<style scoped>\n    .dataframe tbody tr th:only-of-type {\n        vertical-align: middle;\n    }\n\n    .dataframe tbody tr th {\n        vertical-align: top;\n    }\n\n    .dataframe thead th {\n        text-align: right;\n    }\n</style>\n<table border=\"1\" class=\"dataframe\">\n  <thead>\n    <tr style=\"text-align: right;\">\n      <th></th>\n      <th>Waste Type</th>\n      <th>Total Disposed (thousands)</th>\n      <th>Total Recycled (thousands)</th>\n      <th>Total Generated (thousands)</th>\n      <th>Recycling Rate</th>\n      <th>Year</th>\n    </tr>\n  </thead>\n  <tbody>\n    <tr>\n      <th>0</th>\n      <td>Food</td>\n      <td>679.9</td>\n      <td>111.1</td>\n      <td>791.0</td>\n      <td>0.14</td>\n      <td>2016</td>\n    </tr>\n    <tr>\n      <th>1</th>\n      <td>Paper/Cardboard</td>\n      <td>576.0</td>\n      <td>607.1</td>\n      <td>1183.1</td>\n      <td>0.51</td>\n      <td>2016</td>\n    </tr>\n    <tr>\n      <th>2</th>\n      <td>Plastics</td>\n      <td>762.7</td>\n      <td>59.5</td>\n      <td>822.2</td>\n      <td>0.07</td>\n      <td>2016</td>\n    </tr>\n    <tr>\n      <th>3</th>\n      <td>Construction &amp; Demolition</td>\n      <td>9.7</td>\n      <td>1585.7</td>\n      <td>1595.4</td>\n      <td>0.99</td>\n      <td>2016</td>\n    </tr>\n    <tr>\n      <th>4</th>\n      <td>Horticultural</td>\n      <td>111.5</td>\n      <td>209.0</td>\n      <td>320.5</td>\n      <td>0.65</td>\n      <td>2016</td>\n    </tr>\n  </tbody>\n</table>\n</div>"
     },
     "execution_count": 12,
     "metadata": {},
     "output_type": "execute_result"
    }
   ],
   "source": [
    "COLUMNS = ['Waste Type', 'Total Disposed (thousands)', 'Total Recycled (thousands)',\n",
    "                'Total Generated (thousands)', 'Recycling Rate', 'Year']\n",
    "\n",
    "#\n",
    "stats2003_2017.columns = COLUMNS\n",
    "stats2003_2017[['Total Disposed (thousands)', 'Total Recycled (thousands)', 'Total Generated (thousands)']] /= 1000\n",
    "\n",
    "# check first 5 entries\n",
    "stats2003_2017.head()"
   ],
   "metadata": {
    "collapsed": false,
    "pycharm": {
     "name": "#%%\n"
    }
   }
  },
  {
   "cell_type": "code",
   "execution_count": 14,
   "outputs": [
    {
     "data": {
      "text/plain": "                  Waste Type  Total Generated ('000 tonnes)  \\\n0  Construction & Demolition                           1440   \n1                    Ferrous                           1278   \n2            Paper/Cardboard                           1011   \n3                   Plastics                            930   \n4                       Food                           7440   \n\n   Total Recycled ('000 tonnes)  Year  Total Disposed (thousands)  \\\n0                          1434  2019                           6   \n1                          1270  2019                           8   \n2                           449  2019                         562   \n3                            37  2019                         893   \n4                           136  2019                        7304   \n\n   Recycling Rate  \n0           0.996  \n1           0.994  \n2           0.444  \n3           0.040  \n4           0.018  ",
      "text/html": "<div>\n<style scoped>\n    .dataframe tbody tr th:only-of-type {\n        vertical-align: middle;\n    }\n\n    .dataframe tbody tr th {\n        vertical-align: top;\n    }\n\n    .dataframe thead th {\n        text-align: right;\n    }\n</style>\n<table border=\"1\" class=\"dataframe\">\n  <thead>\n    <tr style=\"text-align: right;\">\n      <th></th>\n      <th>Waste Type</th>\n      <th>Total Generated ('000 tonnes)</th>\n      <th>Total Recycled ('000 tonnes)</th>\n      <th>Year</th>\n      <th>Total Disposed (thousands)</th>\n      <th>Recycling Rate</th>\n    </tr>\n  </thead>\n  <tbody>\n    <tr>\n      <th>0</th>\n      <td>Construction &amp; Demolition</td>\n      <td>1440</td>\n      <td>1434</td>\n      <td>2019</td>\n      <td>6</td>\n      <td>0.996</td>\n    </tr>\n    <tr>\n      <th>1</th>\n      <td>Ferrous</td>\n      <td>1278</td>\n      <td>1270</td>\n      <td>2019</td>\n      <td>8</td>\n      <td>0.994</td>\n    </tr>\n    <tr>\n      <th>2</th>\n      <td>Paper/Cardboard</td>\n      <td>1011</td>\n      <td>449</td>\n      <td>2019</td>\n      <td>562</td>\n      <td>0.444</td>\n    </tr>\n    <tr>\n      <th>3</th>\n      <td>Plastics</td>\n      <td>930</td>\n      <td>37</td>\n      <td>2019</td>\n      <td>893</td>\n      <td>0.040</td>\n    </tr>\n    <tr>\n      <th>4</th>\n      <td>Food</td>\n      <td>7440</td>\n      <td>136</td>\n      <td>2019</td>\n      <td>7304</td>\n      <td>0.018</td>\n    </tr>\n  </tbody>\n</table>\n</div>"
     },
     "execution_count": 14,
     "metadata": {},
     "output_type": "execute_result"
    }
   ],
   "source": [
    "disposed = stats2018_2019['Total Generated (\\'000 tonnes)'] - stats2018_2019['Total Recycled (\\'000 tonnes)']\n",
    "recycling_rate = round(stats2018_2019['Total Recycled (\\'000 tonnes)'] / stats2018_2019['Total Generated (\\'000 tonnes)'], 3)\n",
    "\n",
    "# add missing columns\n",
    "stats2018_2019['Total Disposed (thousands)'] = disposed\n",
    "stats2018_2019['Recycling Rate'] = recycling_rate\n",
    "stats2018_2019.head()\n"
   ],
   "metadata": {
    "collapsed": false,
    "pycharm": {
     "name": "#%%\n"
    }
   }
  },
  {
   "cell_type": "code",
   "execution_count": 15,
   "outputs": [
    {
     "data": {
      "text/plain": "                  Waste Type  Total Disposed (thousands)  \\\n0  Construction & Demolition                           6   \n1                    Ferrous                           8   \n2            Paper/Cardboard                         562   \n3                   Plastics                         893   \n4                       Food                        7304   \n\n   Total Recycled (thousands)  Total Generated (thousands)  Recycling Rate  \\\n0                        1434                         1440           0.996   \n1                        1270                         1278           0.994   \n2                         449                         1011           0.444   \n3                          37                          930           0.040   \n4                         136                         7440           0.018   \n\n   Year  \n0  2019  \n1  2019  \n2  2019  \n3  2019  \n4  2019  ",
      "text/html": "<div>\n<style scoped>\n    .dataframe tbody tr th:only-of-type {\n        vertical-align: middle;\n    }\n\n    .dataframe tbody tr th {\n        vertical-align: top;\n    }\n\n    .dataframe thead th {\n        text-align: right;\n    }\n</style>\n<table border=\"1\" class=\"dataframe\">\n  <thead>\n    <tr style=\"text-align: right;\">\n      <th></th>\n      <th>Waste Type</th>\n      <th>Total Disposed (thousands)</th>\n      <th>Total Recycled (thousands)</th>\n      <th>Total Generated (thousands)</th>\n      <th>Recycling Rate</th>\n      <th>Year</th>\n    </tr>\n  </thead>\n  <tbody>\n    <tr>\n      <th>0</th>\n      <td>Construction &amp; Demolition</td>\n      <td>6</td>\n      <td>1434</td>\n      <td>1440</td>\n      <td>0.996</td>\n      <td>2019</td>\n    </tr>\n    <tr>\n      <th>1</th>\n      <td>Ferrous</td>\n      <td>8</td>\n      <td>1270</td>\n      <td>1278</td>\n      <td>0.994</td>\n      <td>2019</td>\n    </tr>\n    <tr>\n      <th>2</th>\n      <td>Paper/Cardboard</td>\n      <td>562</td>\n      <td>449</td>\n      <td>1011</td>\n      <td>0.444</td>\n      <td>2019</td>\n    </tr>\n    <tr>\n      <th>3</th>\n      <td>Plastics</td>\n      <td>893</td>\n      <td>37</td>\n      <td>930</td>\n      <td>0.040</td>\n      <td>2019</td>\n    </tr>\n    <tr>\n      <th>4</th>\n      <td>Food</td>\n      <td>7304</td>\n      <td>136</td>\n      <td>7440</td>\n      <td>0.018</td>\n      <td>2019</td>\n    </tr>\n  </tbody>\n</table>\n</div>"
     },
     "execution_count": 15,
     "metadata": {},
     "output_type": "execute_result"
    }
   ],
   "source": [
    "# change column order for 2018-2019 dataset\n",
    "stats2018_2019 = stats2018_2019[['Waste Type', 'Total Disposed (thousands)', 'Total Recycled (\\'000 tonnes)',\n",
    "                'Total Generated (\\'000 tonnes)', 'Recycling Rate', 'Year']]\n",
    "\n",
    "# change column names\n",
    "stats2018_2019.columns = COLUMNS\n",
    "stats2018_2019.head()"
   ],
   "metadata": {
    "collapsed": false,
    "pycharm": {
     "name": "#%%\n"
    }
   }
  },
  {
   "cell_type": "code",
   "execution_count": 16,
   "outputs": [],
   "source": [
    "all_years = pd.concat([stats2003_2017, stats2018_2019], ignore_index=True)\n",
    "assert len(all_years) == len(stats2003_2017) + len(stats2018_2019)"
   ],
   "metadata": {
    "collapsed": false,
    "pycharm": {
     "name": "#%%\n"
    }
   }
  },
  {
   "cell_type": "markdown",
   "source": [
    "## Visualize"
   ],
   "metadata": {
    "collapsed": false,
    "pycharm": {
     "name": "#%% md\n"
    }
   }
  },
  {
   "cell_type": "code",
   "execution_count": 23,
   "outputs": [
    {
     "ename": "ValueError",
     "evalue": "'c' argument must be a color, a sequence of colors, or a sequence of numbers, not ['Food', 'Paper/Cardboard', 'Plastics', 'Construction & Demolition', 'Horticultural', 'Wood', 'Ferrous', 'Non-Ferrous Metal', 'Used Slag', 'Ash & Sludge', 'Glass', 'Textile/Leather', 'Scrap Tyres', 'Others (Stones, Ceramics & Rubber Etc.)', 'Total', 'Food', 'Paper/Cardboard', 'Plastics', 'Construction & Demolition', 'Horticultural', 'Wood', 'Ferrous', 'Non-Ferrous Metal', 'Used Slag', 'Ash & Sludge', 'Glass', 'Textile/Leather', 'Scrap Tyres', 'Others (Stones, Ceramics & Rubber Etc.)', 'Total', 'Food', 'Paper/Cardboard', 'Plastics', 'Construction & Demolition', 'Horticultural', 'Wood', 'Ferrous', 'Non-Ferrous Metal', 'Used Slag', 'Ash & Sludge', 'Glass', 'Textile/Leather', 'Scrap Tyres', 'Others (Stones, Ceramics & Rubber Etc.)', 'Total', 'Food', 'Paper/Cardboard', 'Plastics', 'Construction & Demolition', 'Wood', 'Horticultural', 'Ferrous', 'Non-Ferrous Metal', 'Used Slag', 'Ash & Sludge', 'Glass', 'Textile/Leather', 'Scrap Tyres', 'Others (Stones, Ceramics & Rubber Etc.)', 'Total', 'Food', 'Paper/Cardboard', 'Plastics', 'Construction & Demolition', 'Wood', 'Horticultural', 'Ferrous', 'Non-Ferrous Metal', 'Used Slag', 'Ash & Sludge', 'Glass', 'Textile/Leather', 'Scrap Tyres', 'Others (Stones, Ceramics & Rubber Etc.)', 'Total', 'Food', 'Paper/Cardboard', 'Plastics', 'Construction & Demolition', 'Wood', 'Horticultural', 'Ferrous', 'Non-Ferrous Metal', 'Used Slag', 'Ash & Sludge', 'Glass', 'Textile/Leather', 'Scrap Tyres', 'Others (Stones, Ceramics & Rubber Etc.)', 'Total', 'Food', 'Paper/Cardboard', 'Plastics', 'Construction & Demolition', 'Wood', 'Horticultural', 'Ferrous', 'Non-Ferrous Metal', 'Used Slag', 'Ash & Sludge', 'Glass', 'Textile/Leather', 'Scrap Tyres', 'Others (Stones, Ceramics & Rubber Etc.)', 'Total', 'Food', 'Paper/Cardboard', 'Plastics', 'Construction & Demolition', 'Wood', 'Horticultural', 'Ferrous', 'Non-Ferrous Metal', 'Used Slag', 'Ash & Sludge', 'Glass', 'Textile/Leather', 'Scrap Tyres', 'Others (Stones, Ceramics & Rubber Etc.)', 'Total', 'Food', 'Paper/Cardboard', 'Plastics', 'Construction & Demolition', 'Wood', 'Horticultural', 'Ferrous', 'Non-Ferrous Metal', 'Used Slag', 'Ash & Sludge', 'Glass', 'Textile/Leather', 'Scrap Tyres', 'Others (Stones, Ceramics & Rubber Etc.)', 'Total', 'Food', 'Paper/Cardboard', 'Plastics', 'Construction & Demolition', 'Wood', 'Horticultural', 'Ferrous', 'Non-Ferrous Metal', 'Used Slag', 'Ash & Sludge', 'Glass', 'Textile/Leather', 'Scrap Tyres', 'Others (Stones, Ceramics & Rubber Etc.)', 'Total', 'Food', 'Paper/Cardboard', 'Plastics', 'Construction & Demolition', 'Wood', 'Horticultural', 'Ferrous', 'Non-Ferrous Metal', 'Used Slag', 'Ash & Sludge', 'Glass', 'Textile/Leather', 'Scrap Tyres', 'Others (Stones, Ceramics & Rubber Etc.)', 'Total', 'Food', 'Paper/Cardboard', 'Plastics', 'Construction & Demolition', 'Wood', 'Horticultural', 'Ferrous', 'Non-Ferrous Metal', 'Used Slag', 'Ash & Sludge', 'Glass', 'Textile/Leather', 'Scrap Tyres', 'Others (Stones, Ceramics & Rubber Etc.)', 'Total', 'Food', 'Paper/Cardboard', 'Plastics', 'Construction & Demolition', 'Wood', 'Horticultural', 'Ferrous', 'Non-Ferrous Metal', 'Used Slag', 'Ash & Sludge', 'Glass', 'Textile/Leather', 'Scrap Tyres', 'Others (Stones, Ceramics & Rubber Etc.)', 'Total', 'Food', 'Paper/Cardboard', 'Plastics', 'Construction & Demolition', 'Wood', 'Horticultural', 'Ferrous', 'Non-Ferrous Metal', 'Used Slag', 'Ash & Sludge', 'Glass', 'Textile/Leather', 'Scrap Tyres', 'Others (Stones, Ceramics & Rubber Etc.)', 'Total', 'Construction & Demolition', 'Ferrous', 'Used Slag', 'Non-Ferrous Metal', 'Scrap Tyres', 'Wood', 'Horticultural', 'Paper/Cardboard', 'Glass', 'Food', 'Ash & Sludge', 'Plastics', 'Textile/Leather', 'Others (Stones, Ceramics & Rubber Etc.)', 'Total', 'Construction & Demolition', 'Ferrous', 'Paper/Cardboard', 'Plastics', 'Food', 'Wood', 'Horticultural', 'Ash & Sludge', 'Textile/Leather', 'Used Slag', 'Non-Ferrous Metal', 'Glass', 'Scrap Tyres', 'Others (Stones, Ceramics & Rubber Etc.)', 'Total', 'Construction & Demolition', 'Ferrous', 'Paper/Cardboard', 'Plastics', 'Food', 'Wood', 'Horticultural', 'Ash & Sludge', 'Textile/Leather', 'Used Slag', 'Non-Ferrous Metal', 'Glass', 'Scrap Tyres', 'Others (Stones, Ceramics & Rubber Etc.)', 'Total']",
     "output_type": "error",
     "traceback": [
      "\u001B[1;31m---------------------------------------------------------------------------\u001B[0m",
      "\u001B[1;31mValueError\u001B[0m                                Traceback (most recent call last)",
      "\u001B[1;32mc:\\users\\dinar\\appdata\\local\\programs\\python\\python38\\lib\\site-packages\\matplotlib\\axes\\_axes.py\u001B[0m in \u001B[0;36m_parse_scatter_color_args\u001B[1;34m(c, edgecolors, kwargs, xsize, get_next_color_func)\u001B[0m\n\u001B[0;32m   4328\u001B[0m             \u001B[1;32mtry\u001B[0m\u001B[1;33m:\u001B[0m  \u001B[1;31m# Is 'c' acceptable as PathCollection facecolors?\u001B[0m\u001B[1;33m\u001B[0m\u001B[1;33m\u001B[0m\u001B[0m\n\u001B[1;32m-> 4329\u001B[1;33m                 \u001B[0mcolors\u001B[0m \u001B[1;33m=\u001B[0m \u001B[0mmcolors\u001B[0m\u001B[1;33m.\u001B[0m\u001B[0mto_rgba_array\u001B[0m\u001B[1;33m(\u001B[0m\u001B[0mc\u001B[0m\u001B[1;33m)\u001B[0m\u001B[1;33m\u001B[0m\u001B[1;33m\u001B[0m\u001B[0m\n\u001B[0m\u001B[0;32m   4330\u001B[0m             \u001B[1;32mexcept\u001B[0m \u001B[1;33m(\u001B[0m\u001B[0mTypeError\u001B[0m\u001B[1;33m,\u001B[0m \u001B[0mValueError\u001B[0m\u001B[1;33m)\u001B[0m \u001B[1;32mas\u001B[0m \u001B[0merr\u001B[0m\u001B[1;33m:\u001B[0m\u001B[1;33m\u001B[0m\u001B[1;33m\u001B[0m\u001B[0m\n",
      "\u001B[1;32mc:\\users\\dinar\\appdata\\local\\programs\\python\\python38\\lib\\site-packages\\matplotlib\\colors.py\u001B[0m in \u001B[0;36mto_rgba_array\u001B[1;34m(c, alpha)\u001B[0m\n\u001B[0;32m    382\u001B[0m         \u001B[1;32melse\u001B[0m\u001B[1;33m:\u001B[0m\u001B[1;33m\u001B[0m\u001B[1;33m\u001B[0m\u001B[0m\n\u001B[1;32m--> 383\u001B[1;33m             \u001B[0mrgba\u001B[0m \u001B[1;33m=\u001B[0m \u001B[0mnp\u001B[0m\u001B[1;33m.\u001B[0m\u001B[0marray\u001B[0m\u001B[1;33m(\u001B[0m\u001B[1;33m[\u001B[0m\u001B[0mto_rgba\u001B[0m\u001B[1;33m(\u001B[0m\u001B[0mcc\u001B[0m\u001B[1;33m)\u001B[0m \u001B[1;32mfor\u001B[0m \u001B[0mcc\u001B[0m \u001B[1;32min\u001B[0m \u001B[0mc\u001B[0m\u001B[1;33m]\u001B[0m\u001B[1;33m)\u001B[0m\u001B[1;33m\u001B[0m\u001B[1;33m\u001B[0m\u001B[0m\n\u001B[0m\u001B[0;32m    384\u001B[0m     \u001B[1;32melse\u001B[0m\u001B[1;33m:\u001B[0m\u001B[1;33m\u001B[0m\u001B[1;33m\u001B[0m\u001B[0m\n",
      "\u001B[1;32mc:\\users\\dinar\\appdata\\local\\programs\\python\\python38\\lib\\site-packages\\matplotlib\\colors.py\u001B[0m in \u001B[0;36m<listcomp>\u001B[1;34m(.0)\u001B[0m\n\u001B[0;32m    382\u001B[0m         \u001B[1;32melse\u001B[0m\u001B[1;33m:\u001B[0m\u001B[1;33m\u001B[0m\u001B[1;33m\u001B[0m\u001B[0m\n\u001B[1;32m--> 383\u001B[1;33m             \u001B[0mrgba\u001B[0m \u001B[1;33m=\u001B[0m \u001B[0mnp\u001B[0m\u001B[1;33m.\u001B[0m\u001B[0marray\u001B[0m\u001B[1;33m(\u001B[0m\u001B[1;33m[\u001B[0m\u001B[0mto_rgba\u001B[0m\u001B[1;33m(\u001B[0m\u001B[0mcc\u001B[0m\u001B[1;33m)\u001B[0m \u001B[1;32mfor\u001B[0m \u001B[0mcc\u001B[0m \u001B[1;32min\u001B[0m \u001B[0mc\u001B[0m\u001B[1;33m]\u001B[0m\u001B[1;33m)\u001B[0m\u001B[1;33m\u001B[0m\u001B[1;33m\u001B[0m\u001B[0m\n\u001B[0m\u001B[0;32m    384\u001B[0m     \u001B[1;32melse\u001B[0m\u001B[1;33m:\u001B[0m\u001B[1;33m\u001B[0m\u001B[1;33m\u001B[0m\u001B[0m\n",
      "\u001B[1;32mc:\\users\\dinar\\appdata\\local\\programs\\python\\python38\\lib\\site-packages\\matplotlib\\colors.py\u001B[0m in \u001B[0;36mto_rgba\u001B[1;34m(c, alpha)\u001B[0m\n\u001B[0;32m    205\u001B[0m     \u001B[1;32mif\u001B[0m \u001B[0mrgba\u001B[0m \u001B[1;32mis\u001B[0m \u001B[1;32mNone\u001B[0m\u001B[1;33m:\u001B[0m  \u001B[1;31m# Suppress exception chaining of cache lookup failure.\u001B[0m\u001B[1;33m\u001B[0m\u001B[1;33m\u001B[0m\u001B[0m\n\u001B[1;32m--> 206\u001B[1;33m         \u001B[0mrgba\u001B[0m \u001B[1;33m=\u001B[0m \u001B[0m_to_rgba_no_colorcycle\u001B[0m\u001B[1;33m(\u001B[0m\u001B[0mc\u001B[0m\u001B[1;33m,\u001B[0m \u001B[0malpha\u001B[0m\u001B[1;33m)\u001B[0m\u001B[1;33m\u001B[0m\u001B[1;33m\u001B[0m\u001B[0m\n\u001B[0m\u001B[0;32m    207\u001B[0m         \u001B[1;32mtry\u001B[0m\u001B[1;33m:\u001B[0m\u001B[1;33m\u001B[0m\u001B[1;33m\u001B[0m\u001B[0m\n",
      "\u001B[1;32mc:\\users\\dinar\\appdata\\local\\programs\\python\\python38\\lib\\site-packages\\matplotlib\\colors.py\u001B[0m in \u001B[0;36m_to_rgba_no_colorcycle\u001B[1;34m(c, alpha)\u001B[0m\n\u001B[0;32m    276\u001B[0m             \u001B[1;32mreturn\u001B[0m \u001B[0mc\u001B[0m\u001B[1;33m,\u001B[0m \u001B[0mc\u001B[0m\u001B[1;33m,\u001B[0m \u001B[0mc\u001B[0m\u001B[1;33m,\u001B[0m \u001B[0malpha\u001B[0m \u001B[1;32mif\u001B[0m \u001B[0malpha\u001B[0m \u001B[1;32mis\u001B[0m \u001B[1;32mnot\u001B[0m \u001B[1;32mNone\u001B[0m \u001B[1;32melse\u001B[0m \u001B[1;36m1.\u001B[0m\u001B[1;33m\u001B[0m\u001B[1;33m\u001B[0m\u001B[0m\n\u001B[1;32m--> 277\u001B[1;33m         \u001B[1;32mraise\u001B[0m \u001B[0mValueError\u001B[0m\u001B[1;33m(\u001B[0m\u001B[1;34mf\"Invalid RGBA argument: {orig_c!r}\"\u001B[0m\u001B[1;33m)\u001B[0m\u001B[1;33m\u001B[0m\u001B[1;33m\u001B[0m\u001B[0m\n\u001B[0m\u001B[0;32m    278\u001B[0m     \u001B[1;31m# turn 2-D array into 1-D array\u001B[0m\u001B[1;33m\u001B[0m\u001B[1;33m\u001B[0m\u001B[1;33m\u001B[0m\u001B[0m\n",
      "\u001B[1;31mValueError\u001B[0m: Invalid RGBA argument: 'Food'",
      "\nThe above exception was the direct cause of the following exception:\n",
      "\u001B[1;31mValueError\u001B[0m                                Traceback (most recent call last)",
      "\u001B[1;32m<ipython-input-23-4ac00a3086f7>\u001B[0m in \u001B[0;36m<module>\u001B[1;34m\u001B[0m\n\u001B[0;32m      1\u001B[0m \u001B[0mgrouped_by_waste\u001B[0m \u001B[1;33m=\u001B[0m \u001B[0mall_years\u001B[0m\u001B[1;33m.\u001B[0m\u001B[0mgroupby\u001B[0m\u001B[1;33m(\u001B[0m\u001B[1;33m[\u001B[0m\u001B[1;34m'Waste Type'\u001B[0m\u001B[1;33m,\u001B[0m \u001B[1;34m'Year'\u001B[0m\u001B[1;33m]\u001B[0m\u001B[1;33m)\u001B[0m\u001B[1;33m\u001B[0m\u001B[1;33m\u001B[0m\u001B[0m\n\u001B[1;32m----> 2\u001B[1;33m \u001B[0mplt\u001B[0m\u001B[1;33m.\u001B[0m\u001B[0mscatter\u001B[0m\u001B[1;33m(\u001B[0m\u001B[0mall_years\u001B[0m\u001B[1;33m[\u001B[0m\u001B[1;34m'Year'\u001B[0m\u001B[1;33m]\u001B[0m\u001B[1;33m,\u001B[0m \u001B[0mall_years\u001B[0m\u001B[1;33m[\u001B[0m\u001B[1;34m'Recycling Rate'\u001B[0m\u001B[1;33m]\u001B[0m\u001B[1;33m,\u001B[0m \u001B[0mc\u001B[0m\u001B[1;33m=\u001B[0m\u001B[0mall_years\u001B[0m\u001B[1;33m[\u001B[0m\u001B[1;34m'Waste Type'\u001B[0m\u001B[1;33m]\u001B[0m\u001B[1;33m.\u001B[0m\u001B[0mtolist\u001B[0m\u001B[1;33m(\u001B[0m\u001B[1;33m)\u001B[0m\u001B[1;33m)\u001B[0m\u001B[1;33m\u001B[0m\u001B[1;33m\u001B[0m\u001B[0m\n\u001B[0m\u001B[0;32m      3\u001B[0m \u001B[1;33m\u001B[0m\u001B[0m\n",
      "\u001B[1;32mc:\\users\\dinar\\appdata\\local\\programs\\python\\python38\\lib\\site-packages\\matplotlib\\pyplot.py\u001B[0m in \u001B[0;36mscatter\u001B[1;34m(x, y, s, c, marker, cmap, norm, vmin, vmax, alpha, linewidths, edgecolors, plotnonfinite, data, **kwargs)\u001B[0m\n\u001B[0;32m   3035\u001B[0m         \u001B[0mvmin\u001B[0m\u001B[1;33m=\u001B[0m\u001B[1;32mNone\u001B[0m\u001B[1;33m,\u001B[0m \u001B[0mvmax\u001B[0m\u001B[1;33m=\u001B[0m\u001B[1;32mNone\u001B[0m\u001B[1;33m,\u001B[0m \u001B[0malpha\u001B[0m\u001B[1;33m=\u001B[0m\u001B[1;32mNone\u001B[0m\u001B[1;33m,\u001B[0m \u001B[0mlinewidths\u001B[0m\u001B[1;33m=\u001B[0m\u001B[1;32mNone\u001B[0m\u001B[1;33m,\u001B[0m \u001B[1;33m*\u001B[0m\u001B[1;33m,\u001B[0m\u001B[1;33m\u001B[0m\u001B[1;33m\u001B[0m\u001B[0m\n\u001B[0;32m   3036\u001B[0m         edgecolors=None, plotnonfinite=False, data=None, **kwargs):\n\u001B[1;32m-> 3037\u001B[1;33m     __ret = gca().scatter(\n\u001B[0m\u001B[0;32m   3038\u001B[0m         \u001B[0mx\u001B[0m\u001B[1;33m,\u001B[0m \u001B[0my\u001B[0m\u001B[1;33m,\u001B[0m \u001B[0ms\u001B[0m\u001B[1;33m=\u001B[0m\u001B[0ms\u001B[0m\u001B[1;33m,\u001B[0m \u001B[0mc\u001B[0m\u001B[1;33m=\u001B[0m\u001B[0mc\u001B[0m\u001B[1;33m,\u001B[0m \u001B[0mmarker\u001B[0m\u001B[1;33m=\u001B[0m\u001B[0mmarker\u001B[0m\u001B[1;33m,\u001B[0m \u001B[0mcmap\u001B[0m\u001B[1;33m=\u001B[0m\u001B[0mcmap\u001B[0m\u001B[1;33m,\u001B[0m \u001B[0mnorm\u001B[0m\u001B[1;33m=\u001B[0m\u001B[0mnorm\u001B[0m\u001B[1;33m,\u001B[0m\u001B[1;33m\u001B[0m\u001B[1;33m\u001B[0m\u001B[0m\n\u001B[0;32m   3039\u001B[0m         \u001B[0mvmin\u001B[0m\u001B[1;33m=\u001B[0m\u001B[0mvmin\u001B[0m\u001B[1;33m,\u001B[0m \u001B[0mvmax\u001B[0m\u001B[1;33m=\u001B[0m\u001B[0mvmax\u001B[0m\u001B[1;33m,\u001B[0m \u001B[0malpha\u001B[0m\u001B[1;33m=\u001B[0m\u001B[0malpha\u001B[0m\u001B[1;33m,\u001B[0m \u001B[0mlinewidths\u001B[0m\u001B[1;33m=\u001B[0m\u001B[0mlinewidths\u001B[0m\u001B[1;33m,\u001B[0m\u001B[1;33m\u001B[0m\u001B[1;33m\u001B[0m\u001B[0m\n",
      "\u001B[1;32mc:\\users\\dinar\\appdata\\local\\programs\\python\\python38\\lib\\site-packages\\matplotlib\\__init__.py\u001B[0m in \u001B[0;36minner\u001B[1;34m(ax, data, *args, **kwargs)\u001B[0m\n\u001B[0;32m   1350\u001B[0m     \u001B[1;32mdef\u001B[0m \u001B[0minner\u001B[0m\u001B[1;33m(\u001B[0m\u001B[0max\u001B[0m\u001B[1;33m,\u001B[0m \u001B[1;33m*\u001B[0m\u001B[0margs\u001B[0m\u001B[1;33m,\u001B[0m \u001B[0mdata\u001B[0m\u001B[1;33m=\u001B[0m\u001B[1;32mNone\u001B[0m\u001B[1;33m,\u001B[0m \u001B[1;33m**\u001B[0m\u001B[0mkwargs\u001B[0m\u001B[1;33m)\u001B[0m\u001B[1;33m:\u001B[0m\u001B[1;33m\u001B[0m\u001B[1;33m\u001B[0m\u001B[0m\n\u001B[0;32m   1351\u001B[0m         \u001B[1;32mif\u001B[0m \u001B[0mdata\u001B[0m \u001B[1;32mis\u001B[0m \u001B[1;32mNone\u001B[0m\u001B[1;33m:\u001B[0m\u001B[1;33m\u001B[0m\u001B[1;33m\u001B[0m\u001B[0m\n\u001B[1;32m-> 1352\u001B[1;33m             \u001B[1;32mreturn\u001B[0m \u001B[0mfunc\u001B[0m\u001B[1;33m(\u001B[0m\u001B[0max\u001B[0m\u001B[1;33m,\u001B[0m \u001B[1;33m*\u001B[0m\u001B[0mmap\u001B[0m\u001B[1;33m(\u001B[0m\u001B[0msanitize_sequence\u001B[0m\u001B[1;33m,\u001B[0m \u001B[0margs\u001B[0m\u001B[1;33m)\u001B[0m\u001B[1;33m,\u001B[0m \u001B[1;33m**\u001B[0m\u001B[0mkwargs\u001B[0m\u001B[1;33m)\u001B[0m\u001B[1;33m\u001B[0m\u001B[1;33m\u001B[0m\u001B[0m\n\u001B[0m\u001B[0;32m   1353\u001B[0m \u001B[1;33m\u001B[0m\u001B[0m\n\u001B[0;32m   1354\u001B[0m         \u001B[0mbound\u001B[0m \u001B[1;33m=\u001B[0m \u001B[0mnew_sig\u001B[0m\u001B[1;33m.\u001B[0m\u001B[0mbind\u001B[0m\u001B[1;33m(\u001B[0m\u001B[0max\u001B[0m\u001B[1;33m,\u001B[0m \u001B[1;33m*\u001B[0m\u001B[0margs\u001B[0m\u001B[1;33m,\u001B[0m \u001B[1;33m**\u001B[0m\u001B[0mkwargs\u001B[0m\u001B[1;33m)\u001B[0m\u001B[1;33m\u001B[0m\u001B[1;33m\u001B[0m\u001B[0m\n",
      "\u001B[1;32mc:\\users\\dinar\\appdata\\local\\programs\\python\\python38\\lib\\site-packages\\matplotlib\\axes\\_axes.py\u001B[0m in \u001B[0;36mscatter\u001B[1;34m(self, x, y, s, c, marker, cmap, norm, vmin, vmax, alpha, linewidths, edgecolors, plotnonfinite, **kwargs)\u001B[0m\n\u001B[0;32m   4493\u001B[0m             \u001B[0morig_edgecolor\u001B[0m \u001B[1;33m=\u001B[0m \u001B[0mkwargs\u001B[0m\u001B[1;33m.\u001B[0m\u001B[0mget\u001B[0m\u001B[1;33m(\u001B[0m\u001B[1;34m'edgecolor'\u001B[0m\u001B[1;33m,\u001B[0m \u001B[1;32mNone\u001B[0m\u001B[1;33m)\u001B[0m\u001B[1;33m\u001B[0m\u001B[1;33m\u001B[0m\u001B[0m\n\u001B[0;32m   4494\u001B[0m         \u001B[0mc\u001B[0m\u001B[1;33m,\u001B[0m \u001B[0mcolors\u001B[0m\u001B[1;33m,\u001B[0m \u001B[0medgecolors\u001B[0m \u001B[1;33m=\u001B[0m\u001B[0;31m \u001B[0m\u001B[0;31m\\\u001B[0m\u001B[1;33m\u001B[0m\u001B[1;33m\u001B[0m\u001B[0m\n\u001B[1;32m-> 4495\u001B[1;33m             self._parse_scatter_color_args(\n\u001B[0m\u001B[0;32m   4496\u001B[0m                 \u001B[0mc\u001B[0m\u001B[1;33m,\u001B[0m \u001B[0medgecolors\u001B[0m\u001B[1;33m,\u001B[0m \u001B[0mkwargs\u001B[0m\u001B[1;33m,\u001B[0m \u001B[0mx\u001B[0m\u001B[1;33m.\u001B[0m\u001B[0msize\u001B[0m\u001B[1;33m,\u001B[0m\u001B[1;33m\u001B[0m\u001B[1;33m\u001B[0m\u001B[0m\n\u001B[0;32m   4497\u001B[0m                 get_next_color_func=self._get_patches_for_fill.get_next_color)\n",
      "\u001B[1;32mc:\\users\\dinar\\appdata\\local\\programs\\python\\python38\\lib\\site-packages\\matplotlib\\axes\\_axes.py\u001B[0m in \u001B[0;36m_parse_scatter_color_args\u001B[1;34m(c, edgecolors, kwargs, xsize, get_next_color_func)\u001B[0m\n\u001B[0;32m   4336\u001B[0m                     \u001B[1;31m# Both the mapping *and* the RGBA conversion failed: pretty\u001B[0m\u001B[1;33m\u001B[0m\u001B[1;33m\u001B[0m\u001B[1;33m\u001B[0m\u001B[0m\n\u001B[0;32m   4337\u001B[0m                     \u001B[1;31m# severe failure => one may appreciate a verbose feedback.\u001B[0m\u001B[1;33m\u001B[0m\u001B[1;33m\u001B[0m\u001B[1;33m\u001B[0m\u001B[0m\n\u001B[1;32m-> 4338\u001B[1;33m                     raise ValueError(\n\u001B[0m\u001B[0;32m   4339\u001B[0m                         \u001B[1;34mf\"'c' argument must be a color, a sequence of colors, \"\u001B[0m\u001B[1;33m\u001B[0m\u001B[1;33m\u001B[0m\u001B[0m\n\u001B[0;32m   4340\u001B[0m                         f\"or a sequence of numbers, not {c}\") from err\n",
      "\u001B[1;31mValueError\u001B[0m: 'c' argument must be a color, a sequence of colors, or a sequence of numbers, not ['Food', 'Paper/Cardboard', 'Plastics', 'Construction & Demolition', 'Horticultural', 'Wood', 'Ferrous', 'Non-Ferrous Metal', 'Used Slag', 'Ash & Sludge', 'Glass', 'Textile/Leather', 'Scrap Tyres', 'Others (Stones, Ceramics & Rubber Etc.)', 'Total', 'Food', 'Paper/Cardboard', 'Plastics', 'Construction & Demolition', 'Horticultural', 'Wood', 'Ferrous', 'Non-Ferrous Metal', 'Used Slag', 'Ash & Sludge', 'Glass', 'Textile/Leather', 'Scrap Tyres', 'Others (Stones, Ceramics & Rubber Etc.)', 'Total', 'Food', 'Paper/Cardboard', 'Plastics', 'Construction & Demolition', 'Horticultural', 'Wood', 'Ferrous', 'Non-Ferrous Metal', 'Used Slag', 'Ash & Sludge', 'Glass', 'Textile/Leather', 'Scrap Tyres', 'Others (Stones, Ceramics & Rubber Etc.)', 'Total', 'Food', 'Paper/Cardboard', 'Plastics', 'Construction & Demolition', 'Wood', 'Horticultural', 'Ferrous', 'Non-Ferrous Metal', 'Used Slag', 'Ash & Sludge', 'Glass', 'Textile/Leather', 'Scrap Tyres', 'Others (Stones, Ceramics & Rubber Etc.)', 'Total', 'Food', 'Paper/Cardboard', 'Plastics', 'Construction & Demolition', 'Wood', 'Horticultural', 'Ferrous', 'Non-Ferrous Metal', 'Used Slag', 'Ash & Sludge', 'Glass', 'Textile/Leather', 'Scrap Tyres', 'Others (Stones, Ceramics & Rubber Etc.)', 'Total', 'Food', 'Paper/Cardboard', 'Plastics', 'Construction & Demolition', 'Wood', 'Horticultural', 'Ferrous', 'Non-Ferrous Metal', 'Used Slag', 'Ash & Sludge', 'Glass', 'Textile/Leather', 'Scrap Tyres', 'Others (Stones, Ceramics & Rubber Etc.)', 'Total', 'Food', 'Paper/Cardboard', 'Plastics', 'Construction & Demolition', 'Wood', 'Horticultural', 'Ferrous', 'Non-Ferrous Metal', 'Used Slag', 'Ash & Sludge', 'Glass', 'Textile/Leather', 'Scrap Tyres', 'Others (Stones, Ceramics & Rubber Etc.)', 'Total', 'Food', 'Paper/Cardboard', 'Plastics', 'Construction & Demolition', 'Wood', 'Horticultural', 'Ferrous', 'Non-Ferrous Metal', 'Used Slag', 'Ash & Sludge', 'Glass', 'Textile/Leather', 'Scrap Tyres', 'Others (Stones, Ceramics & Rubber Etc.)', 'Total', 'Food', 'Paper/Cardboard', 'Plastics', 'Construction & Demolition', 'Wood', 'Horticultural', 'Ferrous', 'Non-Ferrous Metal', 'Used Slag', 'Ash & Sludge', 'Glass', 'Textile/Leather', 'Scrap Tyres', 'Others (Stones, Ceramics & Rubber Etc.)', 'Total', 'Food', 'Paper/Cardboard', 'Plastics', 'Construction & Demolition', 'Wood', 'Horticultural', 'Ferrous', 'Non-Ferrous Metal', 'Used Slag', 'Ash & Sludge', 'Glass', 'Textile/Leather', 'Scrap Tyres', 'Others (Stones, Ceramics & Rubber Etc.)', 'Total', 'Food', 'Paper/Cardboard', 'Plastics', 'Construction & Demolition', 'Wood', 'Horticultural', 'Ferrous', 'Non-Ferrous Metal', 'Used Slag', 'Ash & Sludge', 'Glass', 'Textile/Leather', 'Scrap Tyres', 'Others (Stones, Ceramics & Rubber Etc.)', 'Total', 'Food', 'Paper/Cardboard', 'Plastics', 'Construction & Demolition', 'Wood', 'Horticultural', 'Ferrous', 'Non-Ferrous Metal', 'Used Slag', 'Ash & Sludge', 'Glass', 'Textile/Leather', 'Scrap Tyres', 'Others (Stones, Ceramics & Rubber Etc.)', 'Total', 'Food', 'Paper/Cardboard', 'Plastics', 'Construction & Demolition', 'Wood', 'Horticultural', 'Ferrous', 'Non-Ferrous Metal', 'Used Slag', 'Ash & Sludge', 'Glass', 'Textile/Leather', 'Scrap Tyres', 'Others (Stones, Ceramics & Rubber Etc.)', 'Total', 'Food', 'Paper/Cardboard', 'Plastics', 'Construction & Demolition', 'Wood', 'Horticultural', 'Ferrous', 'Non-Ferrous Metal', 'Used Slag', 'Ash & Sludge', 'Glass', 'Textile/Leather', 'Scrap Tyres', 'Others (Stones, Ceramics & Rubber Etc.)', 'Total', 'Construction & Demolition', 'Ferrous', 'Used Slag', 'Non-Ferrous Metal', 'Scrap Tyres', 'Wood', 'Horticultural', 'Paper/Cardboard', 'Glass', 'Food', 'Ash & Sludge', 'Plastics', 'Textile/Leather', 'Others (Stones, Ceramics & Rubber Etc.)', 'Total', 'Construction & Demolition', 'Ferrous', 'Paper/Cardboard', 'Plastics', 'Food', 'Wood', 'Horticultural', 'Ash & Sludge', 'Textile/Leather', 'Used Slag', 'Non-Ferrous Metal', 'Glass', 'Scrap Tyres', 'Others (Stones, Ceramics & Rubber Etc.)', 'Total', 'Construction & Demolition', 'Ferrous', 'Paper/Cardboard', 'Plastics', 'Food', 'Wood', 'Horticultural', 'Ash & Sludge', 'Textile/Leather', 'Used Slag', 'Non-Ferrous Metal', 'Glass', 'Scrap Tyres', 'Others (Stones, Ceramics & Rubber Etc.)', 'Total']"
     ]
    },
    {
     "data": {
      "text/plain": "<Figure size 432x288 with 1 Axes>",
      "image/png": "[encoded data removed]"
     },
     "metadata": {},
     "output_type": "display_data"
    }
   ],
   "source": [
    "grouped_by_waste = all_years.groupby(['Waste Type', 'Year'])\n",
    "plt.scatter(all_years['Year'], all_years['Recycling Rate'], c=all_years['Waste Type'].tolist())"
   ],
   "metadata": {
    "collapsed": false,
    "pycharm": {
     "name": "#%%\n"
    }
   }
  },
  {
   "cell_type": "code",
   "execution_count": 14,
   "outputs": [],
   "source": [],
   "metadata": {
    "collapsed": false,
    "pycharm": {
     "name": "#%%\n"
    }
   }
  },
  {
   "cell_type": "code",
   "execution_count": 14,
   "outputs": [],
   "source": [],
   "metadata": {
    "collapsed": false,
    "pycharm": {
     "name": "#%%\n"
    }
   }
  },
  {
   "cell_type": "code",
   "execution_count": null,
   "outputs": [],
   "source": [],
   "metadata": {
    "collapsed": false,
    "pycharm": {
     "name": "#%%\n"
    }
   }
  }
 ],
 "metadata": {
  "kernelspec": {
   "display_name": "Python 3",
   "language": "python",
   "name": "python3"
  },
  "language_info": {
   "codemirror_mode": {
    "name": "ipython",
    "version": 2
   },
   "file_extension": ".py",
   "mimetype": "text/x-python",
   "name": "python",
   "nbconvert_exporter": "python",
   "pygments_lexer": "ipython2",
   "version": "2.7.6"
  }
 },
 "nbformat": 4,
 "nbformat_minor": 0
}