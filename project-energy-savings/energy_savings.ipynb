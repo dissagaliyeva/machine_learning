{
 "cells": [
  {
   "cell_type": "markdown",
   "metadata": {
    "collapsed": true,
    "pycharm": {
     "name": "#%% md\n"
    }
   },
   "source": [
    "## Energy saved from recycling\n",
    "---\n",
    "\n",
    "**Project Description**\n",
    "Did you know that recycling saves energy by reducing or eliminating the need to make materials from scratch? For example, aluminum can manufacturers can skip the energy-costly process of producing aluminum from ore by cleaning and melting recycled cans. Aluminum is classified as a non-ferrous metal.\n",
    "\n",
    "Singapore has an ambitious goal of becoming a zero-waste nation. The amount of waste disposed of in Singapore has increased seven-fold over the last 40 years. At this rate, Semakau Landfill, Singapore’s only landfill, will run out of space by 2035. Making matters worse, Singapore has limited land for building new incineration plants or landfills.\n",
    "\n",
    "The government would like to motivate citizens by sharing the total energy that the combined recycling efforts have saved every year. They have asked you to help them.\n",
    "\n",
    "You have been provided with three datasets. The data come from different teams, so the names of waste types may differ.\n",
    "<img src=\"images/waste_stats.png\" width=\"400px\"/>\n",
    "\n",
    "**Question to answer**:<br>\n",
    "How much energy in kiloWatt hour (kWh) has Singapore saved per year by recycling glass, plastic, ferrous, and non-ferrous metals between 2015 and 2019?"
   ]
  },
  {
   "cell_type": "markdown",
   "source": [
    "### Table of Contents:\n",
    "* [Get to know the datasets](#get_to_know)\n",
    "* [Clean data](#clean)\n",
    "\n",
    "\n"
   ],
   "metadata": {
    "collapsed": false,
    "pycharm": {
     "name": "#%% md\n"
    }
   }
  },
  {
   "cell_type": "markdown",
   "source": [
    "### Get to know the datasets <a class=\"anchor\" id=\"get_to_know\"/>\n",
    "With the information given above, we see that two datasets (2003-2017 and 2018-2019) have different column names. However, some of them are identical. What I want to do is to check the datasets' contents, metrics, missing values, and similarities. If they end up being on the same scale, we will be able to merge them to form one datasets that stores values from 2003 to 2019.\n",
    "\n",
    "From the first sight, we can relate the following columns (left: 2003-2017, right: 2018-2019):<br>\n",
    "waste_type = Waste Type <br>\n",
    "total_waste_recycle_tonne = Total Recycled <br>\n",
    "total_waste_generated = Total Generated <br>\n",
    "year = Year <br>\n",
    "\n",
    "Let's check if that's the case!"
   ],
   "metadata": {
    "collapsed": false,
    "pycharm": {
     "name": "#%% md\n"
    }
   }
  },
  {
   "cell_type": "code",
   "execution_count": 1,
   "outputs": [],
   "source": [
    "# import packages\n",
    "import re\n",
    "import numpy as np\n",
    "import pandas as pd\n"
   ],
   "metadata": {
    "collapsed": false,
    "pycharm": {
     "name": "#%%\n"
    }
   }
  },
  {
   "cell_type": "code",
   "execution_count": 2,
   "outputs": [],
   "source": [
    "# load data\n",
    "stats2003_2017 = pd.read_csv('datasets/wastestats.csv')\n",
    "stats2018_2019 = pd.read_csv('datasets/2018_2019_waste.csv')\n",
    "\n",
    "# we need to skip the first three rows since it includes description\n",
    "energy_saved = pd.read_csv('datasets/energy_saved.csv', skiprows=3, index_col=0)\n"
   ],
   "metadata": {
    "collapsed": false,
    "pycharm": {
     "name": "#%%\n"
    }
   }
  },
  {
   "cell_type": "code",
   "execution_count": 4,
   "outputs": [
    {
     "data": {
      "text/plain": "        waste_type  waste_disposed_of_tonne  total_waste_recycled_tonne  \\\n0             Food                   679900                    111100.0   \n1  Paper/Cardboard                   576000                    607100.0   \n2         Plastics                   762700                     59500.0   \n\n   total_waste_generated_tonne  recycling_rate  year  \n0                       791000            0.14  2016  \n1                      1183100            0.51  2016  \n2                       822200            0.07  2016  ",
      "text/html": "<div>\n<style scoped>\n    .dataframe tbody tr th:only-of-type {\n        vertical-align: middle;\n    }\n\n    .dataframe tbody tr th {\n        vertical-align: top;\n    }\n\n    .dataframe thead th {\n        text-align: right;\n    }\n</style>\n<table border=\"1\" class=\"dataframe\">\n  <thead>\n    <tr style=\"text-align: right;\">\n      <th></th>\n      <th>waste_type</th>\n      <th>waste_disposed_of_tonne</th>\n      <th>total_waste_recycled_tonne</th>\n      <th>total_waste_generated_tonne</th>\n      <th>recycling_rate</th>\n      <th>year</th>\n    </tr>\n  </thead>\n  <tbody>\n    <tr>\n      <th>0</th>\n      <td>Food</td>\n      <td>679900</td>\n      <td>111100.0</td>\n      <td>791000</td>\n      <td>0.14</td>\n      <td>2016</td>\n    </tr>\n    <tr>\n      <th>1</th>\n      <td>Paper/Cardboard</td>\n      <td>576000</td>\n      <td>607100.0</td>\n      <td>1183100</td>\n      <td>0.51</td>\n      <td>2016</td>\n    </tr>\n    <tr>\n      <th>2</th>\n      <td>Plastics</td>\n      <td>762700</td>\n      <td>59500.0</td>\n      <td>822200</td>\n      <td>0.07</td>\n      <td>2016</td>\n    </tr>\n  </tbody>\n</table>\n</div>"
     },
     "execution_count": 4,
     "metadata": {},
     "output_type": "execute_result"
    }
   ],
   "source": [
    "# show first three rows\n",
    "stats2003_2017.head(3)"
   ],
   "metadata": {
    "collapsed": false,
    "pycharm": {
     "name": "#%%\n"
    }
   }
  },
  {
   "cell_type": "code",
   "execution_count": 5,
   "outputs": [
    {
     "data": {
      "text/plain": "                 Waste Type  Total Generated ('000 tonnes)  \\\n0  Construction& Demolition                           1440   \n1             Ferrous Metal                           1278   \n2           Paper/Cardboard                           1011   \n\n   Total Recycled ('000 tonnes)  Year  \n0                          1434  2019  \n1                          1270  2019  \n2                           449  2019  ",
      "text/html": "<div>\n<style scoped>\n    .dataframe tbody tr th:only-of-type {\n        vertical-align: middle;\n    }\n\n    .dataframe tbody tr th {\n        vertical-align: top;\n    }\n\n    .dataframe thead th {\n        text-align: right;\n    }\n</style>\n<table border=\"1\" class=\"dataframe\">\n  <thead>\n    <tr style=\"text-align: right;\">\n      <th></th>\n      <th>Waste Type</th>\n      <th>Total Generated ('000 tonnes)</th>\n      <th>Total Recycled ('000 tonnes)</th>\n      <th>Year</th>\n    </tr>\n  </thead>\n  <tbody>\n    <tr>\n      <th>0</th>\n      <td>Construction&amp; Demolition</td>\n      <td>1440</td>\n      <td>1434</td>\n      <td>2019</td>\n    </tr>\n    <tr>\n      <th>1</th>\n      <td>Ferrous Metal</td>\n      <td>1278</td>\n      <td>1270</td>\n      <td>2019</td>\n    </tr>\n    <tr>\n      <th>2</th>\n      <td>Paper/Cardboard</td>\n      <td>1011</td>\n      <td>449</td>\n      <td>2019</td>\n    </tr>\n  </tbody>\n</table>\n</div>"
     },
     "execution_count": 5,
     "metadata": {},
     "output_type": "execute_result"
    }
   ],
   "source": [
    "# show first three rows\n",
    "stats2018_2019.head(3)"
   ],
   "metadata": {
    "collapsed": false,
    "pycharm": {
     "name": "#%%\n"
    }
   }
  },
  {
   "cell_type": "code",
   "execution_count": 6,
   "outputs": [
    {
     "data": {
      "text/plain": "                    Plastic   Glass Ferrous Metal Non-Ferrous Metal  \\\nmaterial                                                              \nenergy_saved       5774 Kwh  42 Kwh       642 Kwh         14000 Kwh   \ncrude_oil saved  16 barrels     NaN   1.8 barrels        40 barrels   \n\n                       Paper  \nmaterial                      \nenergy_saved        4000 kWh  \ncrude_oil saved  1.7 barrels  ",
      "text/html": "<div>\n<style scoped>\n    .dataframe tbody tr th:only-of-type {\n        vertical-align: middle;\n    }\n\n    .dataframe tbody tr th {\n        vertical-align: top;\n    }\n\n    .dataframe thead th {\n        text-align: right;\n    }\n</style>\n<table border=\"1\" class=\"dataframe\">\n  <thead>\n    <tr style=\"text-align: right;\">\n      <th></th>\n      <th>Plastic</th>\n      <th>Glass</th>\n      <th>Ferrous Metal</th>\n      <th>Non-Ferrous Metal</th>\n      <th>Paper</th>\n    </tr>\n    <tr>\n      <th>material</th>\n      <th></th>\n      <th></th>\n      <th></th>\n      <th></th>\n      <th></th>\n    </tr>\n  </thead>\n  <tbody>\n    <tr>\n      <th>energy_saved</th>\n      <td>5774 Kwh</td>\n      <td>42 Kwh</td>\n      <td>642 Kwh</td>\n      <td>14000 Kwh</td>\n      <td>4000 kWh</td>\n    </tr>\n    <tr>\n      <th>crude_oil saved</th>\n      <td>16 barrels</td>\n      <td>NaN</td>\n      <td>1.8 barrels</td>\n      <td>40 barrels</td>\n      <td>1.7 barrels</td>\n    </tr>\n  </tbody>\n</table>\n</div>"
     },
     "execution_count": 6,
     "metadata": {},
     "output_type": "execute_result"
    }
   ],
   "source": [
    "energy_saved\n"
   ],
   "metadata": {
    "collapsed": false,
    "pycharm": {
     "name": "#%%\n"
    }
   }
  },
  {
   "cell_type": "markdown",
   "source": [
    "### Clean Data <a class=\"anchor\" id=\"clean\"/>\n",
    "\n",
    "**Structures** of the 2003-2017 and 2018-2019 are pretty much the same. However, if we look at unique values, we see the first has duplications. Therefore, let's take care of it."
   ],
   "metadata": {
    "collapsed": false,
    "pycharm": {
     "name": "#%% md\n"
    }
   }
  },
  {
   "cell_type": "code",
   "execution_count": 7,
   "outputs": [
    {
     "name": "stdout",
     "output_type": "stream",
     "text": [
      "2003-2017 has 32 types of waste:\n",
      " ['Food' 'Paper/Cardboard' 'Plastics' 'C&D' 'Horticultural waste' 'Wood'\n",
      " 'Ferrous metal' 'Non-ferrous metal' 'Used slag' 'Ash & Sludge' 'Glass'\n",
      " 'Textile/Leather' 'Scrap tyres' 'Others (stones, ceramics & rubber etc.)'\n",
      " 'Total' 'Others (stones, ceramics & rubber etc)' 'Food waste'\n",
      " 'Construction Debris' 'Wood/Timber' 'Horticultural Waste' 'Ferrous Metal'\n",
      " 'Non-ferrous Metals' 'Used Slag' 'Sludge' 'Scrap Tyres' 'Ferrous Metals'\n",
      " 'Others' 'Construction debris' 'Non-ferrous metals' 'Ash and sludge'\n",
      " 'Plastic' 'Others (stones, ceramic, rubber, etc.)']\n",
      "\n",
      "=============\n",
      "\n",
      "2018-2019 has 15 types of waste:\n",
      " ['Construction& Demolition' 'Ferrous Metal' 'Paper/Cardboard' 'Plastics'\n",
      " 'Food' 'Wood' 'Horticultural' 'Ash & Sludge' 'Textile/Leather'\n",
      " 'Used Slag' 'Non-Ferrous Metal' 'Glass' 'Scrap Tyres'\n",
      " 'Others (stones, ceramic, rubber, ect)' 'Overall']\n"
     ]
    }
   ],
   "source": [
    "unique_waste2003_2017 = stats2003_2017['waste_type'].unique()\n",
    "unique_waste2018_2019 = stats2018_2019['Waste Type'].unique()\n",
    "\n",
    "print(f'2003-2017 has {len(unique_waste2003_2017)} types of waste:\\n', unique_waste2003_2017)\n",
    "print('\\n=============\\n')\n",
    "print(f'2018-2019 has {len(unique_waste2018_2019)} types of waste:\\n', unique_waste2018_2019)\n"
   ],
   "metadata": {
    "collapsed": false,
    "pycharm": {
     "name": "#%%\n"
    }
   }
  },
  {
   "cell_type": "code",
   "execution_count": 8,
   "outputs": [
    {
     "name": "stdout",
     "output_type": "stream",
     "text": [
      "Common:\n",
      "['Glass', 'Used Slag', 'Scrap Tyres', 'Food', 'Wood', 'Ferrous Metal', 'Ash & Sludge', 'Paper/Cardboard', 'Plastics', 'Textile/Leather']\n",
      "\n",
      "=============\n",
      "\n",
      "Difference:\n",
      "['Non-ferrous Metals', 'Others', 'C&D', 'Sludge', 'Scrap tyres', 'Ash and sludge', 'Plastic', 'Non-ferrous metal', 'Construction Debris', 'Non-ferrous metals', 'Wood/Timber', 'Horticultural waste', 'Total', 'Food waste', 'Others (stones, ceramics & rubber etc)', 'Construction debris', 'Horticultural Waste', 'Others (stones, ceramic, rubber, etc.)', 'Others (stones, ceramics & rubber etc.)', 'Used slag', 'Ferrous Metals', 'Ferrous metal']\n"
     ]
    }
   ],
   "source": [
    "# print what they have in common\n",
    "print('Common:')\n",
    "print(list(set(unique_waste2003_2017).intersection(set(unique_waste2018_2019))))\n",
    "\n",
    "print('\\n=============\\n')\n",
    "\n",
    "# print how they differ\n",
    "print('Difference:')\n",
    "print(list(set(unique_waste2003_2017).difference(set(unique_waste2018_2019))))\n"
   ],
   "metadata": {
    "collapsed": false,
    "pycharm": {
     "name": "#%%\n"
    }
   }
  },
  {
   "cell_type": "code",
   "execution_count": 10,
   "outputs": [],
   "source": [
    "def replace(name):\n",
    "    \"\"\"\n",
    "    This function cleans up the waste types' names.\n",
    "        name: Name that needs to be taken care of\n",
    "    returns: Prettified representation of the class name\n",
    "    \"\"\"\n",
    "    name = re.sub('[\\.]+', '', name.lower())\n",
    "    name = name.replace('  ', ' ').replace('and', '&').replace('overall', 'total')\n",
    "    if name.startswith('construction') or name.startswith('c&d'):\n",
    "        name = 'construction & demolition'\n",
    "    elif name.startswith('others'):\n",
    "        name = 'others (stones, ceramics & rubber etc.)'\n",
    "    elif name.startswith('plastic'):\n",
    "        name = 'plastics'\n",
    "    elif name.startswith('horticultural'):\n",
    "        name = 'horticultural'\n",
    "    elif name.startswith('non-ferrous'):\n",
    "        name = 'non-ferrous metal'\n",
    "    elif name.startswith('food'):\n",
    "        name = 'food'\n",
    "    elif name.startswith('ferrous'):\n",
    "        name = 'ferrous'\n",
    "    elif name.startswith('wood'):\n",
    "        name = 'wood'\n",
    "    elif name.startswith('sludge'):\n",
    "        name = 'ash & sludge'\n",
    "\n",
    "    return name.title()\n",
    "\n",
    "\n",
    "# apply transformations\n",
    "stats2003_2017['waste_type'] = stats2003_2017['waste_type'].apply(replace)\n",
    "stats2018_2019['Waste Type'] = stats2018_2019['Waste Type'].apply(replace)\n",
    "\n",
    "# get unique values once again\n",
    "unique_waste2003_2017 = stats2003_2017['waste_type'].unique()\n",
    "unique_waste2018_2019 = stats2018_2019['Waste Type'].unique()\n",
    "\n",
    "# verify there is no difference in waste types\n",
    "assert set(unique_waste2003_2017) == set(unique_waste2018_2019)"
   ],
   "metadata": {
    "collapsed": false,
    "pycharm": {
     "name": "#%%\n"
    }
   }
  },
  {
   "cell_type": "code",
   "execution_count": null,
   "outputs": [],
   "source": [],
   "metadata": {
    "collapsed": false,
    "pycharm": {
     "name": "#%%\n"
    }
   }
  }
 ],
 "metadata": {
  "kernelspec": {
   "display_name": "Python 3",
   "language": "python",
   "name": "python3"
  },
  "language_info": {
   "codemirror_mode": {
    "name": "ipython",
    "version": 2
   },
   "file_extension": ".py",
   "mimetype": "text/x-python",
   "name": "python",
   "nbconvert_exporter": "python",
   "pygments_lexer": "ipython2",
   "version": "2.7.6"
  }
 },
 "nbformat": 4,
 "nbformat_minor": 0
}