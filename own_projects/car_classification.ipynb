{
 "cells": [
  {
   "cell_type": "markdown",
   "metadata": {
    "collapsed": true,
    "pycharm": {
     "name": "#%% md\n"
    }
   },
   "source": [
    "### Classification Algorithms\n",
    "This notebook will focus on supervised learning algorithms, specifically classification ones. Using\n",
    "<a href='https://archive.ics.uci.edu/ml/datasets/auto+mpg'>this UCI's car dataset</a>, I want to tackle the question to\n",
    "classify the cars based on their origin. The following steps will be discussed and implemented:\n",
    "- Researching car features\n",
    "- Exploratory data analysis (EDA)\n",
    "- Dealing with missing data\n",
    "- First attempt at Logistic Regression\n",
    "- PCA\n",
    "- Multiple algorithms & selecting the best one\n",
    "\n",
    "- cylinders range, most common: [4, 5, 6, 8], exceptions: [2, 3, 10, 12, 16]\n",
    "- mpg\n",
    "\n",
    "\n",
    "Since the dataset has missing values, my main concern is to find them as \"I wasn't\n",
    "aware of them\"."
   ]
  },
  {
   "cell_type": "code",
   "execution_count": 181,
   "outputs": [],
   "source": [
    "# import modules\n",
    "import numpy as np\n",
    "import pandas as pd\n",
    "import seaborn as sns\n",
    "import matplotlib.pyplot as plt\n",
    "\n",
    "from sklearn.linear_model import LogisticRegression\n",
    "from sklearn.neighbors import KNeighborsClassifier\n",
    "from sklearn.svm import LinearSVC, SVC\n",
    "from sklearn.tree import DecisionTreeClassifier\n",
    "from sklearn.ensemble import RandomForestClassifier\n",
    "from sklearn.decomposition import PCA\n",
    "from sklearn.preprocessing import StandardScaler, MinMaxScaler\n",
    "from sklearn.model_selection import train_test_split, GridSearchCV\n",
    "from sklearn.pipeline import make_pipeline\n",
    "\n",
    "%matplotlib inline\n",
    "sns.set()"
   ],
   "metadata": {
    "collapsed": false,
    "pycharm": {
     "name": "#%%\n"
    }
   }
  },
  {
   "cell_type": "code",
   "execution_count": 81,
   "outputs": [
    {
     "name": "stdout",
     "output_type": "stream",
     "text": [
      "    mpg  cylinders  displacement horsepower  weight  acceleration  model_year  \\\n",
      "0  18.0          8         307.0      130.0  3504.0          12.0          70   \n",
      "1  15.0          8         350.0      165.0  3693.0          11.5          70   \n",
      "2  18.0          8         318.0      150.0  3436.0          11.0          70   \n",
      "\n",
      "   origin                   car_name  \n",
      "0       1  chevrolet chevelle malibu  \n",
      "1       1          buick skylark 320  \n",
      "2       1         plymouth satellite  \n",
      "<class 'pandas.core.frame.DataFrame'>\n",
      "RangeIndex: 398 entries, 0 to 397\n",
      "Data columns (total 9 columns):\n",
      " #   Column        Non-Null Count  Dtype  \n",
      "---  ------        --------------  -----  \n",
      " 0   mpg           398 non-null    float64\n",
      " 1   cylinders     398 non-null    int64  \n",
      " 2   displacement  398 non-null    float64\n",
      " 3   horsepower    398 non-null    object \n",
      " 4   weight        398 non-null    float64\n",
      " 5   acceleration  398 non-null    float64\n",
      " 6   model_year    398 non-null    int64  \n",
      " 7   origin        398 non-null    int64  \n",
      " 8   car_name      398 non-null    object \n",
      "dtypes: float64(4), int64(3), object(2)\n",
      "memory usage: 28.1+ KB\n"
     ]
    }
   ],
   "source": [
    "cars = pd.read_csv('dataset/auto-mpg.data', delimiter='\\s+',\n",
    "                   names=['mpg', 'cylinders', 'displacement', 'horsepower', 'weight',\n",
    "                          'acceleration', 'model_year', 'origin', 'car_name'])\n",
    "print(cars.head(3))\n",
    "cars.info()"
   ],
   "metadata": {
    "collapsed": false,
    "pycharm": {
     "name": "#%%\n"
    }
   }
  },
  {
   "cell_type": "markdown",
   "source": [
    "### As we can see, horsepower is translated as object type, let's analyze it\n"
   ],
   "metadata": {
    "collapsed": false,
    "pycharm": {
     "name": "#%% md\n"
    }
   }
  },
  {
   "cell_type": "code",
   "execution_count": 83,
   "outputs": [
    {
     "name": "stdout",
     "output_type": "stream",
     "text": [
      "float64\n",
      "Missing values: 6\n"
     ]
    },
    {
     "data": {
      "text/plain": "<Figure size 432x288 with 1 Axes>",
      "image/png": "[encoded data removed]"
     },
     "metadata": {},
     "output_type": "display_data"
    },
    {
     "data": {
      "text/plain": "      mpg  cylinders  displacement  horsepower  weight  acceleration  \\\n32   25.0          4          98.0         NaN  2046.0          19.0   \n126  21.0          6         200.0         NaN  2875.0          17.0   \n330  40.9          4          85.0         NaN  1835.0          17.3   \n336  23.6          4         140.0         NaN  2905.0          14.3   \n354  34.5          4         100.0         NaN  2320.0          15.8   \n374  23.0          4         151.0         NaN  3035.0          20.5   \n\n     model_year  origin              car_name  \n32           71       1            ford pinto  \n126          74       1         ford maverick  \n330          80       2  renault lecar deluxe  \n336          80       1    ford mustang cobra  \n354          81       2           renault 18i  \n374          82       1        amc concord dl  ",
      "text/html": "<div>\n<style scoped>\n    .dataframe tbody tr th:only-of-type {\n        vertical-align: middle;\n    }\n\n    .dataframe tbody tr th {\n        vertical-align: top;\n    }\n\n    .dataframe thead th {\n        text-align: right;\n    }\n</style>\n<table border=\"1\" class=\"dataframe\">\n  <thead>\n    <tr style=\"text-align: right;\">\n      <th></th>\n      <th>mpg</th>\n      <th>cylinders</th>\n      <th>displacement</th>\n      <th>horsepower</th>\n      <th>weight</th>\n      <th>acceleration</th>\n      <th>model_year</th>\n      <th>origin</th>\n      <th>car_name</th>\n    </tr>\n  </thead>\n  <tbody>\n    <tr>\n      <th>32</th>\n      <td>25.0</td>\n      <td>4</td>\n      <td>98.0</td>\n      <td>NaN</td>\n      <td>2046.0</td>\n      <td>19.0</td>\n      <td>71</td>\n      <td>1</td>\n      <td>ford pinto</td>\n    </tr>\n    <tr>\n      <th>126</th>\n      <td>21.0</td>\n      <td>6</td>\n      <td>200.0</td>\n      <td>NaN</td>\n      <td>2875.0</td>\n      <td>17.0</td>\n      <td>74</td>\n      <td>1</td>\n      <td>ford maverick</td>\n    </tr>\n    <tr>\n      <th>330</th>\n      <td>40.9</td>\n      <td>4</td>\n      <td>85.0</td>\n      <td>NaN</td>\n      <td>1835.0</td>\n      <td>17.3</td>\n      <td>80</td>\n      <td>2</td>\n      <td>renault lecar deluxe</td>\n    </tr>\n    <tr>\n      <th>336</th>\n      <td>23.6</td>\n      <td>4</td>\n      <td>140.0</td>\n      <td>NaN</td>\n      <td>2905.0</td>\n      <td>14.3</td>\n      <td>80</td>\n      <td>1</td>\n      <td>ford mustang cobra</td>\n    </tr>\n    <tr>\n      <th>354</th>\n      <td>34.5</td>\n      <td>4</td>\n      <td>100.0</td>\n      <td>NaN</td>\n      <td>2320.0</td>\n      <td>15.8</td>\n      <td>81</td>\n      <td>2</td>\n      <td>renault 18i</td>\n    </tr>\n    <tr>\n      <th>374</th>\n      <td>23.0</td>\n      <td>4</td>\n      <td>151.0</td>\n      <td>NaN</td>\n      <td>3035.0</td>\n      <td>20.5</td>\n      <td>82</td>\n      <td>1</td>\n      <td>amc concord dl</td>\n    </tr>\n  </tbody>\n</table>\n</div>"
     },
     "execution_count": 83,
     "metadata": {},
     "output_type": "execute_result"
    }
   ],
   "source": [
    "cars['horsepower'] = pd.to_numeric(cars['horsepower'], errors='coerce')\n",
    "print(cars['horsepower'].dtype)\n",
    "print('Missing values:', cars['horsepower'].isna().sum())\n",
    "missing_values = cars[cars['horsepower'].isna()]\n",
    "\n",
    "# look at distribution\n",
    "cars['horsepower'].plot(kind='hist')\n",
    "plt.show()\n",
    "\n",
    "# look at missing values\n",
    "missing_values"
   ],
   "metadata": {
    "collapsed": false,
    "pycharm": {
     "name": "#%%\n"
    }
   }
  },
  {
   "cell_type": "markdown",
   "source": [
    "Since there are three Fords, two Renault, and one AMC, we can try to look at each of those cars individually\n",
    "\n",
    "Instead of doing the things below, I want to fill the missing values depending on their values:\n",
    "\n",
    "<code>cars['horsepower'].fillna(cars['horsepower'].mean(), inplace=True)</code>\n"
   ],
   "metadata": {
    "collapsed": false,
    "pycharm": {
     "name": "#%% md\n"
    }
   }
  },
  {
   "cell_type": "code",
   "source": [
    "fords_4cyl = cars[(cars['car_name'].str.startswith('ford')) & (cars['cylinders'] == 4)]\n",
    "fords_6cyl = cars[(cars['car_name'].str.startswith('ford')) & (cars['cylinders'] == 6)]\n",
    "renaults = cars[(cars['car_name'].str.startswith('renault')) & (cars['cylinders'] == 4)]\n",
    "amc = cars[(cars['car_name'].str.startswith('amc')) & (cars['cylinders'] == 4)]\n",
    "\n",
    "print(f'Ford 4 cylinder count: {len(fords_4cyl)}')\n",
    "print(f'Ford 6 cylinder count: {len(fords_6cyl)}')\n",
    "print(f'Renault 4 cylinder count: {len(renaults)}')\n",
    "print(f'AMC 4 cylinder count: {len(amc)}\\n\\n')\n",
    "\n",
    "fords_4cyl_mean = round(fords_4cyl.horsepower.mean(), 1)\n",
    "fords_6cyl_mean = round(fords_6cyl.horsepower.mean(), 1)\n",
    "renault_mean = round(renaults.horsepower.mean(), 1)\n",
    "amc_mean = round(amc.horsepower.mean(), 1)\n",
    "\n",
    "print(f'Ford 4 cylinder HORSEPOWER mean: {fords_4cyl_mean}')\n",
    "print(f'Ford 6 cylinder HORSEPOWER mean: {fords_6cyl_mean}')\n",
    "print(f'Renault HORSEPOWER mean: {renault_mean}')\n",
    "print(f'AMC HORSEPOWER mean: {amc_mean}')\n",
    "\n",
    "# fill missing values\n",
    "cars.loc[(cars['horsepower'].isna()) & (cars['cylinders'] == 4) & (cars['car_name'].str.startswith('ford')), 'horsepower'] = fords_4cyl_mean\n",
    "cars.loc[(cars['horsepower'].isna()) & (cars['cylinders'] == 6) & (cars['car_name'].str.startswith('ford')), 'horsepower'] = fords_6cyl_mean\n",
    "cars.loc[(cars['horsepower'].isna())  & (cars['car_name'].str.startswith('renault')), 'horsepower'] = renault_mean\n",
    "cars.loc[(cars['horsepower'].isna()) & (cars['car_name'].str.startswith('amc')), 'horsepower'] = amc_mean"
   ],
   "metadata": {
    "collapsed": false,
    "pycharm": {
     "name": "#%%\n"
    }
   },
   "execution_count": 119,
   "outputs": [
    {
     "name": "stdout",
     "output_type": "stream",
     "text": [
      "Ford 4 cylinder count: 18\n",
      "Ford 6 cylinder count: 13\n",
      "Renault 4 cylinder count: 5\n",
      "AMC 4 cylinder count: 3\n",
      "\n",
      "\n",
      "Ford 4 cylinder HORSEPOWER mean: 81.1\n",
      "Ford 6 cylinder HORSEPOWER mean: 88.3\n",
      "Renault HORSEPOWER mean: 70.0\n",
      "AMC HORSEPOWER mean: 85.0\n"
     ]
    }
   ]
  },
  {
   "cell_type": "code",
   "execution_count": 123,
   "outputs": [
    {
     "name": "stdout",
     "output_type": "stream",
     "text": [
      "Missing values count: 0\n"
     ]
    }
   ],
   "source": [],
   "metadata": {
    "collapsed": false,
    "pycharm": {
     "name": "#%%\n"
    }
   }
  },
  {
   "cell_type": "markdown",
   "source": [
    "## Time to think about distribution of the origin & whether we'll be able to classify them"
   ],
   "metadata": {
    "collapsed": false,
    "pycharm": {
     "name": "#%% md\n"
    }
   }
  },
  {
   "cell_type": "code",
   "execution_count": 132,
   "outputs": [
    {
     "data": {
      "text/plain": "<Figure size 432x288 with 1 Axes>",
      "image/png": "[encoded data removed]"
     },
     "metadata": {},
     "output_type": "display_data"
    },
    {
     "name": "stdout",
     "output_type": "stream",
     "text": [
      "Origin unique values & count:\n",
      "1    249\n",
      "3     79\n",
      "2     70\n",
      "Name: origin, dtype: int64\n"
     ]
    }
   ],
   "source": [
    "# first, plot the distributions\n",
    "plt.title('Origin Distribution')\n",
    "cars.origin.plot(kind='hist', bins=3)\n",
    "plt.xticks([1, 2, 3])\n",
    "plt.xlabel('origins')\n",
    "plt.ylabel('count')\n",
    "plt.show()\n",
    "\n",
    "print(f'Origin unique values & count:\\n{cars.origin.value_counts()}')"
   ],
   "metadata": {
    "collapsed": false,
    "pycharm": {
     "name": "#%%\n"
    }
   }
  },
  {
   "cell_type": "code",
   "execution_count": 179,
   "outputs": [
    {
     "name": "stdout",
     "output_type": "stream",
     "text": [
      "L2 Train Score: 0.7676767676767676\n",
      "L2Test Score: 0.7190635451505016\n",
      "\n",
      "=================\n",
      "\n",
      "L1 Train Score: 0.7676767676767676\n",
      "L1 Test Score: 0.7190635451505016\n"
     ]
    }
   ],
   "source": [
    "# split the data & standardize\n",
    "X, y = cars.drop(['origin', 'car_name'], axis=1).values, cars['origin'].values\n",
    "\n",
    "scaler = StandardScaler()\n",
    "X_train, X_test, y_train, y_test = train_test_split(X, y, train_size=0.25, shuffle=True, random_state=42)\n",
    "normalized_X_train = scaler.fit_transform(X_train)\n",
    "normalized_X_test = scaler.fit_transform(X_test)\n",
    "\n",
    "logreg = LogisticRegression().fit(normalized_X_train, y_train)\n",
    "print('L2 Train Score:', logreg.score(normalized_X_train, y_train))\n",
    "print('L2Test Score:', logreg.score(normalized_X_test, y_test))\n",
    "\n",
    "print('\\n=================\\n')\n",
    "\n",
    "logreg_l1 = LogisticRegression(penalty='l1', solver='liblinear').fit(normalized_X_train, y_train)\n",
    "print('L1 Train Score:', logreg.score(normalized_X_train, y_train))\n",
    "print('L1 Test Score:', logreg.score(normalized_X_test, y_test))\n"
   ],
   "metadata": {
    "collapsed": false,
    "pycharm": {
     "name": "#%%\n"
    }
   }
  },
  {
   "cell_type": "markdown",
   "source": [
    "### For now, we can see that Logistic Regression has scored 72%\n",
    "Let's see what we can do better\n",
    "\n"
   ],
   "metadata": {
    "collapsed": false,
    "pycharm": {
     "name": "#%% md\n"
    }
   }
  },
  {
   "cell_type": "code",
   "execution_count": 180,
   "outputs": [
    {
     "name": "stdout",
     "output_type": "stream",
     "text": [
      "L2 Best score: 0.7673684210526315\n",
      "L2 Best params: {'C': 10}\n",
      "L1 Best score: 0.7673684210526315\n",
      "L1 Best params: {'C': 10}\n"
     ]
    }
   ],
   "source": [
    "# gridsearchcv for l2 reg\n",
    "params = {'C': [0.001, 0.01, 0.1, 1, 10]}\n",
    "\n",
    "search_cv = GridSearchCV(LogisticRegression(), param_grid=params, cv=5, refit=True).fit(normalized_X_train, y_train)\n",
    "print(f'L2 Best score: {search_cv.best_score_}')\n",
    "print(f'L2 Best params: {search_cv.best_params_}')\n",
    "\n",
    "# gridsearchcv for l1 reg\n",
    "search_cv_l1 = GridSearchCV(LogisticRegression(penalty='l1', solver='liblinear'),\n",
    "                            param_grid=params).fit(normalized_X_train, y_train)\n",
    "print(f'L1 Best score: {search_cv.best_score_}')\n",
    "print(f'L1 Best params: {search_cv.best_params_}')\n"
   ],
   "metadata": {
    "collapsed": false,
    "pycharm": {
     "name": "#%%\n"
    }
   }
  },
  {
   "cell_type": "code",
   "execution_count": 150,
   "outputs": [
    {
     "data": {
      "text/plain": "<pandas.io.formats.style.Styler at 0x2c10649a190>",
      "text/html": "<style  type=\"text/css\" >\n#T_197f6_row0_col0,#T_197f6_row1_col1,#T_197f6_row2_col2,#T_197f6_row3_col3,#T_197f6_row4_col4,#T_197f6_row5_col5,#T_197f6_row6_col6,#T_197f6_row7_col7{\n            background-color:  #023858;\n            color:  #f1f1f1;\n        }#T_197f6_row0_col1,#T_197f6_row0_col2,#T_197f6_row0_col3,#T_197f6_row0_col4,#T_197f6_row2_col7,#T_197f6_row3_col5,#T_197f6_row3_col6,#T_197f6_row4_col0{\n            background-color:  #fff7fb;\n            color:  #000000;\n        }#T_197f6_row0_col5{\n            background-color:  #2987bc;\n            color:  #000000;\n        }#T_197f6_row0_col6{\n            background-color:  #187cb6;\n            color:  #000000;\n        }#T_197f6_row0_col7{\n            background-color:  #0d75b3;\n            color:  #f1f1f1;\n        }#T_197f6_row1_col0,#T_197f6_row1_col7,#T_197f6_row3_col0{\n            background-color:  #fbf3f9;\n            color:  #000000;\n        }#T_197f6_row1_col2{\n            background-color:  #023e62;\n            color:  #f1f1f1;\n        }#T_197f6_row1_col3,#T_197f6_row3_col1{\n            background-color:  #034f7d;\n            color:  #f1f1f1;\n        }#T_197f6_row1_col4,#T_197f6_row2_col3,#T_197f6_row3_col2,#T_197f6_row4_col1{\n            background-color:  #03476f;\n            color:  #f1f1f1;\n        }#T_197f6_row1_col5,#T_197f6_row7_col2{\n            background-color:  #efe9f3;\n            color:  #000000;\n        }#T_197f6_row1_col6,#T_197f6_row5_col3{\n            background-color:  #f8f1f8;\n            color:  #000000;\n        }#T_197f6_row2_col0,#T_197f6_row4_col7{\n            background-color:  #fdf5fa;\n            color:  #000000;\n        }#T_197f6_row2_col1{\n            background-color:  #023f64;\n            color:  #f1f1f1;\n        }#T_197f6_row2_col4,#T_197f6_row4_col2{\n            background-color:  #034267;\n            color:  #f1f1f1;\n        }#T_197f6_row2_col5{\n            background-color:  #f2ecf5;\n            color:  #000000;\n        }#T_197f6_row2_col6{\n            background-color:  #faf3f9;\n            color:  #000000;\n        }#T_197f6_row3_col4{\n            background-color:  #034b76;\n            color:  #f1f1f1;\n        }#T_197f6_row3_col7{\n            background-color:  #f0eaf4;\n            color:  #000000;\n        }#T_197f6_row4_col3{\n            background-color:  #034c78;\n            color:  #f1f1f1;\n        }#T_197f6_row4_col5{\n            background-color:  #e5e1ef;\n            color:  #000000;\n        }#T_197f6_row4_col6{\n            background-color:  #f4edf6;\n            color:  #000000;\n        }#T_197f6_row5_col0{\n            background-color:  #2081b9;\n            color:  #000000;\n        }#T_197f6_row5_col1{\n            background-color:  #e7e3f0;\n            color:  #000000;\n        }#T_197f6_row5_col2{\n            background-color:  #e8e4f0;\n            color:  #000000;\n        }#T_197f6_row5_col4{\n            background-color:  #d6d6e9;\n            color:  #000000;\n        }#T_197f6_row5_col6{\n            background-color:  #75a9cf;\n            color:  #000000;\n        }#T_197f6_row5_col7{\n            background-color:  #71a8ce;\n            color:  #000000;\n        }#T_197f6_row6_col0{\n            background-color:  #056caa;\n            color:  #f1f1f1;\n        }#T_197f6_row6_col1,#T_197f6_row6_col2{\n            background-color:  #d2d3e7;\n            color:  #000000;\n        }#T_197f6_row6_col3{\n            background-color:  #dbdaeb;\n            color:  #000000;\n        }#T_197f6_row6_col4{\n            background-color:  #c4cbe3;\n            color:  #000000;\n        }#T_197f6_row6_col5{\n            background-color:  #4c99c5;\n            color:  #000000;\n        }#T_197f6_row6_col7{\n            background-color:  #78abd0;\n            color:  #000000;\n        }#T_197f6_row7_col0{\n            background-color:  #056ead;\n            color:  #f1f1f1;\n        }#T_197f6_row7_col1{\n            background-color:  #ede8f3;\n            color:  #000000;\n        }#T_197f6_row7_col3{\n            background-color:  #dfddec;\n            color:  #000000;\n        }#T_197f6_row7_col4{\n            background-color:  #e9e5f1;\n            color:  #000000;\n        }#T_197f6_row7_col5{\n            background-color:  #65a3cb;\n            color:  #000000;\n        }#T_197f6_row7_col6{\n            background-color:  #94b6d7;\n            color:  #000000;\n        }</style><table id=\"T_197f6_\" ><thead>    <tr>        <th class=\"blank level0\" ></th>        <th class=\"col_heading level0 col0\" >mpg</th>        <th class=\"col_heading level0 col1\" >cylinders</th>        <th class=\"col_heading level0 col2\" >displacement</th>        <th class=\"col_heading level0 col3\" >horsepower</th>        <th class=\"col_heading level0 col4\" >weight</th>        <th class=\"col_heading level0 col5\" >acceleration</th>        <th class=\"col_heading level0 col6\" >model_year</th>        <th class=\"col_heading level0 col7\" >origin</th>    </tr></thead><tbody>\n                <tr>\n                        <th id=\"T_197f6_level0_row0\" class=\"row_heading level0 row0\" >mpg</th>\n                        <td id=\"T_197f6_row0_col0\" class=\"data row0 col0\" >1.000000</td>\n                        <td id=\"T_197f6_row0_col1\" class=\"data row0 col1\" >-0.775396</td>\n                        <td id=\"T_197f6_row0_col2\" class=\"data row0 col2\" >-0.804203</td>\n                        <td id=\"T_197f6_row0_col3\" class=\"data row0 col3\" >-0.776858</td>\n                        <td id=\"T_197f6_row0_col4\" class=\"data row0 col4\" >-0.831741</td>\n                        <td id=\"T_197f6_row0_col5\" class=\"data row0 col5\" >0.420289</td>\n                        <td id=\"T_197f6_row0_col6\" class=\"data row0 col6\" >0.579267</td>\n                        <td id=\"T_197f6_row0_col7\" class=\"data row0 col7\" >0.563450</td>\n            </tr>\n            <tr>\n                        <th id=\"T_197f6_level0_row1\" class=\"row_heading level0 row1\" >cylinders</th>\n                        <td id=\"T_197f6_row1_col0\" class=\"data row1 col0\" >-0.775396</td>\n                        <td id=\"T_197f6_row1_col1\" class=\"data row1 col1\" >1.000000</td>\n                        <td id=\"T_197f6_row1_col2\" class=\"data row1 col2\" >0.950721</td>\n                        <td id=\"T_197f6_row1_col3\" class=\"data row1 col3\" >0.843276</td>\n                        <td id=\"T_197f6_row1_col4\" class=\"data row1 col4\" >0.896017</td>\n                        <td id=\"T_197f6_row1_col5\" class=\"data row1 col5\" >-0.505419</td>\n                        <td id=\"T_197f6_row1_col6\" class=\"data row1 col6\" >-0.348746</td>\n                        <td id=\"T_197f6_row1_col7\" class=\"data row1 col7\" >-0.562543</td>\n            </tr>\n            <tr>\n                        <th id=\"T_197f6_level0_row2\" class=\"row_heading level0 row2\" >displacement</th>\n                        <td id=\"T_197f6_row2_col0\" class=\"data row2 col0\" >-0.804203</td>\n                        <td id=\"T_197f6_row2_col1\" class=\"data row2 col1\" >0.950721</td>\n                        <td id=\"T_197f6_row2_col2\" class=\"data row2 col2\" >1.000000</td>\n                        <td id=\"T_197f6_row2_col3\" class=\"data row2 col3\" >0.897568</td>\n                        <td id=\"T_197f6_row2_col4\" class=\"data row2 col4\" >0.932824</td>\n                        <td id=\"T_197f6_row2_col5\" class=\"data row2 col5\" >-0.543684</td>\n                        <td id=\"T_197f6_row2_col6\" class=\"data row2 col6\" >-0.370164</td>\n                        <td id=\"T_197f6_row2_col7\" class=\"data row2 col7\" >-0.609409</td>\n            </tr>\n            <tr>\n                        <th id=\"T_197f6_level0_row3\" class=\"row_heading level0 row3\" >horsepower</th>\n                        <td id=\"T_197f6_row3_col0\" class=\"data row3 col0\" >-0.776858</td>\n                        <td id=\"T_197f6_row3_col1\" class=\"data row3 col1\" >0.843276</td>\n                        <td id=\"T_197f6_row3_col2\" class=\"data row3 col2\" >0.897568</td>\n                        <td id=\"T_197f6_row3_col3\" class=\"data row3 col3\" >1.000000</td>\n                        <td id=\"T_197f6_row3_col4\" class=\"data row3 col4\" >0.864174</td>\n                        <td id=\"T_197f6_row3_col5\" class=\"data row3 col5\" >-0.687536</td>\n                        <td id=\"T_197f6_row3_col6\" class=\"data row3 col6\" >-0.416791</td>\n                        <td id=\"T_197f6_row3_col7\" class=\"data row3 col7\" >-0.450637</td>\n            </tr>\n            <tr>\n                        <th id=\"T_197f6_level0_row4\" class=\"row_heading level0 row4\" >weight</th>\n                        <td id=\"T_197f6_row4_col0\" class=\"data row4 col0\" >-0.831741</td>\n                        <td id=\"T_197f6_row4_col1\" class=\"data row4 col1\" >0.896017</td>\n                        <td id=\"T_197f6_row4_col2\" class=\"data row4 col2\" >0.932824</td>\n                        <td id=\"T_197f6_row4_col3\" class=\"data row4 col3\" >0.864174</td>\n                        <td id=\"T_197f6_row4_col4\" class=\"data row4 col4\" >1.000000</td>\n                        <td id=\"T_197f6_row4_col5\" class=\"data row4 col5\" >-0.417457</td>\n                        <td id=\"T_197f6_row4_col6\" class=\"data row4 col6\" >-0.306564</td>\n                        <td id=\"T_197f6_row4_col7\" class=\"data row4 col7\" >-0.581024</td>\n            </tr>\n            <tr>\n                        <th id=\"T_197f6_level0_row5\" class=\"row_heading level0 row5\" >acceleration</th>\n                        <td id=\"T_197f6_row5_col0\" class=\"data row5 col0\" >0.420289</td>\n                        <td id=\"T_197f6_row5_col1\" class=\"data row5 col1\" >-0.505419</td>\n                        <td id=\"T_197f6_row5_col2\" class=\"data row5 col2\" >-0.543684</td>\n                        <td id=\"T_197f6_row5_col3\" class=\"data row5 col3\" >-0.687536</td>\n                        <td id=\"T_197f6_row5_col4\" class=\"data row5 col4\" >-0.417457</td>\n                        <td id=\"T_197f6_row5_col5\" class=\"data row5 col5\" >1.000000</td>\n                        <td id=\"T_197f6_row5_col6\" class=\"data row5 col6\" >0.288137</td>\n                        <td id=\"T_197f6_row5_col7\" class=\"data row5 col7\" >0.205873</td>\n            </tr>\n            <tr>\n                        <th id=\"T_197f6_level0_row6\" class=\"row_heading level0 row6\" >model_year</th>\n                        <td id=\"T_197f6_row6_col0\" class=\"data row6 col0\" >0.579267</td>\n                        <td id=\"T_197f6_row6_col1\" class=\"data row6 col1\" >-0.348746</td>\n                        <td id=\"T_197f6_row6_col2\" class=\"data row6 col2\" >-0.370164</td>\n                        <td id=\"T_197f6_row6_col3\" class=\"data row6 col3\" >-0.416791</td>\n                        <td id=\"T_197f6_row6_col4\" class=\"data row6 col4\" >-0.306564</td>\n                        <td id=\"T_197f6_row6_col5\" class=\"data row6 col5\" >0.288137</td>\n                        <td id=\"T_197f6_row6_col6\" class=\"data row6 col6\" >1.000000</td>\n                        <td id=\"T_197f6_row6_col7\" class=\"data row6 col7\" >0.180662</td>\n            </tr>\n            <tr>\n                        <th id=\"T_197f6_level0_row7\" class=\"row_heading level0 row7\" >origin</th>\n                        <td id=\"T_197f6_row7_col0\" class=\"data row7 col0\" >0.563450</td>\n                        <td id=\"T_197f6_row7_col1\" class=\"data row7 col1\" >-0.562543</td>\n                        <td id=\"T_197f6_row7_col2\" class=\"data row7 col2\" >-0.609409</td>\n                        <td id=\"T_197f6_row7_col3\" class=\"data row7 col3\" >-0.450637</td>\n                        <td id=\"T_197f6_row7_col4\" class=\"data row7 col4\" >-0.581024</td>\n                        <td id=\"T_197f6_row7_col5\" class=\"data row7 col5\" >0.205873</td>\n                        <td id=\"T_197f6_row7_col6\" class=\"data row7 col6\" >0.180662</td>\n                        <td id=\"T_197f6_row7_col7\" class=\"data row7 col7\" >1.000000</td>\n            </tr>\n    </tbody></table>"
     },
     "execution_count": 150,
     "metadata": {},
     "output_type": "execute_result"
    }
   ],
   "source": [
    "# PCA\n",
    "corr_metrics = cars.corr()\n",
    "corr_metrics.style.background_gradient()\n"
   ],
   "metadata": {
    "collapsed": false,
    "pycharm": {
     "name": "#%%\n"
    }
   }
  },
  {
   "cell_type": "code",
   "execution_count": 209,
   "outputs": [
    {
     "name": "stdout",
     "output_type": "stream",
     "text": [
      "mpg            -0.078149\n",
      "cylinders       0.187239\n",
      "displacement    0.181707\n",
      "horsepower      0.159149\n",
      "weight          0.194529\n",
      "acceleration   -0.029975\n",
      "model_year      0.075725\n",
      "origin         -0.031704\n",
      "dtype: float64\n"
     ]
    },
    {
     "data": {
      "text/plain": "<Figure size 504x504 with 1 Axes>",
      "image/png": "[encoded data removed]"
     },
     "metadata": {},
     "output_type": "display_data"
    }
   ],
   "source": [
    "print(corr_metrics.mean())\n",
    "# pca & logistic regression\n",
    "pca = PCA().fit(normalized_X_train)\n",
    "exp_variance = pca.explained_variance_ratio_\n",
    "\n",
    "xlabels = cars.drop(['origin', 'car_name'], axis=1).columns\n",
    "plt.figure(figsize=(7, 7))\n",
    "plt.title('PCA results')\n",
    "plt.plot(np.arange(len(exp_variance)), exp_variance)\n",
    "plt.xticks(np.arange(len(xlabels)), xlabels, fontsize=10)\n",
    "plt.ylabel('percentage')\n",
    "plt.show()\n"
   ],
   "metadata": {
    "collapsed": false,
    "pycharm": {
     "name": "#%%\n"
    }
   }
  },
  {
   "cell_type": "code",
   "source": [],
   "metadata": {
    "collapsed": false,
    "pycharm": {
     "name": "#%%\n"
    }
   },
   "execution_count": 209,
   "outputs": []
  },
  {
   "cell_type": "markdown",
   "source": [],
   "metadata": {
    "collapsed": false,
    "pycharm": {
     "name": "#%% md\n"
    }
   }
  },
  {
   "cell_type": "code",
   "execution_count": 216,
   "outputs": [
    {
     "name": "stdout",
     "output_type": "stream",
     "text": [
      "Cumulative feature importance [0.72233113 0.84524268 0.94554895 0.97095586]\n",
      "Train Score: 0.7070707070707071\n",
      "Test Score: 0.6722408026755853\n"
     ]
    }
   ],
   "source": [
    "# pca explained variance\n",
    "print('Cumulative feature importance', np.cumsum(pca.explained_variance_ratio_))\n",
    "n_components = 5\n",
    "\n",
    "pca = PCA(n_components=n_components)\n",
    "pipeline = make_pipeline(pca, LogisticRegression(C=10)).fit(normalized_X_train, y_train)\n",
    "print('Train Score:', pipeline.score(normalized_X_train, y_train))\n",
    "print('Test Score:', pipeline.score(normalized_X_test, y_test))\n",
    "\n",
    "pca_x_train = pca.transform(normalized_X_train)\n",
    "pca_x_test = pca.fit_transform(normalized_X_test)"
   ],
   "metadata": {
    "collapsed": false,
    "pycharm": {
     "name": "#%%\n"
    }
   }
  },
  {
   "cell_type": "markdown",
   "source": [
    "Run:\n",
    "- Logistic Regression\n",
    "- LinearSVC\n",
    "- KNearestClassifier\n",
    "- SVC\n",
    "- DecisionTreeClassifier\n",
    "- RandomForestClassifier"
   ],
   "metadata": {
    "collapsed": false,
    "pycharm": {
     "name": "#%% md\n"
    }
   }
  },
  {
   "cell_type": "code",
   "execution_count": 216,
   "outputs": [],
   "source": [],
   "metadata": {
    "collapsed": false,
    "pycharm": {
     "name": "#%%\n"
    }
   }
  },
  {
   "cell_type": "code",
   "execution_count": 219,
   "outputs": [],
   "source": [
    "def find_best_params(clf, name, x, y):\n",
    "    if name == 'KNeighborsClassifier':\n",
    "        parameters = {'n_neighbors': [2, 3, 4, 5, 6, 7],\n",
    "          'weights': ['uniform', 'distance']}\n",
    "    elif 'SVC' in name or name == 'LogisticRegression':\n",
    "        parameters = {'C': [0.001, 0.01, 0.1, 1, 10]}\n",
    "        if name == 'SVC':\n",
    "            parameters['gamma'] = [0.0001, 0.001, 0.01, 0.1, 0.1, 1]\n",
    "    elif name == 'RandomForestClassifier':\n",
    "        parameters = {'n_estimators': [50, 100, 150],\n",
    "                      'criterion': ['gini', 'entropy']}\n",
    "    elif name == 'DecisionTreeClassifier':\n",
    "        parameters = {'criterion': ['gini', 'entropy'],\n",
    "                      'splitter': ['random', 'best']}\n",
    "    return GridSearchCV(clf, parameters, refit=True).fit(x, y)\n",
    "\n",
    "\n",
    "classifiers = [\n",
    "    KNeighborsClassifier(),\n",
    "    LogisticRegression(),\n",
    "    LogisticRegression(penalty='l1', solver='liblinear', max_iter=1e4),\n",
    "    SVC(),\n",
    "    LinearSVC(),\n",
    "    RandomForestClassifier(),\n",
    "    DecisionTreeClassifier()\n",
    "]\n",
    "\n",
    "clf_names = ['KNeighborsClassifier', 'LogisticRegression', 'LogisticRegression','SVC', 'LinearSVC',\n",
    "             'RandomForestClassifier', 'DecisionTreeClassifier']\n",
    "def original_and_pca_results(x, y, x_test, y_test):\n",
    "    tests = []\n",
    "    trains = []\n",
    "\n",
    "    for idx in range(len(classifiers)):\n",
    "        results = find_best_params(classifiers[idx], clf_names[idx], x, y)\n",
    "        trains.append(results.score(x, y))\n",
    "        tests.append(results.score(x_test, y_test))\n",
    "        print(f'{clf_names[idx]}:\\n\\t{results.best_params_}')\n",
    "        print(f'\\tTrain Scores: {trains[idx]}'\n",
    "              f'\\n\\tTest Scores: {tests[idx]}\\n\\n')\n",
    "\n",
    "    return pd.DataFrame({'classifications': clf_names,\n",
    "                                  'train results': trains,\n",
    "                                  'test results': tests})\n"
   ],
   "metadata": {
    "collapsed": false,
    "pycharm": {
     "name": "#%%\n"
    }
   }
  },
  {
   "cell_type": "code",
   "execution_count": 221,
   "outputs": [
    {
     "name": "stdout",
     "output_type": "stream",
     "text": [
      "KNeighborsClassifier:\n",
      "\t{'n_neighbors': 6, 'weights': 'uniform'}\n",
      "\tTrain Scores: 0.8080808080808081\n",
      "\tTest Scores: 0.6555183946488294\n",
      "\n",
      "\n",
      "LogisticRegression:\n",
      "\t{'C': 10}\n",
      "\tTrain Scores: 0.8282828282828283\n",
      "\tTest Scores: 0.7525083612040134\n",
      "\n",
      "\n",
      "LogisticRegression:\n",
      "\t{'C': 10}\n",
      "\tTrain Scores: 0.8181818181818182\n",
      "\tTest Scores: 0.7324414715719063\n",
      "\n",
      "\n",
      "SVC:\n",
      "\t{'C': 10, 'gamma': 1}\n",
      "\tTrain Scores: 0.98989898989899\n",
      "\tTest Scores: 0.68561872909699\n",
      "\n",
      "\n",
      "LinearSVC:\n",
      "\t{'C': 10}\n",
      "\tTrain Scores: 0.8080808080808081\n",
      "\tTest Scores: 0.7357859531772575\n",
      "\n",
      "\n",
      "RandomForestClassifier:\n",
      "\t{'criterion': 'entropy', 'n_estimators': 50}\n",
      "\tTrain Scores: 1.0\n",
      "\tTest Scores: 0.7290969899665551\n",
      "\n",
      "\n",
      "DecisionTreeClassifier:\n",
      "\t{'criterion': 'gini', 'splitter': 'best'}\n",
      "\tTrain Scores: 1.0\n",
      "\tTest Scores: 0.7023411371237458\n",
      "\n",
      "\n",
      "KNeighborsClassifier:\n",
      "\t{'n_neighbors': 3, 'weights': 'distance'}\n",
      "\tTrain Scores: 1.0\n",
      "\tTest Scores: 0.6488294314381271\n",
      "\n",
      "\n",
      "LogisticRegression:\n",
      "\t{'C': 0.1}\n",
      "\tTrain Scores: 0.7474747474747475\n",
      "\tTest Scores: 0.6622073578595318\n",
      "\n",
      "\n",
      "LogisticRegression:\n",
      "\t{'C': 1}\n",
      "\tTrain Scores: 0.7070707070707071\n",
      "\tTest Scores: 0.6488294314381271\n",
      "\n",
      "\n",
      "SVC:\n",
      "\t{'C': 10, 'gamma': 1}\n",
      "\tTrain Scores: 0.9797979797979798\n",
      "\tTest Scores: 0.6020066889632107\n",
      "\n",
      "\n",
      "LinearSVC:\n",
      "\t{'C': 10}\n",
      "\tTrain Scores: 0.7070707070707071\n",
      "\tTest Scores: 0.6521739130434783\n",
      "\n",
      "\n",
      "RandomForestClassifier:\n",
      "\t{'criterion': 'gini', 'n_estimators': 50}\n",
      "\tTrain Scores: 1.0\n",
      "\tTest Scores: 0.6588628762541806\n",
      "\n",
      "\n",
      "DecisionTreeClassifier:\n",
      "\t{'criterion': 'gini', 'splitter': 'best'}\n",
      "\tTrain Scores: 1.0\n",
      "\tTest Scores: 0.6521739130434783\n",
      "\n",
      "\n",
      "Original Data Results:\n",
      "          classifications  train results  test results  difference\n",
      "4               LinearSVC       0.808081      0.735786    0.072295\n",
      "1      LogisticRegression       0.828283      0.752508    0.075774\n",
      "2      LogisticRegression       0.818182      0.732441    0.085740\n",
      "0    KNeighborsClassifier       0.808081      0.655518    0.152562\n",
      "5  RandomForestClassifier       1.000000      0.729097    0.270903\n",
      "6  DecisionTreeClassifier       1.000000      0.702341    0.297659\n",
      "3                     SVC       0.989899      0.685619    0.304280\n",
      "\n",
      "PCA Data Results:\n",
      "          classifications  train results  test results  difference\n",
      "4               LinearSVC       0.707071      0.652174    0.054897\n",
      "2      LogisticRegression       0.707071      0.648829    0.058241\n",
      "1      LogisticRegression       0.747475      0.662207    0.085267\n",
      "5  RandomForestClassifier       1.000000      0.658863    0.341137\n",
      "6  DecisionTreeClassifier       1.000000      0.652174    0.347826\n",
      "0    KNeighborsClassifier       1.000000      0.648829    0.351171\n",
      "3                     SVC       0.979798      0.602007    0.377791\n"
     ]
    },
    {
     "name": "stderr",
     "output_type": "stream",
     "text": [
      "c:\\users\\dinar\\appdata\\local\\programs\\python\\python38\\lib\\site-packages\\sklearn\\svm\\_base.py:985: ConvergenceWarning: Liblinear failed to converge, increase the number of iterations.\n",
      "  warnings.warn(\"Liblinear failed to converge, increase \"\n",
      "c:\\users\\dinar\\appdata\\local\\programs\\python\\python38\\lib\\site-packages\\sklearn\\svm\\_base.py:985: ConvergenceWarning: Liblinear failed to converge, increase the number of iterations.\n",
      "  warnings.warn(\"Liblinear failed to converge, increase \"\n",
      "c:\\users\\dinar\\appdata\\local\\programs\\python\\python38\\lib\\site-packages\\sklearn\\svm\\_base.py:985: ConvergenceWarning: Liblinear failed to converge, increase the number of iterations.\n",
      "  warnings.warn(\"Liblinear failed to converge, increase \"\n",
      "c:\\users\\dinar\\appdata\\local\\programs\\python\\python38\\lib\\site-packages\\sklearn\\svm\\_base.py:985: ConvergenceWarning: Liblinear failed to converge, increase the number of iterations.\n",
      "  warnings.warn(\"Liblinear failed to converge, increase \"\n",
      "c:\\users\\dinar\\appdata\\local\\programs\\python\\python38\\lib\\site-packages\\sklearn\\svm\\_base.py:985: ConvergenceWarning: Liblinear failed to converge, increase the number of iterations.\n",
      "  warnings.warn(\"Liblinear failed to converge, increase \"\n",
      "c:\\users\\dinar\\appdata\\local\\programs\\python\\python38\\lib\\site-packages\\sklearn\\svm\\_base.py:985: ConvergenceWarning: Liblinear failed to converge, increase the number of iterations.\n",
      "  warnings.warn(\"Liblinear failed to converge, increase \"\n",
      "c:\\users\\dinar\\appdata\\local\\programs\\python\\python38\\lib\\site-packages\\sklearn\\svm\\_base.py:985: ConvergenceWarning: Liblinear failed to converge, increase the number of iterations.\n",
      "  warnings.warn(\"Liblinear failed to converge, increase \"\n",
      "c:\\users\\dinar\\appdata\\local\\programs\\python\\python38\\lib\\site-packages\\sklearn\\svm\\_base.py:985: ConvergenceWarning: Liblinear failed to converge, increase the number of iterations.\n",
      "  warnings.warn(\"Liblinear failed to converge, increase \"\n",
      "c:\\users\\dinar\\appdata\\local\\programs\\python\\python38\\lib\\site-packages\\sklearn\\svm\\_base.py:985: ConvergenceWarning: Liblinear failed to converge, increase the number of iterations.\n",
      "  warnings.warn(\"Liblinear failed to converge, increase \"\n",
      "c:\\users\\dinar\\appdata\\local\\programs\\python\\python38\\lib\\site-packages\\sklearn\\svm\\_base.py:985: ConvergenceWarning: Liblinear failed to converge, increase the number of iterations.\n",
      "  warnings.warn(\"Liblinear failed to converge, increase \"\n",
      "c:\\users\\dinar\\appdata\\local\\programs\\python\\python38\\lib\\site-packages\\sklearn\\svm\\_base.py:985: ConvergenceWarning: Liblinear failed to converge, increase the number of iterations.\n",
      "  warnings.warn(\"Liblinear failed to converge, increase \"\n",
      "c:\\users\\dinar\\appdata\\local\\programs\\python\\python38\\lib\\site-packages\\sklearn\\svm\\_base.py:985: ConvergenceWarning: Liblinear failed to converge, increase the number of iterations.\n",
      "  warnings.warn(\"Liblinear failed to converge, increase \"\n"
     ]
    }
   ],
   "source": [
    "# final_results['difference'] = final_results['train results'] - final_results['test results']\n",
    "# final_results.sort_values(by='difference')\n",
    "\n",
    "original_data_results = original_and_pca_results(normalized_X_train, y_train, normalized_X_test, y_test)\n",
    "pca_data_results = original_and_pca_results(pca_x_train, y_train, pca_x_test, y_test)\n",
    "\n",
    "original_data_results['difference'] = original_data_results['train results'] - original_data_results['test results']\n",
    "pca_data_results['difference'] = pca_data_results['train results'] - pca_data_results['test results']\n",
    "\n",
    "print('Original Data Results:')\n",
    "print(original_data_results.sort_values(by='difference'))\n",
    "\n",
    "print('\\nPCA Data Results:')\n",
    "print(pca_data_results.sort_values(by='difference'))"
   ],
   "metadata": {
    "collapsed": false,
    "pycharm": {
     "name": "#%%\n"
    }
   }
  },
  {
   "cell_type": "code",
   "execution_count": 0,
   "outputs": [],
   "source": [],
   "metadata": {
    "collapsed": false,
    "pycharm": {
     "name": "#%%\n"
    }
   }
  },
  {
   "cell_type": "code",
   "execution_count": 0,
   "outputs": [],
   "source": [
    "\n",
    "from sklearn.feature_selection import RFECV\n",
    "\n",
    "X, y = cars.drop(['car_name', 'origin'], axis=1), cars['origin']\n",
    "\n",
    "rfecv = RFECV(estimator=LogisticRegression(max_iter=1e5), cv=5, verbose=True).fit(X, y)\n"
   ],
   "metadata": {
    "collapsed": false,
    "pycharm": {
     "name": "#%%\n"
    }
   }
  },
  {
   "cell_type": "code",
   "execution_count": null,
   "outputs": [],
   "source": [
    "from sklearn.feature_selection import SelectFromModel\n",
    "\n",
    "model = SelectFromModel(LogisticRegression(max_iter=1e5, penalty='l1', solver='liblinear').fit(X, y), prefit=True)\n",
    "X_new = model.transform(X)\n",
    "X_new.shape\n"
   ],
   "metadata": {
    "collapsed": false,
    "pycharm": {
     "name": "#%%\n"
    }
   }
  },
  {
   "cell_type": "code",
   "execution_count": null,
   "outputs": [],
   "source": [
    "from sklearn.discriminant_analysis import LinearDiscriminantAnalysis\n",
    "lda = LinearDiscriminantAnalysis().fit(X, y)\n",
    "print(lda.explained_variance_ratio_)\n",
    "print(lda.means_)\n",
    "print(lda.classes_)"
   ],
   "metadata": {
    "collapsed": false,
    "pycharm": {
     "name": "#%%\n"
    }
   }
  },
  {
   "cell_type": "code",
   "execution_count": null,
   "outputs": [],
   "source": [
    "sns.pairplot(cars, hue='origin')\n"
   ],
   "metadata": {
    "collapsed": false,
    "pycharm": {
     "name": "#%%\n"
    }
   }
  },
  {
   "cell_type": "code",
   "execution_count": 0,
   "outputs": [],
   "source": [],
   "metadata": {
    "collapsed": false,
    "pycharm": {
     "name": "#%%\n"
    }
   }
  },
  {
   "cell_type": "code",
   "execution_count": null,
   "outputs": [],
   "source": [],
   "metadata": {
    "collapsed": false,
    "pycharm": {
     "name": "#%%\n"
    }
   }
  }
 ],
 "metadata": {
  "kernelspec": {
   "display_name": "Python 3",
   "language": "python",
   "name": "python3"
  },
  "language_info": {
   "codemirror_mode": {
    "name": "ipython",
    "version": 2
   },
   "file_extension": ".py",
   "mimetype": "text/x-python",
   "name": "python",
   "nbconvert_exporter": "python",
   "pygments_lexer": "ipython2",
   "version": "2.7.6"
  }
 },
 "nbformat": 4,
 "nbformat_minor": 0
}