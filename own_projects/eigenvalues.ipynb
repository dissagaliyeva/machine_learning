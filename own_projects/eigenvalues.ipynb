{
 "cells": [
  {
   "cell_type": "code",
   "execution_count": 6,
   "metadata": {
    "collapsed": true
   },
   "outputs": [],
   "source": [
    "import numpy as np\n",
    "import pandas as pd\n",
    "import matplotlib.pyplot as plt\n",
    "import seaborn as sns\n",
    "\n",
    "from sklearn.datasets import fetch_california_housing\n",
    "import statsmodels.api as smf\n",
    "\n",
    "%matplotlib inline"
   ]
  },
  {
   "cell_type": "code",
   "execution_count": 7,
   "outputs": [
    {
     "name": "stdout",
     "output_type": "stream",
     "text": [
      ".. _california_housing_dataset:\n",
      "\n",
      "California Housing dataset\n",
      "--------------------------\n",
      "\n",
      "**Data Set Characteristics:**\n",
      "\n",
      "    :Number of Instances: 20640\n",
      "\n",
      "    :Number of Attributes: 8 numeric, predictive attributes and the target\n",
      "\n",
      "    :Attribute Information:\n",
      "        - MedInc        median income in block\n",
      "        - HouseAge      median house age in block\n",
      "        - AveRooms      average number of rooms\n",
      "        - AveBedrms     average number of bedrooms\n",
      "        - Population    block population\n",
      "        - AveOccup      average house occupancy\n",
      "        - Latitude      house block latitude\n",
      "        - Longitude     house block longitude\n",
      "\n",
      "    :Missing Attribute Values: None\n",
      "\n",
      "This dataset was obtained from the StatLib repository.\n",
      "http://lib.stat.cmu.edu/datasets/\n",
      "\n",
      "The target variable is the median house value for California districts.\n",
      "\n",
      "This dataset was derived from the 1990 U.S. census, using one row per census\n",
      "block group. A block group is the smallest geographical unit for which the U.S.\n",
      "Census Bureau publishes sample data (a block group typically has a population\n",
      "of 600 to 3,000 people).\n",
      "\n",
      "It can be downloaded/loaded using the\n",
      ":func:`sklearn.datasets.fetch_california_housing` function.\n",
      "\n",
      ".. topic:: References\n",
      "\n",
      "    - Pace, R. Kelley and Ronald Barry, Sparse Spatial Autoregressions,\n",
      "      Statistics and Probability Letters, 33 (1997) 291-297\n",
      "\n"
     ]
    }
   ],
   "source": [
    "california = fetch_california_housing()\n",
    "print(california.DESCR)\n",
    "\n",
    "dataset = pd.DataFrame(data=california.data, columns=california.feature_names)\n",
    "dataset['target'] = california.target\n",
    "\n",
    "features = california.feature_names\n",
    "X = dataset.drop('target', axis=1).values\n",
    "y = dataset['target'].values\n",
    "\n",
    "sns.set()"
   ],
   "metadata": {
    "collapsed": false,
    "pycharm": {
     "name": "#%%\n"
    }
   }
  },
  {
   "cell_type": "code",
   "execution_count": 15,
   "outputs": [
    {
     "name": "stdout",
     "output_type": "stream",
     "text": [
      "              MedInc  HouseAge  AveRooms  AveBedrms  Population  AveOccup  \\\n",
      "MedInc      1.000000 -0.119034  0.326895  -0.062040    0.004834  0.018766   \n",
      "HouseAge   -0.119034  1.000000 -0.153277  -0.077747   -0.296244  0.013191   \n",
      "AveRooms    0.326895 -0.153277  1.000000   0.847621   -0.072213 -0.004852   \n",
      "AveBedrms  -0.062040 -0.077747  0.847621   1.000000   -0.066197 -0.006181   \n",
      "Population  0.004834 -0.296244 -0.072213  -0.066197    1.000000  0.069863   \n",
      "AveOccup    0.018766  0.013191 -0.004852  -0.006181    0.069863  1.000000   \n",
      "Latitude   -0.079809  0.011173  0.106389   0.069721   -0.108785  0.002366   \n",
      "Longitude  -0.015176 -0.108197 -0.027540   0.013344    0.099773  0.002476   \n",
      "target      0.688075  0.105623  0.151948  -0.046701   -0.024650 -0.023737   \n",
      "\n",
      "            Latitude  Longitude    target  \n",
      "MedInc     -0.079809  -0.015176  0.688075  \n",
      "HouseAge    0.011173  -0.108197  0.105623  \n",
      "AveRooms    0.106389  -0.027540  0.151948  \n",
      "AveBedrms   0.069721   0.013344 -0.046701  \n",
      "Population -0.108785   0.099773 -0.024650  \n",
      "AveOccup    0.002366   0.002476 -0.023737  \n",
      "Latitude    1.000000  -0.924664 -0.144160  \n",
      "Longitude  -0.924664   1.000000 -0.045967  \n",
      "target     -0.144160  -0.045967  1.000000  \n",
      "[2.02694942 1.88129959 0.04558513 0.08160178 0.65938003 1.27109076\n",
      " 1.03103768 1.0030556 ]\n",
      "=========================\n",
      "[ 0.24227053  0.04484583 -0.45881371  0.37987469  0.01316952 -0.00895931\n",
      "  0.55441475  0.52616501]\n",
      "MedInc AveRooms AveBedrms Latitude Longitude\n",
      "=========================\n",
      "[ 0.16923764 -0.0810348  -0.53066164  0.53156581 -0.03167607  0.00324648\n",
      " -0.43179746 -0.461698  ]\n",
      "AveRooms AveBedrms Latitude Longitude\n"
     ]
    }
   ],
   "source": [
    "print(dataset.corr())\n",
    "\n",
    "# eigenvalues and eigenvectors\n",
    "corr = np.corrcoef(X, rowvar=False)\n",
    "eigenvalues, eigenvectors = np.linalg.eig(corr)\n",
    "print(eigenvalues)\n",
    "\n",
    "print('=========================')\n",
    "print(eigenvectors[:, 2])\n",
    "print(features[0], features[2], features[3], features[6], features[7])\n",
    "\n",
    "print('=========================')\n",
    "print(eigenvectors[:, 3])\n",
    "print(features[2], features[3], features[6], features[7])"
   ],
   "metadata": {
    "collapsed": false,
    "pycharm": {
     "name": "#%%\n"
    }
   }
  },
  {
   "cell_type": "code",
   "execution_count": 4,
   "outputs": [],
   "source": [],
   "metadata": {
    "collapsed": false,
    "pycharm": {
     "name": "#%%\n"
    }
   }
  },
  {
   "cell_type": "code",
   "execution_count": 4,
   "outputs": [],
   "source": [],
   "metadata": {
    "collapsed": false,
    "pycharm": {
     "name": "#%%\n"
    }
   }
  },
  {
   "cell_type": "code",
   "execution_count": 4,
   "outputs": [],
   "source": [],
   "metadata": {
    "collapsed": false,
    "pycharm": {
     "name": "#%%\n"
    }
   }
  },
  {
   "cell_type": "code",
   "execution_count": null,
   "outputs": [],
   "source": [],
   "metadata": {
    "collapsed": false,
    "pycharm": {
     "name": "#%%\n"
    }
   }
  }
 ],
 "metadata": {
  "kernelspec": {
   "display_name": "Python 3",
   "language": "python",
   "name": "python3"
  },
  "language_info": {
   "codemirror_mode": {
    "name": "ipython",
    "version": 2
   },
   "file_extension": ".py",
   "mimetype": "text/x-python",
   "name": "python",
   "nbconvert_exporter": "python",
   "pygments_lexer": "ipython2",
   "version": "2.7.6"
  }
 },
 "nbformat": 4,
 "nbformat_minor": 0
}