{
 "cells": [
  {
   "cell_type": "markdown",
   "id": "4b3044d1-e627-402e-aead-8cce0e91a90a",
   "metadata": {},
   "source": [
    "# AdaBoost\n",
    "\n",
    "- <b>Boosting</b>: ensemble method combining several weak learners to form a strong learner\n",
    "- <b>Weak Learner</b>: model doing slightly better than random guessing (Decision Stump whose maximum depth = 1)\n",
    "\n",
    "### AdaBoost and GradientBoosting\n",
    "- train an ensemble of predictors sequentially\n",
    "- each predictor tries to correct its predecessor\n",
    "- In AdaBoost (Adaptive Boosting), each predictor pays more attention to the instances wrongly predicted by its predecessor. Achieves it by changing the weights of training instances\n",
    "\n",
    "\n",
    "ADABOOST -> LEARNING RATE (0 <= LEARNINGRATE <= 1)\n",
    "\n",
    "REWRITE ABOUT ADABOOST & GRADIENTBOOSTING"
   ]
  },
  {
   "cell_type": "code",
   "execution_count": 2,
   "id": "81dc4289-3ec5-4031-99ff-7481c899feb6",
   "metadata": {},
   "outputs": [],
   "source": [
    "import pandas as pd\n",
    "import numpy as np\n",
    "import seaborn as sns\n",
    "import matplotlib.pyplot as plt\n",
    "\n",
    "from sklearn.ensemble import AdaBoostClassifier, GradientBoostingRegressor\n",
    "from sklearn.tree import DecisionTreeClassifier, DecisionTreeRegressor\n",
    "from sklearn.metrics import roc_auc_score, mean_squared_error as MSE\n",
    "from sklearn.model_selection import train_test_split\n",
    "\n",
    "sns.set()"
   ]
  },
  {
   "cell_type": "code",
   "execution_count": 3,
   "id": "eeaed1c3-aeb4-4d86-9e9d-6413f7a8beab",
   "metadata": {},
   "outputs": [],
   "source": [
    "from sklearn.datasets import load_breast_cancer\n",
    "\n",
    "cancer = load_breast_cancer()\n",
    "X, y = cancer.data, cancer.target\n",
    "\n",
    "X_train, X_test, y_train, y_test = train_test_split(X, y, test_size=.3, stratify=y)"
   ]
  },
  {
   "cell_type": "code",
   "execution_count": 4,
   "id": "37abcf99-9682-41ee-9c85-0974e77338ab",
   "metadata": {},
   "outputs": [
    {
     "name": "stdout",
     "output_type": "stream",
     "text": [
      "ROC AUC score: 0.9811623831775701\n"
     ]
    }
   ],
   "source": [
    "dt = DecisionTreeClassifier(max_depth=1)\n",
    "adaboost = AdaBoostClassifier(base_estimator=dt, n_estimators=100)\n",
    "\n",
    "adaboost.fit(X_train, y_train)\n",
    "\n",
    "y_pred_proba = adaboost.predict_proba(X_test)[:, 1]\n",
    "\n",
    "# evaluate test set roc_auc_score\n",
    "adaboost_roc_auc = roc_auc_score(y_test, y_pred_proba)\n",
    "\n",
    "print(f'ROC AUC score: {adaboost_roc_auc}')"
   ]
  },
  {
   "cell_type": "markdown",
   "id": "e6721fd4-1639-42ef-af77-7ea24932ee6f",
   "metadata": {},
   "source": [
    "# GradientBoosting\n",
    "- sequential correction of predecessor's errors\n",
    "- doesn't tweak the weights of training instances (unlike AdaBoost)\n",
    "- fit each predictor is trained using its predecessor's residual errors as labels\n"
   ]
  },
  {
   "cell_type": "code",
   "execution_count": 5,
   "id": "a0aa72fc-2ae7-4f45-9c93-316ef55074eb",
   "metadata": {},
   "outputs": [],
   "source": [
    "auto_mpg = pd.read_csv('datasets/auto_mpg.csv')\n",
    "auto_mpg = pd.get_dummies(auto_mpg, columns=['origin'])\n",
    "X, y = auto_mpg.drop('mpg', axis=1), auto_mpg['mpg']"
   ]
  },
  {
   "cell_type": "code",
   "execution_count": 6,
   "id": "8defd764-a07f-4f31-96e0-feb86d786471",
   "metadata": {},
   "outputs": [
    {
     "name": "stdout",
     "output_type": "stream",
     "text": [
      "MSE: 16.866683838572914\n",
      "RMSE: 4.106906845616652\n",
      "Test score: 0.7189088575104001\n"
     ]
    }
   ],
   "source": [
    "X_train, X_test, y_train, y_test = train_test_split(X, y, test_size=.3)\n",
    "\n",
    "dt = DecisionTreeRegressor(max_depth=2)\n",
    "gradient = GradientBoostingRegressor(n_estimators=300, max_depth=1).fit(X_train, y_train)\n",
    "y_pred = gradient.predict(X_test)\n",
    "mse = MSE(y_test, y_pred)\n",
    "print(f'MSE: {mse}')\n",
    "print(f'RMSE: {np.sqrt(mse)}')\n",
    "print(f'Test score: {gradient.score(X_test, y_test)}')"
   ]
  },
  {
   "cell_type": "markdown",
   "id": "371f6d70-effb-4cf1-9cd0-d80820c7de29",
   "metadata": {},
   "source": [
    "# Stochastic Gradient Boosting (SGB) \n",
    "- each tree is trained on a random subset of rows of the training data\n",
    "- the sampled instances (40-80% of the training set) are sampled without replacement \n",
    "- features are sampled without replacement when choosing split points\n",
    "- result: further ensemble diversity\n",
    "- effect: adding further variance to the ensemble of trees\n",
    "\n",
    "\n",
    "Now define a stochastic-gradient-boosting-regressor named sgbt consisting of 300 decision-stumps. This can be done by setting the parameters max_depth to 1 and n_estimators to 300. Here, the parameter subsample was set to 0-dot-8 in order for each tree to sample 80% of the data for training. Finally, the parameter max_features was set to 0-dot-2 so that each tree uses 20% of available features to perform the best-split. Once done, fit sgbt to the training set and predict the test set labels."
   ]
  },
  {
   "cell_type": "code",
   "execution_count": 7,
   "id": "aadc810c-7cfd-42a4-b468-745e74a2b868",
   "metadata": {},
   "outputs": [
    {
     "name": "stdout",
     "output_type": "stream",
     "text": [
      "MSE: 18.210396357928435\n",
      "RMSE: 4.267364099526596\n",
      "Test score: 0.6965152624885123\n"
     ]
    }
   ],
   "source": [
    "# instantiate a stochastic gradientboosting\n",
    "sgbt = GradientBoostingRegressor(max_depth=1, subsample=.8, max_features=.2, n_estimators=200)\n",
    "sgbt.fit(X_train, y_train)\n",
    "\n",
    "y_pred = sgbt.predict(X_test)\n",
    "mse = MSE(y_test, y_pred)\n",
    "print(f'MSE: {mse}')\n",
    "print(f'RMSE: {np.sqrt(mse)}')\n",
    "print(f'Test score: {sgbt.score(X_test, y_test)}')"
   ]
  },
  {
   "cell_type": "code",
   "execution_count": null,
   "id": "38945da2-a0c0-4b1d-8282-bb4b61f0f59b",
   "metadata": {},
   "outputs": [],
   "source": []
  },
  {
   "cell_type": "code",
   "execution_count": null,
   "id": "18c4d03e-f64e-48f1-bc3f-b79bad856159",
   "metadata": {},
   "outputs": [],
   "source": []
  },
  {
   "cell_type": "code",
   "execution_count": null,
   "id": "7d886a25-cb44-4ecb-88e3-c9086e3c10ce",
   "metadata": {},
   "outputs": [],
   "source": []
  },
  {
   "cell_type": "code",
   "execution_count": null,
   "id": "ed6f55d5-3810-4e47-94b5-c801de0971fc",
   "metadata": {},
   "outputs": [],
   "source": []
  },
  {
   "cell_type": "code",
   "execution_count": null,
   "id": "4aaceecd-6c33-43e3-be22-bea3097907f6",
   "metadata": {},
   "outputs": [],
   "source": []
  }
 ],
 "metadata": {
  "kernelspec": {
   "display_name": "Python 3",
   "language": "python",
   "name": "python3"
  },
  "language_info": {
   "codemirror_mode": {
    "name": "ipython",
    "version": 3
   },
   "file_extension": ".py",
   "mimetype": "text/x-python",
   "name": "python",
   "nbconvert_exporter": "python",
   "pygments_lexer": "ipython3",
   "version": "3.8.5"
  }
 },
 "nbformat": 4,
 "nbformat_minor": 5
}
