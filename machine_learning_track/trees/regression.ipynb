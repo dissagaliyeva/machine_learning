{
 "cells": [
  {
   "cell_type": "markdown",
   "id": "99d202b6-09a6-4c2e-aca0-8413326f6ce1",
   "metadata": {},
   "source": [
    "# Regression Trees"
   ]
  },
  {
   "cell_type": "code",
   "execution_count": 12,
   "id": "09aca246-7b67-4c8b-8add-2682a8499493",
   "metadata": {},
   "outputs": [
    {
     "name": "stdout",
     "output_type": "stream",
     "text": [
      "Collecting mlxtend\n",
      "  Downloading mlxtend-0.18.0-py2.py3-none-any.whl (1.3 MB)\n",
      "\u001b[K     |████████████████████████████████| 1.3 MB 33.7 MB/s eta 0:00:01\n",
      "\u001b[?25hCollecting joblib>=0.13.2\n",
      "  Downloading joblib-1.0.1-py3-none-any.whl (303 kB)\n",
      "\u001b[K     |████████████████████████████████| 303 kB 80.7 MB/s eta 0:00:01\n",
      "\u001b[?25hCollecting numpy>=1.16.2\n",
      "  Downloading numpy-1.20.3-cp38-cp38-manylinux_2_12_x86_64.manylinux2010_x86_64.whl (15.4 MB)\n",
      "\u001b[K     |████████████████████████████████| 15.4 MB 73.0 MB/s eta 0:00:01     |█████████████████████████████▋  | 14.2 MB 73.0 MB/s eta 0:00:01\n",
      "\u001b[?25hCollecting pandas>=0.24.2\n",
      "  Downloading pandas-1.2.4-cp38-cp38-manylinux1_x86_64.whl (9.7 MB)\n",
      "\u001b[K     |████████████████████████████████| 9.7 MB 56.5 MB/s eta 0:00:01\n",
      "\u001b[?25hCollecting scikit-learn>=0.20.3\n",
      "  Downloading scikit_learn-0.24.2-cp38-cp38-manylinux2010_x86_64.whl (24.9 MB)\n",
      "\u001b[K     |████████████████████████████████| 24.9 MB 59.5 MB/s eta 0:00:01\n",
      "\u001b[?25hCollecting setuptools\n",
      "  Downloading setuptools-57.0.0-py3-none-any.whl (821 kB)\n",
      "\u001b[K     |████████████████████████████████| 821 kB 67.6 MB/s eta 0:00:01\n",
      "\u001b[?25hCollecting matplotlib>=3.0.0\n",
      "  Downloading matplotlib-3.4.2-cp38-cp38-manylinux1_x86_64.whl (10.3 MB)\n",
      "\u001b[K     |████████████████████████████████| 10.3 MB 43.4 MB/s eta 0:00:01\n",
      "\u001b[?25hCollecting scipy>=1.2.1\n",
      "  Downloading scipy-1.7.0-cp38-cp38-manylinux_2_5_x86_64.manylinux1_x86_64.whl (28.4 MB)\n",
      "\u001b[K     |████████████████████████████████| 28.4 MB 38.5 MB/s eta 0:00:01\n",
      "\u001b[?25hCollecting cycler>=0.10\n",
      "  Downloading cycler-0.10.0-py2.py3-none-any.whl (6.5 kB)\n",
      "Collecting pillow>=6.2.0\n",
      "  Downloading Pillow-8.2.0-cp38-cp38-manylinux1_x86_64.whl (3.0 MB)\n",
      "\u001b[K     |████████████████████████████████| 3.0 MB 60.7 MB/s eta 0:00:01\n",
      "\u001b[?25hCollecting pyparsing>=2.2.1\n",
      "  Downloading pyparsing-2.4.7-py2.py3-none-any.whl (67 kB)\n",
      "\u001b[K     |████████████████████████████████| 67 kB 10.7 MB/s eta 0:00:01\n",
      "\u001b[?25hCollecting python-dateutil>=2.7\n",
      "  Downloading python_dateutil-2.8.1-py2.py3-none-any.whl (227 kB)\n",
      "\u001b[K     |████████████████████████████████| 227 kB 89.7 MB/s eta 0:00:01\n",
      "\u001b[?25hCollecting kiwisolver>=1.0.1\n",
      "  Downloading kiwisolver-1.3.1-cp38-cp38-manylinux1_x86_64.whl (1.2 MB)\n",
      "\u001b[K     |████████████████████████████████| 1.2 MB 80.2 MB/s eta 0:00:01\n",
      "\u001b[?25hCollecting six\n",
      "  Downloading six-1.16.0-py2.py3-none-any.whl (11 kB)\n",
      "Collecting pytz>=2017.3\n",
      "  Downloading pytz-2021.1-py2.py3-none-any.whl (510 kB)\n",
      "\u001b[K     |████████████████████████████████| 510 kB 72.2 MB/s eta 0:00:01\n",
      "\u001b[?25hCollecting threadpoolctl>=2.0.0\n",
      "  Downloading threadpoolctl-2.1.0-py3-none-any.whl (12 kB)\n",
      "Installing collected packages: six, numpy, threadpoolctl, scipy, pytz, python-dateutil, pyparsing, pillow, kiwisolver, joblib, cycler, setuptools, scikit-learn, pandas, matplotlib, mlxtend\n",
      "\u001b[31mERROR: pip's dependency resolver does not currently take into account all the packages that are installed. This behaviour is the source of the following dependency conflicts.\n",
      "tensorflow 2.4.1 requires numpy~=1.19.2, but you have numpy 1.20.3 which is incompatible.\n",
      "tensorflow 2.4.1 requires six~=1.15.0, but you have six 1.16.0 which is incompatible.\n",
      "pythonwhat 2.23.1 requires dill~=0.2.7.1, but you have dill 0.3.3 which is incompatible.\u001b[0m\n",
      "Successfully installed cycler-0.10.0 joblib-1.0.1 kiwisolver-1.3.1 matplotlib-3.4.2 mlxtend-0.18.0 numpy-1.20.3 pandas-1.2.4 pillow-8.2.0 pyparsing-2.4.7 python-dateutil-2.8.1 pytz-2021.1 scikit-learn-0.24.2 scipy-1.7.0 setuptools-57.0.0 six-1.16.0 threadpoolctl-2.1.0\n"
     ]
    }
   ],
   "source": [
    "# install the package for visualizations\n",
    "!pip install mlxtend"
   ]
  },
  {
   "cell_type": "code",
   "execution_count": 5,
   "id": "7aa4a84f-fbd4-4106-96a1-6f6f2be15d00",
   "metadata": {},
   "outputs": [],
   "source": [
    "import numpy as np\n",
    "import pandas as pd\n",
    "import seaborn as sns\n",
    "import matplotlib.pyplot as plt\n",
    "\n",
    "from sklearn.tree import DecisionTreeRegressor\n",
    "from sklearn.linear_model import LinearRegression\n",
    "from sklearn.model_selection import train_test_split\n",
    "from sklearn.metrics import mean_squared_error as MSE\n",
    "\n",
    "sns.set()\n",
    "%matplotlib inline"
   ]
  },
  {
   "cell_type": "code",
   "execution_count": 2,
   "id": "94a42120-016b-4c0e-9312-1b7998a54416",
   "metadata": {},
   "outputs": [
    {
     "name": "stdout",
     "output_type": "stream",
     "text": [
      "<class 'pandas.core.frame.DataFrame'>\n",
      "RangeIndex: 392 entries, 0 to 391\n",
      "Data columns (total 7 columns):\n",
      " #   Column  Non-Null Count  Dtype  \n",
      "---  ------  --------------  -----  \n",
      " 0   mpg     392 non-null    float64\n",
      " 1   displ   392 non-null    float64\n",
      " 2   hp      392 non-null    int64  \n",
      " 3   weight  392 non-null    int64  \n",
      " 4   accel   392 non-null    float64\n",
      " 5   origin  392 non-null    object \n",
      " 6   size    392 non-null    float64\n",
      "dtypes: float64(4), int64(2), object(1)\n",
      "memory usage: 21.6+ KB\n",
      "None\n"
     ]
    },
    {
     "data": {
      "text/html": [
       "<div>\n",
       "<style scoped>\n",
       "    .dataframe tbody tr th:only-of-type {\n",
       "        vertical-align: middle;\n",
       "    }\n",
       "\n",
       "    .dataframe tbody tr th {\n",
       "        vertical-align: top;\n",
       "    }\n",
       "\n",
       "    .dataframe thead th {\n",
       "        text-align: right;\n",
       "    }\n",
       "</style>\n",
       "<table border=\"1\" class=\"dataframe\">\n",
       "  <thead>\n",
       "    <tr style=\"text-align: right;\">\n",
       "      <th></th>\n",
       "      <th>mpg</th>\n",
       "      <th>displ</th>\n",
       "      <th>hp</th>\n",
       "      <th>weight</th>\n",
       "      <th>accel</th>\n",
       "      <th>origin</th>\n",
       "      <th>size</th>\n",
       "    </tr>\n",
       "  </thead>\n",
       "  <tbody>\n",
       "    <tr>\n",
       "      <th>0</th>\n",
       "      <td>18.0</td>\n",
       "      <td>250.0</td>\n",
       "      <td>88</td>\n",
       "      <td>3139</td>\n",
       "      <td>14.5</td>\n",
       "      <td>US</td>\n",
       "      <td>15.0</td>\n",
       "    </tr>\n",
       "    <tr>\n",
       "      <th>1</th>\n",
       "      <td>9.0</td>\n",
       "      <td>304.0</td>\n",
       "      <td>193</td>\n",
       "      <td>4732</td>\n",
       "      <td>18.5</td>\n",
       "      <td>US</td>\n",
       "      <td>20.0</td>\n",
       "    </tr>\n",
       "    <tr>\n",
       "      <th>2</th>\n",
       "      <td>36.1</td>\n",
       "      <td>91.0</td>\n",
       "      <td>60</td>\n",
       "      <td>1800</td>\n",
       "      <td>16.4</td>\n",
       "      <td>Asia</td>\n",
       "      <td>10.0</td>\n",
       "    </tr>\n",
       "  </tbody>\n",
       "</table>\n",
       "</div>"
      ],
      "text/plain": [
       "    mpg  displ   hp  weight  accel origin  size\n",
       "0  18.0  250.0   88    3139   14.5     US  15.0\n",
       "1   9.0  304.0  193    4732   18.5     US  20.0\n",
       "2  36.1   91.0   60    1800   16.4   Asia  10.0"
      ]
     },
     "execution_count": 2,
     "metadata": {},
     "output_type": "execute_result"
    }
   ],
   "source": [
    "auto_mpg = pd.read_csv('datasets/auto_mpg.csv')\n",
    "print(auto_mpg.info())\n",
    "auto_mpg.head(3)"
   ]
  },
  {
   "cell_type": "code",
   "execution_count": 3,
   "id": "897397b6-9a26-4e8f-8aa4-52d3cfa1d75a",
   "metadata": {},
   "outputs": [
    {
     "name": "stdout",
     "output_type": "stream",
     "text": [
      "      mpg  displ  hp  weight  accel origin  size\n",
      "370  27.0   97.0  88    2130   14.5   Asia  10.0\n",
      "\n",
      "Showing the duplications...\n",
      "      mpg  displ  hp  weight  accel origin  size\n",
      "158  27.0   97.0  88    2130   14.5   Asia  10.0\n",
      "370  27.0   97.0  88    2130   14.5   Asia  10.0\n"
     ]
    }
   ],
   "source": [
    "# check for missing or inappropriate values\n",
    "non_missing_columns = auto_mpg.drop('origin', axis=1).columns\n",
    "for col in non_missing_columns:\n",
    "    missing = len(auto_mpg[auto_mpg[col] <= 0])\n",
    "    if missing:\n",
    "        print(f'Column {col} has {missing} missing columns')\n",
    "\n",
    "# check for duplicates\n",
    "print(auto_mpg[auto_mpg.duplicated()])\n",
    "\n",
    "# display the duplications\n",
    "print('\\nShowing the duplications...')\n",
    "print(auto_mpg[(auto_mpg['origin'] == 'Asia') & (auto_mpg['mpg'] == 27.0) & (auto_mpg['hp'] == 88) & (auto_mpg['accel'] == 14.5)])"
   ]
  },
  {
   "cell_type": "code",
   "execution_count": null,
   "id": "e209c777-1cc4-4bcd-a462-4788bb751a18",
   "metadata": {},
   "outputs": [],
   "source": []
  },
  {
   "cell_type": "code",
   "execution_count": 4,
   "id": "7f511fe5-fb31-45a5-9aa3-2af75a78bbc8",
   "metadata": {},
   "outputs": [
    {
     "data": {
      "image/png": "[encoded data removed]",
      "text/plain": [
       "<Figure size 432x288 with 1 Axes>"
      ]
     },
     "metadata": {
      "needs_background": "light"
     },
     "output_type": "display_data"
    }
   ],
   "source": [
    "_ = plt.scatter(data=auto_mpg, x='mpg', y='displ', alpha=.5)\n",
    "_ = plt.xlabel('mpg')\n",
    "_ = plt.ylabel('displ')\n",
    "_ = plt.title('MPG & Displacement Relationship')\n",
    "plt.show()"
   ]
  },
  {
   "cell_type": "code",
   "execution_count": 7,
   "id": "23d6f09e-66cd-4646-82ff-2ac430423c6c",
   "metadata": {},
   "outputs": [
    {
     "name": "stdout",
     "output_type": "stream",
     "text": [
      "Test score: 0.9497523289600286\n",
      "Test MSE: 0.8190868381425971\n",
      "Test RMSE: 0.9050341640748139\n"
     ]
    }
   ],
   "source": [
    "auto_mpg.origin = auto_mpg.origin.astype('category')\n",
    "auto_mpg.origin = auto_mpg.origin.cat.codes\n",
    "\n",
    "X, y = auto_mpg.drop('size', axis=1), auto_mpg['size']\n",
    "X_train, X_test, y_train, y_test = train_test_split(X, y, test_size=.3)\n",
    "\n",
    "dt = DecisionTreeRegressor(max_depth=3).fit(X_train, y_train)\n",
    "print(f'Test score: {dt.score(X_test, y_test)}')\n",
    "print(f'Test MSE: {MSE(y_test, dt.predict(X_test))}')\n",
    "print(f'Test RMSE: {np.sqrt(MSE(y_test, dt.predict(X_test)))}')"
   ]
  },
  {
   "cell_type": "code",
   "execution_count": null,
   "id": "021cc481-622b-4e65-949a-bf357be73f63",
   "metadata": {},
   "outputs": [],
   "source": []
  },
  {
   "cell_type": "code",
   "execution_count": null,
   "id": "6c28c1bb-1eba-4f53-9785-60c4bd0b2a6a",
   "metadata": {},
   "outputs": [],
   "source": []
  }
 ],
 "metadata": {
  "kernelspec": {
   "display_name": "Python 3",
   "language": "python",
   "name": "python3"
  },
  "language_info": {
   "codemirror_mode": {
    "name": "ipython",
    "version": 3
   },
   "file_extension": ".py",
   "mimetype": "text/x-python",
   "name": "python",
   "nbconvert_exporter": "python",
   "pygments_lexer": "ipython3",
   "version": "3.8.5"
  }
 },
 "nbformat": 4,
 "nbformat_minor": 5
}
