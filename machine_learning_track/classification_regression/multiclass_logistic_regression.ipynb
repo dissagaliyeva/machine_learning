{
 "cells": [
  {
   "cell_type": "markdown",
   "metadata": {
    "collapsed": true,
    "pycharm": {
     "name": "#%% md\n"
    }
   },
   "source": [
    "### Multiclass Logistic Regression\n"
   ]
  },
  {
   "cell_type": "code",
   "execution_count": 2,
   "outputs": [],
   "source": [
    "import pandas as pd\n",
    "import numpy as np\n",
    "import matplotlib.pyplot as plt\n",
    "import seaborn as sns\n",
    "\n",
    "%matplotlib inline\n",
    "sns.set()\n"
   ],
   "metadata": {
    "collapsed": false,
    "pycharm": {
     "name": "#%%\n"
    }
   }
  },
  {
   "cell_type": "code",
   "execution_count": 3,
   "outputs": [
    {
     "data": {
      "text/plain": "<Figure size 432x288 with 1 Axes>",
      "image/png": "[encoded data removed]"
     },
     "metadata": {},
     "output_type": "display_data"
    }
   ],
   "source": [
    "# one-vs-all\n",
    "from sklearn.model_selection import train_test_split\n",
    "from sklearn.datasets import make_classification\n",
    "\n",
    "X, y = make_classification(n_samples=200, n_features=2, n_classes=3, n_informative=2,\n",
    "                           n_redundant=0, n_clusters_per_class=1, class_sep=2.0, random_state=101)\n",
    "plt.scatter(X[:, 0], X[:, 1], marker='o', c=y, linewidths=0, edgecolors=None)\n",
    "plt.show()\n"
   ],
   "metadata": {
    "collapsed": false,
    "pycharm": {
     "name": "#%%\n"
    }
   }
  },
  {
   "cell_type": "code",
   "execution_count": 4,
   "outputs": [
    {
     "name": "stdout",
     "output_type": "stream",
     "text": [
      "              precision    recall  f1-score   support\n",
      "\n",
      "           0       1.00      1.00      1.00        20\n",
      "           1       1.00      1.00      1.00        20\n",
      "           2       1.00      1.00      1.00        20\n",
      "\n",
      "    accuracy                           1.00        60\n",
      "   macro avg       1.00      1.00      1.00        60\n",
      "weighted avg       1.00      1.00      1.00        60\n",
      "\n"
     ]
    }
   ],
   "source": [
    "from sklearn.linear_model import LogisticRegression\n",
    "from sklearn.metrics import classification_report\n",
    "\n",
    "X_train, X_test, y_train, y_test = train_test_split(X, y, test_size=0.3, random_state=101)\n",
    "clf = LogisticRegression().fit(X_train, y_train)\n",
    "y_pred = clf.predict(X_test)\n",
    "\n",
    "print(classification_report(y_test, y_pred))"
   ],
   "metadata": {
    "collapsed": false,
    "pycharm": {
     "name": "#%%\n"
    }
   }
  },
  {
   "cell_type": "code",
   "execution_count": 5,
   "outputs": [
    {
     "name": "stdout",
     "output_type": "stream",
     "text": [
      "[-3.26744968  1.19639333]\n",
      "0\n",
      "0\n",
      "[[0.85566647 0.13526263 0.0090709 ]]\n"
     ]
    }
   ],
   "source": [
    "# predict one variable & look at results (PROBABILITIES)\n",
    "print(X_test[0])\n",
    "print(y_test[0])\n",
    "print(y_pred[0])\n",
    "\n",
    "print(clf.predict_proba(X_test[0].reshape(1, -1)))"
   ],
   "metadata": {
    "collapsed": false,
    "pycharm": {
     "name": "#%%\n"
    }
   }
  },
  {
   "cell_type": "code",
   "execution_count": 6,
   "outputs": [],
   "source": [
    "# hardcore version w/ statsmodels\n",
    "\n",
    "X, y = make_classification(n_samples=10000, n_features=10, n_informative=10, n_redundant=0, random_state=101)"
   ],
   "metadata": {
    "collapsed": false,
    "pycharm": {
     "name": "#%%\n"
    }
   }
  },
  {
   "cell_type": "code",
   "execution_count": 7,
   "outputs": [
    {
     "name": "stdout",
     "output_type": "stream",
     "text": [
      "Optimization terminated successfully.\n",
      "         Current function value: 0.438685\n",
      "         Iterations 7\n"
     ]
    }
   ],
   "source": [
    "import statsmodels.api as sm\n",
    "\n",
    "Xc = sm.add_constant(X)\n",
    "logistic_regression = sm.Logit(y, Xc)\n",
    "fitted_model = logistic_regression.fit()\n"
   ],
   "metadata": {
    "collapsed": false,
    "pycharm": {
     "name": "#%%\n"
    }
   }
  },
  {
   "cell_type": "code",
   "execution_count": 8,
   "outputs": [
    {
     "data": {
      "text/plain": "<class 'statsmodels.iolib.summary.Summary'>\n\"\"\"\n                           Logit Regression Results                           \n==============================================================================\nDep. Variable:                      y   No. Observations:                10000\nModel:                          Logit   Df Residuals:                     9989\nMethod:                           MLE   Df Model:                           10\nDate:                Sun, 21 Mar 2021   Pseudo R-squ.:                  0.3671\nTime:                        17:32:11   Log-Likelihood:                -4386.8\nconverged:                       True   LL-Null:                       -6931.5\nCovariance Type:            nonrobust   LLR p-value:                     0.000\n==============================================================================\n                 coef    std err          z      P>|z|      [0.025      0.975]\n------------------------------------------------------------------------------\nconst          0.4299      0.039     11.023      0.000       0.353       0.506\nx1             0.0671      0.015      4.410      0.000       0.037       0.097\nx2            -0.7828      0.019    -41.947      0.000      -0.819      -0.746\nx3             0.1221      0.016      7.815      0.000       0.091       0.153\nx4             0.2841      0.016     18.150      0.000       0.253       0.315\nx5             0.1469      0.014     10.283      0.000       0.119       0.175\nx6            -0.3414      0.019    -17.636      0.000      -0.379      -0.303\nx7             0.0503      0.014      3.481      0.000       0.022       0.079\nx8            -0.1393      0.014     -9.642      0.000      -0.168      -0.111\nx9             0.1127      0.014      7.931      0.000       0.085       0.141\nx10           -0.4792      0.018    -27.340      0.000      -0.514      -0.445\n==============================================================================\n\"\"\"",
      "text/html": "<table class=\"simpletable\">\n<caption>Logit Regression Results</caption>\n<tr>\n  <th>Dep. Variable:</th>           <td>y</td>        <th>  No. Observations:  </th>  <td> 10000</td> \n</tr>\n<tr>\n  <th>Model:</th>                 <td>Logit</td>      <th>  Df Residuals:      </th>  <td>  9989</td> \n</tr>\n<tr>\n  <th>Method:</th>                 <td>MLE</td>       <th>  Df Model:          </th>  <td>    10</td> \n</tr>\n<tr>\n  <th>Date:</th>            <td>Sun, 21 Mar 2021</td> <th>  Pseudo R-squ.:     </th>  <td>0.3671</td> \n</tr>\n<tr>\n  <th>Time:</th>                <td>17:32:11</td>     <th>  Log-Likelihood:    </th> <td> -4386.8</td>\n</tr>\n<tr>\n  <th>converged:</th>             <td>True</td>       <th>  LL-Null:           </th> <td> -6931.5</td>\n</tr>\n<tr>\n  <th>Covariance Type:</th>     <td>nonrobust</td>    <th>  LLR p-value:       </th>  <td> 0.000</td> \n</tr>\n</table>\n<table class=\"simpletable\">\n<tr>\n    <td></td>       <th>coef</th>     <th>std err</th>      <th>z</th>      <th>P>|z|</th>  <th>[0.025</th>    <th>0.975]</th>  \n</tr>\n<tr>\n  <th>const</th> <td>    0.4299</td> <td>    0.039</td> <td>   11.023</td> <td> 0.000</td> <td>    0.353</td> <td>    0.506</td>\n</tr>\n<tr>\n  <th>x1</th>    <td>    0.0671</td> <td>    0.015</td> <td>    4.410</td> <td> 0.000</td> <td>    0.037</td> <td>    0.097</td>\n</tr>\n<tr>\n  <th>x2</th>    <td>   -0.7828</td> <td>    0.019</td> <td>  -41.947</td> <td> 0.000</td> <td>   -0.819</td> <td>   -0.746</td>\n</tr>\n<tr>\n  <th>x3</th>    <td>    0.1221</td> <td>    0.016</td> <td>    7.815</td> <td> 0.000</td> <td>    0.091</td> <td>    0.153</td>\n</tr>\n<tr>\n  <th>x4</th>    <td>    0.2841</td> <td>    0.016</td> <td>   18.150</td> <td> 0.000</td> <td>    0.253</td> <td>    0.315</td>\n</tr>\n<tr>\n  <th>x5</th>    <td>    0.1469</td> <td>    0.014</td> <td>   10.283</td> <td> 0.000</td> <td>    0.119</td> <td>    0.175</td>\n</tr>\n<tr>\n  <th>x6</th>    <td>   -0.3414</td> <td>    0.019</td> <td>  -17.636</td> <td> 0.000</td> <td>   -0.379</td> <td>   -0.303</td>\n</tr>\n<tr>\n  <th>x7</th>    <td>    0.0503</td> <td>    0.014</td> <td>    3.481</td> <td> 0.000</td> <td>    0.022</td> <td>    0.079</td>\n</tr>\n<tr>\n  <th>x8</th>    <td>   -0.1393</td> <td>    0.014</td> <td>   -9.642</td> <td> 0.000</td> <td>   -0.168</td> <td>   -0.111</td>\n</tr>\n<tr>\n  <th>x9</th>    <td>    0.1127</td> <td>    0.014</td> <td>    7.931</td> <td> 0.000</td> <td>    0.085</td> <td>    0.141</td>\n</tr>\n<tr>\n  <th>x10</th>   <td>   -0.4792</td> <td>    0.018</td> <td>  -27.340</td> <td> 0.000</td> <td>   -0.514</td> <td>   -0.445</td>\n</tr>\n</table>"
     },
     "execution_count": 8,
     "metadata": {},
     "output_type": "execute_result"
    }
   ],
   "source": [
    "fitted_model.summary()"
   ],
   "metadata": {
    "collapsed": false,
    "pycharm": {
     "name": "#%%\n"
    }
   }
  },
  {
   "cell_type": "markdown",
   "source": [
    "- Converged: whether the model reached conversion. Use this model iff it's true\n",
    "- LL-Null: LogLikelihood when only the intercept is used as a predictor\n",
    "- LLR p-value: chi-squared probability of getting log-likelihood ratio statistically greater\n",
    "than LLR.\n",
    "\n",
    "THE BELOW CODE PRODUCES THE SAME RESULTS AS STATSMODELS!!!!!!!!!!!!!!!"
   ],
   "metadata": {
    "collapsed": false,
    "pycharm": {
     "name": "#%% md\n"
    }
   }
  },
  {
   "cell_type": "code",
   "execution_count": 9,
   "outputs": [
    {
     "name": "stdout",
     "output_type": "stream",
     "text": [
      "These are our final standardized coefficients: [ 0.42991408  0.0670771  -0.78279578  0.12208733  0.28410285  0.14689341\n",
      " -0.34143436  0.05031078 -0.1393206   0.11267402 -0.47916908]\n",
      "Reached after 431 iterations\n"
     ]
    }
   ],
   "source": [
    "# Stochastic Gradient Descent\n",
    "from sklearn.preprocessing import StandardScaler\n",
    "\n",
    "observations = len(X)\n",
    "variables = ['VAR' + str(i + 1) for i in range(10)]\n",
    "\n",
    "def random_w(p):\n",
    "    return np.array([np.random.normal() for j in range(p)])\n",
    "\n",
    "def sigmoid(X, w):\n",
    "    return 1. / (1. + np.exp(-np.dot(X, w)))\n",
    "\n",
    "def hypothesis(X, w):\n",
    "    return np.dot(X, w)\n",
    "\n",
    "def loss(X, w, y):\n",
    "    return hypothesis(X, w) - y\n",
    "\n",
    "def logit_loss(X, w, y):\n",
    "    return sigmoid(X, w) - y\n",
    "\n",
    "def squared_loss(X, w, y):\n",
    "    return loss(X, w, y)**2\n",
    "\n",
    "def gradient(X, w, y, loss_type=squared_loss):\n",
    "    gradients = list()\n",
    "    n = float(len(y))\n",
    "\n",
    "    for j in range(len(w)):\n",
    "        gradients.append(np.sum(loss_type(X, w, y) * X[:, j]) / n)\n",
    "    return gradients\n",
    "\n",
    "def update(X, w, y, alpha=0.01, loss_type=squared_loss):\n",
    "    return [t - alpha * g for t, g in zip(w, gradient(X, w, y, loss_type))]\n",
    "\n",
    "def optimize(X, y, alpha=0.01, eta=10**-12, loss_type=squared_loss, iterations=1000):\n",
    "    standardize = StandardScaler()\n",
    "    Xst = standardize.fit_transform(X)\n",
    "    orig_means, orig_stds = standardize.mean_, np.sqrt(standardize.var_)\n",
    "    Xst = np.column_stack((Xst, np.ones(observations)))\n",
    "    w = random_w(Xst.shape[1])\n",
    "    path = list()\n",
    "    for k in range(iterations):\n",
    "        SSL = np.sum(squared_loss(Xst, w, y))\n",
    "        new_w = update(Xst, w, y, alpha=alpha, loss_type=logit_loss)\n",
    "        new_SSL = np.sum(squared_loss(Xst, new_w, y))\n",
    "        w = new_w\n",
    "\n",
    "        if k >= 5 and (-eta <= new_SSL - SSL <= eta):\n",
    "            path.append(new_SSL)\n",
    "            break\n",
    "        if k % (iterations / 20) == 0:\n",
    "            path.append(new_SSL)\n",
    "    unstandardized_beta = w[:-1] / orig_stds\n",
    "    unstandardized_bias = w[-1] - np.sum((orig_means / orig_stds) * w[:-1])\n",
    "    return np.insert(unstandardized_beta, 0, unstandardized_bias), path, k\n",
    "\n",
    "alpha = 1\n",
    "w, path, iterations = optimize(X, y, alpha, eta=10**-5, loss_type=logit_loss, iterations=10000)\n",
    "print (\"These are our final standardized coefficients: %s\" % w)\n",
    "print (\"Reached after %i iterations\" % (iterations+1))\n"
   ],
   "metadata": {
    "collapsed": false,
    "pycharm": {
     "name": "#%%\n"
    }
   }
  },
  {
   "cell_type": "markdown",
   "source": [
    "## Finally, there are two versions to implement Logistic Regression with sklearn\n",
    "### First, we will set the parameter extremely high (unregularized, since C is high) & the stopping parameter is extremely low\n"
   ],
   "metadata": {
    "collapsed": false,
    "pycharm": {
     "name": "#%% md\n"
    }
   }
  },
  {
   "cell_type": "code",
   "execution_count": 10,
   "outputs": [
    {
     "name": "stderr",
     "output_type": "stream",
     "text": [
      "[Parallel(n_jobs=1)]: Using backend SequentialBackend with 1 concurrent workers.\n",
      "[Parallel(n_jobs=1)]: Done   1 out of   1 | elapsed:    0.0s finished\n"
     ]
    },
    {
     "data": {
      "text/plain": "[0.4299012423792896,\n 0.06707352255219637,\n -0.7828068660348314,\n 0.12207683046267784,\n 0.2841051532346542,\n 0.14689221213394837,\n -0.3414278427793168,\n 0.05031700448004044,\n -0.13932062352365443,\n 0.11267792044953356,\n -0.47917035048372325]"
     },
     "execution_count": 10,
     "metadata": {},
     "output_type": "execute_result"
    }
   ],
   "source": [
    "clf = LogisticRegression(C=1e4, tol=1e-25, random_state=101, verbose=1).fit(X, y)\n",
    "coeffs = [clf.intercept_[0]]\n",
    "coeffs.extend(clf.coef_[0])\n",
    "coeffs"
   ],
   "metadata": {
    "collapsed": false,
    "pycharm": {
     "name": "#%%\n"
    }
   }
  },
  {
   "cell_type": "markdown",
   "source": [
    "As the last model, we try the Scikit-learn implementation of the SGD. Getting the same\n",
    "weights is really tricky, since the model is really complex, and the parameters should be\n",
    "optimized for performance, not for obtaining the same result as for the closed form\n",
    "approach. So, use this example to understand the coefficients in the model, but not for\n",
    "training a real-world model:\n"
   ],
   "metadata": {
    "collapsed": false,
    "pycharm": {
     "name": "#%% md\n"
    }
   }
  },
  {
   "cell_type": "code",
   "execution_count": 13,
   "outputs": [
    {
     "data": {
      "text/plain": "[0.46899468279920253,\n 0.00033201566276647664,\n -0.7282428225698582,\n 0.10041705196268745,\n 0.3136344890631779,\n 0.12452641661307057,\n -0.31448581678039733,\n 0.031239324298437413,\n -0.18865677154380447,\n 0.10925581628463515,\n -0.4905617076271181]"
     },
     "execution_count": 13,
     "metadata": {},
     "output_type": "execute_result"
    }
   ],
   "source": [
    "from sklearn.linear_model import SGDClassifier\n",
    "clf = SGDClassifier(loss='log', alpha=1e-4, n_iter_no_change=1e2, random_state=101, verbose=0).fit(X, y)\n",
    "coeffs = [clf.intercept_[0]]\n",
    "coeffs.extend(clf.coef_[0])\n",
    "coeffs"
   ],
   "metadata": {
    "collapsed": false,
    "pycharm": {
     "name": "#%%\n"
    }
   }
  },
  {
   "cell_type": "code",
   "execution_count": 12,
   "outputs": [
    {
     "data": {
      "text/plain": "<Figure size 432x288 with 1 Axes>",
      "image/png": "[encoded data removed]"
     },
     "metadata": {},
     "output_type": "display_data"
    }
   ],
   "source": [
    "from sklearn.svm import SVC\n",
    "from sklearn.feature_selection import RFECV\n",
    "from sklearn.model_selection import StratifiedKFold\n",
    "\n",
    "svc = SVC(kernel='linear')\n",
    "min_features = 1\n",
    "rfecv = RFECV(estimator=svc, step=1, cv=StratifiedKFold(5),\n",
    "              scoring='accuracy', min_features_to_select=min_features).fit(X, y)\n",
    "\n",
    "optimal_features = rfecv.n_features_\n",
    "plt.title(f'Optimal number of features: {optimal_features}', fontsize=16)\n",
    "plt.plot(range(min_features, len(rfecv.grid_scores_) + min_features), rfecv.grid_scores_)\n",
    "plt.xlabel('Number of features')\n",
    "plt.ylabel('Score')\n",
    "plt.show()\n"
   ],
   "metadata": {
    "collapsed": false,
    "pycharm": {
     "name": "#%%\n"
    }
   }
  },
  {
   "cell_type": "code",
   "execution_count": 12,
   "outputs": [],
   "source": [],
   "metadata": {
    "collapsed": false,
    "pycharm": {
     "name": "#%%\n"
    }
   }
  },
  {
   "cell_type": "code",
   "execution_count": 1,
   "outputs": [],
   "source": [],
   "metadata": {
    "collapsed": false,
    "pycharm": {
     "name": "#%%\n"
    }
   }
  },
  {
   "cell_type": "code",
   "execution_count": null,
   "outputs": [],
   "source": [],
   "metadata": {
    "collapsed": false,
    "pycharm": {
     "name": "#%%\n"
    }
   }
  }
 ],
 "metadata": {
  "kernelspec": {
   "display_name": "Python 3",
   "language": "python",
   "name": "python3"
  },
  "language_info": {
   "codemirror_mode": {
    "name": "ipython",
    "version": 2
   },
   "file_extension": ".py",
   "mimetype": "text/x-python",
   "name": "python",
   "nbconvert_exporter": "python",
   "pygments_lexer": "ipython2",
   "version": "2.7.6"
  }
 },
 "nbformat": 4,
 "nbformat_minor": 0
}