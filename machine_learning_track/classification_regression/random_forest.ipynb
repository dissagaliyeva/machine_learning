{
 "cells": [
  {
   "cell_type": "markdown",
   "metadata": {
    "collapsed": true,
    "pycharm": {
     "name": "#%% md\n"
    }
   },
   "source": []
  },
  {
   "cell_type": "code",
   "execution_count": 51,
   "outputs": [],
   "source": [
    "# load packages\n",
    "import numpy as np\n",
    "import pandas as pd\n",
    "import seaborn as sns\n",
    "import matplotlib.pyplot as plt\n",
    "\n",
    "from sklearn.linear_model import LinearRegression\n",
    "from sklearn.ensemble import RandomForestClassifier, RandomForestRegressor\n",
    "from sklearn.tree import DecisionTreeClassifier\n",
    "from sklearn.metrics import accuracy_score, classification_report, confusion_matrix, mean_squared_error\n",
    "from sklearn.model_selection import train_test_split\n",
    "\n",
    "%matplotlib inline\n",
    "sns.set()"
   ],
   "metadata": {
    "collapsed": false,
    "pycharm": {
     "name": "#%%\n"
    }
   }
  },
  {
   "cell_type": "code",
   "execution_count": 46,
   "outputs": [
    {
     "name": "stdout",
     "output_type": "stream",
     "text": [
      "0    313\n",
      "1     79\n",
      "Name: origin, dtype: int64\n"
     ]
    },
    {
     "data": {
      "text/plain": "    mpg  displ   hp  weight  accel  origin  size\n0  18.0  250.0   88    3139   14.5       0  15.0\n1   9.0  304.0  193    4732   18.5       0  20.0",
      "text/html": "<div>\n<style scoped>\n    .dataframe tbody tr th:only-of-type {\n        vertical-align: middle;\n    }\n\n    .dataframe tbody tr th {\n        vertical-align: top;\n    }\n\n    .dataframe thead th {\n        text-align: right;\n    }\n</style>\n<table border=\"1\" class=\"dataframe\">\n  <thead>\n    <tr style=\"text-align: right;\">\n      <th></th>\n      <th>mpg</th>\n      <th>displ</th>\n      <th>hp</th>\n      <th>weight</th>\n      <th>accel</th>\n      <th>origin</th>\n      <th>size</th>\n    </tr>\n  </thead>\n  <tbody>\n    <tr>\n      <th>0</th>\n      <td>18.0</td>\n      <td>250.0</td>\n      <td>88</td>\n      <td>3139</td>\n      <td>14.5</td>\n      <td>0</td>\n      <td>15.0</td>\n    </tr>\n    <tr>\n      <th>1</th>\n      <td>9.0</td>\n      <td>304.0</td>\n      <td>193</td>\n      <td>4732</td>\n      <td>18.5</td>\n      <td>0</td>\n      <td>20.0</td>\n    </tr>\n  </tbody>\n</table>\n</div>"
     },
     "execution_count": 46,
     "metadata": {},
     "output_type": "execute_result"
    }
   ],
   "source": [
    "cars = pd.read_csv('explanations/datasets/cars.csv')\n",
    "cars['origin'] = pd.get_dummies(cars['origin'], drop_first=False)\n",
    "print(cars['origin'].value_counts())\n",
    "cars.head(2)"
   ],
   "metadata": {
    "collapsed": false,
    "pycharm": {
     "name": "#%%\n"
    }
   }
  },
  {
   "cell_type": "code",
   "execution_count": 47,
   "outputs": [],
   "source": [
    "X, y = cars.drop('size', axis=1), cars['size']\n",
    "X_train, X_test, y_train, y_test = train_test_split(X, y, test_size=.25, stratify=y, shuffle=True)\n"
   ],
   "metadata": {
    "collapsed": false,
    "pycharm": {
     "name": "#%%\n"
    }
   }
  },
  {
   "cell_type": "code",
   "execution_count": 50,
   "outputs": [
    {
     "name": "stdout",
     "output_type": "stream",
     "text": [
      "Random Forest Regressor's accuracy score: 0.966\n",
      "Test's RMSE: 0.788\n"
     ]
    }
   ],
   "source": [
    "rfr = RandomForestRegressor(n_estimators=400, min_samples_leaf=.12, random_state=42).fit(X_train, y_train)\n",
    "acc_score = rfr.score(X_test, y_test)\n",
    "print(f'Random Forest Regressor\\'s accuracy score: {round(acc_score, 3)}')\n",
    "\n",
    "y_pred = rfr.predict(X_test)\n",
    "rmse = mean_squared_error(y_test, y_pred)**(1/2)\n",
    "print(f'Test\\'s RMSE: {round(rmse, 3)}')"
   ],
   "metadata": {
    "collapsed": false,
    "pycharm": {
     "name": "#%%\n"
    }
   }
  },
  {
   "cell_type": "code",
   "execution_count": 52,
   "outputs": [
    {
     "name": "stdout",
     "output_type": "stream",
     "text": [
      "Test score with Linear Regression: 0.9052184334661403\n",
      "Test's RMSE: 1.316\n"
     ]
    }
   ],
   "source": [
    "lin_reg = LinearRegression().fit(X_train, y_train)\n",
    "print(f'Test score with Linear Regression: {lin_reg.score(X_test, y_test)}')\n",
    "\n",
    "y_linreg_pred = lin_reg.predict(X_test)\n",
    "rmse_linreg = mean_squared_error(y_test, y_linreg_pred)**(1/2)\n",
    "print(f'Test\\'s RMSE: {round(rmse_linreg, 3)}')"
   ],
   "metadata": {
    "collapsed": false,
    "pycharm": {
     "name": "#%%\n"
    }
   }
  },
  {
   "cell_type": "code",
   "execution_count": 53,
   "outputs": [
    {
     "data": {
      "text/plain": "<Figure size 432x288 with 1 Axes>",
      "image/png": "[encoded data removed]"
     },
     "metadata": {},
     "output_type": "display_data"
    }
   ],
   "source": [
    "importance = pd.Series(rfr.feature_importances_, index=X.columns)\n",
    "sorted_imporance = importance.sort_values()\n",
    "\n",
    "#horizontal bar plot\n",
    "sorted_imporance.plot(kind='barh', color='lightgreen')\n",
    "plt.show()"
   ],
   "metadata": {
    "collapsed": false,
    "pycharm": {
     "name": "#%%\n"
    }
   }
  },
  {
   "cell_type": "code",
   "execution_count": 1,
   "outputs": [],
   "source": [],
   "metadata": {
    "collapsed": false,
    "pycharm": {
     "name": "#%%\n"
    }
   }
  },
  {
   "cell_type": "code",
   "execution_count": null,
   "outputs": [],
   "source": [],
   "metadata": {
    "collapsed": false,
    "pycharm": {
     "name": "#%%\n"
    }
   }
  }
 ],
 "metadata": {
  "kernelspec": {
   "display_name": "Python 3",
   "language": "python",
   "name": "python3"
  },
  "language_info": {
   "codemirror_mode": {
    "name": "ipython",
    "version": 2
   },
   "file_extension": ".py",
   "mimetype": "text/x-python",
   "name": "python",
   "nbconvert_exporter": "python",
   "pygments_lexer": "ipython2",
   "version": "2.7.6"
  }
 },
 "nbformat": 4,
 "nbformat_minor": 0
}