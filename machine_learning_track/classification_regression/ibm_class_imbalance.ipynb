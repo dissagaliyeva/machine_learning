{
 "cells": [
  {
   "cell_type": "markdown",
   "id": "343e5567-b30d-4de9-8ec6-f30ef27c4a41",
   "metadata": {},
   "source": [
    "# IBM: Feature Engineering and Bias Detection\n",
    "\n",
    "### Class Imbalance\n",
    "If one or more classes in your data are underrepresented you could be introducing bias into your models. Working with imbalanced data may also lead your analysis to incorrect or misleading conclusions. Understanding this will help you keep class balance and bias in perspective as you proceed through the data analysis pipeline.\n",
    "Dealing with problems of class imbalance often requires finesse, and this unit introduces several potential approaches. These methods employ different tactics to avoid being overwhelmed by the majority class. Typically being overwhelmed during the model’s training directly affects the model’s accuracy. Accuracy, that is the proportion of predictions that are correct, is an intuitive metric for classification, but can be misleading with imbalanced classes. For example, if one percent of a processor’s transactions in a training sample are fraudulent, then a model that always predicts “not fraudulent” will be 99% accurate but of no practical use.\n",
    "#### WARNING: Accuracy is not an appropriate metric for imbalanced classes. Use F1 Score (harmonic mean) or another metric instead.\n",
    "<b>The solution to misleading metrics</b> is to break the correct vs. incorrect dichotomy of binary classification into four pieces: true positives, true negatives, false positives, and false negatives. There are many ways to combine these values with an even larger number of naming conventions. <br> <img src='images/extension.png'> <br>\n",
    "<b>The solution to imbalanced classes</b> is to <b>up-sample</b> or <b>down-sample</b> data, making the minority class more common through some type of repetition or making the majority class less common by throwing away some observations.\n",
    "\n",
    "### Up-sampling & down-sampling\n",
    "The most common approaches are sampling based, or more specifically, re-sampling based. Between up-sampling and down-sampling (also called over-sampling and under-sampling), down-sampling is a bit simpler conceptually. Fundamentally, if you have a minority class or classes that is noticeably underrepresented. In a random way you can drop some of those from the training data so that the proportions are more closely matched across classes. There are additional methods, one of which is inspired by K Nearest Neighbors (KNN) that can improve on pure random selection. <br>\n",
    "A major caveat to down-sampling is that we are not using all of our data. Over-sampling techniques also come in several flavors, from random or naive versions to classes of algorithms like the Synthetic Minority Oversampling Technique (SMOTE) and the Adaptive Synthetic (ADASYN) sampling method. Synthetic Minority Over-sampling Technique for Nominal and Continuous (SMOTENC) is an extension of the original SMOTE method designed to handle a mixture of categorical and continuous features. SMOTE has a number of other variants including ones that make use of Support Vector Machines and K-means clustering to improve on the synthetic samples.\n",
    "\n"
   ]
  },
  {
   "cell_type": "code",
   "execution_count": 26,
   "id": "b8d4fc64-6265-4255-aecf-37e26a32d32b",
   "metadata": {},
   "outputs": [],
   "source": [
    "# import essentials\n",
    "import numpy as np\n",
    "import pandas as pd\n",
    "import seaborn as sns\n",
    "\n",
    "from sklearn.datasets import load_boston\n",
    "\n",
    "from sklearn.pipeline import make_pipeline\n",
    "from sklearn.preprocessing import StandardScaler\n",
    "from sklearn.model_selection import train_test_split\n",
    "from sklearn.ensemble import RandomForestRegressor\n",
    "from sklearn.feature_selection import SelectKBest\n",
    "from sklearn.metrics import median_absolute_error, r2_score\n",
    "\n",
    "import plotly.express as px  # interactive data visualization\n",
    "\n",
    "sns.set()\n",
    "%matplotlib inline"
   ]
  },
  {
   "cell_type": "code",
   "execution_count": 27,
   "id": "c3e9fa38-d445-46a0-8513-23f9ab32d49b",
   "metadata": {},
   "outputs": [],
   "source": [
    "# quick example of StandardScaler()"
   ]
  },
  {
   "cell_type": "code",
   "execution_count": 28,
   "id": "11b4bfda-1373-4c89-b121-674b11dce7e5",
   "metadata": {},
   "outputs": [
    {
     "name": "stdout",
     "output_type": "stream",
     "text": [
      "R^2=0.76, MAE=1.35\n"
     ]
    }
   ],
   "source": [
    "# quick example of Pipelines\n",
    "\n",
    "boston = load_boston()                                                                                   ## load the boston dataset\n",
    "X, y = boston['data'], boston['target']\n",
    "features = boston['feature_names']\n",
    "\n",
    "## split the data to a training set and a test set\n",
    "X_train, X_test, y_train, y_test = train_test_split(X, y, random_state=0)\n",
    "\n",
    "## create a pipeline\n",
    "pipe = make_pipeline((StandardScaler()),\n",
    "                     (SelectKBest(k=10)),\n",
    "                     (RandomForestRegressor(n_estimators=20)))\n",
    "\n",
    "## train on the training data\n",
    "pipe.fit(X_train, y_train)\n",
    "\n",
    "## evaluate the model with the test data\n",
    "y_pred = pipe.predict(X_test)\n",
    "print(r'R^2=%.2f, MAE=%.2f'%(r2_score(y_test, y_pred), median_absolute_error(y_test, y_pred))) "
   ]
  },
  {
   "cell_type": "markdown",
   "id": "7a43dcf8-e2f9-4705-ab2d-c7485a3e1fd8",
   "metadata": {},
   "source": [
    "## Case-study\n",
    "- <i>Model Sensitivity to Class Imbalance</i>: some models are more or less sensitive to class imbalance\n",
    "- <i>Sampling Techniques</i>: up-sampling and down-sampling\n",
    "- <i>Imbalanced-learn</i>: introduce the package and use SMOTE as an example"
   ]
  },
  {
   "cell_type": "code",
   "execution_count": 38,
   "id": "5b6b3044-a1db-49a0-bfed-f1132c1e03ad",
   "metadata": {},
   "outputs": [
    {
     "name": "stdout",
     "output_type": "stream",
     "text": [
      "   customer_id  is_subscriber        country  age  customer_name  \\\n",
      "0            1              1  united_states   21     Kasen Todd   \n",
      "1            2              0      singapore   30   Ensley Garza   \n",
      "2            3              0  united_states   21  Lillian Carey   \n",
      "\n",
      "    subscriber_type  num_streams  \n",
      "0    aavail_premium           23  \n",
      "1  aavail_unlimited           12  \n",
      "2    aavail_premium           22  \n",
      "<class 'pandas.core.frame.DataFrame'>\n",
      "RangeIndex: 1000 entries, 0 to 999\n",
      "Data columns (total 7 columns):\n",
      " #   Column           Non-Null Count  Dtype \n",
      "---  ------           --------------  ----- \n",
      " 0   customer_id      1000 non-null   int64 \n",
      " 1   is_subscriber    1000 non-null   int64 \n",
      " 2   country          1000 non-null   object\n",
      " 3   age              1000 non-null   int64 \n",
      " 4   customer_name    1000 non-null   object\n",
      " 5   subscriber_type  1000 non-null   object\n",
      " 6   num_streams      1000 non-null   int64 \n",
      "dtypes: int64(4), object(3)\n",
      "memory usage: 54.8+ KB\n"
     ]
    }
   ],
   "source": [
    "imbalanced = pd.read_csv('datasets/aavail-target.csv')\n",
    "print(imbalanced.head(3))\n",
    "imbalanced.info()"
   ]
  },
  {
   "cell_type": "code",
   "execution_count": 35,
   "id": "2eb5c8db-4052-4cfc-b604-93dd91d550da",
   "metadata": {},
   "outputs": [
    {
     "data": {
      "application/vnd.plotly.v1+json": {
       "config": {
        "plotlyServerURL": "https://plot.ly"
       },
       "data": [
        {
         "alignmentgroup": "True",
         "bingroup": "x",
         "hovertemplate": "is_subscriber=%{x}<br>count=%{y}<extra></extra>",
         "legendgroup": "",
         "marker": {
          "color": "#636efa"
         },
         "name": "",
         "offsetgroup": "",
         "orientation": "v",
         "showlegend": false,
         "type": "histogram",
         "x": [
          1,
          0,
          0,
          1,
          1,
          1,
          0,
          1,
          0,
          0,
          1,
          0,
          1,
          1,
          0,
          1,
          1,
          0,
          1,
          1,
          0,
          0,
          1,
          0,
          1,
          1,
          1,
          1,
          1,
          1,
          1,
          0,
          1,
          0,
          0,
          0,
          1,
          1,
          0,
          1,
          1,
          0,
          1,
          1,
          1,
          1,
          1,
          1,
          1,
          1,
          1,
          1,
          0,
          1,
          1,
          1,
          1,
          0,
          1,
          1,
          0,
          1,
          0,
          1,
          1,
          1,
          1,
          0,
          0,
          0,
          1,
          1,
          1,
          1,
          1,
          1,
          0,
          1,
          0,
          0,
          0,
          1,
          1,
          1,
          1,
          0,
          0,
          1,
          1,
          1,
          0,
          1,
          0,
          1,
          1,
          1,
          0,
          0,
          1,
          0,
          0,
          1,
          1,
          1,
          1,
          1,
          1,
          1,
          0,
          1,
          1,
          1,
          0,
          1,
          1,
          0,
          0,
          0,
          1,
          0,
          0,
          1,
          1,
          1,
          0,
          1,
          1,
          1,
          0,
          1,
          1,
          1,
          0,
          1,
          1,
          1,
          0,
          1,
          1,
          1,
          0,
          1,
          0,
          1,
          1,
          1,
          1,
          0,
          0,
          0,
          1,
          1,
          1,
          1,
          1,
          1,
          0,
          1,
          0,
          0,
          1,
          1,
          1,
          1,
          1,
          1,
          1,
          0,
          1,
          1,
          1,
          1,
          1,
          0,
          1,
          1,
          1,
          1,
          0,
          1,
          0,
          1,
          0,
          1,
          1,
          1,
          1,
          1,
          1,
          0,
          1,
          1,
          1,
          1,
          0,
          1,
          0,
          0,
          1,
          1,
          1,
          1,
          1,
          1,
          1,
          0,
          1,
          1,
          1,
          1,
          1,
          1,
          1,
          1,
          1,
          0,
          0,
          1,
          1,
          0,
          1,
          0,
          1,
          1,
          1,
          1,
          0,
          1,
          1,
          1,
          0,
          1,
          0,
          1,
          1,
          1,
          1,
          1,
          1,
          1,
          0,
          0,
          0,
          1,
          1,
          1,
          1,
          0,
          1,
          0,
          0,
          0,
          1,
          1,
          1,
          0,
          1,
          1,
          0,
          0,
          1,
          1,
          0,
          1,
          0,
          1,
          0,
          1,
          1,
          1,
          1,
          1,
          1,
          1,
          1,
          1,
          1,
          1,
          0,
          1,
          1,
          1,
          0,
          0,
          1,
          1,
          1,
          1,
          1,
          1,
          1,
          0,
          1,
          1,
          1,
          1,
          1,
          0,
          1,
          1,
          0,
          0,
          1,
          0,
          0,
          1,
          1,
          1,
          1,
          0,
          1,
          0,
          0,
          0,
          1,
          0,
          1,
          1,
          0,
          0,
          1,
          1,
          1,
          1,
          1,
          1,
          1,
          0,
          1,
          1,
          1,
          1,
          1,
          1,
          0,
          0,
          1,
          1,
          1,
          0,
          1,
          1,
          1,
          0,
          0,
          1,
          0,
          1,
          1,
          1,
          1,
          0,
          1,
          1,
          1,
          1,
          1,
          0,
          1,
          1,
          1,
          1,
          1,
          1,
          0,
          0,
          0,
          1,
          1,
          1,
          1,
          0,
          1,
          1,
          0,
          1,
          1,
          1,
          0,
          1,
          1,
          1,
          1,
          1,
          0,
          1,
          1,
          1,
          1,
          1,
          1,
          1,
          1,
          0,
          0,
          1,
          1,
          0,
          1,
          1,
          1,
          1,
          1,
          1,
          1,
          1,
          1,
          0,
          0,
          1,
          0,
          1,
          0,
          1,
          1,
          1,
          1,
          1,
          1,
          1,
          1,
          0,
          1,
          0,
          0,
          1,
          1,
          1,
          0,
          0,
          1,
          1,
          0,
          1,
          1,
          0,
          0,
          0,
          1,
          1,
          1,
          1,
          1,
          1,
          1,
          1,
          1,
          1,
          1,
          1,
          1,
          1,
          0,
          0,
          1,
          0,
          1,
          1,
          1,
          1,
          1,
          1,
          1,
          1,
          1,
          1,
          0,
          0,
          1,
          1,
          1,
          1,
          0,
          1,
          0,
          1,
          1,
          1,
          1,
          1,
          0,
          1,
          1,
          0,
          1,
          1,
          1,
          0,
          0,
          0,
          0,
          1,
          1,
          0,
          0,
          1,
          1,
          1,
          1,
          1,
          1,
          1,
          0,
          1,
          1,
          1,
          0,
          1,
          0,
          1,
          1,
          1,
          1,
          1,
          1,
          1,
          0,
          0,
          1,
          1,
          1,
          1,
          1,
          1,
          1,
          1,
          1,
          0,
          1,
          0,
          1,
          1,
          1,
          1,
          1,
          1,
          1,
          1,
          0,
          1,
          1,
          1,
          0,
          0,
          0,
          1,
          1,
          1,
          0,
          0,
          0,
          0,
          1,
          0,
          1,
          1,
          1,
          0,
          1,
          1,
          0,
          1,
          0,
          1,
          1,
          1,
          1,
          1,
          0,
          1,
          0,
          0,
          1,
          0,
          1,
          1,
          0,
          0,
          1,
          0,
          1,
          1,
          1,
          1,
          1,
          1,
          1,
          1,
          1,
          1,
          1,
          1,
          1,
          1,
          0,
          1,
          1,
          1,
          1,
          1,
          1,
          1,
          0,
          1,
          1,
          1,
          1,
          1,
          1,
          0,
          1,
          1,
          1,
          1,
          1,
          0,
          1,
          0,
          0,
          1,
          1,
          1,
          1,
          1,
          0,
          1,
          1,
          1,
          1,
          1,
          0,
          0,
          0,
          1,
          1,
          0,
          1,
          0,
          1,
          0,
          1,
          1,
          0,
          1,
          0,
          0,
          1,
          0,
          1,
          0,
          1,
          0,
          1,
          1,
          1,
          1,
          0,
          1,
          1,
          0,
          1,
          1,
          1,
          1,
          1,
          1,
          1,
          1,
          0,
          1,
          1,
          1,
          0,
          1,
          1,
          0,
          1,
          0,
          1,
          1,
          1,
          1,
          1,
          1,
          0,
          1,
          1,
          0,
          1,
          1,
          0,
          1,
          0,
          1,
          1,
          0,
          0,
          0,
          1,
          1,
          1,
          1,
          1,
          0,
          0,
          1,
          0,
          1,
          1,
          1,
          1,
          1,
          1,
          0,
          1,
          0,
          0,
          0,
          0,
          1,
          0,
          1,
          0,
          0,
          1,
          1,
          0,
          1,
          1,
          1,
          1,
          1,
          1,
          1,
          1,
          0,
          1,
          0,
          1,
          0,
          1,
          1,
          1,
          0,
          1,
          0,
          0,
          1,
          0,
          1,
          0,
          1,
          1,
          1,
          1,
          0,
          1,
          1,
          0,
          0,
          0,
          0,
          1,
          1,
          0,
          1,
          1,
          0,
          1,
          1,
          1,
          1,
          1,
          1,
          1,
          1,
          1,
          1,
          1,
          0,
          1,
          1,
          1,
          1,
          1,
          1,
          1,
          1,
          1,
          1,
          0,
          1,
          1,
          1,
          0,
          1,
          1,
          1,
          1,
          1,
          0,
          1,
          1,
          1,
          1,
          0,
          1,
          1,
          0,
          1,
          1,
          0,
          1,
          1,
          0,
          1,
          0,
          1,
          0,
          1,
          0,
          0,
          1,
          1,
          1,
          1,
          1,
          1,
          0,
          1,
          0,
          1,
          1,
          0,
          0,
          1,
          1,
          1,
          1,
          0,
          0,
          0,
          1,
          1,
          1,
          0,
          1,
          1,
          1,
          1,
          0,
          1,
          1,
          1,
          0,
          1,
          1,
          0,
          0,
          1,
          0,
          1,
          1,
          0,
          1,
          1,
          1,
          1,
          1,
          0,
          0,
          1,
          1,
          1,
          0,
          0,
          1,
          1,
          0,
          1,
          1,
          1,
          1,
          0,
          1,
          0,
          1,
          0,
          0,
          1,
          1,
          1,
          1,
          1,
          1,
          0,
          1,
          1,
          1,
          1,
          1,
          0,
          1,
          1,
          1,
          1,
          0,
          1,
          0,
          1,
          1,
          1,
          0,
          1,
          1,
          1,
          0,
          1,
          1,
          0,
          0,
          1,
          1,
          1,
          1,
          1,
          1,
          1,
          0,
          1,
          1,
          1,
          1,
          1,
          1,
          1,
          0,
          0,
          1,
          1,
          1,
          1,
          0,
          1,
          0,
          1,
          1,
          1,
          0,
          0,
          1,
          1,
          1,
          1,
          1,
          1,
          1,
          1,
          1,
          1,
          1,
          1,
          1,
          1,
          1,
          1,
          1,
          1,
          1,
          0,
          1,
          1,
          1,
          1,
          0,
          1,
          1,
          0,
          1,
          0,
          1,
          1,
          1,
          1,
          1,
          1,
          1,
          1,
          1,
          1,
          1,
          0,
          1,
          1,
          1,
          0,
          1,
          1,
          1,
          1
         ],
         "xaxis": "x",
         "yaxis": "y"
        }
       ],
       "layout": {
        "autosize": true,
        "barmode": "relative",
        "legend": {
         "tracegroupgap": 0
        },
        "margin": {
         "t": 60
        },
        "template": {
         "data": {
          "bar": [
           {
            "error_x": {
             "color": "#2a3f5f"
            },
            "error_y": {
             "color": "#2a3f5f"
            },
            "marker": {
             "line": {
              "color": "#E5ECF6",
              "width": 0.5
             }
            },
            "type": "bar"
           }
          ],
          "barpolar": [
           {
            "marker": {
             "line": {
              "color": "#E5ECF6",
              "width": 0.5
             }
            },
            "type": "barpolar"
           }
          ],
          "carpet": [
           {
            "aaxis": {
             "endlinecolor": "#2a3f5f",
             "gridcolor": "white",
             "linecolor": "white",
             "minorgridcolor": "white",
             "startlinecolor": "#2a3f5f"
            },
            "baxis": {
             "endlinecolor": "#2a3f5f",
             "gridcolor": "white",
             "linecolor": "white",
             "minorgridcolor": "white",
             "startlinecolor": "#2a3f5f"
            },
            "type": "carpet"
           }
          ],
          "choropleth": [
           {
            "colorbar": {
             "outlinewidth": 0,
             "ticks": ""
            },
            "type": "choropleth"
           }
          ],
          "contour": [
           {
            "colorbar": {
             "outlinewidth": 0,
             "ticks": ""
            },
            "colorscale": [
             [
              0,
              "#0d0887"
             ],
             [
              0.1111111111111111,
              "#46039f"
             ],
             [
              0.2222222222222222,
              "#7201a8"
             ],
             [
              0.3333333333333333,
              "#9c179e"
             ],
             [
              0.4444444444444444,
              "#bd3786"
             ],
             [
              0.5555555555555556,
              "#d8576b"
             ],
             [
              0.6666666666666666,
              "#ed7953"
             ],
             [
              0.7777777777777778,
              "#fb9f3a"
             ],
             [
              0.8888888888888888,
              "#fdca26"
             ],
             [
              1,
              "#f0f921"
             ]
            ],
            "type": "contour"
           }
          ],
          "contourcarpet": [
           {
            "colorbar": {
             "outlinewidth": 0,
             "ticks": ""
            },
            "type": "contourcarpet"
           }
          ],
          "heatmap": [
           {
            "colorbar": {
             "outlinewidth": 0,
             "ticks": ""
            },
            "colorscale": [
             [
              0,
              "#0d0887"
             ],
             [
              0.1111111111111111,
              "#46039f"
             ],
             [
              0.2222222222222222,
              "#7201a8"
             ],
             [
              0.3333333333333333,
              "#9c179e"
             ],
             [
              0.4444444444444444,
              "#bd3786"
             ],
             [
              0.5555555555555556,
              "#d8576b"
             ],
             [
              0.6666666666666666,
              "#ed7953"
             ],
             [
              0.7777777777777778,
              "#fb9f3a"
             ],
             [
              0.8888888888888888,
              "#fdca26"
             ],
             [
              1,
              "#f0f921"
             ]
            ],
            "type": "heatmap"
           }
          ],
          "heatmapgl": [
           {
            "colorbar": {
             "outlinewidth": 0,
             "ticks": ""
            },
            "colorscale": [
             [
              0,
              "#0d0887"
             ],
             [
              0.1111111111111111,
              "#46039f"
             ],
             [
              0.2222222222222222,
              "#7201a8"
             ],
             [
              0.3333333333333333,
              "#9c179e"
             ],
             [
              0.4444444444444444,
              "#bd3786"
             ],
             [
              0.5555555555555556,
              "#d8576b"
             ],
             [
              0.6666666666666666,
              "#ed7953"
             ],
             [
              0.7777777777777778,
              "#fb9f3a"
             ],
             [
              0.8888888888888888,
              "#fdca26"
             ],
             [
              1,
              "#f0f921"
             ]
            ],
            "type": "heatmapgl"
           }
          ],
          "histogram": [
           {
            "marker": {
             "colorbar": {
              "outlinewidth": 0,
              "ticks": ""
             }
            },
            "type": "histogram"
           }
          ],
          "histogram2d": [
           {
            "colorbar": {
             "outlinewidth": 0,
             "ticks": ""
            },
            "colorscale": [
             [
              0,
              "#0d0887"
             ],
             [
              0.1111111111111111,
              "#46039f"
             ],
             [
              0.2222222222222222,
              "#7201a8"
             ],
             [
              0.3333333333333333,
              "#9c179e"
             ],
             [
              0.4444444444444444,
              "#bd3786"
             ],
             [
              0.5555555555555556,
              "#d8576b"
             ],
             [
              0.6666666666666666,
              "#ed7953"
             ],
             [
              0.7777777777777778,
              "#fb9f3a"
             ],
             [
              0.8888888888888888,
              "#fdca26"
             ],
             [
              1,
              "#f0f921"
             ]
            ],
            "type": "histogram2d"
           }
          ],
          "histogram2dcontour": [
           {
            "colorbar": {
             "outlinewidth": 0,
             "ticks": ""
            },
            "colorscale": [
             [
              0,
              "#0d0887"
             ],
             [
              0.1111111111111111,
              "#46039f"
             ],
             [
              0.2222222222222222,
              "#7201a8"
             ],
             [
              0.3333333333333333,
              "#9c179e"
             ],
             [
              0.4444444444444444,
              "#bd3786"
             ],
             [
              0.5555555555555556,
              "#d8576b"
             ],
             [
              0.6666666666666666,
              "#ed7953"
             ],
             [
              0.7777777777777778,
              "#fb9f3a"
             ],
             [
              0.8888888888888888,
              "#fdca26"
             ],
             [
              1,
              "#f0f921"
             ]
            ],
            "type": "histogram2dcontour"
           }
          ],
          "mesh3d": [
           {
            "colorbar": {
             "outlinewidth": 0,
             "ticks": ""
            },
            "type": "mesh3d"
           }
          ],
          "parcoords": [
           {
            "line": {
             "colorbar": {
              "outlinewidth": 0,
              "ticks": ""
             }
            },
            "type": "parcoords"
           }
          ],
          "pie": [
           {
            "automargin": true,
            "type": "pie"
           }
          ],
          "scatter": [
           {
            "marker": {
             "colorbar": {
              "outlinewidth": 0,
              "ticks": ""
             }
            },
            "type": "scatter"
           }
          ],
          "scatter3d": [
           {
            "line": {
             "colorbar": {
              "outlinewidth": 0,
              "ticks": ""
             }
            },
            "marker": {
             "colorbar": {
              "outlinewidth": 0,
              "ticks": ""
             }
            },
            "type": "scatter3d"
           }
          ],
          "scattercarpet": [
           {
            "marker": {
             "colorbar": {
              "outlinewidth": 0,
              "ticks": ""
             }
            },
            "type": "scattercarpet"
           }
          ],
          "scattergeo": [
           {
            "marker": {
             "colorbar": {
              "outlinewidth": 0,
              "ticks": ""
             }
            },
            "type": "scattergeo"
           }
          ],
          "scattergl": [
           {
            "marker": {
             "colorbar": {
              "outlinewidth": 0,
              "ticks": ""
             }
            },
            "type": "scattergl"
           }
          ],
          "scattermapbox": [
           {
            "marker": {
             "colorbar": {
              "outlinewidth": 0,
              "ticks": ""
             }
            },
            "type": "scattermapbox"
           }
          ],
          "scatterpolar": [
           {
            "marker": {
             "colorbar": {
              "outlinewidth": 0,
              "ticks": ""
             }
            },
            "type": "scatterpolar"
           }
          ],
          "scatterpolargl": [
           {
            "marker": {
             "colorbar": {
              "outlinewidth": 0,
              "ticks": ""
             }
            },
            "type": "scatterpolargl"
           }
          ],
          "scatterternary": [
           {
            "marker": {
             "colorbar": {
              "outlinewidth": 0,
              "ticks": ""
             }
            },
            "type": "scatterternary"
           }
          ],
          "surface": [
           {
            "colorbar": {
             "outlinewidth": 0,
             "ticks": ""
            },
            "colorscale": [
             [
              0,
              "#0d0887"
             ],
             [
              0.1111111111111111,
              "#46039f"
             ],
             [
              0.2222222222222222,
              "#7201a8"
             ],
             [
              0.3333333333333333,
              "#9c179e"
             ],
             [
              0.4444444444444444,
              "#bd3786"
             ],
             [
              0.5555555555555556,
              "#d8576b"
             ],
             [
              0.6666666666666666,
              "#ed7953"
             ],
             [
              0.7777777777777778,
              "#fb9f3a"
             ],
             [
              0.8888888888888888,
              "#fdca26"
             ],
             [
              1,
              "#f0f921"
             ]
            ],
            "type": "surface"
           }
          ],
          "table": [
           {
            "cells": {
             "fill": {
              "color": "#EBF0F8"
             },
             "line": {
              "color": "white"
             }
            },
            "header": {
             "fill": {
              "color": "#C8D4E3"
             },
             "line": {
              "color": "white"
             }
            },
            "type": "table"
           }
          ]
         },
         "layout": {
          "annotationdefaults": {
           "arrowcolor": "#2a3f5f",
           "arrowhead": 0,
           "arrowwidth": 1
          },
          "autotypenumbers": "strict",
          "coloraxis": {
           "colorbar": {
            "outlinewidth": 0,
            "ticks": ""
           }
          },
          "colorscale": {
           "diverging": [
            [
             0,
             "#8e0152"
            ],
            [
             0.1,
             "#c51b7d"
            ],
            [
             0.2,
             "#de77ae"
            ],
            [
             0.3,
             "#f1b6da"
            ],
            [
             0.4,
             "#fde0ef"
            ],
            [
             0.5,
             "#f7f7f7"
            ],
            [
             0.6,
             "#e6f5d0"
            ],
            [
             0.7,
             "#b8e186"
            ],
            [
             0.8,
             "#7fbc41"
            ],
            [
             0.9,
             "#4d9221"
            ],
            [
             1,
             "#276419"
            ]
           ],
           "sequential": [
            [
             0,
             "#0d0887"
            ],
            [
             0.1111111111111111,
             "#46039f"
            ],
            [
             0.2222222222222222,
             "#7201a8"
            ],
            [
             0.3333333333333333,
             "#9c179e"
            ],
            [
             0.4444444444444444,
             "#bd3786"
            ],
            [
             0.5555555555555556,
             "#d8576b"
            ],
            [
             0.6666666666666666,
             "#ed7953"
            ],
            [
             0.7777777777777778,
             "#fb9f3a"
            ],
            [
             0.8888888888888888,
             "#fdca26"
            ],
            [
             1,
             "#f0f921"
            ]
           ],
           "sequentialminus": [
            [
             0,
             "#0d0887"
            ],
            [
             0.1111111111111111,
             "#46039f"
            ],
            [
             0.2222222222222222,
             "#7201a8"
            ],
            [
             0.3333333333333333,
             "#9c179e"
            ],
            [
             0.4444444444444444,
             "#bd3786"
            ],
            [
             0.5555555555555556,
             "#d8576b"
            ],
            [
             0.6666666666666666,
             "#ed7953"
            ],
            [
             0.7777777777777778,
             "#fb9f3a"
            ],
            [
             0.8888888888888888,
             "#fdca26"
            ],
            [
             1,
             "#f0f921"
            ]
           ]
          },
          "colorway": [
           "#636efa",
           "#EF553B",
           "#00cc96",
           "#ab63fa",
           "#FFA15A",
           "#19d3f3",
           "#FF6692",
           "#B6E880",
           "#FF97FF",
           "#FECB52"
          ],
          "font": {
           "color": "#2a3f5f"
          },
          "geo": {
           "bgcolor": "white",
           "lakecolor": "white",
           "landcolor": "#E5ECF6",
           "showlakes": true,
           "showland": true,
           "subunitcolor": "white"
          },
          "hoverlabel": {
           "align": "left"
          },
          "hovermode": "closest",
          "mapbox": {
           "style": "light"
          },
          "paper_bgcolor": "white",
          "plot_bgcolor": "#E5ECF6",
          "polar": {
           "angularaxis": {
            "gridcolor": "white",
            "linecolor": "white",
            "ticks": ""
           },
           "bgcolor": "#E5ECF6",
           "radialaxis": {
            "gridcolor": "white",
            "linecolor": "white",
            "ticks": ""
           }
          },
          "scene": {
           "xaxis": {
            "backgroundcolor": "#E5ECF6",
            "gridcolor": "white",
            "gridwidth": 2,
            "linecolor": "white",
            "showbackground": true,
            "ticks": "",
            "zerolinecolor": "white"
           },
           "yaxis": {
            "backgroundcolor": "#E5ECF6",
            "gridcolor": "white",
            "gridwidth": 2,
            "linecolor": "white",
            "showbackground": true,
            "ticks": "",
            "zerolinecolor": "white"
           },
           "zaxis": {
            "backgroundcolor": "#E5ECF6",
            "gridcolor": "white",
            "gridwidth": 2,
            "linecolor": "white",
            "showbackground": true,
            "ticks": "",
            "zerolinecolor": "white"
           }
          },
          "shapedefaults": {
           "line": {
            "color": "#2a3f5f"
           }
          },
          "ternary": {
           "aaxis": {
            "gridcolor": "white",
            "linecolor": "white",
            "ticks": ""
           },
           "baxis": {
            "gridcolor": "white",
            "linecolor": "white",
            "ticks": ""
           },
           "bgcolor": "#E5ECF6",
           "caxis": {
            "gridcolor": "white",
            "linecolor": "white",
            "ticks": ""
           }
          },
          "title": {
           "x": 0.05
          },
          "xaxis": {
           "automargin": true,
           "gridcolor": "white",
           "linecolor": "white",
           "ticks": "",
           "title": {
            "standoff": 15
           },
           "zerolinecolor": "white",
           "zerolinewidth": 2
          },
          "yaxis": {
           "automargin": true,
           "gridcolor": "white",
           "linecolor": "white",
           "ticks": "",
           "title": {
            "standoff": 15
           },
           "zerolinecolor": "white",
           "zerolinewidth": 2
          }
         }
        },
        "xaxis": {
         "anchor": "y",
         "autorange": true,
         "domain": [
          0,
          1
         ],
         "range": [
          -0.5,
          1.5
         ],
         "title": {
          "text": "is_subscriber"
         },
         "type": "linear"
        },
        "yaxis": {
         "anchor": "x",
         "autorange": true,
         "domain": [
          0,
          1
         ],
         "range": [
          0,
          748.421052631579
         ],
         "title": {
          "text": "count"
         }
        }
       }
      },
      "image/png": "[encoded data removed]",
      "text/html": [
       "<div>                            <div id=\"86145fea-4863-4728-9ed0-af0f94d9ef08\" class=\"plotly-graph-div\" style=\"height:525px; width:100%;\"></div>            <script type=\"text/javascript\">                require([\"plotly\"], function(Plotly) {                    window.PLOTLYENV=window.PLOTLYENV || {};                                    if (document.getElementById(\"86145fea-4863-4728-9ed0-af0f94d9ef08\")) {                    Plotly.newPlot(                        \"86145fea-4863-4728-9ed0-af0f94d9ef08\",                        [{\"alignmentgroup\": \"True\", \"bingroup\": \"x\", \"hovertemplate\": \"is_subscriber=%{x}<br>count=%{y}<extra></extra>\", \"legendgroup\": \"\", \"marker\": {\"color\": \"#636efa\"}, \"name\": \"\", \"offsetgroup\": \"\", \"orientation\": \"v\", \"showlegend\": false, \"type\": \"histogram\", \"x\": [1, 0, 0, 1, 1, 1, 0, 1, 0, 0, 1, 0, 1, 1, 0, 1, 1, 0, 1, 1, 0, 0, 1, 0, 1, 1, 1, 1, 1, 1, 1, 0, 1, 0, 0, 0, 1, 1, 0, 1, 1, 0, 1, 1, 1, 1, 1, 1, 1, 1, 1, 1, 0, 1, 1, 1, 1, 0, 1, 1, 0, 1, 0, 1, 1, 1, 1, 0, 0, 0, 1, 1, 1, 1, 1, 1, 0, 1, 0, 0, 0, 1, 1, 1, 1, 0, 0, 1, 1, 1, 0, 1, 0, 1, 1, 1, 0, 0, 1, 0, 0, 1, 1, 1, 1, 1, 1, 1, 0, 1, 1, 1, 0, 1, 1, 0, 0, 0, 1, 0, 0, 1, 1, 1, 0, 1, 1, 1, 0, 1, 1, 1, 0, 1, 1, 1, 0, 1, 1, 1, 0, 1, 0, 1, 1, 1, 1, 0, 0, 0, 1, 1, 1, 1, 1, 1, 0, 1, 0, 0, 1, 1, 1, 1, 1, 1, 1, 0, 1, 1, 1, 1, 1, 0, 1, 1, 1, 1, 0, 1, 0, 1, 0, 1, 1, 1, 1, 1, 1, 0, 1, 1, 1, 1, 0, 1, 0, 0, 1, 1, 1, 1, 1, 1, 1, 0, 1, 1, 1, 1, 1, 1, 1, 1, 1, 0, 0, 1, 1, 0, 1, 0, 1, 1, 1, 1, 0, 1, 1, 1, 0, 1, 0, 1, 1, 1, 1, 1, 1, 1, 0, 0, 0, 1, 1, 1, 1, 0, 1, 0, 0, 0, 1, 1, 1, 0, 1, 1, 0, 0, 1, 1, 0, 1, 0, 1, 0, 1, 1, 1, 1, 1, 1, 1, 1, 1, 1, 1, 0, 1, 1, 1, 0, 0, 1, 1, 1, 1, 1, 1, 1, 0, 1, 1, 1, 1, 1, 0, 1, 1, 0, 0, 1, 0, 0, 1, 1, 1, 1, 0, 1, 0, 0, 0, 1, 0, 1, 1, 0, 0, 1, 1, 1, 1, 1, 1, 1, 0, 1, 1, 1, 1, 1, 1, 0, 0, 1, 1, 1, 0, 1, 1, 1, 0, 0, 1, 0, 1, 1, 1, 1, 0, 1, 1, 1, 1, 1, 0, 1, 1, 1, 1, 1, 1, 0, 0, 0, 1, 1, 1, 1, 0, 1, 1, 0, 1, 1, 1, 0, 1, 1, 1, 1, 1, 0, 1, 1, 1, 1, 1, 1, 1, 1, 0, 0, 1, 1, 0, 1, 1, 1, 1, 1, 1, 1, 1, 1, 0, 0, 1, 0, 1, 0, 1, 1, 1, 1, 1, 1, 1, 1, 0, 1, 0, 0, 1, 1, 1, 0, 0, 1, 1, 0, 1, 1, 0, 0, 0, 1, 1, 1, 1, 1, 1, 1, 1, 1, 1, 1, 1, 1, 1, 0, 0, 1, 0, 1, 1, 1, 1, 1, 1, 1, 1, 1, 1, 0, 0, 1, 1, 1, 1, 0, 1, 0, 1, 1, 1, 1, 1, 0, 1, 1, 0, 1, 1, 1, 0, 0, 0, 0, 1, 1, 0, 0, 1, 1, 1, 1, 1, 1, 1, 0, 1, 1, 1, 0, 1, 0, 1, 1, 1, 1, 1, 1, 1, 0, 0, 1, 1, 1, 1, 1, 1, 1, 1, 1, 0, 1, 0, 1, 1, 1, 1, 1, 1, 1, 1, 0, 1, 1, 1, 0, 0, 0, 1, 1, 1, 0, 0, 0, 0, 1, 0, 1, 1, 1, 0, 1, 1, 0, 1, 0, 1, 1, 1, 1, 1, 0, 1, 0, 0, 1, 0, 1, 1, 0, 0, 1, 0, 1, 1, 1, 1, 1, 1, 1, 1, 1, 1, 1, 1, 1, 1, 0, 1, 1, 1, 1, 1, 1, 1, 0, 1, 1, 1, 1, 1, 1, 0, 1, 1, 1, 1, 1, 0, 1, 0, 0, 1, 1, 1, 1, 1, 0, 1, 1, 1, 1, 1, 0, 0, 0, 1, 1, 0, 1, 0, 1, 0, 1, 1, 0, 1, 0, 0, 1, 0, 1, 0, 1, 0, 1, 1, 1, 1, 0, 1, 1, 0, 1, 1, 1, 1, 1, 1, 1, 1, 0, 1, 1, 1, 0, 1, 1, 0, 1, 0, 1, 1, 1, 1, 1, 1, 0, 1, 1, 0, 1, 1, 0, 1, 0, 1, 1, 0, 0, 0, 1, 1, 1, 1, 1, 0, 0, 1, 0, 1, 1, 1, 1, 1, 1, 0, 1, 0, 0, 0, 0, 1, 0, 1, 0, 0, 1, 1, 0, 1, 1, 1, 1, 1, 1, 1, 1, 0, 1, 0, 1, 0, 1, 1, 1, 0, 1, 0, 0, 1, 0, 1, 0, 1, 1, 1, 1, 0, 1, 1, 0, 0, 0, 0, 1, 1, 0, 1, 1, 0, 1, 1, 1, 1, 1, 1, 1, 1, 1, 1, 1, 0, 1, 1, 1, 1, 1, 1, 1, 1, 1, 1, 0, 1, 1, 1, 0, 1, 1, 1, 1, 1, 0, 1, 1, 1, 1, 0, 1, 1, 0, 1, 1, 0, 1, 1, 0, 1, 0, 1, 0, 1, 0, 0, 1, 1, 1, 1, 1, 1, 0, 1, 0, 1, 1, 0, 0, 1, 1, 1, 1, 0, 0, 0, 1, 1, 1, 0, 1, 1, 1, 1, 0, 1, 1, 1, 0, 1, 1, 0, 0, 1, 0, 1, 1, 0, 1, 1, 1, 1, 1, 0, 0, 1, 1, 1, 0, 0, 1, 1, 0, 1, 1, 1, 1, 0, 1, 0, 1, 0, 0, 1, 1, 1, 1, 1, 1, 0, 1, 1, 1, 1, 1, 0, 1, 1, 1, 1, 0, 1, 0, 1, 1, 1, 0, 1, 1, 1, 0, 1, 1, 0, 0, 1, 1, 1, 1, 1, 1, 1, 0, 1, 1, 1, 1, 1, 1, 1, 0, 0, 1, 1, 1, 1, 0, 1, 0, 1, 1, 1, 0, 0, 1, 1, 1, 1, 1, 1, 1, 1, 1, 1, 1, 1, 1, 1, 1, 1, 1, 1, 1, 0, 1, 1, 1, 1, 0, 1, 1, 0, 1, 0, 1, 1, 1, 1, 1, 1, 1, 1, 1, 1, 1, 0, 1, 1, 1, 0, 1, 1, 1, 1], \"xaxis\": \"x\", \"yaxis\": \"y\"}],                        {\"barmode\": \"relative\", \"legend\": {\"tracegroupgap\": 0}, \"margin\": {\"t\": 60}, \"template\": {\"data\": {\"bar\": [{\"error_x\": {\"color\": \"#2a3f5f\"}, \"error_y\": {\"color\": \"#2a3f5f\"}, \"marker\": {\"line\": {\"color\": \"#E5ECF6\", \"width\": 0.5}}, \"type\": \"bar\"}], \"barpolar\": [{\"marker\": {\"line\": {\"color\": \"#E5ECF6\", \"width\": 0.5}}, \"type\": \"barpolar\"}], \"carpet\": [{\"aaxis\": {\"endlinecolor\": \"#2a3f5f\", \"gridcolor\": \"white\", \"linecolor\": \"white\", \"minorgridcolor\": \"white\", \"startlinecolor\": \"#2a3f5f\"}, \"baxis\": {\"endlinecolor\": \"#2a3f5f\", \"gridcolor\": \"white\", \"linecolor\": \"white\", \"minorgridcolor\": \"white\", \"startlinecolor\": \"#2a3f5f\"}, \"type\": \"carpet\"}], \"choropleth\": [{\"colorbar\": {\"outlinewidth\": 0, \"ticks\": \"\"}, \"type\": \"choropleth\"}], \"contour\": [{\"colorbar\": {\"outlinewidth\": 0, \"ticks\": \"\"}, \"colorscale\": [[0.0, \"#0d0887\"], [0.1111111111111111, \"#46039f\"], [0.2222222222222222, \"#7201a8\"], [0.3333333333333333, \"#9c179e\"], [0.4444444444444444, \"#bd3786\"], [0.5555555555555556, \"#d8576b\"], [0.6666666666666666, \"#ed7953\"], [0.7777777777777778, \"#fb9f3a\"], [0.8888888888888888, \"#fdca26\"], [1.0, \"#f0f921\"]], \"type\": \"contour\"}], \"contourcarpet\": [{\"colorbar\": {\"outlinewidth\": 0, \"ticks\": \"\"}, \"type\": \"contourcarpet\"}], \"heatmap\": [{\"colorbar\": {\"outlinewidth\": 0, \"ticks\": \"\"}, \"colorscale\": [[0.0, \"#0d0887\"], [0.1111111111111111, \"#46039f\"], [0.2222222222222222, \"#7201a8\"], [0.3333333333333333, \"#9c179e\"], [0.4444444444444444, \"#bd3786\"], [0.5555555555555556, \"#d8576b\"], [0.6666666666666666, \"#ed7953\"], [0.7777777777777778, \"#fb9f3a\"], [0.8888888888888888, \"#fdca26\"], [1.0, \"#f0f921\"]], \"type\": \"heatmap\"}], \"heatmapgl\": [{\"colorbar\": {\"outlinewidth\": 0, \"ticks\": \"\"}, \"colorscale\": [[0.0, \"#0d0887\"], [0.1111111111111111, \"#46039f\"], [0.2222222222222222, \"#7201a8\"], [0.3333333333333333, \"#9c179e\"], [0.4444444444444444, \"#bd3786\"], [0.5555555555555556, \"#d8576b\"], [0.6666666666666666, \"#ed7953\"], [0.7777777777777778, \"#fb9f3a\"], [0.8888888888888888, \"#fdca26\"], [1.0, \"#f0f921\"]], \"type\": \"heatmapgl\"}], \"histogram\": [{\"marker\": {\"colorbar\": {\"outlinewidth\": 0, \"ticks\": \"\"}}, \"type\": \"histogram\"}], \"histogram2d\": [{\"colorbar\": {\"outlinewidth\": 0, \"ticks\": \"\"}, \"colorscale\": [[0.0, \"#0d0887\"], [0.1111111111111111, \"#46039f\"], [0.2222222222222222, \"#7201a8\"], [0.3333333333333333, \"#9c179e\"], [0.4444444444444444, \"#bd3786\"], [0.5555555555555556, \"#d8576b\"], [0.6666666666666666, \"#ed7953\"], [0.7777777777777778, \"#fb9f3a\"], [0.8888888888888888, \"#fdca26\"], [1.0, \"#f0f921\"]], \"type\": \"histogram2d\"}], \"histogram2dcontour\": [{\"colorbar\": {\"outlinewidth\": 0, \"ticks\": \"\"}, \"colorscale\": [[0.0, \"#0d0887\"], [0.1111111111111111, \"#46039f\"], [0.2222222222222222, \"#7201a8\"], [0.3333333333333333, \"#9c179e\"], [0.4444444444444444, \"#bd3786\"], [0.5555555555555556, \"#d8576b\"], [0.6666666666666666, \"#ed7953\"], [0.7777777777777778, \"#fb9f3a\"], [0.8888888888888888, \"#fdca26\"], [1.0, \"#f0f921\"]], \"type\": \"histogram2dcontour\"}], \"mesh3d\": [{\"colorbar\": {\"outlinewidth\": 0, \"ticks\": \"\"}, \"type\": \"mesh3d\"}], \"parcoords\": [{\"line\": {\"colorbar\": {\"outlinewidth\": 0, \"ticks\": \"\"}}, \"type\": \"parcoords\"}], \"pie\": [{\"automargin\": true, \"type\": \"pie\"}], \"scatter\": [{\"marker\": {\"colorbar\": {\"outlinewidth\": 0, \"ticks\": \"\"}}, \"type\": \"scatter\"}], \"scatter3d\": [{\"line\": {\"colorbar\": {\"outlinewidth\": 0, \"ticks\": \"\"}}, \"marker\": {\"colorbar\": {\"outlinewidth\": 0, \"ticks\": \"\"}}, \"type\": \"scatter3d\"}], \"scattercarpet\": [{\"marker\": {\"colorbar\": {\"outlinewidth\": 0, \"ticks\": \"\"}}, \"type\": \"scattercarpet\"}], \"scattergeo\": [{\"marker\": {\"colorbar\": {\"outlinewidth\": 0, \"ticks\": \"\"}}, \"type\": \"scattergeo\"}], \"scattergl\": [{\"marker\": {\"colorbar\": {\"outlinewidth\": 0, \"ticks\": \"\"}}, \"type\": \"scattergl\"}], \"scattermapbox\": [{\"marker\": {\"colorbar\": {\"outlinewidth\": 0, \"ticks\": \"\"}}, \"type\": \"scattermapbox\"}], \"scatterpolar\": [{\"marker\": {\"colorbar\": {\"outlinewidth\": 0, \"ticks\": \"\"}}, \"type\": \"scatterpolar\"}], \"scatterpolargl\": [{\"marker\": {\"colorbar\": {\"outlinewidth\": 0, \"ticks\": \"\"}}, \"type\": \"scatterpolargl\"}], \"scatterternary\": [{\"marker\": {\"colorbar\": {\"outlinewidth\": 0, \"ticks\": \"\"}}, \"type\": \"scatterternary\"}], \"surface\": [{\"colorbar\": {\"outlinewidth\": 0, \"ticks\": \"\"}, \"colorscale\": [[0.0, \"#0d0887\"], [0.1111111111111111, \"#46039f\"], [0.2222222222222222, \"#7201a8\"], [0.3333333333333333, \"#9c179e\"], [0.4444444444444444, \"#bd3786\"], [0.5555555555555556, \"#d8576b\"], [0.6666666666666666, \"#ed7953\"], [0.7777777777777778, \"#fb9f3a\"], [0.8888888888888888, \"#fdca26\"], [1.0, \"#f0f921\"]], \"type\": \"surface\"}], \"table\": [{\"cells\": {\"fill\": {\"color\": \"#EBF0F8\"}, \"line\": {\"color\": \"white\"}}, \"header\": {\"fill\": {\"color\": \"#C8D4E3\"}, \"line\": {\"color\": \"white\"}}, \"type\": \"table\"}]}, \"layout\": {\"annotationdefaults\": {\"arrowcolor\": \"#2a3f5f\", \"arrowhead\": 0, \"arrowwidth\": 1}, \"autotypenumbers\": \"strict\", \"coloraxis\": {\"colorbar\": {\"outlinewidth\": 0, \"ticks\": \"\"}}, \"colorscale\": {\"diverging\": [[0, \"#8e0152\"], [0.1, \"#c51b7d\"], [0.2, \"#de77ae\"], [0.3, \"#f1b6da\"], [0.4, \"#fde0ef\"], [0.5, \"#f7f7f7\"], [0.6, \"#e6f5d0\"], [0.7, \"#b8e186\"], [0.8, \"#7fbc41\"], [0.9, \"#4d9221\"], [1, \"#276419\"]], \"sequential\": [[0.0, \"#0d0887\"], [0.1111111111111111, \"#46039f\"], [0.2222222222222222, \"#7201a8\"], [0.3333333333333333, \"#9c179e\"], [0.4444444444444444, \"#bd3786\"], [0.5555555555555556, \"#d8576b\"], [0.6666666666666666, \"#ed7953\"], [0.7777777777777778, \"#fb9f3a\"], [0.8888888888888888, \"#fdca26\"], [1.0, \"#f0f921\"]], \"sequentialminus\": [[0.0, \"#0d0887\"], [0.1111111111111111, \"#46039f\"], [0.2222222222222222, \"#7201a8\"], [0.3333333333333333, \"#9c179e\"], [0.4444444444444444, \"#bd3786\"], [0.5555555555555556, \"#d8576b\"], [0.6666666666666666, \"#ed7953\"], [0.7777777777777778, \"#fb9f3a\"], [0.8888888888888888, \"#fdca26\"], [1.0, \"#f0f921\"]]}, \"colorway\": [\"#636efa\", \"#EF553B\", \"#00cc96\", \"#ab63fa\", \"#FFA15A\", \"#19d3f3\", \"#FF6692\", \"#B6E880\", \"#FF97FF\", \"#FECB52\"], \"font\": {\"color\": \"#2a3f5f\"}, \"geo\": {\"bgcolor\": \"white\", \"lakecolor\": \"white\", \"landcolor\": \"#E5ECF6\", \"showlakes\": true, \"showland\": true, \"subunitcolor\": \"white\"}, \"hoverlabel\": {\"align\": \"left\"}, \"hovermode\": \"closest\", \"mapbox\": {\"style\": \"light\"}, \"paper_bgcolor\": \"white\", \"plot_bgcolor\": \"#E5ECF6\", \"polar\": {\"angularaxis\": {\"gridcolor\": \"white\", \"linecolor\": \"white\", \"ticks\": \"\"}, \"bgcolor\": \"#E5ECF6\", \"radialaxis\": {\"gridcolor\": \"white\", \"linecolor\": \"white\", \"ticks\": \"\"}}, \"scene\": {\"xaxis\": {\"backgroundcolor\": \"#E5ECF6\", \"gridcolor\": \"white\", \"gridwidth\": 2, \"linecolor\": \"white\", \"showbackground\": true, \"ticks\": \"\", \"zerolinecolor\": \"white\"}, \"yaxis\": {\"backgroundcolor\": \"#E5ECF6\", \"gridcolor\": \"white\", \"gridwidth\": 2, \"linecolor\": \"white\", \"showbackground\": true, \"ticks\": \"\", \"zerolinecolor\": \"white\"}, \"zaxis\": {\"backgroundcolor\": \"#E5ECF6\", \"gridcolor\": \"white\", \"gridwidth\": 2, \"linecolor\": \"white\", \"showbackground\": true, \"ticks\": \"\", \"zerolinecolor\": \"white\"}}, \"shapedefaults\": {\"line\": {\"color\": \"#2a3f5f\"}}, \"ternary\": {\"aaxis\": {\"gridcolor\": \"white\", \"linecolor\": \"white\", \"ticks\": \"\"}, \"baxis\": {\"gridcolor\": \"white\", \"linecolor\": \"white\", \"ticks\": \"\"}, \"bgcolor\": \"#E5ECF6\", \"caxis\": {\"gridcolor\": \"white\", \"linecolor\": \"white\", \"ticks\": \"\"}}, \"title\": {\"x\": 0.05}, \"xaxis\": {\"automargin\": true, \"gridcolor\": \"white\", \"linecolor\": \"white\", \"ticks\": \"\", \"title\": {\"standoff\": 15}, \"zerolinecolor\": \"white\", \"zerolinewidth\": 2}, \"yaxis\": {\"automargin\": true, \"gridcolor\": \"white\", \"linecolor\": \"white\", \"ticks\": \"\", \"title\": {\"standoff\": 15}, \"zerolinecolor\": \"white\", \"zerolinewidth\": 2}}}, \"xaxis\": {\"anchor\": \"y\", \"domain\": [0.0, 1.0], \"title\": {\"text\": \"is_subscriber\"}}, \"yaxis\": {\"anchor\": \"x\", \"domain\": [0.0, 1.0], \"title\": {\"text\": \"count\"}}},                        {\"responsive\": true}                    ).then(function(){\n",
       "                            \n",
       "var gd = document.getElementById('86145fea-4863-4728-9ed0-af0f94d9ef08');\n",
       "var x = new MutationObserver(function (mutations, observer) {{\n",
       "        var display = window.getComputedStyle(gd).display;\n",
       "        if (!display || display === 'none') {{\n",
       "            console.log([gd, 'removed!']);\n",
       "            Plotly.purge(gd);\n",
       "            observer.disconnect();\n",
       "        }}\n",
       "}});\n",
       "\n",
       "// Listen for the removal of the full notebook cells\n",
       "var notebookContainer = gd.closest('#notebook-container');\n",
       "if (notebookContainer) {{\n",
       "    x.observe(notebookContainer, {childList: true});\n",
       "}}\n",
       "\n",
       "// Listen for the clearing of the current output cell\n",
       "var outputEl = gd.closest('.output');\n",
       "if (outputEl) {{\n",
       "    x.observe(outputEl, {childList: true});\n",
       "}}\n",
       "\n",
       "                        })                };                });            </script>        </div>"
      ]
     },
     "metadata": {},
     "output_type": "display_data"
    },
    {
     "data": {
      "application/vnd.plotly.v1+json": {
       "config": {
        "plotlyServerURL": "https://plot.ly"
       },
       "data": [
        {
         "alignmentgroup": "True",
         "bingroup": "x",
         "hovertemplate": "subscriber_type=%{x}<br>count=%{y}<extra></extra>",
         "legendgroup": "",
         "marker": {
          "color": "#636efa"
         },
         "name": "",
         "offsetgroup": "",
         "orientation": "v",
         "showlegend": false,
         "type": "histogram",
         "x": [
          "aavail_premium",
          "aavail_unlimited",
          "aavail_premium",
          "aavail_basic",
          "aavail_premium",
          "aavail_premium",
          "aavail_basic",
          "aavail_premium",
          "aavail_premium",
          "aavail_basic",
          "aavail_premium",
          "aavail_unlimited",
          "aavail_premium",
          "aavail_basic",
          "aavail_premium",
          "aavail_basic",
          "aavail_premium",
          "aavail_basic",
          "aavail_premium",
          "aavail_premium",
          "aavail_unlimited",
          "aavail_basic",
          "aavail_unlimited",
          "aavail_basic",
          "aavail_basic",
          "aavail_premium",
          "aavail_basic",
          "aavail_basic",
          "aavail_basic",
          "aavail_unlimited",
          "aavail_unlimited",
          "aavail_premium",
          "aavail_unlimited",
          "aavail_unlimited",
          "aavail_premium",
          "aavail_premium",
          "aavail_premium",
          "aavail_basic",
          "aavail_basic",
          "aavail_basic",
          "aavail_unlimited",
          "aavail_unlimited",
          "aavail_premium",
          "aavail_unlimited",
          "aavail_premium",
          "aavail_basic",
          "aavail_basic",
          "aavail_unlimited",
          "aavail_premium",
          "aavail_unlimited",
          "aavail_basic",
          "aavail_premium",
          "aavail_premium",
          "aavail_unlimited",
          "aavail_basic",
          "aavail_unlimited",
          "aavail_basic",
          "aavail_unlimited",
          "aavail_unlimited",
          "aavail_basic",
          "aavail_unlimited",
          "aavail_premium",
          "aavail_premium",
          "aavail_basic",
          "aavail_unlimited",
          "aavail_premium",
          "aavail_basic",
          "aavail_unlimited",
          "aavail_unlimited",
          "aavail_premium",
          "aavail_premium",
          "aavail_premium",
          "aavail_basic",
          "aavail_unlimited",
          "aavail_basic",
          "aavail_basic",
          "aavail_premium",
          "aavail_premium",
          "aavail_premium",
          "aavail_unlimited",
          "aavail_basic",
          "aavail_premium",
          "aavail_unlimited",
          "aavail_basic",
          "aavail_basic",
          "aavail_basic",
          "aavail_premium",
          "aavail_basic",
          "aavail_premium",
          "aavail_basic",
          "aavail_basic",
          "aavail_basic",
          "aavail_premium",
          "aavail_basic",
          "aavail_basic",
          "aavail_unlimited",
          "aavail_premium",
          "aavail_basic",
          "aavail_premium",
          "aavail_premium",
          "aavail_basic",
          "aavail_unlimited",
          "aavail_premium",
          "aavail_basic",
          "aavail_premium",
          "aavail_unlimited",
          "aavail_premium",
          "aavail_unlimited",
          "aavail_premium",
          "aavail_basic",
          "aavail_premium",
          "aavail_unlimited",
          "aavail_premium",
          "aavail_unlimited",
          "aavail_premium",
          "aavail_premium",
          "aavail_basic",
          "aavail_unlimited",
          "aavail_basic",
          "aavail_basic",
          "aavail_unlimited",
          "aavail_premium",
          "aavail_unlimited",
          "aavail_premium",
          "aavail_basic",
          "aavail_premium",
          "aavail_basic",
          "aavail_basic",
          "aavail_unlimited",
          "aavail_unlimited",
          "aavail_premium",
          "aavail_premium",
          "aavail_basic",
          "aavail_unlimited",
          "aavail_premium",
          "aavail_unlimited",
          "aavail_premium",
          "aavail_basic",
          "aavail_premium",
          "aavail_basic",
          "aavail_premium",
          "aavail_unlimited",
          "aavail_basic",
          "aavail_unlimited",
          "aavail_premium",
          "aavail_basic",
          "aavail_premium",
          "aavail_basic",
          "aavail_unlimited",
          "aavail_unlimited",
          "aavail_basic",
          "aavail_basic",
          "aavail_basic",
          "aavail_basic",
          "aavail_basic",
          "aavail_basic",
          "aavail_basic",
          "aavail_premium",
          "aavail_premium",
          "aavail_premium",
          "aavail_basic",
          "aavail_basic",
          "aavail_basic",
          "aavail_premium",
          "aavail_premium",
          "aavail_basic",
          "aavail_premium",
          "aavail_basic",
          "aavail_premium",
          "aavail_basic",
          "aavail_unlimited",
          "aavail_premium",
          "aavail_premium",
          "aavail_premium",
          "aavail_basic",
          "aavail_basic",
          "aavail_unlimited",
          "aavail_basic",
          "aavail_basic",
          "aavail_premium",
          "aavail_premium",
          "aavail_unlimited",
          "aavail_basic",
          "aavail_premium",
          "aavail_basic",
          "aavail_premium",
          "aavail_unlimited",
          "aavail_premium",
          "aavail_premium",
          "aavail_premium",
          "aavail_unlimited",
          "aavail_unlimited",
          "aavail_premium",
          "aavail_unlimited",
          "aavail_unlimited",
          "aavail_premium",
          "aavail_basic",
          "aavail_premium",
          "aavail_basic",
          "aavail_unlimited",
          "aavail_premium",
          "aavail_basic",
          "aavail_basic",
          "aavail_basic",
          "aavail_premium",
          "aavail_premium",
          "aavail_premium",
          "aavail_basic",
          "aavail_unlimited",
          "aavail_basic",
          "aavail_basic",
          "aavail_unlimited",
          "aavail_basic",
          "aavail_basic",
          "aavail_basic",
          "aavail_unlimited",
          "aavail_unlimited",
          "aavail_unlimited",
          "aavail_basic",
          "aavail_unlimited",
          "aavail_premium",
          "aavail_basic",
          "aavail_unlimited",
          "aavail_basic",
          "aavail_basic",
          "aavail_unlimited",
          "aavail_unlimited",
          "aavail_premium",
          "aavail_premium",
          "aavail_premium",
          "aavail_unlimited",
          "aavail_unlimited",
          "aavail_unlimited",
          "aavail_basic",
          "aavail_basic",
          "aavail_basic",
          "aavail_basic",
          "aavail_premium",
          "aavail_basic",
          "aavail_premium",
          "aavail_unlimited",
          "aavail_premium",
          "aavail_premium",
          "aavail_basic",
          "aavail_basic",
          "aavail_basic",
          "aavail_basic",
          "aavail_unlimited",
          "aavail_basic",
          "aavail_premium",
          "aavail_premium",
          "aavail_basic",
          "aavail_basic",
          "aavail_basic",
          "aavail_basic",
          "aavail_premium",
          "aavail_premium",
          "aavail_unlimited",
          "aavail_premium",
          "aavail_basic",
          "aavail_unlimited",
          "aavail_unlimited",
          "aavail_unlimited",
          "aavail_premium",
          "aavail_unlimited",
          "aavail_basic",
          "aavail_premium",
          "aavail_basic",
          "aavail_premium",
          "aavail_premium",
          "aavail_basic",
          "aavail_unlimited",
          "aavail_unlimited",
          "aavail_unlimited",
          "aavail_premium",
          "aavail_premium",
          "aavail_basic",
          "aavail_basic",
          "aavail_premium",
          "aavail_unlimited",
          "aavail_unlimited",
          "aavail_premium",
          "aavail_unlimited",
          "aavail_unlimited",
          "aavail_premium",
          "aavail_premium",
          "aavail_basic",
          "aavail_unlimited",
          "aavail_premium",
          "aavail_basic",
          "aavail_premium",
          "aavail_unlimited",
          "aavail_basic",
          "aavail_basic",
          "aavail_unlimited",
          "aavail_unlimited",
          "aavail_basic",
          "aavail_unlimited",
          "aavail_premium",
          "aavail_premium",
          "aavail_basic",
          "aavail_basic",
          "aavail_unlimited",
          "aavail_unlimited",
          "aavail_basic",
          "aavail_premium",
          "aavail_premium",
          "aavail_basic",
          "aavail_basic",
          "aavail_premium",
          "aavail_basic",
          "aavail_basic",
          "aavail_basic",
          "aavail_unlimited",
          "aavail_basic",
          "aavail_premium",
          "aavail_premium",
          "aavail_premium",
          "aavail_unlimited",
          "aavail_basic",
          "aavail_basic",
          "aavail_unlimited",
          "aavail_premium",
          "aavail_premium",
          "aavail_premium",
          "aavail_premium",
          "aavail_basic",
          "aavail_unlimited",
          "aavail_premium",
          "aavail_unlimited",
          "aavail_basic",
          "aavail_premium",
          "aavail_basic",
          "aavail_unlimited",
          "aavail_basic",
          "aavail_basic",
          "aavail_basic",
          "aavail_premium",
          "aavail_basic",
          "aavail_unlimited",
          "aavail_basic",
          "aavail_basic",
          "aavail_premium",
          "aavail_unlimited",
          "aavail_basic",
          "aavail_basic",
          "aavail_premium",
          "aavail_unlimited",
          "aavail_basic",
          "aavail_basic",
          "aavail_basic",
          "aavail_unlimited",
          "aavail_basic",
          "aavail_unlimited",
          "aavail_unlimited",
          "aavail_premium",
          "aavail_unlimited",
          "aavail_basic",
          "aavail_premium",
          "aavail_basic",
          "aavail_unlimited",
          "aavail_unlimited",
          "aavail_premium",
          "aavail_basic",
          "aavail_unlimited",
          "aavail_premium",
          "aavail_unlimited",
          "aavail_unlimited",
          "aavail_basic",
          "aavail_unlimited",
          "aavail_premium",
          "aavail_basic",
          "aavail_basic",
          "aavail_unlimited",
          "aavail_premium",
          "aavail_basic",
          "aavail_premium",
          "aavail_premium",
          "aavail_premium",
          "aavail_basic",
          "aavail_unlimited",
          "aavail_basic",
          "aavail_basic",
          "aavail_premium",
          "aavail_unlimited",
          "aavail_premium",
          "aavail_basic",
          "aavail_unlimited",
          "aavail_premium",
          "aavail_unlimited",
          "aavail_basic",
          "aavail_premium",
          "aavail_premium",
          "aavail_unlimited",
          "aavail_basic",
          "aavail_premium",
          "aavail_basic",
          "aavail_unlimited",
          "aavail_unlimited",
          "aavail_premium",
          "aavail_premium",
          "aavail_basic",
          "aavail_unlimited",
          "aavail_premium",
          "aavail_unlimited",
          "aavail_unlimited",
          "aavail_premium",
          "aavail_unlimited",
          "aavail_premium",
          "aavail_unlimited",
          "aavail_premium",
          "aavail_premium",
          "aavail_basic",
          "aavail_unlimited",
          "aavail_premium",
          "aavail_unlimited",
          "aavail_basic",
          "aavail_basic",
          "aavail_basic",
          "aavail_premium",
          "aavail_basic",
          "aavail_premium",
          "aavail_basic",
          "aavail_premium",
          "aavail_basic",
          "aavail_premium",
          "aavail_basic",
          "aavail_basic",
          "aavail_basic",
          "aavail_unlimited",
          "aavail_unlimited",
          "aavail_unlimited",
          "aavail_basic",
          "aavail_unlimited",
          "aavail_unlimited",
          "aavail_unlimited",
          "aavail_basic",
          "aavail_unlimited",
          "aavail_premium",
          "aavail_premium",
          "aavail_unlimited",
          "aavail_basic",
          "aavail_basic",
          "aavail_premium",
          "aavail_basic",
          "aavail_basic",
          "aavail_unlimited",
          "aavail_basic",
          "aavail_unlimited",
          "aavail_premium",
          "aavail_basic",
          "aavail_unlimited",
          "aavail_unlimited",
          "aavail_basic",
          "aavail_premium",
          "aavail_basic",
          "aavail_premium",
          "aavail_premium",
          "aavail_basic",
          "aavail_unlimited",
          "aavail_basic",
          "aavail_premium",
          "aavail_basic",
          "aavail_unlimited",
          "aavail_unlimited",
          "aavail_premium",
          "aavail_basic",
          "aavail_unlimited",
          "aavail_basic",
          "aavail_premium",
          "aavail_premium",
          "aavail_basic",
          "aavail_unlimited",
          "aavail_basic",
          "aavail_unlimited",
          "aavail_premium",
          "aavail_unlimited",
          "aavail_basic",
          "aavail_unlimited",
          "aavail_unlimited",
          "aavail_unlimited",
          "aavail_premium",
          "aavail_premium",
          "aavail_premium",
          "aavail_basic",
          "aavail_premium",
          "aavail_unlimited",
          "aavail_unlimited",
          "aavail_unlimited",
          "aavail_premium",
          "aavail_basic",
          "aavail_premium",
          "aavail_premium",
          "aavail_premium",
          "aavail_premium",
          "aavail_basic",
          "aavail_unlimited",
          "aavail_basic",
          "aavail_premium",
          "aavail_unlimited",
          "aavail_premium",
          "aavail_basic",
          "aavail_basic",
          "aavail_basic",
          "aavail_basic",
          "aavail_basic",
          "aavail_basic",
          "aavail_basic",
          "aavail_unlimited",
          "aavail_basic",
          "aavail_premium",
          "aavail_premium",
          "aavail_basic",
          "aavail_basic",
          "aavail_basic",
          "aavail_basic",
          "aavail_premium",
          "aavail_basic",
          "aavail_basic",
          "aavail_basic",
          "aavail_premium",
          "aavail_unlimited",
          "aavail_basic",
          "aavail_premium",
          "aavail_unlimited",
          "aavail_basic",
          "aavail_basic",
          "aavail_premium",
          "aavail_unlimited",
          "aavail_unlimited",
          "aavail_premium",
          "aavail_premium",
          "aavail_basic",
          "aavail_premium",
          "aavail_basic",
          "aavail_unlimited",
          "aavail_unlimited",
          "aavail_basic",
          "aavail_unlimited",
          "aavail_basic",
          "aavail_basic",
          "aavail_premium",
          "aavail_unlimited",
          "aavail_premium",
          "aavail_basic",
          "aavail_unlimited",
          "aavail_basic",
          "aavail_basic",
          "aavail_unlimited",
          "aavail_basic",
          "aavail_unlimited",
          "aavail_basic",
          "aavail_basic",
          "aavail_premium",
          "aavail_unlimited",
          "aavail_unlimited",
          "aavail_premium",
          "aavail_basic",
          "aavail_basic",
          "aavail_unlimited",
          "aavail_unlimited",
          "aavail_unlimited",
          "aavail_basic",
          "aavail_unlimited",
          "aavail_unlimited",
          "aavail_basic",
          "aavail_basic",
          "aavail_basic",
          "aavail_premium",
          "aavail_basic",
          "aavail_premium",
          "aavail_unlimited",
          "aavail_unlimited",
          "aavail_premium",
          "aavail_basic",
          "aavail_basic",
          "aavail_unlimited",
          "aavail_unlimited",
          "aavail_premium",
          "aavail_unlimited",
          "aavail_basic",
          "aavail_unlimited",
          "aavail_premium",
          "aavail_unlimited",
          "aavail_premium",
          "aavail_basic",
          "aavail_unlimited",
          "aavail_basic",
          "aavail_unlimited",
          "aavail_basic",
          "aavail_basic",
          "aavail_premium",
          "aavail_basic",
          "aavail_basic",
          "aavail_premium",
          "aavail_unlimited",
          "aavail_premium",
          "aavail_unlimited",
          "aavail_premium",
          "aavail_unlimited",
          "aavail_basic",
          "aavail_unlimited",
          "aavail_unlimited",
          "aavail_premium",
          "aavail_basic",
          "aavail_basic",
          "aavail_premium",
          "aavail_basic",
          "aavail_unlimited",
          "aavail_unlimited",
          "aavail_unlimited",
          "aavail_basic",
          "aavail_basic",
          "aavail_premium",
          "aavail_basic",
          "aavail_unlimited",
          "aavail_basic",
          "aavail_premium",
          "aavail_premium",
          "aavail_basic",
          "aavail_basic",
          "aavail_basic",
          "aavail_unlimited",
          "aavail_unlimited",
          "aavail_unlimited",
          "aavail_basic",
          "aavail_unlimited",
          "aavail_unlimited",
          "aavail_unlimited",
          "aavail_unlimited",
          "aavail_basic",
          "aavail_basic",
          "aavail_unlimited",
          "aavail_unlimited",
          "aavail_unlimited",
          "aavail_unlimited",
          "aavail_basic",
          "aavail_basic",
          "aavail_unlimited",
          "aavail_unlimited",
          "aavail_unlimited",
          "aavail_premium",
          "aavail_premium",
          "aavail_unlimited",
          "aavail_unlimited",
          "aavail_basic",
          "aavail_unlimited",
          "aavail_premium",
          "aavail_unlimited",
          "aavail_basic",
          "aavail_premium",
          "aavail_premium",
          "aavail_premium",
          "aavail_premium",
          "aavail_premium",
          "aavail_premium",
          "aavail_premium",
          "aavail_premium",
          "aavail_basic",
          "aavail_unlimited",
          "aavail_premium",
          "aavail_basic",
          "aavail_premium",
          "aavail_basic",
          "aavail_unlimited",
          "aavail_unlimited",
          "aavail_premium",
          "aavail_unlimited",
          "aavail_premium",
          "aavail_unlimited",
          "aavail_unlimited",
          "aavail_basic",
          "aavail_premium",
          "aavail_unlimited",
          "aavail_unlimited",
          "aavail_premium",
          "aavail_basic",
          "aavail_premium",
          "aavail_premium",
          "aavail_unlimited",
          "aavail_basic",
          "aavail_premium",
          "aavail_basic",
          "aavail_premium",
          "aavail_premium",
          "aavail_unlimited",
          "aavail_unlimited",
          "aavail_unlimited",
          "aavail_premium",
          "aavail_premium",
          "aavail_basic",
          "aavail_premium",
          "aavail_unlimited",
          "aavail_premium",
          "aavail_premium",
          "aavail_premium",
          "aavail_unlimited",
          "aavail_unlimited",
          "aavail_unlimited",
          "aavail_premium",
          "aavail_unlimited",
          "aavail_basic",
          "aavail_premium",
          "aavail_unlimited",
          "aavail_premium",
          "aavail_premium",
          "aavail_basic",
          "aavail_unlimited",
          "aavail_basic",
          "aavail_premium",
          "aavail_basic",
          "aavail_premium",
          "aavail_unlimited",
          "aavail_premium",
          "aavail_basic",
          "aavail_basic",
          "aavail_premium",
          "aavail_premium",
          "aavail_basic",
          "aavail_premium",
          "aavail_basic",
          "aavail_premium",
          "aavail_premium",
          "aavail_unlimited",
          "aavail_basic",
          "aavail_basic",
          "aavail_unlimited",
          "aavail_premium",
          "aavail_premium",
          "aavail_basic",
          "aavail_premium",
          "aavail_basic",
          "aavail_basic",
          "aavail_unlimited",
          "aavail_premium",
          "aavail_basic",
          "aavail_unlimited",
          "aavail_premium",
          "aavail_unlimited",
          "aavail_premium",
          "aavail_basic",
          "aavail_unlimited",
          "aavail_basic",
          "aavail_unlimited",
          "aavail_unlimited",
          "aavail_unlimited",
          "aavail_unlimited",
          "aavail_premium",
          "aavail_unlimited",
          "aavail_unlimited",
          "aavail_unlimited",
          "aavail_unlimited",
          "aavail_unlimited",
          "aavail_unlimited",
          "aavail_premium",
          "aavail_basic",
          "aavail_premium",
          "aavail_unlimited",
          "aavail_basic",
          "aavail_unlimited",
          "aavail_unlimited",
          "aavail_premium",
          "aavail_basic",
          "aavail_basic",
          "aavail_premium",
          "aavail_premium",
          "aavail_basic",
          "aavail_basic",
          "aavail_basic",
          "aavail_basic",
          "aavail_unlimited",
          "aavail_premium",
          "aavail_unlimited",
          "aavail_basic",
          "aavail_premium",
          "aavail_basic",
          "aavail_premium",
          "aavail_unlimited",
          "aavail_premium",
          "aavail_unlimited",
          "aavail_premium",
          "aavail_unlimited",
          "aavail_basic",
          "aavail_basic",
          "aavail_premium",
          "aavail_basic",
          "aavail_basic",
          "aavail_premium",
          "aavail_basic",
          "aavail_basic",
          "aavail_unlimited",
          "aavail_basic",
          "aavail_unlimited",
          "aavail_premium",
          "aavail_premium",
          "aavail_unlimited",
          "aavail_premium",
          "aavail_premium",
          "aavail_premium",
          "aavail_unlimited",
          "aavail_unlimited",
          "aavail_basic",
          "aavail_premium",
          "aavail_basic",
          "aavail_unlimited",
          "aavail_premium",
          "aavail_basic",
          "aavail_premium",
          "aavail_basic",
          "aavail_unlimited",
          "aavail_basic",
          "aavail_basic",
          "aavail_basic",
          "aavail_unlimited",
          "aavail_basic",
          "aavail_basic",
          "aavail_premium",
          "aavail_premium",
          "aavail_unlimited",
          "aavail_unlimited",
          "aavail_basic",
          "aavail_unlimited",
          "aavail_premium",
          "aavail_premium",
          "aavail_basic",
          "aavail_basic",
          "aavail_basic",
          "aavail_basic",
          "aavail_unlimited",
          "aavail_basic",
          "aavail_unlimited",
          "aavail_premium",
          "aavail_unlimited",
          "aavail_unlimited",
          "aavail_premium",
          "aavail_premium",
          "aavail_basic",
          "aavail_basic",
          "aavail_basic",
          "aavail_premium",
          "aavail_premium",
          "aavail_premium",
          "aavail_basic",
          "aavail_premium",
          "aavail_premium",
          "aavail_unlimited",
          "aavail_premium",
          "aavail_basic",
          "aavail_basic",
          "aavail_premium",
          "aavail_basic",
          "aavail_basic",
          "aavail_basic",
          "aavail_unlimited",
          "aavail_unlimited",
          "aavail_unlimited",
          "aavail_premium",
          "aavail_unlimited",
          "aavail_unlimited",
          "aavail_basic",
          "aavail_unlimited",
          "aavail_premium",
          "aavail_premium",
          "aavail_basic",
          "aavail_basic",
          "aavail_premium",
          "aavail_unlimited",
          "aavail_basic",
          "aavail_basic",
          "aavail_premium",
          "aavail_premium",
          "aavail_basic",
          "aavail_premium",
          "aavail_premium",
          "aavail_unlimited",
          "aavail_premium",
          "aavail_basic",
          "aavail_unlimited",
          "aavail_basic",
          "aavail_premium",
          "aavail_premium",
          "aavail_basic",
          "aavail_unlimited",
          "aavail_unlimited",
          "aavail_premium",
          "aavail_unlimited",
          "aavail_premium",
          "aavail_unlimited",
          "aavail_unlimited",
          "aavail_premium",
          "aavail_unlimited",
          "aavail_basic",
          "aavail_basic",
          "aavail_basic",
          "aavail_unlimited",
          "aavail_basic",
          "aavail_basic",
          "aavail_premium",
          "aavail_basic",
          "aavail_basic",
          "aavail_premium",
          "aavail_basic",
          "aavail_basic",
          "aavail_basic",
          "aavail_unlimited",
          "aavail_basic",
          "aavail_premium",
          "aavail_basic",
          "aavail_premium",
          "aavail_basic",
          "aavail_premium",
          "aavail_basic",
          "aavail_premium",
          "aavail_unlimited",
          "aavail_basic",
          "aavail_basic",
          "aavail_unlimited",
          "aavail_basic",
          "aavail_basic",
          "aavail_premium",
          "aavail_premium",
          "aavail_basic",
          "aavail_premium",
          "aavail_unlimited",
          "aavail_unlimited",
          "aavail_premium",
          "aavail_unlimited",
          "aavail_unlimited",
          "aavail_basic",
          "aavail_basic",
          "aavail_premium",
          "aavail_premium",
          "aavail_unlimited",
          "aavail_unlimited",
          "aavail_premium",
          "aavail_unlimited",
          "aavail_basic",
          "aavail_basic",
          "aavail_unlimited",
          "aavail_basic",
          "aavail_unlimited",
          "aavail_basic",
          "aavail_unlimited",
          "aavail_premium",
          "aavail_basic",
          "aavail_unlimited",
          "aavail_unlimited",
          "aavail_premium",
          "aavail_basic",
          "aavail_premium",
          "aavail_premium",
          "aavail_premium",
          "aavail_premium",
          "aavail_premium",
          "aavail_premium",
          "aavail_basic",
          "aavail_basic",
          "aavail_premium",
          "aavail_premium",
          "aavail_unlimited",
          "aavail_unlimited",
          "aavail_premium",
          "aavail_basic",
          "aavail_basic",
          "aavail_basic",
          "aavail_premium",
          "aavail_premium",
          "aavail_premium",
          "aavail_basic",
          "aavail_premium",
          "aavail_premium",
          "aavail_unlimited",
          "aavail_basic",
          "aavail_unlimited",
          "aavail_basic",
          "aavail_basic",
          "aavail_unlimited",
          "aavail_premium",
          "aavail_basic",
          "aavail_premium",
          "aavail_unlimited",
          "aavail_basic",
          "aavail_premium",
          "aavail_basic",
          "aavail_premium",
          "aavail_basic",
          "aavail_basic",
          "aavail_premium",
          "aavail_basic",
          "aavail_basic",
          "aavail_basic",
          "aavail_premium",
          "aavail_unlimited",
          "aavail_unlimited",
          "aavail_basic",
          "aavail_unlimited",
          "aavail_basic",
          "aavail_unlimited",
          "aavail_unlimited",
          "aavail_unlimited"
         ],
         "xaxis": "x",
         "yaxis": "y"
        }
       ],
       "layout": {
        "autosize": true,
        "barmode": "relative",
        "legend": {
         "tracegroupgap": 0
        },
        "margin": {
         "t": 60
        },
        "template": {
         "data": {
          "bar": [
           {
            "error_x": {
             "color": "#2a3f5f"
            },
            "error_y": {
             "color": "#2a3f5f"
            },
            "marker": {
             "line": {
              "color": "#E5ECF6",
              "width": 0.5
             }
            },
            "type": "bar"
           }
          ],
          "barpolar": [
           {
            "marker": {
             "line": {
              "color": "#E5ECF6",
              "width": 0.5
             }
            },
            "type": "barpolar"
           }
          ],
          "carpet": [
           {
            "aaxis": {
             "endlinecolor": "#2a3f5f",
             "gridcolor": "white",
             "linecolor": "white",
             "minorgridcolor": "white",
             "startlinecolor": "#2a3f5f"
            },
            "baxis": {
             "endlinecolor": "#2a3f5f",
             "gridcolor": "white",
             "linecolor": "white",
             "minorgridcolor": "white",
             "startlinecolor": "#2a3f5f"
            },
            "type": "carpet"
           }
          ],
          "choropleth": [
           {
            "colorbar": {
             "outlinewidth": 0,
             "ticks": ""
            },
            "type": "choropleth"
           }
          ],
          "contour": [
           {
            "colorbar": {
             "outlinewidth": 0,
             "ticks": ""
            },
            "colorscale": [
             [
              0,
              "#0d0887"
             ],
             [
              0.1111111111111111,
              "#46039f"
             ],
             [
              0.2222222222222222,
              "#7201a8"
             ],
             [
              0.3333333333333333,
              "#9c179e"
             ],
             [
              0.4444444444444444,
              "#bd3786"
             ],
             [
              0.5555555555555556,
              "#d8576b"
             ],
             [
              0.6666666666666666,
              "#ed7953"
             ],
             [
              0.7777777777777778,
              "#fb9f3a"
             ],
             [
              0.8888888888888888,
              "#fdca26"
             ],
             [
              1,
              "#f0f921"
             ]
            ],
            "type": "contour"
           }
          ],
          "contourcarpet": [
           {
            "colorbar": {
             "outlinewidth": 0,
             "ticks": ""
            },
            "type": "contourcarpet"
           }
          ],
          "heatmap": [
           {
            "colorbar": {
             "outlinewidth": 0,
             "ticks": ""
            },
            "colorscale": [
             [
              0,
              "#0d0887"
             ],
             [
              0.1111111111111111,
              "#46039f"
             ],
             [
              0.2222222222222222,
              "#7201a8"
             ],
             [
              0.3333333333333333,
              "#9c179e"
             ],
             [
              0.4444444444444444,
              "#bd3786"
             ],
             [
              0.5555555555555556,
              "#d8576b"
             ],
             [
              0.6666666666666666,
              "#ed7953"
             ],
             [
              0.7777777777777778,
              "#fb9f3a"
             ],
             [
              0.8888888888888888,
              "#fdca26"
             ],
             [
              1,
              "#f0f921"
             ]
            ],
            "type": "heatmap"
           }
          ],
          "heatmapgl": [
           {
            "colorbar": {
             "outlinewidth": 0,
             "ticks": ""
            },
            "colorscale": [
             [
              0,
              "#0d0887"
             ],
             [
              0.1111111111111111,
              "#46039f"
             ],
             [
              0.2222222222222222,
              "#7201a8"
             ],
             [
              0.3333333333333333,
              "#9c179e"
             ],
             [
              0.4444444444444444,
              "#bd3786"
             ],
             [
              0.5555555555555556,
              "#d8576b"
             ],
             [
              0.6666666666666666,
              "#ed7953"
             ],
             [
              0.7777777777777778,
              "#fb9f3a"
             ],
             [
              0.8888888888888888,
              "#fdca26"
             ],
             [
              1,
              "#f0f921"
             ]
            ],
            "type": "heatmapgl"
           }
          ],
          "histogram": [
           {
            "marker": {
             "colorbar": {
              "outlinewidth": 0,
              "ticks": ""
             }
            },
            "type": "histogram"
           }
          ],
          "histogram2d": [
           {
            "colorbar": {
             "outlinewidth": 0,
             "ticks": ""
            },
            "colorscale": [
             [
              0,
              "#0d0887"
             ],
             [
              0.1111111111111111,
              "#46039f"
             ],
             [
              0.2222222222222222,
              "#7201a8"
             ],
             [
              0.3333333333333333,
              "#9c179e"
             ],
             [
              0.4444444444444444,
              "#bd3786"
             ],
             [
              0.5555555555555556,
              "#d8576b"
             ],
             [
              0.6666666666666666,
              "#ed7953"
             ],
             [
              0.7777777777777778,
              "#fb9f3a"
             ],
             [
              0.8888888888888888,
              "#fdca26"
             ],
             [
              1,
              "#f0f921"
             ]
            ],
            "type": "histogram2d"
           }
          ],
          "histogram2dcontour": [
           {
            "colorbar": {
             "outlinewidth": 0,
             "ticks": ""
            },
            "colorscale": [
             [
              0,
              "#0d0887"
             ],
             [
              0.1111111111111111,
              "#46039f"
             ],
             [
              0.2222222222222222,
              "#7201a8"
             ],
             [
              0.3333333333333333,
              "#9c179e"
             ],
             [
              0.4444444444444444,
              "#bd3786"
             ],
             [
              0.5555555555555556,
              "#d8576b"
             ],
             [
              0.6666666666666666,
              "#ed7953"
             ],
             [
              0.7777777777777778,
              "#fb9f3a"
             ],
             [
              0.8888888888888888,
              "#fdca26"
             ],
             [
              1,
              "#f0f921"
             ]
            ],
            "type": "histogram2dcontour"
           }
          ],
          "mesh3d": [
           {
            "colorbar": {
             "outlinewidth": 0,
             "ticks": ""
            },
            "type": "mesh3d"
           }
          ],
          "parcoords": [
           {
            "line": {
             "colorbar": {
              "outlinewidth": 0,
              "ticks": ""
             }
            },
            "type": "parcoords"
           }
          ],
          "pie": [
           {
            "automargin": true,
            "type": "pie"
           }
          ],
          "scatter": [
           {
            "marker": {
             "colorbar": {
              "outlinewidth": 0,
              "ticks": ""
             }
            },
            "type": "scatter"
           }
          ],
          "scatter3d": [
           {
            "line": {
             "colorbar": {
              "outlinewidth": 0,
              "ticks": ""
             }
            },
            "marker": {
             "colorbar": {
              "outlinewidth": 0,
              "ticks": ""
             }
            },
            "type": "scatter3d"
           }
          ],
          "scattercarpet": [
           {
            "marker": {
             "colorbar": {
              "outlinewidth": 0,
              "ticks": ""
             }
            },
            "type": "scattercarpet"
           }
          ],
          "scattergeo": [
           {
            "marker": {
             "colorbar": {
              "outlinewidth": 0,
              "ticks": ""
             }
            },
            "type": "scattergeo"
           }
          ],
          "scattergl": [
           {
            "marker": {
             "colorbar": {
              "outlinewidth": 0,
              "ticks": ""
             }
            },
            "type": "scattergl"
           }
          ],
          "scattermapbox": [
           {
            "marker": {
             "colorbar": {
              "outlinewidth": 0,
              "ticks": ""
             }
            },
            "type": "scattermapbox"
           }
          ],
          "scatterpolar": [
           {
            "marker": {
             "colorbar": {
              "outlinewidth": 0,
              "ticks": ""
             }
            },
            "type": "scatterpolar"
           }
          ],
          "scatterpolargl": [
           {
            "marker": {
             "colorbar": {
              "outlinewidth": 0,
              "ticks": ""
             }
            },
            "type": "scatterpolargl"
           }
          ],
          "scatterternary": [
           {
            "marker": {
             "colorbar": {
              "outlinewidth": 0,
              "ticks": ""
             }
            },
            "type": "scatterternary"
           }
          ],
          "surface": [
           {
            "colorbar": {
             "outlinewidth": 0,
             "ticks": ""
            },
            "colorscale": [
             [
              0,
              "#0d0887"
             ],
             [
              0.1111111111111111,
              "#46039f"
             ],
             [
              0.2222222222222222,
              "#7201a8"
             ],
             [
              0.3333333333333333,
              "#9c179e"
             ],
             [
              0.4444444444444444,
              "#bd3786"
             ],
             [
              0.5555555555555556,
              "#d8576b"
             ],
             [
              0.6666666666666666,
              "#ed7953"
             ],
             [
              0.7777777777777778,
              "#fb9f3a"
             ],
             [
              0.8888888888888888,
              "#fdca26"
             ],
             [
              1,
              "#f0f921"
             ]
            ],
            "type": "surface"
           }
          ],
          "table": [
           {
            "cells": {
             "fill": {
              "color": "#EBF0F8"
             },
             "line": {
              "color": "white"
             }
            },
            "header": {
             "fill": {
              "color": "#C8D4E3"
             },
             "line": {
              "color": "white"
             }
            },
            "type": "table"
           }
          ]
         },
         "layout": {
          "annotationdefaults": {
           "arrowcolor": "#2a3f5f",
           "arrowhead": 0,
           "arrowwidth": 1
          },
          "autotypenumbers": "strict",
          "coloraxis": {
           "colorbar": {
            "outlinewidth": 0,
            "ticks": ""
           }
          },
          "colorscale": {
           "diverging": [
            [
             0,
             "#8e0152"
            ],
            [
             0.1,
             "#c51b7d"
            ],
            [
             0.2,
             "#de77ae"
            ],
            [
             0.3,
             "#f1b6da"
            ],
            [
             0.4,
             "#fde0ef"
            ],
            [
             0.5,
             "#f7f7f7"
            ],
            [
             0.6,
             "#e6f5d0"
            ],
            [
             0.7,
             "#b8e186"
            ],
            [
             0.8,
             "#7fbc41"
            ],
            [
             0.9,
             "#4d9221"
            ],
            [
             1,
             "#276419"
            ]
           ],
           "sequential": [
            [
             0,
             "#0d0887"
            ],
            [
             0.1111111111111111,
             "#46039f"
            ],
            [
             0.2222222222222222,
             "#7201a8"
            ],
            [
             0.3333333333333333,
             "#9c179e"
            ],
            [
             0.4444444444444444,
             "#bd3786"
            ],
            [
             0.5555555555555556,
             "#d8576b"
            ],
            [
             0.6666666666666666,
             "#ed7953"
            ],
            [
             0.7777777777777778,
             "#fb9f3a"
            ],
            [
             0.8888888888888888,
             "#fdca26"
            ],
            [
             1,
             "#f0f921"
            ]
           ],
           "sequentialminus": [
            [
             0,
             "#0d0887"
            ],
            [
             0.1111111111111111,
             "#46039f"
            ],
            [
             0.2222222222222222,
             "#7201a8"
            ],
            [
             0.3333333333333333,
             "#9c179e"
            ],
            [
             0.4444444444444444,
             "#bd3786"
            ],
            [
             0.5555555555555556,
             "#d8576b"
            ],
            [
             0.6666666666666666,
             "#ed7953"
            ],
            [
             0.7777777777777778,
             "#fb9f3a"
            ],
            [
             0.8888888888888888,
             "#fdca26"
            ],
            [
             1,
             "#f0f921"
            ]
           ]
          },
          "colorway": [
           "#636efa",
           "#EF553B",
           "#00cc96",
           "#ab63fa",
           "#FFA15A",
           "#19d3f3",
           "#FF6692",
           "#B6E880",
           "#FF97FF",
           "#FECB52"
          ],
          "font": {
           "color": "#2a3f5f"
          },
          "geo": {
           "bgcolor": "white",
           "lakecolor": "white",
           "landcolor": "#E5ECF6",
           "showlakes": true,
           "showland": true,
           "subunitcolor": "white"
          },
          "hoverlabel": {
           "align": "left"
          },
          "hovermode": "closest",
          "mapbox": {
           "style": "light"
          },
          "paper_bgcolor": "white",
          "plot_bgcolor": "#E5ECF6",
          "polar": {
           "angularaxis": {
            "gridcolor": "white",
            "linecolor": "white",
            "ticks": ""
           },
           "bgcolor": "#E5ECF6",
           "radialaxis": {
            "gridcolor": "white",
            "linecolor": "white",
            "ticks": ""
           }
          },
          "scene": {
           "xaxis": {
            "backgroundcolor": "#E5ECF6",
            "gridcolor": "white",
            "gridwidth": 2,
            "linecolor": "white",
            "showbackground": true,
            "ticks": "",
            "zerolinecolor": "white"
           },
           "yaxis": {
            "backgroundcolor": "#E5ECF6",
            "gridcolor": "white",
            "gridwidth": 2,
            "linecolor": "white",
            "showbackground": true,
            "ticks": "",
            "zerolinecolor": "white"
           },
           "zaxis": {
            "backgroundcolor": "#E5ECF6",
            "gridcolor": "white",
            "gridwidth": 2,
            "linecolor": "white",
            "showbackground": true,
            "ticks": "",
            "zerolinecolor": "white"
           }
          },
          "shapedefaults": {
           "line": {
            "color": "#2a3f5f"
           }
          },
          "ternary": {
           "aaxis": {
            "gridcolor": "white",
            "linecolor": "white",
            "ticks": ""
           },
           "baxis": {
            "gridcolor": "white",
            "linecolor": "white",
            "ticks": ""
           },
           "bgcolor": "#E5ECF6",
           "caxis": {
            "gridcolor": "white",
            "linecolor": "white",
            "ticks": ""
           }
          },
          "title": {
           "x": 0.05
          },
          "xaxis": {
           "automargin": true,
           "gridcolor": "white",
           "linecolor": "white",
           "ticks": "",
           "title": {
            "standoff": 15
           },
           "zerolinecolor": "white",
           "zerolinewidth": 2
          },
          "yaxis": {
           "automargin": true,
           "gridcolor": "white",
           "linecolor": "white",
           "ticks": "",
           "title": {
            "standoff": 15
           },
           "zerolinecolor": "white",
           "zerolinewidth": 2
          }
         }
        },
        "xaxis": {
         "anchor": "y",
         "autorange": true,
         "domain": [
          0,
          1
         ],
         "range": [
          -0.5,
          2.5
         ],
         "title": {
          "text": "subscriber_type"
         },
         "type": "category"
        },
        "yaxis": {
         "anchor": "x",
         "autorange": true,
         "domain": [
          0,
          1
         ],
         "range": [
          0,
          386.3157894736842
         ],
         "title": {
          "text": "count"
         }
        }
       }
      },
      "image/png": "[encoded data removed]",
      "text/html": [
       "<div>                            <div id=\"4de23668-69bf-4e9a-9f70-5237bb79f66b\" class=\"plotly-graph-div\" style=\"height:525px; width:100%;\"></div>            <script type=\"text/javascript\">                require([\"plotly\"], function(Plotly) {                    window.PLOTLYENV=window.PLOTLYENV || {};                                    if (document.getElementById(\"4de23668-69bf-4e9a-9f70-5237bb79f66b\")) {                    Plotly.newPlot(                        \"4de23668-69bf-4e9a-9f70-5237bb79f66b\",                        [{\"alignmentgroup\": \"True\", \"bingroup\": \"x\", \"hovertemplate\": \"subscriber_type=%{x}<br>count=%{y}<extra></extra>\", \"legendgroup\": \"\", \"marker\": {\"color\": \"#636efa\"}, \"name\": \"\", \"offsetgroup\": \"\", \"orientation\": \"v\", \"showlegend\": false, \"type\": \"histogram\", \"x\": [\"aavail_premium\", \"aavail_unlimited\", \"aavail_premium\", \"aavail_basic\", \"aavail_premium\", \"aavail_premium\", \"aavail_basic\", \"aavail_premium\", \"aavail_premium\", \"aavail_basic\", \"aavail_premium\", \"aavail_unlimited\", \"aavail_premium\", \"aavail_basic\", \"aavail_premium\", \"aavail_basic\", \"aavail_premium\", \"aavail_basic\", \"aavail_premium\", \"aavail_premium\", \"aavail_unlimited\", \"aavail_basic\", \"aavail_unlimited\", \"aavail_basic\", \"aavail_basic\", \"aavail_premium\", \"aavail_basic\", \"aavail_basic\", \"aavail_basic\", \"aavail_unlimited\", \"aavail_unlimited\", \"aavail_premium\", \"aavail_unlimited\", \"aavail_unlimited\", \"aavail_premium\", \"aavail_premium\", \"aavail_premium\", \"aavail_basic\", \"aavail_basic\", \"aavail_basic\", \"aavail_unlimited\", \"aavail_unlimited\", \"aavail_premium\", \"aavail_unlimited\", \"aavail_premium\", \"aavail_basic\", \"aavail_basic\", \"aavail_unlimited\", \"aavail_premium\", \"aavail_unlimited\", \"aavail_basic\", \"aavail_premium\", \"aavail_premium\", \"aavail_unlimited\", \"aavail_basic\", \"aavail_unlimited\", \"aavail_basic\", \"aavail_unlimited\", \"aavail_unlimited\", \"aavail_basic\", \"aavail_unlimited\", \"aavail_premium\", \"aavail_premium\", \"aavail_basic\", \"aavail_unlimited\", \"aavail_premium\", \"aavail_basic\", \"aavail_unlimited\", \"aavail_unlimited\", \"aavail_premium\", \"aavail_premium\", \"aavail_premium\", \"aavail_basic\", \"aavail_unlimited\", \"aavail_basic\", \"aavail_basic\", \"aavail_premium\", \"aavail_premium\", \"aavail_premium\", \"aavail_unlimited\", \"aavail_basic\", \"aavail_premium\", \"aavail_unlimited\", \"aavail_basic\", \"aavail_basic\", \"aavail_basic\", \"aavail_premium\", \"aavail_basic\", \"aavail_premium\", \"aavail_basic\", \"aavail_basic\", \"aavail_basic\", \"aavail_premium\", \"aavail_basic\", \"aavail_basic\", \"aavail_unlimited\", \"aavail_premium\", \"aavail_basic\", \"aavail_premium\", \"aavail_premium\", \"aavail_basic\", \"aavail_unlimited\", \"aavail_premium\", \"aavail_basic\", \"aavail_premium\", \"aavail_unlimited\", \"aavail_premium\", \"aavail_unlimited\", \"aavail_premium\", \"aavail_basic\", \"aavail_premium\", \"aavail_unlimited\", \"aavail_premium\", \"aavail_unlimited\", \"aavail_premium\", \"aavail_premium\", \"aavail_basic\", \"aavail_unlimited\", \"aavail_basic\", \"aavail_basic\", \"aavail_unlimited\", \"aavail_premium\", \"aavail_unlimited\", \"aavail_premium\", \"aavail_basic\", \"aavail_premium\", \"aavail_basic\", \"aavail_basic\", \"aavail_unlimited\", \"aavail_unlimited\", \"aavail_premium\", \"aavail_premium\", \"aavail_basic\", \"aavail_unlimited\", \"aavail_premium\", \"aavail_unlimited\", \"aavail_premium\", \"aavail_basic\", \"aavail_premium\", \"aavail_basic\", \"aavail_premium\", \"aavail_unlimited\", \"aavail_basic\", \"aavail_unlimited\", \"aavail_premium\", \"aavail_basic\", \"aavail_premium\", \"aavail_basic\", \"aavail_unlimited\", \"aavail_unlimited\", \"aavail_basic\", \"aavail_basic\", \"aavail_basic\", \"aavail_basic\", \"aavail_basic\", \"aavail_basic\", \"aavail_basic\", \"aavail_premium\", \"aavail_premium\", \"aavail_premium\", \"aavail_basic\", \"aavail_basic\", \"aavail_basic\", \"aavail_premium\", \"aavail_premium\", \"aavail_basic\", \"aavail_premium\", \"aavail_basic\", \"aavail_premium\", \"aavail_basic\", \"aavail_unlimited\", \"aavail_premium\", \"aavail_premium\", \"aavail_premium\", \"aavail_basic\", \"aavail_basic\", \"aavail_unlimited\", \"aavail_basic\", \"aavail_basic\", \"aavail_premium\", \"aavail_premium\", \"aavail_unlimited\", \"aavail_basic\", \"aavail_premium\", \"aavail_basic\", \"aavail_premium\", \"aavail_unlimited\", \"aavail_premium\", \"aavail_premium\", \"aavail_premium\", \"aavail_unlimited\", \"aavail_unlimited\", \"aavail_premium\", \"aavail_unlimited\", \"aavail_unlimited\", \"aavail_premium\", \"aavail_basic\", \"aavail_premium\", \"aavail_basic\", \"aavail_unlimited\", \"aavail_premium\", \"aavail_basic\", \"aavail_basic\", \"aavail_basic\", \"aavail_premium\", \"aavail_premium\", \"aavail_premium\", \"aavail_basic\", \"aavail_unlimited\", \"aavail_basic\", \"aavail_basic\", \"aavail_unlimited\", \"aavail_basic\", \"aavail_basic\", \"aavail_basic\", \"aavail_unlimited\", \"aavail_unlimited\", \"aavail_unlimited\", \"aavail_basic\", \"aavail_unlimited\", \"aavail_premium\", \"aavail_basic\", \"aavail_unlimited\", \"aavail_basic\", \"aavail_basic\", \"aavail_unlimited\", \"aavail_unlimited\", \"aavail_premium\", \"aavail_premium\", \"aavail_premium\", \"aavail_unlimited\", \"aavail_unlimited\", \"aavail_unlimited\", \"aavail_basic\", \"aavail_basic\", \"aavail_basic\", \"aavail_basic\", \"aavail_premium\", \"aavail_basic\", \"aavail_premium\", \"aavail_unlimited\", \"aavail_premium\", \"aavail_premium\", \"aavail_basic\", \"aavail_basic\", \"aavail_basic\", \"aavail_basic\", \"aavail_unlimited\", \"aavail_basic\", \"aavail_premium\", \"aavail_premium\", \"aavail_basic\", \"aavail_basic\", \"aavail_basic\", \"aavail_basic\", \"aavail_premium\", \"aavail_premium\", \"aavail_unlimited\", \"aavail_premium\", \"aavail_basic\", \"aavail_unlimited\", \"aavail_unlimited\", \"aavail_unlimited\", \"aavail_premium\", \"aavail_unlimited\", \"aavail_basic\", \"aavail_premium\", \"aavail_basic\", \"aavail_premium\", \"aavail_premium\", \"aavail_basic\", \"aavail_unlimited\", \"aavail_unlimited\", \"aavail_unlimited\", \"aavail_premium\", \"aavail_premium\", \"aavail_basic\", \"aavail_basic\", \"aavail_premium\", \"aavail_unlimited\", \"aavail_unlimited\", \"aavail_premium\", \"aavail_unlimited\", \"aavail_unlimited\", \"aavail_premium\", \"aavail_premium\", \"aavail_basic\", \"aavail_unlimited\", \"aavail_premium\", \"aavail_basic\", \"aavail_premium\", \"aavail_unlimited\", \"aavail_basic\", \"aavail_basic\", \"aavail_unlimited\", \"aavail_unlimited\", \"aavail_basic\", \"aavail_unlimited\", \"aavail_premium\", \"aavail_premium\", \"aavail_basic\", \"aavail_basic\", \"aavail_unlimited\", \"aavail_unlimited\", \"aavail_basic\", \"aavail_premium\", \"aavail_premium\", \"aavail_basic\", \"aavail_basic\", \"aavail_premium\", \"aavail_basic\", \"aavail_basic\", \"aavail_basic\", \"aavail_unlimited\", \"aavail_basic\", \"aavail_premium\", \"aavail_premium\", \"aavail_premium\", \"aavail_unlimited\", \"aavail_basic\", \"aavail_basic\", \"aavail_unlimited\", \"aavail_premium\", \"aavail_premium\", \"aavail_premium\", \"aavail_premium\", \"aavail_basic\", \"aavail_unlimited\", \"aavail_premium\", \"aavail_unlimited\", \"aavail_basic\", \"aavail_premium\", \"aavail_basic\", \"aavail_unlimited\", \"aavail_basic\", \"aavail_basic\", \"aavail_basic\", \"aavail_premium\", \"aavail_basic\", \"aavail_unlimited\", \"aavail_basic\", \"aavail_basic\", \"aavail_premium\", \"aavail_unlimited\", \"aavail_basic\", \"aavail_basic\", \"aavail_premium\", \"aavail_unlimited\", \"aavail_basic\", \"aavail_basic\", \"aavail_basic\", \"aavail_unlimited\", \"aavail_basic\", \"aavail_unlimited\", \"aavail_unlimited\", \"aavail_premium\", \"aavail_unlimited\", \"aavail_basic\", \"aavail_premium\", \"aavail_basic\", \"aavail_unlimited\", \"aavail_unlimited\", \"aavail_premium\", \"aavail_basic\", \"aavail_unlimited\", \"aavail_premium\", \"aavail_unlimited\", \"aavail_unlimited\", \"aavail_basic\", \"aavail_unlimited\", \"aavail_premium\", \"aavail_basic\", \"aavail_basic\", \"aavail_unlimited\", \"aavail_premium\", \"aavail_basic\", \"aavail_premium\", \"aavail_premium\", \"aavail_premium\", \"aavail_basic\", \"aavail_unlimited\", \"aavail_basic\", \"aavail_basic\", \"aavail_premium\", \"aavail_unlimited\", \"aavail_premium\", \"aavail_basic\", \"aavail_unlimited\", \"aavail_premium\", \"aavail_unlimited\", \"aavail_basic\", \"aavail_premium\", \"aavail_premium\", \"aavail_unlimited\", \"aavail_basic\", \"aavail_premium\", \"aavail_basic\", \"aavail_unlimited\", \"aavail_unlimited\", \"aavail_premium\", \"aavail_premium\", \"aavail_basic\", \"aavail_unlimited\", \"aavail_premium\", \"aavail_unlimited\", \"aavail_unlimited\", \"aavail_premium\", \"aavail_unlimited\", \"aavail_premium\", \"aavail_unlimited\", \"aavail_premium\", \"aavail_premium\", \"aavail_basic\", \"aavail_unlimited\", \"aavail_premium\", \"aavail_unlimited\", \"aavail_basic\", \"aavail_basic\", \"aavail_basic\", \"aavail_premium\", \"aavail_basic\", \"aavail_premium\", \"aavail_basic\", \"aavail_premium\", \"aavail_basic\", \"aavail_premium\", \"aavail_basic\", \"aavail_basic\", \"aavail_basic\", \"aavail_unlimited\", \"aavail_unlimited\", \"aavail_unlimited\", \"aavail_basic\", \"aavail_unlimited\", \"aavail_unlimited\", \"aavail_unlimited\", \"aavail_basic\", \"aavail_unlimited\", \"aavail_premium\", \"aavail_premium\", \"aavail_unlimited\", \"aavail_basic\", \"aavail_basic\", \"aavail_premium\", \"aavail_basic\", \"aavail_basic\", \"aavail_unlimited\", \"aavail_basic\", \"aavail_unlimited\", \"aavail_premium\", \"aavail_basic\", \"aavail_unlimited\", \"aavail_unlimited\", \"aavail_basic\", \"aavail_premium\", \"aavail_basic\", \"aavail_premium\", \"aavail_premium\", \"aavail_basic\", \"aavail_unlimited\", \"aavail_basic\", \"aavail_premium\", \"aavail_basic\", \"aavail_unlimited\", \"aavail_unlimited\", \"aavail_premium\", \"aavail_basic\", \"aavail_unlimited\", \"aavail_basic\", \"aavail_premium\", \"aavail_premium\", \"aavail_basic\", \"aavail_unlimited\", \"aavail_basic\", \"aavail_unlimited\", \"aavail_premium\", \"aavail_unlimited\", \"aavail_basic\", \"aavail_unlimited\", \"aavail_unlimited\", \"aavail_unlimited\", \"aavail_premium\", \"aavail_premium\", \"aavail_premium\", \"aavail_basic\", \"aavail_premium\", \"aavail_unlimited\", \"aavail_unlimited\", \"aavail_unlimited\", \"aavail_premium\", \"aavail_basic\", \"aavail_premium\", \"aavail_premium\", \"aavail_premium\", \"aavail_premium\", \"aavail_basic\", \"aavail_unlimited\", \"aavail_basic\", \"aavail_premium\", \"aavail_unlimited\", \"aavail_premium\", \"aavail_basic\", \"aavail_basic\", \"aavail_basic\", \"aavail_basic\", \"aavail_basic\", \"aavail_basic\", \"aavail_basic\", \"aavail_unlimited\", \"aavail_basic\", \"aavail_premium\", \"aavail_premium\", \"aavail_basic\", \"aavail_basic\", \"aavail_basic\", \"aavail_basic\", \"aavail_premium\", \"aavail_basic\", \"aavail_basic\", \"aavail_basic\", \"aavail_premium\", \"aavail_unlimited\", \"aavail_basic\", \"aavail_premium\", \"aavail_unlimited\", \"aavail_basic\", \"aavail_basic\", \"aavail_premium\", \"aavail_unlimited\", \"aavail_unlimited\", \"aavail_premium\", \"aavail_premium\", \"aavail_basic\", \"aavail_premium\", \"aavail_basic\", \"aavail_unlimited\", \"aavail_unlimited\", \"aavail_basic\", \"aavail_unlimited\", \"aavail_basic\", \"aavail_basic\", \"aavail_premium\", \"aavail_unlimited\", \"aavail_premium\", \"aavail_basic\", \"aavail_unlimited\", \"aavail_basic\", \"aavail_basic\", \"aavail_unlimited\", \"aavail_basic\", \"aavail_unlimited\", \"aavail_basic\", \"aavail_basic\", \"aavail_premium\", \"aavail_unlimited\", \"aavail_unlimited\", \"aavail_premium\", \"aavail_basic\", \"aavail_basic\", \"aavail_unlimited\", \"aavail_unlimited\", \"aavail_unlimited\", \"aavail_basic\", \"aavail_unlimited\", \"aavail_unlimited\", \"aavail_basic\", \"aavail_basic\", \"aavail_basic\", \"aavail_premium\", \"aavail_basic\", \"aavail_premium\", \"aavail_unlimited\", \"aavail_unlimited\", \"aavail_premium\", \"aavail_basic\", \"aavail_basic\", \"aavail_unlimited\", \"aavail_unlimited\", \"aavail_premium\", \"aavail_unlimited\", \"aavail_basic\", \"aavail_unlimited\", \"aavail_premium\", \"aavail_unlimited\", \"aavail_premium\", \"aavail_basic\", \"aavail_unlimited\", \"aavail_basic\", \"aavail_unlimited\", \"aavail_basic\", \"aavail_basic\", \"aavail_premium\", \"aavail_basic\", \"aavail_basic\", \"aavail_premium\", \"aavail_unlimited\", \"aavail_premium\", \"aavail_unlimited\", \"aavail_premium\", \"aavail_unlimited\", \"aavail_basic\", \"aavail_unlimited\", \"aavail_unlimited\", \"aavail_premium\", \"aavail_basic\", \"aavail_basic\", \"aavail_premium\", \"aavail_basic\", \"aavail_unlimited\", \"aavail_unlimited\", \"aavail_unlimited\", \"aavail_basic\", \"aavail_basic\", \"aavail_premium\", \"aavail_basic\", \"aavail_unlimited\", \"aavail_basic\", \"aavail_premium\", \"aavail_premium\", \"aavail_basic\", \"aavail_basic\", \"aavail_basic\", \"aavail_unlimited\", \"aavail_unlimited\", \"aavail_unlimited\", \"aavail_basic\", \"aavail_unlimited\", \"aavail_unlimited\", \"aavail_unlimited\", \"aavail_unlimited\", \"aavail_basic\", \"aavail_basic\", \"aavail_unlimited\", \"aavail_unlimited\", \"aavail_unlimited\", \"aavail_unlimited\", \"aavail_basic\", \"aavail_basic\", \"aavail_unlimited\", \"aavail_unlimited\", \"aavail_unlimited\", \"aavail_premium\", \"aavail_premium\", \"aavail_unlimited\", \"aavail_unlimited\", \"aavail_basic\", \"aavail_unlimited\", \"aavail_premium\", \"aavail_unlimited\", \"aavail_basic\", \"aavail_premium\", \"aavail_premium\", \"aavail_premium\", \"aavail_premium\", \"aavail_premium\", \"aavail_premium\", \"aavail_premium\", \"aavail_premium\", \"aavail_basic\", \"aavail_unlimited\", \"aavail_premium\", \"aavail_basic\", \"aavail_premium\", \"aavail_basic\", \"aavail_unlimited\", \"aavail_unlimited\", \"aavail_premium\", \"aavail_unlimited\", \"aavail_premium\", \"aavail_unlimited\", \"aavail_unlimited\", \"aavail_basic\", \"aavail_premium\", \"aavail_unlimited\", \"aavail_unlimited\", \"aavail_premium\", \"aavail_basic\", \"aavail_premium\", \"aavail_premium\", \"aavail_unlimited\", \"aavail_basic\", \"aavail_premium\", \"aavail_basic\", \"aavail_premium\", \"aavail_premium\", \"aavail_unlimited\", \"aavail_unlimited\", \"aavail_unlimited\", \"aavail_premium\", \"aavail_premium\", \"aavail_basic\", \"aavail_premium\", \"aavail_unlimited\", \"aavail_premium\", \"aavail_premium\", \"aavail_premium\", \"aavail_unlimited\", \"aavail_unlimited\", \"aavail_unlimited\", \"aavail_premium\", \"aavail_unlimited\", \"aavail_basic\", \"aavail_premium\", \"aavail_unlimited\", \"aavail_premium\", \"aavail_premium\", \"aavail_basic\", \"aavail_unlimited\", \"aavail_basic\", \"aavail_premium\", \"aavail_basic\", \"aavail_premium\", \"aavail_unlimited\", \"aavail_premium\", \"aavail_basic\", \"aavail_basic\", \"aavail_premium\", \"aavail_premium\", \"aavail_basic\", \"aavail_premium\", \"aavail_basic\", \"aavail_premium\", \"aavail_premium\", \"aavail_unlimited\", \"aavail_basic\", \"aavail_basic\", \"aavail_unlimited\", \"aavail_premium\", \"aavail_premium\", \"aavail_basic\", \"aavail_premium\", \"aavail_basic\", \"aavail_basic\", \"aavail_unlimited\", \"aavail_premium\", \"aavail_basic\", \"aavail_unlimited\", \"aavail_premium\", \"aavail_unlimited\", \"aavail_premium\", \"aavail_basic\", \"aavail_unlimited\", \"aavail_basic\", \"aavail_unlimited\", \"aavail_unlimited\", \"aavail_unlimited\", \"aavail_unlimited\", \"aavail_premium\", \"aavail_unlimited\", \"aavail_unlimited\", \"aavail_unlimited\", \"aavail_unlimited\", \"aavail_unlimited\", \"aavail_unlimited\", \"aavail_premium\", \"aavail_basic\", \"aavail_premium\", \"aavail_unlimited\", \"aavail_basic\", \"aavail_unlimited\", \"aavail_unlimited\", \"aavail_premium\", \"aavail_basic\", \"aavail_basic\", \"aavail_premium\", \"aavail_premium\", \"aavail_basic\", \"aavail_basic\", \"aavail_basic\", \"aavail_basic\", \"aavail_unlimited\", \"aavail_premium\", \"aavail_unlimited\", \"aavail_basic\", \"aavail_premium\", \"aavail_basic\", \"aavail_premium\", \"aavail_unlimited\", \"aavail_premium\", \"aavail_unlimited\", \"aavail_premium\", \"aavail_unlimited\", \"aavail_basic\", \"aavail_basic\", \"aavail_premium\", \"aavail_basic\", \"aavail_basic\", \"aavail_premium\", \"aavail_basic\", \"aavail_basic\", \"aavail_unlimited\", \"aavail_basic\", \"aavail_unlimited\", \"aavail_premium\", \"aavail_premium\", \"aavail_unlimited\", \"aavail_premium\", \"aavail_premium\", \"aavail_premium\", \"aavail_unlimited\", \"aavail_unlimited\", \"aavail_basic\", \"aavail_premium\", \"aavail_basic\", \"aavail_unlimited\", \"aavail_premium\", \"aavail_basic\", \"aavail_premium\", \"aavail_basic\", \"aavail_unlimited\", \"aavail_basic\", \"aavail_basic\", \"aavail_basic\", \"aavail_unlimited\", \"aavail_basic\", \"aavail_basic\", \"aavail_premium\", \"aavail_premium\", \"aavail_unlimited\", \"aavail_unlimited\", \"aavail_basic\", \"aavail_unlimited\", \"aavail_premium\", \"aavail_premium\", \"aavail_basic\", \"aavail_basic\", \"aavail_basic\", \"aavail_basic\", \"aavail_unlimited\", \"aavail_basic\", \"aavail_unlimited\", \"aavail_premium\", \"aavail_unlimited\", \"aavail_unlimited\", \"aavail_premium\", \"aavail_premium\", \"aavail_basic\", \"aavail_basic\", \"aavail_basic\", \"aavail_premium\", \"aavail_premium\", \"aavail_premium\", \"aavail_basic\", \"aavail_premium\", \"aavail_premium\", \"aavail_unlimited\", \"aavail_premium\", \"aavail_basic\", \"aavail_basic\", \"aavail_premium\", \"aavail_basic\", \"aavail_basic\", \"aavail_basic\", \"aavail_unlimited\", \"aavail_unlimited\", \"aavail_unlimited\", \"aavail_premium\", \"aavail_unlimited\", \"aavail_unlimited\", \"aavail_basic\", \"aavail_unlimited\", \"aavail_premium\", \"aavail_premium\", \"aavail_basic\", \"aavail_basic\", \"aavail_premium\", \"aavail_unlimited\", \"aavail_basic\", \"aavail_basic\", \"aavail_premium\", \"aavail_premium\", \"aavail_basic\", \"aavail_premium\", \"aavail_premium\", \"aavail_unlimited\", \"aavail_premium\", \"aavail_basic\", \"aavail_unlimited\", \"aavail_basic\", \"aavail_premium\", \"aavail_premium\", \"aavail_basic\", \"aavail_unlimited\", \"aavail_unlimited\", \"aavail_premium\", \"aavail_unlimited\", \"aavail_premium\", \"aavail_unlimited\", \"aavail_unlimited\", \"aavail_premium\", \"aavail_unlimited\", \"aavail_basic\", \"aavail_basic\", \"aavail_basic\", \"aavail_unlimited\", \"aavail_basic\", \"aavail_basic\", \"aavail_premium\", \"aavail_basic\", \"aavail_basic\", \"aavail_premium\", \"aavail_basic\", \"aavail_basic\", \"aavail_basic\", \"aavail_unlimited\", \"aavail_basic\", \"aavail_premium\", \"aavail_basic\", \"aavail_premium\", \"aavail_basic\", \"aavail_premium\", \"aavail_basic\", \"aavail_premium\", \"aavail_unlimited\", \"aavail_basic\", \"aavail_basic\", \"aavail_unlimited\", \"aavail_basic\", \"aavail_basic\", \"aavail_premium\", \"aavail_premium\", \"aavail_basic\", \"aavail_premium\", \"aavail_unlimited\", \"aavail_unlimited\", \"aavail_premium\", \"aavail_unlimited\", \"aavail_unlimited\", \"aavail_basic\", \"aavail_basic\", \"aavail_premium\", \"aavail_premium\", \"aavail_unlimited\", \"aavail_unlimited\", \"aavail_premium\", \"aavail_unlimited\", \"aavail_basic\", \"aavail_basic\", \"aavail_unlimited\", \"aavail_basic\", \"aavail_unlimited\", \"aavail_basic\", \"aavail_unlimited\", \"aavail_premium\", \"aavail_basic\", \"aavail_unlimited\", \"aavail_unlimited\", \"aavail_premium\", \"aavail_basic\", \"aavail_premium\", \"aavail_premium\", \"aavail_premium\", \"aavail_premium\", \"aavail_premium\", \"aavail_premium\", \"aavail_basic\", \"aavail_basic\", \"aavail_premium\", \"aavail_premium\", \"aavail_unlimited\", \"aavail_unlimited\", \"aavail_premium\", \"aavail_basic\", \"aavail_basic\", \"aavail_basic\", \"aavail_premium\", \"aavail_premium\", \"aavail_premium\", \"aavail_basic\", \"aavail_premium\", \"aavail_premium\", \"aavail_unlimited\", \"aavail_basic\", \"aavail_unlimited\", \"aavail_basic\", \"aavail_basic\", \"aavail_unlimited\", \"aavail_premium\", \"aavail_basic\", \"aavail_premium\", \"aavail_unlimited\", \"aavail_basic\", \"aavail_premium\", \"aavail_basic\", \"aavail_premium\", \"aavail_basic\", \"aavail_basic\", \"aavail_premium\", \"aavail_basic\", \"aavail_basic\", \"aavail_basic\", \"aavail_premium\", \"aavail_unlimited\", \"aavail_unlimited\", \"aavail_basic\", \"aavail_unlimited\", \"aavail_basic\", \"aavail_unlimited\", \"aavail_unlimited\", \"aavail_unlimited\"], \"xaxis\": \"x\", \"yaxis\": \"y\"}],                        {\"barmode\": \"relative\", \"legend\": {\"tracegroupgap\": 0}, \"margin\": {\"t\": 60}, \"template\": {\"data\": {\"bar\": [{\"error_x\": {\"color\": \"#2a3f5f\"}, \"error_y\": {\"color\": \"#2a3f5f\"}, \"marker\": {\"line\": {\"color\": \"#E5ECF6\", \"width\": 0.5}}, \"type\": \"bar\"}], \"barpolar\": [{\"marker\": {\"line\": {\"color\": \"#E5ECF6\", \"width\": 0.5}}, \"type\": \"barpolar\"}], \"carpet\": [{\"aaxis\": {\"endlinecolor\": \"#2a3f5f\", \"gridcolor\": \"white\", \"linecolor\": \"white\", \"minorgridcolor\": \"white\", \"startlinecolor\": \"#2a3f5f\"}, \"baxis\": {\"endlinecolor\": \"#2a3f5f\", \"gridcolor\": \"white\", \"linecolor\": \"white\", \"minorgridcolor\": \"white\", \"startlinecolor\": \"#2a3f5f\"}, \"type\": \"carpet\"}], \"choropleth\": [{\"colorbar\": {\"outlinewidth\": 0, \"ticks\": \"\"}, \"type\": \"choropleth\"}], \"contour\": [{\"colorbar\": {\"outlinewidth\": 0, \"ticks\": \"\"}, \"colorscale\": [[0.0, \"#0d0887\"], [0.1111111111111111, \"#46039f\"], [0.2222222222222222, \"#7201a8\"], [0.3333333333333333, \"#9c179e\"], [0.4444444444444444, \"#bd3786\"], [0.5555555555555556, \"#d8576b\"], [0.6666666666666666, \"#ed7953\"], [0.7777777777777778, \"#fb9f3a\"], [0.8888888888888888, \"#fdca26\"], [1.0, \"#f0f921\"]], \"type\": \"contour\"}], \"contourcarpet\": [{\"colorbar\": {\"outlinewidth\": 0, \"ticks\": \"\"}, \"type\": \"contourcarpet\"}], \"heatmap\": [{\"colorbar\": {\"outlinewidth\": 0, \"ticks\": \"\"}, \"colorscale\": [[0.0, \"#0d0887\"], [0.1111111111111111, \"#46039f\"], [0.2222222222222222, \"#7201a8\"], [0.3333333333333333, \"#9c179e\"], [0.4444444444444444, \"#bd3786\"], [0.5555555555555556, \"#d8576b\"], [0.6666666666666666, \"#ed7953\"], [0.7777777777777778, \"#fb9f3a\"], [0.8888888888888888, \"#fdca26\"], [1.0, \"#f0f921\"]], \"type\": \"heatmap\"}], \"heatmapgl\": [{\"colorbar\": {\"outlinewidth\": 0, \"ticks\": \"\"}, \"colorscale\": [[0.0, \"#0d0887\"], [0.1111111111111111, \"#46039f\"], [0.2222222222222222, \"#7201a8\"], [0.3333333333333333, \"#9c179e\"], [0.4444444444444444, \"#bd3786\"], [0.5555555555555556, \"#d8576b\"], [0.6666666666666666, \"#ed7953\"], [0.7777777777777778, \"#fb9f3a\"], [0.8888888888888888, \"#fdca26\"], [1.0, \"#f0f921\"]], \"type\": \"heatmapgl\"}], \"histogram\": [{\"marker\": {\"colorbar\": {\"outlinewidth\": 0, \"ticks\": \"\"}}, \"type\": \"histogram\"}], \"histogram2d\": [{\"colorbar\": {\"outlinewidth\": 0, \"ticks\": \"\"}, \"colorscale\": [[0.0, \"#0d0887\"], [0.1111111111111111, \"#46039f\"], [0.2222222222222222, \"#7201a8\"], [0.3333333333333333, \"#9c179e\"], [0.4444444444444444, \"#bd3786\"], [0.5555555555555556, \"#d8576b\"], [0.6666666666666666, \"#ed7953\"], [0.7777777777777778, \"#fb9f3a\"], [0.8888888888888888, \"#fdca26\"], [1.0, \"#f0f921\"]], \"type\": \"histogram2d\"}], \"histogram2dcontour\": [{\"colorbar\": {\"outlinewidth\": 0, \"ticks\": \"\"}, \"colorscale\": [[0.0, \"#0d0887\"], [0.1111111111111111, \"#46039f\"], [0.2222222222222222, \"#7201a8\"], [0.3333333333333333, \"#9c179e\"], [0.4444444444444444, \"#bd3786\"], [0.5555555555555556, \"#d8576b\"], [0.6666666666666666, \"#ed7953\"], [0.7777777777777778, \"#fb9f3a\"], [0.8888888888888888, \"#fdca26\"], [1.0, \"#f0f921\"]], \"type\": \"histogram2dcontour\"}], \"mesh3d\": [{\"colorbar\": {\"outlinewidth\": 0, \"ticks\": \"\"}, \"type\": \"mesh3d\"}], \"parcoords\": [{\"line\": {\"colorbar\": {\"outlinewidth\": 0, \"ticks\": \"\"}}, \"type\": \"parcoords\"}], \"pie\": [{\"automargin\": true, \"type\": \"pie\"}], \"scatter\": [{\"marker\": {\"colorbar\": {\"outlinewidth\": 0, \"ticks\": \"\"}}, \"type\": \"scatter\"}], \"scatter3d\": [{\"line\": {\"colorbar\": {\"outlinewidth\": 0, \"ticks\": \"\"}}, \"marker\": {\"colorbar\": {\"outlinewidth\": 0, \"ticks\": \"\"}}, \"type\": \"scatter3d\"}], \"scattercarpet\": [{\"marker\": {\"colorbar\": {\"outlinewidth\": 0, \"ticks\": \"\"}}, \"type\": \"scattercarpet\"}], \"scattergeo\": [{\"marker\": {\"colorbar\": {\"outlinewidth\": 0, \"ticks\": \"\"}}, \"type\": \"scattergeo\"}], \"scattergl\": [{\"marker\": {\"colorbar\": {\"outlinewidth\": 0, \"ticks\": \"\"}}, \"type\": \"scattergl\"}], \"scattermapbox\": [{\"marker\": {\"colorbar\": {\"outlinewidth\": 0, \"ticks\": \"\"}}, \"type\": \"scattermapbox\"}], \"scatterpolar\": [{\"marker\": {\"colorbar\": {\"outlinewidth\": 0, \"ticks\": \"\"}}, \"type\": \"scatterpolar\"}], \"scatterpolargl\": [{\"marker\": {\"colorbar\": {\"outlinewidth\": 0, \"ticks\": \"\"}}, \"type\": \"scatterpolargl\"}], \"scatterternary\": [{\"marker\": {\"colorbar\": {\"outlinewidth\": 0, \"ticks\": \"\"}}, \"type\": \"scatterternary\"}], \"surface\": [{\"colorbar\": {\"outlinewidth\": 0, \"ticks\": \"\"}, \"colorscale\": [[0.0, \"#0d0887\"], [0.1111111111111111, \"#46039f\"], [0.2222222222222222, \"#7201a8\"], [0.3333333333333333, \"#9c179e\"], [0.4444444444444444, \"#bd3786\"], [0.5555555555555556, \"#d8576b\"], [0.6666666666666666, \"#ed7953\"], [0.7777777777777778, \"#fb9f3a\"], [0.8888888888888888, \"#fdca26\"], [1.0, \"#f0f921\"]], \"type\": \"surface\"}], \"table\": [{\"cells\": {\"fill\": {\"color\": \"#EBF0F8\"}, \"line\": {\"color\": \"white\"}}, \"header\": {\"fill\": {\"color\": \"#C8D4E3\"}, \"line\": {\"color\": \"white\"}}, \"type\": \"table\"}]}, \"layout\": {\"annotationdefaults\": {\"arrowcolor\": \"#2a3f5f\", \"arrowhead\": 0, \"arrowwidth\": 1}, \"autotypenumbers\": \"strict\", \"coloraxis\": {\"colorbar\": {\"outlinewidth\": 0, \"ticks\": \"\"}}, \"colorscale\": {\"diverging\": [[0, \"#8e0152\"], [0.1, \"#c51b7d\"], [0.2, \"#de77ae\"], [0.3, \"#f1b6da\"], [0.4, \"#fde0ef\"], [0.5, \"#f7f7f7\"], [0.6, \"#e6f5d0\"], [0.7, \"#b8e186\"], [0.8, \"#7fbc41\"], [0.9, \"#4d9221\"], [1, \"#276419\"]], \"sequential\": [[0.0, \"#0d0887\"], [0.1111111111111111, \"#46039f\"], [0.2222222222222222, \"#7201a8\"], [0.3333333333333333, \"#9c179e\"], [0.4444444444444444, \"#bd3786\"], [0.5555555555555556, \"#d8576b\"], [0.6666666666666666, \"#ed7953\"], [0.7777777777777778, \"#fb9f3a\"], [0.8888888888888888, \"#fdca26\"], [1.0, \"#f0f921\"]], \"sequentialminus\": [[0.0, \"#0d0887\"], [0.1111111111111111, \"#46039f\"], [0.2222222222222222, \"#7201a8\"], [0.3333333333333333, \"#9c179e\"], [0.4444444444444444, \"#bd3786\"], [0.5555555555555556, \"#d8576b\"], [0.6666666666666666, \"#ed7953\"], [0.7777777777777778, \"#fb9f3a\"], [0.8888888888888888, \"#fdca26\"], [1.0, \"#f0f921\"]]}, \"colorway\": [\"#636efa\", \"#EF553B\", \"#00cc96\", \"#ab63fa\", \"#FFA15A\", \"#19d3f3\", \"#FF6692\", \"#B6E880\", \"#FF97FF\", \"#FECB52\"], \"font\": {\"color\": \"#2a3f5f\"}, \"geo\": {\"bgcolor\": \"white\", \"lakecolor\": \"white\", \"landcolor\": \"#E5ECF6\", \"showlakes\": true, \"showland\": true, \"subunitcolor\": \"white\"}, \"hoverlabel\": {\"align\": \"left\"}, \"hovermode\": \"closest\", \"mapbox\": {\"style\": \"light\"}, \"paper_bgcolor\": \"white\", \"plot_bgcolor\": \"#E5ECF6\", \"polar\": {\"angularaxis\": {\"gridcolor\": \"white\", \"linecolor\": \"white\", \"ticks\": \"\"}, \"bgcolor\": \"#E5ECF6\", \"radialaxis\": {\"gridcolor\": \"white\", \"linecolor\": \"white\", \"ticks\": \"\"}}, \"scene\": {\"xaxis\": {\"backgroundcolor\": \"#E5ECF6\", \"gridcolor\": \"white\", \"gridwidth\": 2, \"linecolor\": \"white\", \"showbackground\": true, \"ticks\": \"\", \"zerolinecolor\": \"white\"}, \"yaxis\": {\"backgroundcolor\": \"#E5ECF6\", \"gridcolor\": \"white\", \"gridwidth\": 2, \"linecolor\": \"white\", \"showbackground\": true, \"ticks\": \"\", \"zerolinecolor\": \"white\"}, \"zaxis\": {\"backgroundcolor\": \"#E5ECF6\", \"gridcolor\": \"white\", \"gridwidth\": 2, \"linecolor\": \"white\", \"showbackground\": true, \"ticks\": \"\", \"zerolinecolor\": \"white\"}}, \"shapedefaults\": {\"line\": {\"color\": \"#2a3f5f\"}}, \"ternary\": {\"aaxis\": {\"gridcolor\": \"white\", \"linecolor\": \"white\", \"ticks\": \"\"}, \"baxis\": {\"gridcolor\": \"white\", \"linecolor\": \"white\", \"ticks\": \"\"}, \"bgcolor\": \"#E5ECF6\", \"caxis\": {\"gridcolor\": \"white\", \"linecolor\": \"white\", \"ticks\": \"\"}}, \"title\": {\"x\": 0.05}, \"xaxis\": {\"automargin\": true, \"gridcolor\": \"white\", \"linecolor\": \"white\", \"ticks\": \"\", \"title\": {\"standoff\": 15}, \"zerolinecolor\": \"white\", \"zerolinewidth\": 2}, \"yaxis\": {\"automargin\": true, \"gridcolor\": \"white\", \"linecolor\": \"white\", \"ticks\": \"\", \"title\": {\"standoff\": 15}, \"zerolinecolor\": \"white\", \"zerolinewidth\": 2}}}, \"xaxis\": {\"anchor\": \"y\", \"domain\": [0.0, 1.0], \"title\": {\"text\": \"subscriber_type\"}}, \"yaxis\": {\"anchor\": \"x\", \"domain\": [0.0, 1.0], \"title\": {\"text\": \"count\"}}},                        {\"responsive\": true}                    ).then(function(){\n",
       "                            \n",
       "var gd = document.getElementById('4de23668-69bf-4e9a-9f70-5237bb79f66b');\n",
       "var x = new MutationObserver(function (mutations, observer) {{\n",
       "        var display = window.getComputedStyle(gd).display;\n",
       "        if (!display || display === 'none') {{\n",
       "            console.log([gd, 'removed!']);\n",
       "            Plotly.purge(gd);\n",
       "            observer.disconnect();\n",
       "        }}\n",
       "}});\n",
       "\n",
       "// Listen for the removal of the full notebook cells\n",
       "var notebookContainer = gd.closest('#notebook-container');\n",
       "if (notebookContainer) {{\n",
       "    x.observe(notebookContainer, {childList: true});\n",
       "}}\n",
       "\n",
       "// Listen for the clearing of the current output cell\n",
       "var outputEl = gd.closest('.output');\n",
       "if (outputEl) {{\n",
       "    x.observe(outputEl, {childList: true});\n",
       "}}\n",
       "\n",
       "                        })                };                });            </script>        </div>"
      ]
     },
     "metadata": {},
     "output_type": "display_data"
    }
   ],
   "source": [
    "fig = px.histogram(imbalanced, x='is_subscriber')\n",
    "fig.show()\n",
    "\n",
    "fig = px.histogram(imbalanced, x='subscriber_type')\n",
    "fig.show()"
   ]
  },
  {
   "cell_type": "code",
   "execution_count": 36,
   "id": "64997223-544c-4bea-b019-c876361a905d",
   "metadata": {},
   "outputs": [
    {
     "data": {
      "text/plain": [
       "1      aavail_unlimited\n",
       "2        aavail_premium\n",
       "6          aavail_basic\n",
       "8        aavail_premium\n",
       "9          aavail_basic\n",
       "             ...       \n",
       "974        aavail_basic\n",
       "977      aavail_premium\n",
       "979      aavail_premium\n",
       "991      aavail_premium\n",
       "995    aavail_unlimited\n",
       "Name: subscriber_type, Length: 289, dtype: object"
      ]
     },
     "execution_count": 36,
     "metadata": {},
     "output_type": "execute_result"
    }
   ],
   "source": [
    "imbalanced[imbalanced.is_subscriber == 0]['subscriber_type']"
   ]
  },
  {
   "cell_type": "code",
   "execution_count": 39,
   "id": "e34966c6-629f-4adb-8fbb-748140df9595",
   "metadata": {},
   "outputs": [],
   "source": [
    "\n",
    "# pull out the target and remove unnecessary columns\n",
    "_y = imbalanced.pop('is_subscriber')\n",
    "y = np.zeros(_y.size)\n",
    "y[_y == 0] = 1\n",
    "imbalanced.drop(columns=['customer_id', 'customer_name'], inplace=True)\n",
    "\n",
    "# split the data\n",
    "X_train, X_test, y_train, y_test = train_test_split(imbalanced, y, test_size=.2, stratify=y)"
   ]
  },
  {
   "cell_type": "code",
   "execution_count": 43,
   "id": "8ab0b637-f61e-44a0-8ae0-c64d189a23eb",
   "metadata": {},
   "outputs": [
    {
     "name": "stdout",
     "output_type": "stream",
     "text": [
      "Train Set:\n",
      " vals\n",
      "0.0     569\n",
      "1.0     231\n",
      "dtype: int64\n",
      "\n",
      "\n",
      "Test Set:\n",
      " vals\n",
      "0.0     142\n",
      "1.0      58\n",
      "dtype: int64\n"
     ]
    }
   ],
   "source": [
    "print('Train Set:\\n', pd.DataFrame(y_train, columns=['vals']).value_counts())\n",
    "print('\\n')\n",
    "print('Test Set:\\n', pd.DataFrame(y_test, columns=['vals']).value_counts())"
   ]
  },
  {
   "cell_type": "code",
   "execution_count": 46,
   "id": "1dd8da7d-b6ff-4ce1-b731-f62773fd9bee",
   "metadata": {},
   "outputs": [
    {
     "name": "stdout",
     "output_type": "stream",
     "text": [
      "[(0.0, 569), (1.0, 231)]\n",
      "[(0.0, 142), (1.0, 58)]\n"
     ]
    }
   ],
   "source": [
    "from collections import Counter\n",
    "print(sorted(Counter(y_train).items()))\n",
    "print(sorted(Counter(y_test).items()))\n",
    "\n"
   ]
  },
  {
   "cell_type": "code",
   "execution_count": 48,
   "id": "79e96b09-4ac9-4683-ad4b-4b05cd2f2d8a",
   "metadata": {},
   "outputs": [],
   "source": [
    "# transformation pipeline\n",
    "from sklearn.impute import SimpleImputer\n",
    "from sklearn.preprocessing import OneHotEncoder\n",
    "from sklearn.compose import ColumnTransformer \n",
    "from sklearn.pipeline import Pipeline \n",
    "\n",
    "from sklearn.linear_model import LogisticRegression\n",
    "\n",
    "numeric_features = ['age', 'num_streams']\n",
    "numeric_transformer = Pipeline(steps=[\n",
    "    ('imputer', SimpleImputer(strategy='median')),\n",
    "    ('scaler', StandardScaler())\n",
    "])\n",
    "\n",
    "categorical_features = ['country', 'subscriber_type']\n",
    "categorical_transformer = Pipeline(steps=[\n",
    "    ('imputer', SimpleImputer(strategy='constant', fill_value='missing')),\n",
    "    ('onehot', OneHotEncoder(handle_unknown='ignore'))\n",
    "])\n",
    "\n",
    "preprocessor = ColumnTransformer(\n",
    "    transformers=[\n",
    "        ('num', numeric_transformer, numeric_features),\n",
    "        ('cat', categorical_transformer, categorical_features)\n",
    "    ]\n",
    ")\n",
    "\n",
    "# model pipeline\n",
    "clf = Pipeline(steps=[\n",
    "    ('preprocessor', preprocessor),\n",
    "    ('classifier', LogisticRegression(solver='lbfgs'))\n",
    "])\n"
   ]
  },
  {
   "cell_type": "code",
   "execution_count": 50,
   "id": "9369de0b-d65d-4dca-b91a-5fc23ffe970e",
   "metadata": {},
   "outputs": [
    {
     "name": "stdout",
     "output_type": "stream",
     "text": [
      "              precision    recall  f1-score   support\n",
      "\n",
      "  subscriber       0.83      0.87      0.85       142\n",
      "       churn       0.63      0.57      0.60        58\n",
      "\n",
      "    accuracy                           0.78       200\n",
      "   macro avg       0.73      0.72      0.72       200\n",
      "weighted avg       0.77      0.78      0.78       200\n",
      "\n"
     ]
    }
   ],
   "source": [
    "from sklearn.metrics import classification_report \n",
    "\n",
    "clf.fit(X_train, y_train)\n",
    "y_pred = clf.predict(X_test)\n",
    "\n",
    "print(classification_report(y_test, y_pred, target_names=['subscriber', 'churn']))"
   ]
  },
  {
   "cell_type": "markdown",
   "id": "ccb54682-5270-4a03-bdc8-b8321cf2e707",
   "metadata": {},
   "source": [
    "## Imbalanced Learn\n",
    "- Simple interface & integrations with sklearn\n",
    "- Neural Networks: imblearn.keras & imblearn.tensorflow\n",
    "- SMOTE & related variants\n",
    "- Works naturally with pipelines"
   ]
  },
  {
   "cell_type": "code",
   "execution_count": 54,
   "id": "f0fd3936-1524-4866-9577-12e84fab8ea5",
   "metadata": {},
   "outputs": [],
   "source": [
    "# !pip install -U imbalanced-learn"
   ]
  },
  {
   "cell_type": "code",
   "execution_count": 60,
   "id": "4cfb097a-0006-4546-9a67-b560c762816f",
   "metadata": {},
   "outputs": [
    {
     "name": "stdout",
     "output_type": "stream",
     "text": [
      "Original Target\n",
      "[(0, 64), (1, 262), (2, 4674)]\n",
      "X shape: (5000, 2)\n",
      "y shape: (5000,)\n"
     ]
    }
   ],
   "source": [
    "# example with toy dataset\n",
    "from sklearn.datasets import make_classification\n",
    "from imblearn.over_sampling import RandomOverSampler\n",
    "\n",
    "# instantiate data\n",
    "X, y = make_classification(n_samples=5000, n_features=2, n_informative=2,\n",
    "                          n_redundant=0, n_repeated=0, n_classes=3,\n",
    "                          n_clusters_per_class=1, weights=[.01, .05, .94],\n",
    "                          class_sep=.8, random_state=0)\n",
    "print('Original Target')\n",
    "print(sorted(Counter(y).items()))\n",
    "print(f'X shape: {X.shape}\\ny shape: {y.shape}')"
   ]
  },
  {
   "cell_type": "code",
   "execution_count": 61,
   "id": "b66045c9-54f4-43ee-8424-2eec4f9a4add",
   "metadata": {},
   "outputs": [
    {
     "name": "stdout",
     "output_type": "stream",
     "text": [
      "Resampled Target\n",
      "[(0, 4674), (1, 4674), (2, 4674)]\n",
      "Resampled X shape: (14022, 2)\n",
      "Resampled y shape: (14022,)\n"
     ]
    }
   ],
   "source": [
    "X_resampled, y_resampled = RandomOverSampler(random_state=0).fit_resample(X, y)\n",
    "print('Resampled Target')\n",
    "print(sorted(Counter(y_resampled).items()))\n",
    "print(f'Resampled X shape: {X_resampled.shape}\\nResampled y shape: {y_resampled.shape}')"
   ]
  },
  {
   "cell_type": "markdown",
   "id": "290f8ca2-fc84-444e-851c-03e7091dc1ce",
   "metadata": {},
   "source": [
    "## Class Imbalance Complete Pipeline"
   ]
  },
  {
   "cell_type": "code",
   "execution_count": 62,
   "id": "d4524ce5-1927-4d17-8ce3-217d22e7913d",
   "metadata": {},
   "outputs": [],
   "source": [
    "import imblearn.pipeline as pl\n",
    "from imblearn.pipeline import make_pipeline\n",
    "from imblearn.over_sampling import RandomOverSampler, SMOTE"
   ]
  },
  {
   "cell_type": "code",
   "execution_count": 64,
   "id": "f4932260-5210-4bd9-a59f-5787ab3b1896",
   "metadata": {},
   "outputs": [],
   "source": [
    "# ORIGINAL PIPELINE\n",
    "clf1 = pl.Pipeline(steps=[\n",
    "    ('preprocessor', preprocessor),\n",
    "    ('classifier', LogisticRegression(solver='lbfgs'))\n",
    "])\n",
    "\n",
    "clf2 = pl.Pipeline(steps=[\n",
    "    ('preprocessor', preprocessor),\n",
    "    ('smote', RandomOverSampler(random_state=42)),\n",
    "    ('classifier', LogisticRegression(solver='lbfgs'))\n",
    "])\n",
    "\n",
    "clf3 = pl.Pipeline([\n",
    "    ('preprocessor', preprocessor),\n",
    "    ('smote', SMOTE(random_state=42)),\n",
    "    ('classifier', LogisticRegression(solver='lbfgs'))\n",
    "])\n",
    "\n",
    "for clf in [clf1, clf2, clf3]:\n",
    "    clf.fit(X_train, y_train)"
   ]
  },
  {
   "cell_type": "code",
   "execution_count": 65,
   "id": "fe1fd9ab-21ef-41ef-b995-721bfdf740b6",
   "metadata": {},
   "outputs": [
    {
     "name": "stdout",
     "output_type": "stream",
     "text": [
      "no sampling\n",
      "              precision    recall  f1-score   support\n",
      "\n",
      "  subscriber       0.83      0.87      0.85       142\n",
      "       churn       0.63      0.57      0.60        58\n",
      "\n",
      "    accuracy                           0.78       200\n",
      "   macro avg       0.73      0.72      0.72       200\n",
      "weighted avg       0.77      0.78      0.78       200\n",
      "\n",
      "random oversampling\n",
      "              precision    recall  f1-score   support\n",
      "\n",
      "  subscriber       0.83      0.82      0.83       142\n",
      "       churn       0.57      0.60      0.59        58\n",
      "\n",
      "    accuracy                           0.76       200\n",
      "   macro avg       0.70      0.71      0.71       200\n",
      "weighted avg       0.76      0.76      0.76       200\n",
      "\n",
      "SMOTE\n",
      "              precision    recall  f1-score   support\n",
      "\n",
      "  subscriber       0.83      0.82      0.83       142\n",
      "       churn       0.57      0.60      0.59        58\n",
      "\n",
      "    accuracy                           0.76       200\n",
      "   macro avg       0.70      0.71      0.71       200\n",
      "weighted avg       0.76      0.76      0.76       200\n",
      "\n"
     ]
    }
   ],
   "source": [
    "for name, clf in [('no sampling', clf1), ('random oversampling', clf2), ('SMOTE', clf3)]:\n",
    "    y_pred = clf.predict(X_test)\n",
    "    print(name)\n",
    "    print(classification_report(y_test, y_pred, target_names=['subscriber', 'churn']))"
   ]
  },
  {
   "cell_type": "markdown",
   "id": "63c76c24-87bd-455e-b5f7-c00bebaf98ae",
   "metadata": {},
   "source": [
    "## Models that Naturally Handle Imbalance\n",
    "\n",
    "Some models are more sensitive to imbalanced classes than others. Neural networks for example are very sensitive to imbalanced classes. Support Vector Machines on the other hand and to some extent tree based methods are more resilient. If available, the class_weight argument should be used when working with imbalanced classes.\n",
    "For example,\n",
    "<code>\n",
    "    clf = SVC(kernel='linear', class_weight='balanced', probability=True)\n",
    "</code>\n",
    "\n",
    "*<i><a href='https://scikit-learn.org/stable/auto_examples/svm/plot_separating_hyperplane_unbalanced.html'>sklearn example using SVM & unbalanced data</a></i>"
   ]
  },
  {
   "cell_type": "code",
   "execution_count": null,
   "id": "d4d21a98-d7d1-476d-802c-461c48387ab2",
   "metadata": {},
   "outputs": [],
   "source": []
  }
 ],
 "metadata": {
  "kernelspec": {
   "display_name": "Python 3",
   "language": "python",
   "name": "python3"
  },
  "language_info": {
   "codemirror_mode": {
    "name": "ipython",
    "version": 3
   },
   "file_extension": ".py",
   "mimetype": "text/x-python",
   "name": "python",
   "nbconvert_exporter": "python",
   "pygments_lexer": "ipython3",
   "version": "3.8.5"
  }
 },
 "nbformat": 4,
 "nbformat_minor": 5
}
