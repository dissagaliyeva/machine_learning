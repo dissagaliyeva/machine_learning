{
 "cells": [
  {
   "cell_type": "markdown",
   "id": "b2b709be-dd48-468c-a60a-6c9ff4f0896c",
   "metadata": {},
   "source": [
    "# Preprocessing Data\n",
    "- dealing with categorical features\n",
    "- handling missing data\n",
    "- encoding\n",
    "- pipelines\n",
    "- centering & scaling data"
   ]
  },
  {
   "cell_type": "markdown",
   "id": "bd7bb86e-ed3f-4e19-b5ef-31756768d645",
   "metadata": {},
   "source": [
    "## Dealing with Categorical Features\n",
    "- sklearn: OneHotEncoder()\n",
    "- pandas: get_dummies()"
   ]
  },
  {
   "cell_type": "code",
   "execution_count": 1,
   "id": "689b4817-9952-471d-84f2-94eeb61adaf0",
   "metadata": {},
   "outputs": [],
   "source": [
    "import pandas as pd\n",
    "import numpy as np\n",
    "import seaborn as sns\n",
    "import matplotlib.pyplot as plt\n",
    "\n",
    "from sklearn.model_selection import train_test_split, GridSearchCV\n",
    "from sklearn.linear_model import Ridge, Lasso\n",
    "\n",
    "sns.set()"
   ]
  },
  {
   "cell_type": "code",
   "execution_count": 2,
   "id": "661fd436-ed98-4e24-ad5e-86947f53bd9e",
   "metadata": {},
   "outputs": [
    {
     "data": {
      "text/html": [
       "<div>\n",
       "<style scoped>\n",
       "    .dataframe tbody tr th:only-of-type {\n",
       "        vertical-align: middle;\n",
       "    }\n",
       "\n",
       "    .dataframe tbody tr th {\n",
       "        vertical-align: top;\n",
       "    }\n",
       "\n",
       "    .dataframe thead th {\n",
       "        text-align: right;\n",
       "    }\n",
       "</style>\n",
       "<table border=\"1\" class=\"dataframe\">\n",
       "  <thead>\n",
       "    <tr style=\"text-align: right;\">\n",
       "      <th></th>\n",
       "      <th>mpg</th>\n",
       "      <th>displ</th>\n",
       "      <th>hp</th>\n",
       "      <th>weight</th>\n",
       "      <th>accel</th>\n",
       "      <th>origin</th>\n",
       "      <th>size</th>\n",
       "    </tr>\n",
       "  </thead>\n",
       "  <tbody>\n",
       "    <tr>\n",
       "      <th>0</th>\n",
       "      <td>18.0</td>\n",
       "      <td>250.0</td>\n",
       "      <td>88</td>\n",
       "      <td>3139</td>\n",
       "      <td>14.5</td>\n",
       "      <td>US</td>\n",
       "      <td>15.0</td>\n",
       "    </tr>\n",
       "    <tr>\n",
       "      <th>1</th>\n",
       "      <td>9.0</td>\n",
       "      <td>304.0</td>\n",
       "      <td>193</td>\n",
       "      <td>4732</td>\n",
       "      <td>18.5</td>\n",
       "      <td>US</td>\n",
       "      <td>20.0</td>\n",
       "    </tr>\n",
       "    <tr>\n",
       "      <th>2</th>\n",
       "      <td>36.1</td>\n",
       "      <td>91.0</td>\n",
       "      <td>60</td>\n",
       "      <td>1800</td>\n",
       "      <td>16.4</td>\n",
       "      <td>Asia</td>\n",
       "      <td>10.0</td>\n",
       "    </tr>\n",
       "    <tr>\n",
       "      <th>3</th>\n",
       "      <td>18.5</td>\n",
       "      <td>250.0</td>\n",
       "      <td>98</td>\n",
       "      <td>3525</td>\n",
       "      <td>19.0</td>\n",
       "      <td>US</td>\n",
       "      <td>15.0</td>\n",
       "    </tr>\n",
       "    <tr>\n",
       "      <th>4</th>\n",
       "      <td>34.3</td>\n",
       "      <td>97.0</td>\n",
       "      <td>78</td>\n",
       "      <td>2188</td>\n",
       "      <td>15.8</td>\n",
       "      <td>Europe</td>\n",
       "      <td>10.0</td>\n",
       "    </tr>\n",
       "  </tbody>\n",
       "</table>\n",
       "</div>"
      ],
      "text/plain": [
       "    mpg  displ   hp  weight  accel  origin  size\n",
       "0  18.0  250.0   88    3139   14.5      US  15.0\n",
       "1   9.0  304.0  193    4732   18.5      US  20.0\n",
       "2  36.1   91.0   60    1800   16.4    Asia  10.0\n",
       "3  18.5  250.0   98    3525   19.0      US  15.0\n",
       "4  34.3   97.0   78    2188   15.8  Europe  10.0"
      ]
     },
     "execution_count": 2,
     "metadata": {},
     "output_type": "execute_result"
    }
   ],
   "source": [
    "cars = pd.read_csv('datasets/cars.csv')\n",
    "cars.head()"
   ]
  },
  {
   "cell_type": "code",
   "execution_count": 3,
   "id": "2ff54cea-64d5-404d-ba43-0f5be6c2f37d",
   "metadata": {},
   "outputs": [],
   "source": [
    "cars_dummies = pd.get_dummies(cars, drop_first=True)"
   ]
  },
  {
   "cell_type": "code",
   "execution_count": 4,
   "id": "cdf3b209-e7da-444d-ae0b-fa3abcbc1726",
   "metadata": {},
   "outputs": [
    {
     "name": "stdout",
     "output_type": "stream",
     "text": [
      "Best parameters: {'alpha': 0.1, 'solver': 'saga'}\n",
      "Best score: 0.7044482214324006\n"
     ]
    }
   ],
   "source": [
    "X, y = cars_dummies.drop('mpg', axis=1), cars_dummies['mpg']\n",
    "\n",
    "X_train, X_test, y_train, y_test = train_test_split(X, y, test_size=.25)\n",
    "\n",
    "ridge = Ridge(normalize=True)\n",
    "params = {'alpha': np.linspace(0.1, 10, 15), 'solver': ['auto', 'svd', 'lsqr', 'cholesky', 'saga']}\n",
    "ridge_cv = GridSearchCV(ridge, params, cv=5).fit(X_train, y_train)\n",
    "print(f'Best parameters: {ridge_cv.best_params_}')\n",
    "print(f'Best score: {ridge_cv.best_score_}')"
   ]
  },
  {
   "cell_type": "code",
   "execution_count": 5,
   "id": "4d01731b-ece7-436a-bb59-8f1258f0c3c2",
   "metadata": {},
   "outputs": [],
   "source": [
    "# best features \n"
   ]
  },
  {
   "cell_type": "code",
   "execution_count": null,
   "id": "c7bdd158-6f62-4d5e-ae04-a94d7b67a895",
   "metadata": {},
   "outputs": [],
   "source": []
  },
  {
   "cell_type": "code",
   "execution_count": 6,
   "id": "fec87934-b48d-42f7-8fe3-fd94cdb76ad2",
   "metadata": {},
   "outputs": [
    {
     "data": {
      "image/png": "[encoded data removed]",
      "text/plain": [
       "<Figure size 432x288 with 1 Axes>"
      ]
     },
     "metadata": {},
     "output_type": "display_data"
    }
   ],
   "source": [
    "gapminder = pd.read_csv('datasets/gapminder.csv')\n",
    "\n",
    "# Create a boxplot of life expectancy per region\n",
    "gapminder.boxplot('life', 'Region', rot=60)\n",
    "\n",
    "plt.show()"
   ]
  },
  {
   "cell_type": "code",
   "execution_count": 7,
   "id": "7eabab53-4f8f-4b08-8557-c98e68dfa38d",
   "metadata": {},
   "outputs": [
    {
     "data": {
      "text/plain": [
       "Index(['population', 'fertility', 'HIV', 'CO2', 'BMI_male', 'GDP',\n",
       "       'BMI_female', 'life', 'child_mortality', 'Region_East Asia & Pacific',\n",
       "       'Region_Europe & Central Asia', 'Region_Middle East & North Africa',\n",
       "       'Region_South Asia', 'Region_Sub-Saharan Africa'],\n",
       "      dtype='object')"
      ]
     },
     "execution_count": 7,
     "metadata": {},
     "output_type": "execute_result"
    }
   ],
   "source": [
    "gapminder_dummies = pd.get_dummies(gapminder, drop_first=True)\n",
    "gapminder_dummies.columns"
   ]
  },
  {
   "cell_type": "code",
   "execution_count": 8,
   "id": "833f415e-4b3d-4f2b-bf72-14b577d41761",
   "metadata": {},
   "outputs": [
    {
     "name": "stdout",
     "output_type": "stream",
     "text": [
      "[0.86808336 0.80623545 0.84004203 0.7754344  0.87503712]\n",
      "0.8329664719748985\n"
     ]
    }
   ],
   "source": [
    "from sklearn.model_selection import cross_val_score\n",
    "\n",
    "X, y = gapminder_dummies.drop('life', axis=1), gapminder_dummies['life']\n",
    "\n",
    "\n",
    "# Instantiate a ridge regressor: ridge\n",
    "ridge = Ridge(alpha=.5, normalize=True)\n",
    "\n",
    "# Perform 5-fold cross-validation: ridge_cv\n",
    "ridge_cv = cross_val_score(ridge, X, y, cv=5)\n",
    "\n",
    "# Print the cross-validated scores\n",
    "print(ridge_cv)\n",
    "print(np.mean(ridge_cv))"
   ]
  },
  {
   "cell_type": "markdown",
   "id": "507f9105-78b6-4e1d-a1e2-6cd58fa39aa2",
   "metadata": {},
   "source": [
    "# Handling Missing Data\n",
    "Missing data can be of different types:\n",
    "- 0\n",
    "- ?\n",
    "- -1 "
   ]
  },
  {
   "cell_type": "code",
   "execution_count": 9,
   "id": "dff06bd6-7905-4fe7-b68f-e0ca9def90d5",
   "metadata": {},
   "outputs": [
    {
     "name": "stdout",
     "output_type": "stream",
     "text": [
      "<class 'pandas.core.frame.DataFrame'>\n",
      "RangeIndex: 768 entries, 0 to 767\n",
      "Data columns (total 9 columns):\n",
      " #   Column       Non-Null Count  Dtype  \n",
      "---  ------       --------------  -----  \n",
      " 0   pregnancies  768 non-null    int64  \n",
      " 1   glucose      768 non-null    int64  \n",
      " 2   diastolic    768 non-null    int64  \n",
      " 3   triceps      768 non-null    int64  \n",
      " 4   insulin      768 non-null    int64  \n",
      " 5   bmi          768 non-null    float64\n",
      " 6   dpf          768 non-null    float64\n",
      " 7   age          768 non-null    int64  \n",
      " 8   diabetes     768 non-null    int64  \n",
      "dtypes: float64(2), int64(7)\n",
      "memory usage: 54.1 KB\n"
     ]
    }
   ],
   "source": [
    "diabetes = pd.read_csv('datasets/diabetes.csv')\n",
    "diabetes.info()"
   ]
  },
  {
   "cell_type": "code",
   "execution_count": 10,
   "id": "98b344d1-4968-4470-ac15-53fc7a683961",
   "metadata": {},
   "outputs": [
    {
     "name": "stdout",
     "output_type": "stream",
     "text": [
      "<class 'pandas.core.frame.DataFrame'>\n",
      "RangeIndex: 768 entries, 0 to 767\n",
      "Data columns (total 9 columns):\n",
      " #   Column       Non-Null Count  Dtype  \n",
      "---  ------       --------------  -----  \n",
      " 0   pregnancies  768 non-null    int64  \n",
      " 1   glucose      768 non-null    int64  \n",
      " 2   diastolic    768 non-null    int64  \n",
      " 3   triceps      541 non-null    float64\n",
      " 4   insulin      394 non-null    float64\n",
      " 5   bmi          757 non-null    float64\n",
      " 6   dpf          768 non-null    float64\n",
      " 7   age          768 non-null    int64  \n",
      " 8   diabetes     768 non-null    int64  \n",
      "dtypes: float64(4), int64(5)\n",
      "memory usage: 54.1 KB\n"
     ]
    }
   ],
   "source": [
    "diabetes.insulin.replace(0, np.nan, inplace=True)\n",
    "diabetes.triceps.replace(0, np.nan, inplace=True)\n",
    "diabetes.bmi.replace(0, np.nan, inplace=True)\n",
    "\n",
    "diabetes.info()"
   ]
  },
  {
   "cell_type": "code",
   "execution_count": 15,
   "id": "c66fd850-4388-4974-a5ca-5b0089cf3be7",
   "metadata": {},
   "outputs": [],
   "source": [
    "# imputer\n",
    "from sklearn.impute import SimpleImputer \n",
    "X = diabetes.drop('diabetes', axis=1)\n",
    "y = diabetes['diabetes']\n",
    "imp = SimpleImputer(strategy='mean')\n",
    "imp.fit(X)\n",
    "\n",
    "X = imp.transform(X)"
   ]
  },
  {
   "cell_type": "markdown",
   "id": "2c61a068-e685-408a-820b-23d048598468",
   "metadata": {},
   "source": [
    "## Pipeline "
   ]
  },
  {
   "cell_type": "code",
   "execution_count": 19,
   "id": "7e460de6-5b27-4f96-9b48-73f48eede2b8",
   "metadata": {},
   "outputs": [
    {
     "name": "stdout",
     "output_type": "stream",
     "text": [
      "Train Score: 0.7975951903807615\n",
      "Test Score: 0.724907063197026\n",
      "[[146  29]\n",
      " [ 45  49]]\n",
      "              precision    recall  f1-score   support\n",
      "\n",
      "           0       0.76      0.83      0.80       175\n",
      "           1       0.63      0.52      0.57        94\n",
      "\n",
      "    accuracy                           0.72       269\n",
      "   macro avg       0.70      0.68      0.68       269\n",
      "weighted avg       0.72      0.72      0.72       269\n",
      "\n"
     ]
    }
   ],
   "source": [
    "from sklearn.pipeline import make_pipeline\n",
    "from sklearn.linear_model import LogisticRegression \n",
    "from sklearn.metrics import classification_report, confusion_matrix\n",
    "\n",
    "X_train, X_test, y_train, y_test = train_test_split(X, y, test_size=.35, stratify=y)\n",
    "imputer = SimpleImputer(strategy='mean')\n",
    "logreg = LogisticRegression()\n",
    "pipeline = make_pipeline(imputer, logreg)\n",
    "pipeline.fit(X_train, y_train)\n",
    "\n",
    "print(f'Train Score: {pipeline.score(X_train, y_train)}')\n",
    "print(f'Test Score: {pipeline.score(X_test, y_test)}')\n",
    "\n",
    "y_pred = pipeline.predict(X_test)\n",
    "print(confusion_matrix(y_test, y_pred))\n",
    "print(classification_report(y_test, y_pred))\n"
   ]
  },
  {
   "cell_type": "markdown",
   "id": "4a231806-67bd-4117-9218-d5793120f159",
   "metadata": {},
   "source": [
    "# Centering & Scaling\n",
    "- standardization\n"
   ]
  },
  {
   "cell_type": "code",
   "execution_count": 26,
   "id": "01c983d5-00b8-4f01-a454-ce62ab8c030f",
   "metadata": {},
   "outputs": [
    {
     "name": "stdout",
     "output_type": "stream",
     "text": [
      "<class 'pandas.core.frame.DataFrame'>\n",
      "RangeIndex: 1599 entries, 0 to 1598\n",
      "Data columns (total 12 columns):\n",
      " #   Column                Non-Null Count  Dtype  \n",
      "---  ------                --------------  -----  \n",
      " 0   fixed acidity         1599 non-null   float64\n",
      " 1   volatile acidity      1599 non-null   float64\n",
      " 2   citric acid           1599 non-null   float64\n",
      " 3   residual sugar        1599 non-null   float64\n",
      " 4   chlorides             1599 non-null   float64\n",
      " 5   free sulfur dioxide   1599 non-null   float64\n",
      " 6   total sulfur dioxide  1599 non-null   float64\n",
      " 7   density               1599 non-null   float64\n",
      " 8   pH                    1599 non-null   float64\n",
      " 9   sulphates             1599 non-null   float64\n",
      " 10  alcohol               1599 non-null   float64\n",
      " 11  quality               1599 non-null   int64  \n",
      "dtypes: float64(11), int64(1)\n",
      "memory usage: 150.0 KB\n",
      "None\n"
     ]
    },
    {
     "data": {
      "text/html": [
       "<div>\n",
       "<style scoped>\n",
       "    .dataframe tbody tr th:only-of-type {\n",
       "        vertical-align: middle;\n",
       "    }\n",
       "\n",
       "    .dataframe tbody tr th {\n",
       "        vertical-align: top;\n",
       "    }\n",
       "\n",
       "    .dataframe thead th {\n",
       "        text-align: right;\n",
       "    }\n",
       "</style>\n",
       "<table border=\"1\" class=\"dataframe\">\n",
       "  <thead>\n",
       "    <tr style=\"text-align: right;\">\n",
       "      <th></th>\n",
       "      <th>fixed acidity</th>\n",
       "      <th>volatile acidity</th>\n",
       "      <th>citric acid</th>\n",
       "      <th>residual sugar</th>\n",
       "      <th>chlorides</th>\n",
       "      <th>free sulfur dioxide</th>\n",
       "      <th>total sulfur dioxide</th>\n",
       "      <th>density</th>\n",
       "      <th>pH</th>\n",
       "      <th>sulphates</th>\n",
       "      <th>alcohol</th>\n",
       "      <th>quality</th>\n",
       "    </tr>\n",
       "  </thead>\n",
       "  <tbody>\n",
       "    <tr>\n",
       "      <th>0</th>\n",
       "      <td>7.4</td>\n",
       "      <td>0.70</td>\n",
       "      <td>0.00</td>\n",
       "      <td>1.9</td>\n",
       "      <td>0.076</td>\n",
       "      <td>11.0</td>\n",
       "      <td>34.0</td>\n",
       "      <td>0.9978</td>\n",
       "      <td>3.51</td>\n",
       "      <td>0.56</td>\n",
       "      <td>9.4</td>\n",
       "      <td>5</td>\n",
       "    </tr>\n",
       "    <tr>\n",
       "      <th>1</th>\n",
       "      <td>7.8</td>\n",
       "      <td>0.88</td>\n",
       "      <td>0.00</td>\n",
       "      <td>2.6</td>\n",
       "      <td>0.098</td>\n",
       "      <td>25.0</td>\n",
       "      <td>67.0</td>\n",
       "      <td>0.9968</td>\n",
       "      <td>3.20</td>\n",
       "      <td>0.68</td>\n",
       "      <td>9.8</td>\n",
       "      <td>5</td>\n",
       "    </tr>\n",
       "    <tr>\n",
       "      <th>2</th>\n",
       "      <td>7.8</td>\n",
       "      <td>0.76</td>\n",
       "      <td>0.04</td>\n",
       "      <td>2.3</td>\n",
       "      <td>0.092</td>\n",
       "      <td>15.0</td>\n",
       "      <td>54.0</td>\n",
       "      <td>0.9970</td>\n",
       "      <td>3.26</td>\n",
       "      <td>0.65</td>\n",
       "      <td>9.8</td>\n",
       "      <td>5</td>\n",
       "    </tr>\n",
       "    <tr>\n",
       "      <th>3</th>\n",
       "      <td>11.2</td>\n",
       "      <td>0.28</td>\n",
       "      <td>0.56</td>\n",
       "      <td>1.9</td>\n",
       "      <td>0.075</td>\n",
       "      <td>17.0</td>\n",
       "      <td>60.0</td>\n",
       "      <td>0.9980</td>\n",
       "      <td>3.16</td>\n",
       "      <td>0.58</td>\n",
       "      <td>9.8</td>\n",
       "      <td>6</td>\n",
       "    </tr>\n",
       "    <tr>\n",
       "      <th>4</th>\n",
       "      <td>7.4</td>\n",
       "      <td>0.70</td>\n",
       "      <td>0.00</td>\n",
       "      <td>1.9</td>\n",
       "      <td>0.076</td>\n",
       "      <td>11.0</td>\n",
       "      <td>34.0</td>\n",
       "      <td>0.9978</td>\n",
       "      <td>3.51</td>\n",
       "      <td>0.56</td>\n",
       "      <td>9.4</td>\n",
       "      <td>5</td>\n",
       "    </tr>\n",
       "  </tbody>\n",
       "</table>\n",
       "</div>"
      ],
      "text/plain": [
       "   fixed acidity  volatile acidity  citric acid  residual sugar  chlorides  \\\n",
       "0            7.4              0.70         0.00             1.9      0.076   \n",
       "1            7.8              0.88         0.00             2.6      0.098   \n",
       "2            7.8              0.76         0.04             2.3      0.092   \n",
       "3           11.2              0.28         0.56             1.9      0.075   \n",
       "4            7.4              0.70         0.00             1.9      0.076   \n",
       "\n",
       "   free sulfur dioxide  total sulfur dioxide  density    pH  sulphates  \\\n",
       "0                 11.0                  34.0   0.9978  3.51       0.56   \n",
       "1                 25.0                  67.0   0.9968  3.20       0.68   \n",
       "2                 15.0                  54.0   0.9970  3.26       0.65   \n",
       "3                 17.0                  60.0   0.9980  3.16       0.58   \n",
       "4                 11.0                  34.0   0.9978  3.51       0.56   \n",
       "\n",
       "   alcohol  quality  \n",
       "0      9.4        5  \n",
       "1      9.8        5  \n",
       "2      9.8        5  \n",
       "3      9.8        6  \n",
       "4      9.4        5  "
      ]
     },
     "execution_count": 26,
     "metadata": {},
     "output_type": "execute_result"
    }
   ],
   "source": [
    "red_wine = pd.read_csv('datasets/red_wine.csv', sep=';')\n",
    "print(red_wine.info())\n",
    "red_wine.head()"
   ]
  },
  {
   "cell_type": "code",
   "execution_count": 27,
   "id": "c1b4dc39-5fd9-44cf-bb3d-bc8a189de182",
   "metadata": {},
   "outputs": [
    {
     "name": "stdout",
     "output_type": "stream",
     "text": [
      "-2.7647703016329102e-15 1.0\n"
     ]
    }
   ],
   "source": [
    "from sklearn.preprocessing import scale\n",
    "\n",
    "X, y = red_wine.drop('quality', axis=1), red_wine['quality']\n",
    "\n",
    "X_scaled = scale(X)\n",
    "print(np.mean(X_scaled), np.std(X_scaled))"
   ]
  },
  {
   "cell_type": "code",
   "execution_count": 28,
   "id": "44ce7551-57f7-4ef3-b12c-d6106fbb9a54",
   "metadata": {},
   "outputs": [
    {
     "name": "stdout",
     "output_type": "stream",
     "text": [
      "With Standardization\n",
      "              precision    recall  f1-score   support\n",
      "\n",
      "           3       0.00      0.00      0.00         3\n",
      "           4       0.50      0.06      0.11        16\n",
      "           5       0.63      0.69      0.66       204\n",
      "           6       0.52      0.58      0.55       192\n",
      "           7       0.61      0.38      0.47        60\n",
      "           8       0.00      0.00      0.00         5\n",
      "\n",
      "    accuracy                           0.57       480\n",
      "   macro avg       0.38      0.29      0.30       480\n",
      "weighted avg       0.57      0.57      0.56       480\n",
      "\n",
      "Without Standardization\n",
      "              precision    recall  f1-score   support\n",
      "\n",
      "           3       0.00      0.00      0.00         3\n",
      "           4       0.00      0.00      0.00        16\n",
      "           5       0.54      0.64      0.59       204\n",
      "           6       0.48      0.51      0.49       192\n",
      "           7       0.38      0.20      0.26        60\n",
      "           8       0.00      0.00      0.00         5\n",
      "\n",
      "    accuracy                           0.50       480\n",
      "   macro avg       0.23      0.22      0.22       480\n",
      "weighted avg       0.47      0.50      0.48       480\n",
      "\n"
     ]
    }
   ],
   "source": [
    "# scaling with pipeline\n",
    "from sklearn.neighbors import KNeighborsClassifier\n",
    "from sklearn.preprocessing import StandardScaler\n",
    "\n",
    "X_train, X_test, y_train, y_test = train_test_split(X, y, test_size=.3, stratify=y)\n",
    "\n",
    "pipeline = make_pipeline(StandardScaler(), KNeighborsClassifier())\n",
    "pipeline.fit(X_train, y_train)\n",
    "\n",
    "print('With Standardization')\n",
    "print(classification_report(y_test, pipeline.predict(X_test)))\n",
    "\n",
    "print('Without Standardization')\n",
    "knn = KNeighborsClassifier().fit(X_train, y_train)\n",
    "print(classification_report(y_test, knn.predict(X_test)))"
   ]
  },
  {
   "cell_type": "code",
   "execution_count": 39,
   "id": "b019ea0b-1103-4031-9dd3-5495fc06fbdb",
   "metadata": {},
   "outputs": [
    {
     "name": "stdout",
     "output_type": "stream",
     "text": [
      "Best Parameters: {'knn__n_neighbors': 25}\n",
      "Best Score: 0.593401665598975\n"
     ]
    }
   ],
   "source": [
    "# gridsearchcv with pipeline\n",
    "from sklearn.model_selection import GridSearchCV\n",
    "from sklearn.pipeline import Pipeline\n",
    "\n",
    "X_train, X_test, y_train, y_test = train_test_split(X, y, test_size=.3, stratify=y)\n",
    "\n",
    "pipeline = Pipeline([('scaler', StandardScaler()), ('knn', KNeighborsClassifier())])\n",
    "params = dict(knn__n_neighbors=np.arange(1, 50))\n",
    "gridsearch = GridSearchCV(pipeline, params)\n",
    "gridsearch.fit(X_train, y_train)\n",
    "print(f'Best Parameters: {gridsearch.best_params_}')\n",
    "print(f'Best Score: {gridsearch.best_score_}')"
   ]
  },
  {
   "cell_type": "code",
   "execution_count": 41,
   "id": "226d168c-33a2-4394-989e-031baf2a017a",
   "metadata": {},
   "outputs": [
    {
     "name": "stdout",
     "output_type": "stream",
     "text": [
      "Accuracy: 0.60625\n",
      "              precision    recall  f1-score   support\n",
      "\n",
      "           3       0.00      0.00      0.00         1\n",
      "           4       0.00      0.00      0.00        16\n",
      "           5       0.62      0.79      0.69       127\n",
      "           6       0.57      0.63      0.60       131\n",
      "           7       0.75      0.29      0.41        42\n",
      "           8       0.00      0.00      0.00         3\n",
      "\n",
      "    accuracy                           0.61       320\n",
      "   macro avg       0.32      0.28      0.28       320\n",
      "weighted avg       0.58      0.61      0.57       320\n",
      "\n",
      "Tuned Model Parameters: {'SVM__C': 1, 'SVM__gamma': 0.1}\n"
     ]
    }
   ],
   "source": [
    "from sklearn.svm import SVC\n",
    "\n",
    "# Setup the pipeline\n",
    "steps = [('scaler', StandardScaler()),\n",
    "         ('SVM', SVC())]\n",
    "\n",
    "pipeline = Pipeline(steps)\n",
    "\n",
    "# Specify the hyperparameter space\n",
    "parameters = {'SVM__C':[1, 10, 100],\n",
    "              'SVM__gamma':[0.1, 0.01]}\n",
    "\n",
    "# Create train and test sets\n",
    "X_train, X_test, y_train, y_test = train_test_split(X, y, test_size=.2, random_state=21)\n",
    "\n",
    "# Instantiate the GridSearchCV object: cv\n",
    "cv = GridSearchCV(pipeline, parameters, cv=3)\n",
    "\n",
    "# Fit to the training set\n",
    "cv.fit(X_train, y_train)\n",
    "\n",
    "# Predict the labels of the test set: y_pred\n",
    "y_pred = cv.predict(X_test)\n",
    "\n",
    "# Compute and print metrics\n",
    "print(\"Accuracy: {}\".format(cv.score(X_test, y_test)))\n",
    "print(classification_report(y_test, y_pred))\n",
    "print(\"Tuned Model Parameters: {}\".format(cv.best_params_))\n"
   ]
  },
  {
   "cell_type": "code",
   "execution_count": 42,
   "id": "58c9bf52-87bc-4cd2-8b98-b589db493f36",
   "metadata": {},
   "outputs": [
    {
     "name": "stdout",
     "output_type": "stream",
     "text": [
      "Tuned ElasticNet Alpha: {'elasticnet__l1_ratio': 1.0}\n",
      "Tuned ElasticNet R squared: 0.7772871023494135\n"
     ]
    }
   ],
   "source": [
    "# gapminder with pipeline\n",
    "from sklearn.linear_model import ElasticNet \n",
    "\n",
    "X, y = gapminder.drop(['life', 'Region'], axis=1), gapminder['life']\n",
    "X_train, X_test, y_train, y_test = train_test_split(X, y, test_size=.35)\n",
    "\n",
    "steps = [('imputation', SimpleImputer()), ('scaler', StandardScaler()), ('elasticnet', ElasticNet())]\n",
    "pipeline = Pipeline(steps)\n",
    "\n",
    "parameters = {'elasticnet__l1_ratio': np.linspace(0, 1, 30)}\n",
    "gridsearch = GridSearchCV(pipeline, parameters, cv=3)\n",
    "gridsearch.fit(X_train, y_train)\n",
    "\n",
    "# Compute and print the metrics\n",
    "r2 = gridsearch.score(X_test, y_test)\n",
    "print(\"Tuned ElasticNet Alpha: {}\".format(gridsearch.best_params_))\n",
    "print(\"Tuned ElasticNet R squared: {}\".format(r2))"
   ]
  },
  {
   "cell_type": "code",
   "execution_count": null,
   "id": "0edfd15a-9bab-4b7d-82e2-b59c94155b50",
   "metadata": {},
   "outputs": [],
   "source": []
  }
 ],
 "metadata": {
  "kernelspec": {
   "display_name": "Python 3",
   "language": "python",
   "name": "python3"
  },
  "language_info": {
   "codemirror_mode": {
    "name": "ipython",
    "version": 3
   },
   "file_extension": ".py",
   "mimetype": "text/x-python",
   "name": "python",
   "nbconvert_exporter": "python",
   "pygments_lexer": "ipython3",
   "version": "3.8.5"
  }
 },
 "nbformat": 4,
 "nbformat_minor": 5
}
