{
 "cells": [
  {
   "cell_type": "markdown",
   "metadata": {
    "collapsed": true,
    "pycharm": {
     "name": "#%% md\n"
    }
   },
   "source": [
    "# School Budgeting with ML\n",
    "School budgets in the United States are incredibly complex, and there are no standards for reporting how money is spent. Schools want to be able to measure their performance--for example, are we spending more on textbooks than our neighboring schools, and is that investment worthwhile? However to do this comparison takes hundreds of hours each year in which analysts hand-categorize each line-item. Our goal is to build a machine learning algorithm that can automate that process. For each line item, we have some text fields that tell us about the expense--for example, a line might say something like \"Algebra books for 8th grade students\". We also have the amount of the expense in dollars. This line item then has a set of labels attached to it. For example, this one might have labels like \"Textbooks,\" \"Math,\" and \"Middle School.\" These labels are our target variable. This is a supervised learning problem where we want to use correctly labeled data to build an algorithm that can suggest labels for unlabeled lines. This is in contrast to an unsupervised learning problem where we don't have labels, and we are using an algorithm to automatically which line-items might go together. For this problem, we have <b>100 target labels</b>."
   ]
  },
  {
   "cell_type": "code",
   "execution_count": 22,
   "metadata": {
    "pycharm": {
     "is_executing": true,
     "name": "#%%\n"
    }
   },
   "outputs": [],
   "source": [
    "import numpy as np\n",
    "import pandas as pd\n",
    "import seaborn as sns\n",
    "import matplotlib.pyplot as plt\n",
    "\n",
    "from sklearn.model_selection import train_test_split\n",
    "from sklearn.linear_model import LogisticRegression\n",
    "from sklearn.multiclass import OneVsRestClassifier\n",
    "from sklearn.feature_extraction.text import CountVectorizer\n",
    "from sklearn.pipeline import Pipeline, FeatureUnion\n",
    "from sklearn.impute import SimpleImputer\n",
    "from sklearn.preprocessing import FunctionTransformer\n",
    "\n",
    "# import helper function\n",
    "import school_budget_helper as helper\n",
    "\n",
    "sns.set()"
   ]
  },
  {
   "cell_type": "code",
   "execution_count": 3,
   "metadata": {
    "pycharm": {
     "name": "#%%\n"
    }
   },
   "outputs": [
    {
     "name": "stdout",
     "output_type": "stream",
     "text": [
      "(400277, 26)\n"
     ]
    },
    {
     "data": {
      "text/html": [
       "<div>\n",
       "<style scoped>\n",
       "    .dataframe tbody tr th:only-of-type {\n",
       "        vertical-align: middle;\n",
       "    }\n",
       "\n",
       "    .dataframe tbody tr th {\n",
       "        vertical-align: top;\n",
       "    }\n",
       "\n",
       "    .dataframe thead th {\n",
       "        text-align: right;\n",
       "    }\n",
       "</style>\n",
       "<table border=\"1\" class=\"dataframe\">\n",
       "  <thead>\n",
       "    <tr style=\"text-align: right;\">\n",
       "      <th></th>\n",
       "      <th>Unnamed: 0</th>\n",
       "      <th>Function</th>\n",
       "      <th>Use</th>\n",
       "      <th>Sharing</th>\n",
       "      <th>Reporting</th>\n",
       "      <th>Student_Type</th>\n",
       "      <th>Position_Type</th>\n",
       "      <th>Object_Type</th>\n",
       "      <th>Pre_K</th>\n",
       "      <th>Operating_Status</th>\n",
       "      <th>...</th>\n",
       "      <th>Sub_Object_Description</th>\n",
       "      <th>Location_Description</th>\n",
       "      <th>FTE</th>\n",
       "      <th>Function_Description</th>\n",
       "      <th>Facility_or_Department</th>\n",
       "      <th>Position_Extra</th>\n",
       "      <th>Total</th>\n",
       "      <th>Program_Description</th>\n",
       "      <th>Fund_Description</th>\n",
       "      <th>Text_1</th>\n",
       "    </tr>\n",
       "  </thead>\n",
       "  <tbody>\n",
       "    <tr>\n",
       "      <th>0</th>\n",
       "      <td>134338</td>\n",
       "      <td>Teacher Compensation</td>\n",
       "      <td>Instruction</td>\n",
       "      <td>School Reported</td>\n",
       "      <td>School</td>\n",
       "      <td>NO_LABEL</td>\n",
       "      <td>Teacher</td>\n",
       "      <td>NO_LABEL</td>\n",
       "      <td>NO_LABEL</td>\n",
       "      <td>PreK-12 Operating</td>\n",
       "      <td>...</td>\n",
       "      <td>NaN</td>\n",
       "      <td>NaN</td>\n",
       "      <td>1.0</td>\n",
       "      <td>NaN</td>\n",
       "      <td>NaN</td>\n",
       "      <td>KINDERGARTEN</td>\n",
       "      <td>50471.81</td>\n",
       "      <td>KINDERGARTEN</td>\n",
       "      <td>General Fund</td>\n",
       "      <td>NaN</td>\n",
       "    </tr>\n",
       "    <tr>\n",
       "      <th>1</th>\n",
       "      <td>206341</td>\n",
       "      <td>NO_LABEL</td>\n",
       "      <td>NO_LABEL</td>\n",
       "      <td>NO_LABEL</td>\n",
       "      <td>NO_LABEL</td>\n",
       "      <td>NO_LABEL</td>\n",
       "      <td>NO_LABEL</td>\n",
       "      <td>NO_LABEL</td>\n",
       "      <td>NO_LABEL</td>\n",
       "      <td>Non-Operating</td>\n",
       "      <td>...</td>\n",
       "      <td>NaN</td>\n",
       "      <td>NaN</td>\n",
       "      <td>NaN</td>\n",
       "      <td>RGN  GOB</td>\n",
       "      <td>NaN</td>\n",
       "      <td>UNDESIGNATED</td>\n",
       "      <td>3477.86</td>\n",
       "      <td>BUILDING IMPROVEMENT SERVICES</td>\n",
       "      <td>NaN</td>\n",
       "      <td>BUILDING IMPROVEMENT SERVICES</td>\n",
       "    </tr>\n",
       "    <tr>\n",
       "      <th>2</th>\n",
       "      <td>326408</td>\n",
       "      <td>Teacher Compensation</td>\n",
       "      <td>Instruction</td>\n",
       "      <td>School Reported</td>\n",
       "      <td>School</td>\n",
       "      <td>Unspecified</td>\n",
       "      <td>Teacher</td>\n",
       "      <td>Base Salary/Compensation</td>\n",
       "      <td>Non PreK</td>\n",
       "      <td>PreK-12 Operating</td>\n",
       "      <td>...</td>\n",
       "      <td>NaN</td>\n",
       "      <td>NaN</td>\n",
       "      <td>1.0</td>\n",
       "      <td>NaN</td>\n",
       "      <td>NaN</td>\n",
       "      <td>TEACHER</td>\n",
       "      <td>62237.13</td>\n",
       "      <td>Instruction - Regular</td>\n",
       "      <td>General Purpose School</td>\n",
       "      <td>NaN</td>\n",
       "    </tr>\n",
       "  </tbody>\n",
       "</table>\n",
       "<p>3 rows × 26 columns</p>\n",
       "</div>"
      ],
      "text/plain": [
       "   Unnamed: 0              Function          Use          Sharing Reporting  \\\n",
       "0      134338  Teacher Compensation  Instruction  School Reported    School   \n",
       "1      206341              NO_LABEL     NO_LABEL         NO_LABEL  NO_LABEL   \n",
       "2      326408  Teacher Compensation  Instruction  School Reported    School   \n",
       "\n",
       "  Student_Type Position_Type               Object_Type     Pre_K  \\\n",
       "0     NO_LABEL       Teacher                  NO_LABEL  NO_LABEL   \n",
       "1     NO_LABEL      NO_LABEL                  NO_LABEL  NO_LABEL   \n",
       "2  Unspecified       Teacher  Base Salary/Compensation  Non PreK   \n",
       "\n",
       "    Operating_Status  ... Sub_Object_Description Location_Description  FTE  \\\n",
       "0  PreK-12 Operating  ...                    NaN                  NaN  1.0   \n",
       "1      Non-Operating  ...                    NaN                  NaN  NaN   \n",
       "2  PreK-12 Operating  ...                    NaN                  NaN  1.0   \n",
       "\n",
       "  Function_Description Facility_or_Department Position_Extra     Total  \\\n",
       "0                  NaN                    NaN  KINDERGARTEN   50471.81   \n",
       "1             RGN  GOB                    NaN   UNDESIGNATED   3477.86   \n",
       "2                  NaN                    NaN        TEACHER  62237.13   \n",
       "\n",
       "             Program_Description        Fund_Description  \\\n",
       "0                   KINDERGARTEN            General Fund   \n",
       "1  BUILDING IMPROVEMENT SERVICES                     NaN   \n",
       "2          Instruction - Regular  General Purpose School   \n",
       "\n",
       "                          Text_1  \n",
       "0                            NaN  \n",
       "1  BUILDING IMPROVEMENT SERVICES  \n",
       "2                            NaN  \n",
       "\n",
       "[3 rows x 26 columns]"
      ]
     },
     "execution_count": 3,
     "metadata": {},
     "output_type": "execute_result"
    }
   ],
   "source": [
    "train_data = pd.read_csv('datasets/TrainingData.csv')\n",
    "print(train_data.shape)\n",
    "train_data.head(3)"
   ]
  },
  {
   "cell_type": "code",
   "execution_count": 4,
   "metadata": {
    "pycharm": {
     "name": "#%%\n"
    }
   },
   "outputs": [
    {
     "name": "stdout",
     "output_type": "stream",
     "text": [
      "<class 'pandas.core.frame.DataFrame'>\n",
      "RangeIndex: 400277 entries, 0 to 400276\n",
      "Data columns (total 26 columns):\n",
      " #   Column                  Non-Null Count   Dtype  \n",
      "---  ------                  --------------   -----  \n",
      " 0   Unnamed: 0              400277 non-null  int64  \n",
      " 1   Function                400277 non-null  object \n",
      " 2   Use                     400277 non-null  object \n",
      " 3   Sharing                 400277 non-null  object \n",
      " 4   Reporting               400277 non-null  object \n",
      " 5   Student_Type            400277 non-null  object \n",
      " 6   Position_Type           400277 non-null  object \n",
      " 7   Object_Type             400277 non-null  object \n",
      " 8   Pre_K                   400277 non-null  object \n",
      " 9   Operating_Status        400277 non-null  object \n",
      " 10  Object_Description      375493 non-null  object \n",
      " 11  Text_2                  88217 non-null   object \n",
      " 12  SubFund_Description     306855 non-null  object \n",
      " 13  Job_Title_Description   292743 non-null  object \n",
      " 14  Text_3                  109152 non-null  object \n",
      " 15  Text_4                  53746 non-null   object \n",
      " 16  Sub_Object_Description  91603 non-null   object \n",
      " 17  Location_Description    162054 non-null  object \n",
      " 18  FTE                     126071 non-null  float64\n",
      " 19  Function_Description    342195 non-null  object \n",
      " 20  Facility_or_Department  53886 non-null   object \n",
      " 21  Position_Extra          264764 non-null  object \n",
      " 22  Total                   395722 non-null  float64\n",
      " 23  Program_Description     304660 non-null  object \n",
      " 24  Fund_Description        202877 non-null  object \n",
      " 25  Text_1                  292285 non-null  object \n",
      "dtypes: float64(2), int64(1), object(23)\n",
      "memory usage: 79.4+ MB\n"
     ]
    }
   ],
   "source": [
    "train_data.info()"
   ]
  },
  {
   "cell_type": "markdown",
   "metadata": {},
   "source": [
    "## Visualize data\n",
    "You'll notice that there are two numeric columns, called FTE and Total.\n",
    "\n",
    "FTE: Stands for \"full-time equivalent\". If the budget item is associated to an employee, this number tells us the percentage of full-time that the employee works. A value of 1 means the associated employee works for the school full-time. A value close to 0 means the item is associated to a part-time or contracted employee.\n",
    "Total: Stands for the total cost of the expenditure. This number tells us how much the budget item cost.\n",
    "After printing summary statistics for the numeric data, your job is to plot a histogram of the non-null FTE column to see the distribution of part-time and full-time employees in the dataset."
   ]
  },
  {
   "cell_type": "code",
   "execution_count": 5,
   "metadata": {},
   "outputs": [
    {
     "data": {
      "image/png": "[encoded data removed]",
      "text/plain": [
       "<Figure size 1080x360 with 1 Axes>"
      ]
     },
     "metadata": {},
     "output_type": "display_data"
    }
   ],
   "source": [
    "# set the figure size and title\n",
    "plt.figure(figsize=(15, 5))\n",
    "plt.title('Distribution of %full-time \\n employee works', fontsize=14)\n",
    "\n",
    "# create a histogram to show the %\n",
    "plt.hist(train_data['FTE'].dropna(), range=(0, 1))\n",
    "\n",
    "# set the labels\n",
    "plt.xlabel('% of full-time')\n",
    "plt.ylabel('# employees')\n",
    "plt.show()"
   ]
  },
  {
   "cell_type": "markdown",
   "metadata": {},
   "source": [
    "### Encode labels as categories\n",
    "The first problem is that our machine learning algorithms work on numbers. We need a numeric representation of these strings before we can do any sort of model-fitting. The second problem is that strings can be slow. We never know ahead of time how long a string is, so our computers have to take more time processing strings than numbers, which have a precise number of bits. In pandas, there is a special datatype called category that encodes our categorical data numerically, and--because of this numerical encoding--it can speed up our code. In pandas, we can call the astype function with the string category to change a column's type from object to category.\n",
    "* ML algorithm works on numbers, not strings -> need a numeric representation of strings\n",
    "* Strings can be slow in comparison with numbers"
   ]
  },
  {
   "cell_type": "code",
   "execution_count": 6,
   "metadata": {},
   "outputs": [
    {
     "name": "stdout",
     "output_type": "stream",
     "text": [
      "Function            category\n",
      "Use                 category\n",
      "Sharing             category\n",
      "Reporting           category\n",
      "Student_Type        category\n",
      "Position_Type       category\n",
      "Object_Type         category\n",
      "Pre_K               category\n",
      "Operating_Status    category\n",
      "dtype: object\n"
     ]
    }
   ],
   "source": [
    "# get the labels to change the dtype of\n",
    "labels = ['Function', 'Use', 'Sharing', 'Reporting', 'Student_Type', \n",
    "          'Position_Type', 'Object_Type', 'Pre_K', 'Operating_Status']\n",
    "\n",
    "# create a lambda function to apply type conversion\n",
    "change_type = lambda x: x.astype('category')\n",
    "\n",
    "train_data[labels] = train_data[labels].apply(change_type, axis=0)\n",
    "print(train_data[labels].dtypes)"
   ]
  },
  {
   "cell_type": "code",
   "execution_count": 7,
   "metadata": {},
   "outputs": [
    {
     "data": {
      "image/png": "[encoded data removed]",
      "text/plain": [
       "<Figure size 1080x360 with 1 Axes>"
      ]
     },
     "metadata": {},
     "output_type": "display_data"
    }
   ],
   "source": [
    "# calculate number of unique values for each label: num_unique_labels\n",
    "num_unique_labels = train_data[labels].apply(pd.Series.nunique, axis=0)\n",
    "\n",
    "# set the figure size and title\n",
    "plt.figure(figsize=(15, 5))\n",
    "plt.title('Distribution of unique values', fontsize=14)\n",
    "\n",
    "# plot number of unique values for each label\n",
    "num_unique_labels.plot(kind='bar')\n",
    "\n",
    "# label the axes\n",
    "plt.xlabel('Labels')\n",
    "plt.ylabel('Number of unique values')\n",
    "\n",
    "# rotate the x-values\n",
    "plt.xticks(rotation=45)\n",
    "\n",
    "# display the plot\n",
    "plt.show()"
   ]
  },
  {
   "cell_type": "markdown",
   "metadata": {},
   "source": [
    "### How do we measure success?\n",
    "The next step is to decide how we decide if our algorithm works. Choosing how to evaluate your machine learning model is one of the most important decisions an analyst makes. The decision balances the real-world use of the algorithm, the mathematical properties of the evaluation function, and the interpretability of the measure. Often we hear the question \"how accurate is your model?\" Accuracy is a simple measure that tells us what percentage of rows we got right. However, sometimes accuracy doesn't tell the whole story. Consider the case of identifying spam emails. Let's say that only 1% of the emails I receive are spam. The other 99% are legitimate emails. I can build a classifier that is 99% accurate just by assuming every message is legitimate, and never marking any message as spam. But this model isn't useful at all because every message, even the spam, ends up in my inbox. The metric we use for this problem is called log loss. Log loss is what is generally called a \"loss function,\" and it is a measure of error. We want our error to be as small as possible, which is the opposite of a metric like accuracy, where we want to maximize the value.\n",
    "\n",
    "#### Log loss binary classification\n",
    "$$logloss=-\\frac{1}{N}\\sum_{i=1}^N(y_i log(p_i) + (1-y_i)log(1-p_i))$$\n",
    "* Actual value: y = {1=yes, 0=no}\n",
    "* p: prediction (probability that the value is 1)"
   ]
  },
  {
   "cell_type": "code",
   "execution_count": 8,
   "metadata": {},
   "outputs": [
    {
     "name": "stdout",
     "output_type": "stream",
     "text": [
      "-2.302585092994046\n",
      "0.6931471805599453\n"
     ]
    }
   ],
   "source": [
    "# create a helper function to calculate logloss\n",
    "def compute_log_loss(predicted, actual, eps=1e-14):\n",
    "    \"\"\"\n",
    "    Computes the logarithmic loss between predicted and actual when these are 1D arrays.\n",
    "    \n",
    "    Parameters:\n",
    "        predicted: The predicted probabilities as floats between 0-1\n",
    "        actual: The actual binary labels, either 0 or 1\n",
    "        eps (optional): log(0) is inf, so we need to offset our \n",
    "                        predicted values slightly by eps from 0 or 1\n",
    "    \n",
    "    Returns:\n",
    "        Log loss result \n",
    "    \"\"\"\n",
    "    predicted = np.clip(predicted, eps, 1 - eps)\n",
    "    return -1 * np.mean(actual * np.log(predicted)) + (1 - actual) * np.log(1 - predicted)\n",
    "\n",
    "# check the example predictions\n",
    "print(compute_log_loss(0.9, 0))\n",
    "print(compute_log_loss(0.5, 1))"
   ]
  },
  {
   "cell_type": "markdown",
   "metadata": {},
   "source": [
    "## Time to build a model\n",
    "#### Steps for Model 1\n",
    "* Train basic model on numeric data only (to go from raw data to predictions quickly)\n",
    "* Multi-class Logistic Regression: train classifier on each label separately and use those to predict\n",
    "* Format predictions and save to csv \n",
    "* Compute logloss"
   ]
  },
  {
   "cell_type": "code",
   "execution_count": 9,
   "metadata": {},
   "outputs": [
    {
     "name": "stdout",
     "output_type": "stream",
     "text": [
      "X_train info:\n",
      "<class 'pandas.core.frame.DataFrame'>\n",
      "Int64Index: 320222 entries, 0 to 400276\n",
      "Data columns (total 2 columns):\n",
      " #   Column  Non-Null Count   Dtype  \n",
      "---  ------  --------------   -----  \n",
      " 0   FTE     320222 non-null  float64\n",
      " 1   Total   320222 non-null  float64\n",
      "dtypes: float64(2)\n",
      "memory usage: 7.3 MB\n",
      "None\n",
      "\n",
      "X_test info:\n",
      "<class 'pandas.core.frame.DataFrame'>\n",
      "Int64Index: 80055 entries, 4 to 400274\n",
      "Data columns (total 2 columns):\n",
      " #   Column  Non-Null Count  Dtype  \n",
      "---  ------  --------------  -----  \n",
      " 0   FTE     80055 non-null  float64\n",
      " 1   Total   80055 non-null  float64\n",
      "dtypes: float64(2)\n",
      "memory usage: 1.8 MB\n",
      "None\n",
      "\n",
      "y_train info:\n",
      "<class 'pandas.core.frame.DataFrame'>\n",
      "Int64Index: 320222 entries, 0 to 400276\n",
      "Columns: 104 entries, Function_Aides Compensation to Operating_Status_PreK-12 Operating\n",
      "dtypes: uint8(104)\n",
      "memory usage: 34.2 MB\n",
      "None\n",
      "\n",
      "y_test info:\n",
      "<class 'pandas.core.frame.DataFrame'>\n",
      "Int64Index: 80055 entries, 4 to 400274\n",
      "Columns: 104 entries, Function_Aides Compensation to Operating_Status_PreK-12 Operating\n",
      "dtypes: uint8(104)\n",
      "memory usage: 8.6 MB\n",
      "None\n"
     ]
    }
   ],
   "source": [
    "numeric_columns = ['FTE', 'Total']\n",
    "numeric_data_only = train_data[numeric_columns].fillna(-1000)\n",
    "label_dummies = pd.get_dummies(train_data[labels])\n",
    "\n",
    "# Create training and test sets\n",
    "X_train, X_test, y_train, y_test = helper.multilabel_train_test_split(numeric_data_only, label_dummies,\n",
    "                                                               size=0.2, seed=123)\n",
    "\n",
    "# Print the info\n",
    "print(\"X_train info:\")\n",
    "print(X_train.info())\n",
    "print(\"\\nX_test info:\")  \n",
    "print(X_test.info())\n",
    "print(\"\\ny_train info:\")  \n",
    "print(y_train.info())\n",
    "print(\"\\ny_test info:\")  \n",
    "print(y_test.info()) "
   ]
  },
  {
   "cell_type": "markdown",
   "metadata": {},
   "source": [
    "## Not pretty results\n",
    "Remember, we're ultimately going to be using logloss to score our model, so don't worry too much about the accuracy here. Keep in mind that you're throwing away all of the text data in the dataset - that's by far most of the data! So don't get your hopes up for a killer performance just yet. We're just interested in getting things up and running at the moment."
   ]
  },
  {
   "cell_type": "code",
   "execution_count": 10,
   "metadata": {},
   "outputs": [
    {
     "name": "stdout",
     "output_type": "stream",
     "text": [
      "Accuracy: 0.0\n"
     ]
    }
   ],
   "source": [
    "# Instantiate the classifier: clf\n",
    "clf = OneVsRestClassifier(LogisticRegression())\n",
    "\n",
    "# Fit the classifier to the training data\n",
    "clf.fit(X_train, y_train)\n",
    "\n",
    "# Print the accuracy\n",
    "print(\"Accuracy: {}\".format(clf.score(X_test, y_test)))"
   ]
  },
  {
   "cell_type": "markdown",
   "metadata": {},
   "source": [
    "## Making predictions\n",
    "Once our classifier is trained, we can use it to make predictions on new data. We could use our test set that we've withheld, but we want to simulate actually competing in a data science competition, so we will make predictions on the holdout set that the competition provides. As we did with our training data, we load the holdout data using the read_csv function from pandas. We then perform the same simple preprocessing we used earlier. First, we select just the numeric columns. Then we use fillna to replace NaN values with -1000.Finally, we call the predict_proba method on our trained classifier. Remember, we want to predict probabilities for each label, not just whether or not the label appears. If we simply used the predict method instead, we would end up with a 0 or 1 in every case. Because log loss penalizes you for being confident and wrong, the score for this submission would be significantly worse than if we use predict_proba.\n",
    "* If .predict() was used instead, the output would be 0 or 1, and logloss would penalize being confident and wrong\n",
    "\n",
    "Then, reformat the dataframe to pass to the competition submission."
   ]
  },
  {
   "cell_type": "code",
   "execution_count": 11,
   "metadata": {},
   "outputs": [
    {
     "name": "stderr",
     "output_type": "stream",
     "text": [
      "c:\\users\\dinar\\appdata\\local\\programs\\python\\python38\\lib\\site-packages\\IPython\\core\\interactiveshell.py:3165: DtypeWarning: Columns (5,11) have mixed types.Specify dtype option on import or set low_memory=False.\n",
      "  has_raised = await self.run_ast_nodes(code_ast.body, cell_name,\n"
     ]
    },
    {
     "data": {
      "text/html": [
       "<div>\n",
       "<style scoped>\n",
       "    .dataframe tbody tr th:only-of-type {\n",
       "        vertical-align: middle;\n",
       "    }\n",
       "\n",
       "    .dataframe tbody tr th {\n",
       "        vertical-align: top;\n",
       "    }\n",
       "\n",
       "    .dataframe thead th {\n",
       "        text-align: right;\n",
       "    }\n",
       "</style>\n",
       "<table border=\"1\" class=\"dataframe\">\n",
       "  <thead>\n",
       "    <tr style=\"text-align: right;\">\n",
       "      <th></th>\n",
       "      <th>Unnamed: 0</th>\n",
       "      <th>Object_Description</th>\n",
       "      <th>Program_Description</th>\n",
       "      <th>SubFund_Description</th>\n",
       "      <th>Job_Title_Description</th>\n",
       "      <th>Facility_or_Department</th>\n",
       "      <th>Sub_Object_Description</th>\n",
       "      <th>Location_Description</th>\n",
       "      <th>FTE</th>\n",
       "      <th>Function_Description</th>\n",
       "      <th>Position_Extra</th>\n",
       "      <th>Text_4</th>\n",
       "      <th>Total</th>\n",
       "      <th>Text_2</th>\n",
       "      <th>Text_3</th>\n",
       "      <th>Fund_Description</th>\n",
       "      <th>Text_1</th>\n",
       "    </tr>\n",
       "  </thead>\n",
       "  <tbody>\n",
       "    <tr>\n",
       "      <th>0</th>\n",
       "      <td>180042</td>\n",
       "      <td>Student Meals/Room/Other</td>\n",
       "      <td>Basic Educational Services</td>\n",
       "      <td>NaN</td>\n",
       "      <td>NaN</td>\n",
       "      <td>NaN</td>\n",
       "      <td>Line Item that is paid with Campus' money</td>\n",
       "      <td>School</td>\n",
       "      <td>NaN</td>\n",
       "      <td>Instruction</td>\n",
       "      <td>NaN</td>\n",
       "      <td>NaN</td>\n",
       "      <td>3999.910000</td>\n",
       "      <td>NaN</td>\n",
       "      <td>NaN</td>\n",
       "      <td>General Fund</td>\n",
       "      <td>NaN</td>\n",
       "    </tr>\n",
       "    <tr>\n",
       "      <th>1</th>\n",
       "      <td>28872</td>\n",
       "      <td>Extra Duty/Signing Bonus Pay</td>\n",
       "      <td>Undistributed</td>\n",
       "      <td>NaN</td>\n",
       "      <td>CHEERLEADER DIR</td>\n",
       "      <td>NaN</td>\n",
       "      <td>General</td>\n",
       "      <td>School</td>\n",
       "      <td>NaN</td>\n",
       "      <td>Cocurricular &amp; Extra Curricular Activities</td>\n",
       "      <td>NaN</td>\n",
       "      <td>NaN</td>\n",
       "      <td>3447.320213</td>\n",
       "      <td>NaN</td>\n",
       "      <td>NaN</td>\n",
       "      <td>General Fund</td>\n",
       "      <td>NaN</td>\n",
       "    </tr>\n",
       "    <tr>\n",
       "      <th>2</th>\n",
       "      <td>186915</td>\n",
       "      <td>Professional Salaries</td>\n",
       "      <td>Bilingual Education</td>\n",
       "      <td>NaN</td>\n",
       "      <td>T-EL 1ST BIL</td>\n",
       "      <td>NaN</td>\n",
       "      <td>General</td>\n",
       "      <td>School</td>\n",
       "      <td>1.0</td>\n",
       "      <td>Instruction</td>\n",
       "      <td>NaN</td>\n",
       "      <td>NaN</td>\n",
       "      <td>52738.780869</td>\n",
       "      <td>NaN</td>\n",
       "      <td>NaN</td>\n",
       "      <td>General Fund</td>\n",
       "      <td>NaN</td>\n",
       "    </tr>\n",
       "  </tbody>\n",
       "</table>\n",
       "</div>"
      ],
      "text/plain": [
       "   Unnamed: 0            Object_Description         Program_Description  \\\n",
       "0      180042      Student Meals/Room/Other  Basic Educational Services   \n",
       "1       28872  Extra Duty/Signing Bonus Pay               Undistributed   \n",
       "2      186915         Professional Salaries         Bilingual Education   \n",
       "\n",
       "  SubFund_Description Job_Title_Description Facility_or_Department  \\\n",
       "0                 NaN                   NaN                    NaN   \n",
       "1                 NaN       CHEERLEADER DIR                    NaN   \n",
       "2                 NaN          T-EL 1ST BIL                    NaN   \n",
       "\n",
       "                      Sub_Object_Description Location_Description  FTE  \\\n",
       "0  Line Item that is paid with Campus' money              School   NaN   \n",
       "1                                    General              School   NaN   \n",
       "2                                    General              School   1.0   \n",
       "\n",
       "                         Function_Description Position_Extra Text_4  \\\n",
       "0                                 Instruction            NaN    NaN   \n",
       "1  Cocurricular & Extra Curricular Activities            NaN    NaN   \n",
       "2                                 Instruction            NaN    NaN   \n",
       "\n",
       "          Total Text_2 Text_3 Fund_Description Text_1  \n",
       "0   3999.910000    NaN    NaN     General Fund    NaN  \n",
       "1   3447.320213    NaN    NaN     General Fund    NaN  \n",
       "2  52738.780869    NaN    NaN     General Fund    NaN  "
      ]
     },
     "execution_count": 11,
     "metadata": {},
     "output_type": "execute_result"
    }
   ],
   "source": [
    "# read the test data\n",
    "test_data = pd.read_csv('datasets/TestData.csv')\n",
    "test_data.head(3)"
   ]
  },
  {
   "cell_type": "code",
   "execution_count": 12,
   "metadata": {},
   "outputs": [],
   "source": [
    "# fill the missing values & get the predictions\n",
    "test_data = test_data[numeric_columns].fillna(-1000)\n",
    "predictions = clf.predict_proba(test_data)"
   ]
  },
  {
   "cell_type": "code",
   "execution_count": 13,
   "metadata": {},
   "outputs": [
    {
     "data": {
      "text/html": [
       "<div>\n",
       "<style scoped>\n",
       "    .dataframe tbody tr th:only-of-type {\n",
       "        vertical-align: middle;\n",
       "    }\n",
       "\n",
       "    .dataframe tbody tr th {\n",
       "        vertical-align: top;\n",
       "    }\n",
       "\n",
       "    .dataframe thead th {\n",
       "        text-align: right;\n",
       "    }\n",
       "</style>\n",
       "<table border=\"1\" class=\"dataframe\">\n",
       "  <thead>\n",
       "    <tr style=\"text-align: right;\">\n",
       "      <th></th>\n",
       "      <th>Function__Aides Compensation</th>\n",
       "      <th>Function__Career &amp; Academic Counseling</th>\n",
       "      <th>Function__Communications</th>\n",
       "      <th>Function__Curriculum Development</th>\n",
       "      <th>Function__Data Processing &amp; Information Services</th>\n",
       "      <th>Function__Development &amp; Fundraising</th>\n",
       "      <th>Function__Enrichment</th>\n",
       "      <th>Function__Extended Time &amp; Tutoring</th>\n",
       "      <th>Function__Facilities &amp; Maintenance</th>\n",
       "      <th>Function__Facilities Planning</th>\n",
       "      <th>...</th>\n",
       "      <th>Object_Type__Rent/Utilities</th>\n",
       "      <th>Object_Type__Substitute Compensation</th>\n",
       "      <th>Object_Type__Supplies/Materials</th>\n",
       "      <th>Object_Type__Travel &amp; Conferences</th>\n",
       "      <th>Pre_K__NO_LABEL</th>\n",
       "      <th>Pre_K__Non PreK</th>\n",
       "      <th>Pre_K__PreK</th>\n",
       "      <th>Operating_Status__Non-Operating</th>\n",
       "      <th>Operating_Status__Operating, Not PreK-12</th>\n",
       "      <th>Operating_Status__PreK-12 Operating</th>\n",
       "    </tr>\n",
       "  </thead>\n",
       "  <tbody>\n",
       "    <tr>\n",
       "      <th>0</th>\n",
       "      <td>0.036436</td>\n",
       "      <td>0.006444</td>\n",
       "      <td>0.000820</td>\n",
       "      <td>0.020259</td>\n",
       "      <td>0.006421</td>\n",
       "      <td>0.000168</td>\n",
       "      <td>0.031728</td>\n",
       "      <td>0.024914</td>\n",
       "      <td>0.051970</td>\n",
       "      <td>0.000059</td>\n",
       "      <td>...</td>\n",
       "      <td>0.010719</td>\n",
       "      <td>0.037906</td>\n",
       "      <td>0.115584</td>\n",
       "      <td>0.017154</td>\n",
       "      <td>0.830936</td>\n",
       "      <td>0.141207</td>\n",
       "      <td>0.027858</td>\n",
       "      <td>0.167641</td>\n",
       "      <td>0.019894</td>\n",
       "      <td>0.810404</td>\n",
       "    </tr>\n",
       "    <tr>\n",
       "      <th>1</th>\n",
       "      <td>0.036437</td>\n",
       "      <td>0.006444</td>\n",
       "      <td>0.000820</td>\n",
       "      <td>0.020509</td>\n",
       "      <td>0.006504</td>\n",
       "      <td>0.000168</td>\n",
       "      <td>0.031729</td>\n",
       "      <td>0.024914</td>\n",
       "      <td>0.051970</td>\n",
       "      <td>0.000059</td>\n",
       "      <td>...</td>\n",
       "      <td>0.010719</td>\n",
       "      <td>0.037932</td>\n",
       "      <td>0.115584</td>\n",
       "      <td>0.017154</td>\n",
       "      <td>0.830930</td>\n",
       "      <td>0.141217</td>\n",
       "      <td>0.027858</td>\n",
       "      <td>0.168067</td>\n",
       "      <td>0.019894</td>\n",
       "      <td>0.810415</td>\n",
       "    </tr>\n",
       "    <tr>\n",
       "      <th>2</th>\n",
       "      <td>0.078814</td>\n",
       "      <td>0.008539</td>\n",
       "      <td>0.000497</td>\n",
       "      <td>0.233416</td>\n",
       "      <td>0.228242</td>\n",
       "      <td>0.000348</td>\n",
       "      <td>0.015160</td>\n",
       "      <td>0.013368</td>\n",
       "      <td>0.042337</td>\n",
       "      <td>0.000050</td>\n",
       "      <td>...</td>\n",
       "      <td>0.002085</td>\n",
       "      <td>0.129884</td>\n",
       "      <td>0.001852</td>\n",
       "      <td>0.002127</td>\n",
       "      <td>0.500609</td>\n",
       "      <td>0.498311</td>\n",
       "      <td>0.041173</td>\n",
       "      <td>0.428248</td>\n",
       "      <td>0.025170</td>\n",
       "      <td>0.962351</td>\n",
       "    </tr>\n",
       "  </tbody>\n",
       "</table>\n",
       "<p>3 rows × 104 columns</p>\n",
       "</div>"
      ],
      "text/plain": [
       "   Function__Aides Compensation  Function__Career & Academic Counseling  \\\n",
       "0                      0.036436                                0.006444   \n",
       "1                      0.036437                                0.006444   \n",
       "2                      0.078814                                0.008539   \n",
       "\n",
       "   Function__Communications  Function__Curriculum Development  \\\n",
       "0                  0.000820                          0.020259   \n",
       "1                  0.000820                          0.020509   \n",
       "2                  0.000497                          0.233416   \n",
       "\n",
       "   Function__Data Processing & Information Services  \\\n",
       "0                                          0.006421   \n",
       "1                                          0.006504   \n",
       "2                                          0.228242   \n",
       "\n",
       "   Function__Development & Fundraising  Function__Enrichment  \\\n",
       "0                             0.000168              0.031728   \n",
       "1                             0.000168              0.031729   \n",
       "2                             0.000348              0.015160   \n",
       "\n",
       "   Function__Extended Time & Tutoring  Function__Facilities & Maintenance  \\\n",
       "0                            0.024914                            0.051970   \n",
       "1                            0.024914                            0.051970   \n",
       "2                            0.013368                            0.042337   \n",
       "\n",
       "   Function__Facilities Planning  ...  Object_Type__Rent/Utilities  \\\n",
       "0                       0.000059  ...                     0.010719   \n",
       "1                       0.000059  ...                     0.010719   \n",
       "2                       0.000050  ...                     0.002085   \n",
       "\n",
       "   Object_Type__Substitute Compensation  Object_Type__Supplies/Materials  \\\n",
       "0                              0.037906                         0.115584   \n",
       "1                              0.037932                         0.115584   \n",
       "2                              0.129884                         0.001852   \n",
       "\n",
       "   Object_Type__Travel & Conferences  Pre_K__NO_LABEL  Pre_K__Non PreK  \\\n",
       "0                           0.017154         0.830936         0.141207   \n",
       "1                           0.017154         0.830930         0.141217   \n",
       "2                           0.002127         0.500609         0.498311   \n",
       "\n",
       "   Pre_K__PreK  Operating_Status__Non-Operating  \\\n",
       "0     0.027858                         0.167641   \n",
       "1     0.027858                         0.168067   \n",
       "2     0.041173                         0.428248   \n",
       "\n",
       "   Operating_Status__Operating, Not PreK-12  \\\n",
       "0                                  0.019894   \n",
       "1                                  0.019894   \n",
       "2                                  0.025170   \n",
       "\n",
       "   Operating_Status__PreK-12 Operating  \n",
       "0                             0.810404  \n",
       "1                             0.810415  \n",
       "2                             0.962351  \n",
       "\n",
       "[3 rows x 104 columns]"
      ]
     },
     "execution_count": 13,
     "metadata": {},
     "output_type": "execute_result"
    }
   ],
   "source": [
    "# reformat the dataframe \n",
    "predictions_df = pd.DataFrame(columns=pd.get_dummies(train_data[labels], prefix_sep='__').columns,\n",
    "                             index=test_data.index, data=predictions)\n",
    "predictions_df.head(3)"
   ]
  },
  {
   "cell_type": "code",
   "execution_count": 14,
   "metadata": {},
   "outputs": [],
   "source": [
    "# Save prediction_df to csv\n",
    "predictions_df.to_csv('predictions.csv')\n"
   ]
  },
  {
   "cell_type": "markdown",
   "metadata": {},
   "source": [
    "### Submission results\n",
    "<code>Your model, trained with numeric data only, yields logloss score: 1.9067227623381413</code>"
   ]
  },
  {
   "cell_type": "markdown",
   "metadata": {},
   "source": [
    "## Introducing NLP \n"
   ]
  },
  {
   "cell_type": "code",
   "execution_count": 15,
   "metadata": {},
   "outputs": [
    {
     "name": "stdout",
     "output_type": "stream",
     "text": [
      "There are 434 tokens in Program_Description if tokens are any non-whitespace\n",
      "There are 385 tokens in Position_Extra if tokens are any non-whitespace\n"
     ]
    }
   ],
   "source": [
    "def token(df, column, seq='[A-Za-z0-9]+(?=\\s+)', print_results=True):\n",
    "    \"\"\"\n",
    "    \"\"\"\n",
    "    # fill the missing data beforehand\n",
    "    df[column].fillna('', inplace=True)\n",
    "    \n",
    "    # initialize CountVectorizer\n",
    "    vect = CountVectorizer(token_pattern=seq)\n",
    "    vect.fit(df[column])\n",
    "    results = vect.get_feature_names()\n",
    "    \n",
    "    if print_results:\n",
    "        print(f'There are {len(results)} tokens in {column} if tokens are any non-whitespace')\n",
    "    \n",
    "    return {\n",
    "        'vectorizer': vect,\n",
    "        'results': results\n",
    "    }\n",
    "    \n",
    "\n",
    "_ = token(train_data, 'Program_Description', '\\S+(?=\\s+)')\n",
    "_ = token(train_data, 'Position_Extra')"
   ]
  },
  {
   "cell_type": "markdown",
   "metadata": {},
   "source": [
    "## Pipelines, features & text representation"
   ]
  },
  {
   "cell_type": "code",
   "execution_count": 21,
   "metadata": {},
   "outputs": [
    {
     "name": "stdout",
     "output_type": "stream",
     "text": [
      "Test accuracy: 0.613\n"
     ]
    }
   ],
   "source": [
    "# create a pipeline\n",
    "pipe = Pipeline([\n",
    "    ('imp', SimpleImputer()),\n",
    "    ('clf', OneVsRestClassifier(LogisticRegression()))\n",
    "])\n",
    "\n",
    "# split the data\n",
    "X_train, X_test, y_train, y_test = train_test_split(train_data[numeric_columns], pd.get_dummies(train_data['Reporting']), \n",
    "                                                    test_size=0.2)\n",
    "pipe.fit(X_train, y_train)\n",
    "print(f'Test accuracy: {round(pipe.score(X_test, y_test), 3)}')"
   ]
  },
  {
   "cell_type": "markdown",
   "metadata": {},
   "source": [
    "### Problems with multiple dtypes\n",
    "When we're working with different dtypes, both imputation and text preprocessing can't be done together. We can't just have a Pipeline that has a CountVectorizer step, Imputation step, and then a classifier. The CountVectorizer won't know what to do with the numeric columns, and we don't want to perform imputation on the text columns. In order to build our pipeline, we need to separately operate on the text columns and on the numeric columns. <b>There are two tools</b>: <i>FunctionTransformer</i> and <i>FeatureUnion</i> that will help us build a Pipeline to work with both our text and numeric data. The first utility that we cover is the FunctionTransformer."
   ]
  },
  {
   "cell_type": "code",
   "execution_count": 23,
   "metadata": {},
   "outputs": [],
   "source": [
    "# example of how to work with FunctionTransformer & FeatureUnuin\n",
    "get_text_data = FunctionTransformer(lambda x: x['text'], validate=False)\n",
    "get_numeric_data = FunctionTransformer(lambda x: x[['numeric', 'with_missing']], validate=False)\n",
    "\n",
    "# preprocess numeric dtypes\n",
    "numeric_pipeline = Pipeline([\n",
    "    ('selector', get_numeric_data),\n",
    "    ('imputer', SimpleImputer())\n",
    "])\n",
    "\n",
    "# preprocess categorical dtypes\n",
    "text_pipeline = Pipeline([\n",
    "    ('selector', get_text_data),\n",
    "    ('vectorizer', CountVectorizer())\n",
    "])\n",
    "\n",
    "# create the final pipeline \n",
    "pipe = Pipeline([\n",
    "    ('union', FeatureUnion([\n",
    "        ('numeric', numeric_pipeline),\n",
    "        ('text', text_pipeline)\n",
    "    ])),\n",
    "    ('clf', OneVsRestClassifier(LogisticRegression()))\n",
    "])"
   ]
  },
  {
   "cell_type": "code",
   "execution_count": null,
   "metadata": {},
   "outputs": [],
   "source": []
  }
 ],
 "metadata": {
  "kernelspec": {
   "display_name": "Python 3",
   "language": "python",
   "name": "python3"
  },
  "language_info": {
   "codemirror_mode": {
    "name": "ipython",
    "version": 3
   },
   "file_extension": ".py",
   "mimetype": "text/x-python",
   "name": "python",
   "nbconvert_exporter": "python",
   "pygments_lexer": "ipython3",
   "version": "3.8.6rc1"
  }
 },
 "nbformat": 4,
 "nbformat_minor": 1
}