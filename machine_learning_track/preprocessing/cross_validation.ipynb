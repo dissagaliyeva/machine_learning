{
 "cells": [
  {
   "cell_type": "markdown",
   "metadata": {
    "collapsed": true,
    "pycharm": {
     "name": "#%% md\n"
    }
   },
   "source": [
    "## Cross-Validation\n",
    "Splitting the data into train and test method doesn't guarantee unbias results, therefore, we need to use cross-validation\n",
    "to see how the model reacts to it. It's useful to use cross validation in the following scenarios:\n",
    "- trying out different algorithms and comparing their results -> finding the best model\n",
    "- finding the best parameters for algorithms that require tuning their parameters (e.g, Lasso, Ridge)\n",
    "\n",
    "<b>When to use it?</b> To evaluate parameters! It only estimates the accuracy of the model to predict unseen data,\n",
    "and <b>doesn't improve the model!</b>"
   ]
  },
  {
   "cell_type": "code",
   "execution_count": 7,
   "outputs": [],
   "source": [
    "# load the modules\n",
    "import numpy as np\n",
    "import pandas as pd\n",
    "import seaborn as sns\n",
    "import matplotlib.pyplot as plt\n",
    "\n",
    "from sklearn.datasets import load_boston\n",
    "from sklearn.model_selection import train_test_split\n",
    "from sklearn.model_selection import KFold, StratifiedKFold, cross_val_score\n",
    "from sklearn.metrics import make_scorer\n",
    "from sklearn.preprocessing import PolynomialFeatures\n",
    "from sklearn.linear_model import LinearRegression\n",
    "\n",
    "%matplotlib inline\n",
    "sns.set()"
   ],
   "metadata": {
    "collapsed": false,
    "pycharm": {
     "name": "#%%\n"
    }
   }
  },
  {
   "cell_type": "code",
   "execution_count": 4,
   "outputs": [],
   "source": [
    "# first, load the data\n",
    "df = load_boston()\n",
    "boston = pd.DataFrame(df.data, columns=df.feature_names)\n",
    "boston['target'] = df.target\n",
    "\n",
    "# instantiate x, y values\n",
    "X = boston.iloc[:, :-1].values\n",
    "y = boston.iloc[:, -1].values\n",
    "labels = df.feature_names"
   ],
   "metadata": {
    "collapsed": false,
    "pycharm": {
     "name": "#%%\n"
    }
   }
  },
  {
   "cell_type": "code",
   "execution_count": 4,
   "outputs": [],
   "source": [
    "# without cross-validation first\n",
    "# split the data\n",
    "X_train, X_test, y_train, y_test = train_test_split(X, y, test_size=0.30, random_state=101)\n"
   ],
   "metadata": {
    "collapsed": false,
    "pycharm": {
     "name": "#%%\n"
    }
   }
  },
  {
   "cell_type": "markdown",
   "source": [
    "## Cross-Validation w/ KFold & StratifiedKFold\n",
    "<b>IMPORTANT!</b> StratifiedKFolds works only with categorical targets!\n",
    "\n",
    "- both iterations\n",
    "- KFold randomly draws the values\n",
    "- StratifiedKFold takes account of the distribution of a target variable that you want\n",
    "distributed in your training and test samples as if it were on the original set\n",
    "\n",
    "Always provide\n",
    "- count of observations & target for StratifiedKFold\n",
    "- number of folds (standard: 10, decrease if many observations, increase otherwise)\n",
    "- shuffle (RECOMMENDED)\n",
    "\n",
    "<b>IMPORTANT</b>: don't use it a lot of times, just get the sense of parameter evaluation. Otherwise, it leads to\n",
    "data snooping/leakage.\n",
    "\n"
   ],
   "metadata": {
    "collapsed": false,
    "pycharm": {
     "name": "#%% md\n"
    }
   }
  },
  {
   "cell_type": "code",
   "execution_count": 11,
   "outputs": [
    {
     "name": "stdout",
     "output_type": "stream",
     "text": [
      "[-11.67358627 -22.84201607  -8.76179083 -16.13545457 -12.90825425\n",
      "  -7.77900085 -12.97982147 -22.18260731 -35.93064666 -13.75241178]\n",
      "CV score: mean = 16.494559006096857, std = 8.01415830187463\n"
     ]
    }
   ],
   "source": [
    "# KFold\n",
    "lm = LinearRegression()\n",
    "cv_iterator = KFold(n_splits=10, shuffle=True, random_state=101)\n",
    "stratified_cv_iterator = StratifiedKFold(n_splits=10, shuffle=True, random_state=101)\n",
    "\n",
    "second_order = PolynomialFeatures(degree=2, interaction_only=False)\n",
    "third_order = PolynomialFeatures(degree=3, interaction_only=True)\n",
    "\n",
    "over_param_X = second_order.fit_transform(X)\n",
    "extra_over_param_X = third_order.fit_transform(X)\n",
    "cv_score = cross_val_score(lm, over_param_X, y, cv=cv_iterator, scoring='neg_mean_squared_error', n_jobs=1)\n",
    "print(cv_score)\n",
    "print(f'CV score: mean = {np.mean(np.abs(cv_score))}, std = {np.std(np.abs(cv_score))}')"
   ],
   "metadata": {
    "collapsed": false,
    "pycharm": {
     "name": "#%%\n"
    }
   }
  },
  {
   "cell_type": "code",
   "source": [],
   "metadata": {
    "collapsed": false,
    "pycharm": {
     "name": "#%%\n"
    }
   },
   "execution_count": 11,
   "outputs": []
  },
  {
   "cell_type": "code",
   "execution_count": 4,
   "outputs": [],
   "source": [],
   "metadata": {
    "collapsed": false,
    "pycharm": {
     "name": "#%%\n"
    }
   }
  },
  {
   "cell_type": "code",
   "execution_count": 4,
   "outputs": [],
   "source": [],
   "metadata": {
    "collapsed": false,
    "pycharm": {
     "name": "#%%\n"
    }
   }
  },
  {
   "cell_type": "code",
   "execution_count": 4,
   "outputs": [],
   "source": [],
   "metadata": {
    "collapsed": false,
    "pycharm": {
     "name": "#%%\n"
    }
   }
  },
  {
   "cell_type": "code",
   "execution_count": 4,
   "outputs": [],
   "source": [],
   "metadata": {
    "collapsed": false,
    "pycharm": {
     "name": "#%%\n"
    }
   }
  },
  {
   "cell_type": "code",
   "execution_count": null,
   "outputs": [],
   "source": [],
   "metadata": {
    "collapsed": false,
    "pycharm": {
     "name": "#%%\n"
    }
   }
  }
 ],
 "metadata": {
  "kernelspec": {
   "display_name": "Python 3",
   "language": "python",
   "name": "python3"
  },
  "language_info": {
   "codemirror_mode": {
    "name": "ipython",
    "version": 2
   },
   "file_extension": ".py",
   "mimetype": "text/x-python",
   "name": "python",
   "nbconvert_exporter": "python",
   "pygments_lexer": "ipython2",
   "version": "2.7.6"
  }
 },
 "nbformat": 4,
 "nbformat_minor": 0
}