{
 "cells": [
  {
   "cell_type": "markdown",
   "metadata": {
    "collapsed": true,
    "pycharm": {
     "name": "#%% md\n"
    }
   },
   "source": [
    "## All the data preparation & preprocessing techniques\n",
    "- scaling numeric features (for time efficiency)\n",
    "- dealing with unusual | missing values | sparse matrices\n",
    "- turning qualitative features to numeric\n",
    "- converting non-linear relationships to linear\n",
    "\n",
    "*This notebook contains key ideas from <a href=\"https://www.amazon.com/Regression-Analysis-Python-Luca-Massaron/dp/1785286315\">Regression Analysis with Python</a>"
   ]
  },
  {
   "cell_type": "code",
   "source": [
    "import numpy as np\n",
    "import pandas as pd\n",
    "import matplotlib.pyplot as plt\n",
    "import seaborn as sns\n",
    "\n",
    "from sklearn.preprocessing import StandardScaler, MinMaxScaler\n",
    "from sklearn.datasets import load_boston\n",
    "from sklearn import linear_model as lm\n",
    "import statsmodels.api as sm\n",
    "\n",
    "%matplotlib inline\n",
    "sns.set()"
   ],
   "metadata": {
    "collapsed": false,
    "pycharm": {
     "name": "#%%\n"
    }
   },
   "execution_count": 1,
   "outputs": []
  },
  {
   "cell_type": "markdown",
   "source": [
    "# Numeric Feature Scaling\n",
    "\n",
    "Important to apply when working with gradient descent-based algorithms for quicker convergence."
   ],
   "metadata": {
    "collapsed": false,
    "pycharm": {
     "name": "#%% md\n"
    }
   }
  },
  {
   "cell_type": "code",
   "execution_count": 2,
   "outputs": [],
   "source": [
    "# set the default numbers after comma\n",
    "np.set_printoptions(precision=5, suppress=True)\n",
    "\n",
    "data = load_boston()\n",
    "boston = pd.DataFrame(data.data, columns=data.feature_names)\n",
    "boston['Price'] = data.target\n",
    "\n",
    "observations = len(boston)\n",
    "X = boston.iloc[:, :-1]\n",
    "y = boston.iloc[:, -1]"
   ],
   "metadata": {
    "collapsed": false,
    "pycharm": {
     "name": "#%%\n"
    }
   }
  },
  {
   "cell_type": "code",
   "execution_count": 3,
   "outputs": [],
   "source": [
    "# transform the target into binary to do Logistic Regression\n",
    "yq = np.array(y > 25, dtype=int)\n"
   ],
   "metadata": {
    "collapsed": false,
    "pycharm": {
     "name": "#%%\n"
    }
   }
  },
  {
   "cell_type": "markdown",
   "source": [
    "### Mean Centering: StandardScaler & MinMaxScaler\n",
    "- StandardScaler scales the variables by removing the mean & centering it around (0, 0) origin. Range: [-3, 3]\n",
    "- MinMaxScaler scales the variables by your specified min & max values.\n",
    "\n",
    "### Important!\n",
    "If you reuse one of the two classes, after being trained, on other new data, the new\n",
    "variables might have different maximum and minimum values, causing the resulting\n",
    "transformed variables to be off-scale (above maximum or below minimum, or with an\n",
    "anomalous value). When this happens, it is important to check if the new data has\n",
    "anomalous values and question whether we used the correct data for the training phase\n",
    "when we defined the transformations and the coefficients."
   ],
   "metadata": {
    "collapsed": false,
    "pycharm": {
     "name": "#%% md\n"
    }
   }
  },
  {
   "cell_type": "code",
   "execution_count": 4,
   "outputs": [
    {
     "name": "stdout",
     "output_type": "stream",
     "text": [
      "coefficients: [ -0.10801   0.04642   0.02056   2.68673 -17.76661   3.80987   0.00069\n",
      "  -1.47557   0.30605  -0.01233  -0.95275   0.00931  -0.52476], 36.45948838509001\n"
     ]
    }
   ],
   "source": [
    "linreg = lm.LinearRegression(normalize=False, fit_intercept=True).fit(X, y)\n",
    "print(f'coefficients: {linreg.coef_}, {linreg.intercept_}')\n"
   ],
   "metadata": {
    "collapsed": false,
    "pycharm": {
     "name": "#%%\n"
    }
   }
  },
  {
   "cell_type": "code",
   "execution_count": 5,
   "outputs": [
    {
     "name": "stdout",
     "output_type": "stream",
     "text": [
      "CRIM      -0.092897\n",
      "ZN         0.048715\n",
      "INDUS     -0.004060\n",
      "CHAS       2.853999\n",
      "NOX       -2.868436\n",
      "RM         5.928148\n",
      "AGE       -0.007269\n",
      "DIS       -0.968514\n",
      "RAD        0.171151\n",
      "TAX       -0.009396\n",
      "PTRATIO   -0.392191\n",
      "B          0.014906\n",
      "LSTAT     -0.416304\n",
      "dtype: float64\n"
     ]
    },
    {
     "data": {
      "text/plain": "<class 'statsmodels.iolib.summary.Summary'>\n\"\"\"\n                                 OLS Regression Results                                \n=======================================================================================\nDep. Variable:                  Price   R-squared (uncentered):                   0.959\nModel:                            OLS   Adj. R-squared (uncentered):              0.958\nMethod:                 Least Squares   F-statistic:                              891.3\nDate:                Sat, 20 Mar 2021   Prob (F-statistic):                        0.00\nTime:                        10:14:14   Log-Likelihood:                         -1523.8\nNo. Observations:                 506   AIC:                                      3074.\nDf Residuals:                     493   BIC:                                      3128.\nDf Model:                          13                                                  \nCovariance Type:            nonrobust                                                  \n==============================================================================\n                 coef    std err          t      P>|t|      [0.025      0.975]\n------------------------------------------------------------------------------\nCRIM          -0.0929      0.034     -2.699      0.007      -0.161      -0.025\nZN             0.0487      0.014      3.382      0.001       0.020       0.077\nINDUS         -0.0041      0.064     -0.063      0.950      -0.131       0.123\nCHAS           2.8540      0.904      3.157      0.002       1.078       4.630\nNOX           -2.8684      3.359     -0.854      0.394      -9.468       3.731\nRM             5.9281      0.309     19.178      0.000       5.321       6.535\nAGE           -0.0073      0.014     -0.526      0.599      -0.034       0.020\nDIS           -0.9685      0.196     -4.951      0.000      -1.353      -0.584\nRAD            0.1712      0.067      2.564      0.011       0.040       0.302\nTAX           -0.0094      0.004     -2.395      0.017      -0.017      -0.002\nPTRATIO       -0.3922      0.110     -3.570      0.000      -0.608      -0.176\nB              0.0149      0.003      5.528      0.000       0.010       0.020\nLSTAT         -0.4163      0.051     -8.197      0.000      -0.516      -0.317\n==============================================================================\nOmnibus:                      204.082   Durbin-Watson:                   0.999\nProb(Omnibus):                  0.000   Jarque-Bera (JB):             1374.225\nSkew:                           1.609   Prob(JB):                    3.90e-299\nKurtosis:                      10.404   Cond. No.                     8.50e+03\n==============================================================================\n\nNotes:\n[1] R² is computed without centering (uncentered) since the model does not contain a constant.\n[2] Standard Errors assume that the covariance matrix of the errors is correctly specified.\n[3] The condition number is large, 8.5e+03. This might indicate that there are\nstrong multicollinearity or other numerical problems.\n\"\"\"",
      "text/html": "<table class=\"simpletable\">\n<caption>OLS Regression Results</caption>\n<tr>\n  <th>Dep. Variable:</th>          <td>Price</td>      <th>  R-squared (uncentered):</th>      <td>   0.959</td>\n</tr>\n<tr>\n  <th>Model:</th>                   <td>OLS</td>       <th>  Adj. R-squared (uncentered):</th> <td>   0.958</td>\n</tr>\n<tr>\n  <th>Method:</th>             <td>Least Squares</td>  <th>  F-statistic:       </th>          <td>   891.3</td>\n</tr>\n<tr>\n  <th>Date:</th>             <td>Sat, 20 Mar 2021</td> <th>  Prob (F-statistic):</th>           <td>  0.00</td> \n</tr>\n<tr>\n  <th>Time:</th>                 <td>10:14:14</td>     <th>  Log-Likelihood:    </th>          <td> -1523.8</td>\n</tr>\n<tr>\n  <th>No. Observations:</th>      <td>   506</td>      <th>  AIC:               </th>          <td>   3074.</td>\n</tr>\n<tr>\n  <th>Df Residuals:</th>          <td>   493</td>      <th>  BIC:               </th>          <td>   3128.</td>\n</tr>\n<tr>\n  <th>Df Model:</th>              <td>    13</td>      <th>                     </th>              <td> </td>   \n</tr>\n<tr>\n  <th>Covariance Type:</th>      <td>nonrobust</td>    <th>                     </th>              <td> </td>   \n</tr>\n</table>\n<table class=\"simpletable\">\n<tr>\n     <td></td>        <th>coef</th>     <th>std err</th>      <th>t</th>      <th>P>|t|</th>  <th>[0.025</th>    <th>0.975]</th>  \n</tr>\n<tr>\n  <th>CRIM</th>    <td>   -0.0929</td> <td>    0.034</td> <td>   -2.699</td> <td> 0.007</td> <td>   -0.161</td> <td>   -0.025</td>\n</tr>\n<tr>\n  <th>ZN</th>      <td>    0.0487</td> <td>    0.014</td> <td>    3.382</td> <td> 0.001</td> <td>    0.020</td> <td>    0.077</td>\n</tr>\n<tr>\n  <th>INDUS</th>   <td>   -0.0041</td> <td>    0.064</td> <td>   -0.063</td> <td> 0.950</td> <td>   -0.131</td> <td>    0.123</td>\n</tr>\n<tr>\n  <th>CHAS</th>    <td>    2.8540</td> <td>    0.904</td> <td>    3.157</td> <td> 0.002</td> <td>    1.078</td> <td>    4.630</td>\n</tr>\n<tr>\n  <th>NOX</th>     <td>   -2.8684</td> <td>    3.359</td> <td>   -0.854</td> <td> 0.394</td> <td>   -9.468</td> <td>    3.731</td>\n</tr>\n<tr>\n  <th>RM</th>      <td>    5.9281</td> <td>    0.309</td> <td>   19.178</td> <td> 0.000</td> <td>    5.321</td> <td>    6.535</td>\n</tr>\n<tr>\n  <th>AGE</th>     <td>   -0.0073</td> <td>    0.014</td> <td>   -0.526</td> <td> 0.599</td> <td>   -0.034</td> <td>    0.020</td>\n</tr>\n<tr>\n  <th>DIS</th>     <td>   -0.9685</td> <td>    0.196</td> <td>   -4.951</td> <td> 0.000</td> <td>   -1.353</td> <td>   -0.584</td>\n</tr>\n<tr>\n  <th>RAD</th>     <td>    0.1712</td> <td>    0.067</td> <td>    2.564</td> <td> 0.011</td> <td>    0.040</td> <td>    0.302</td>\n</tr>\n<tr>\n  <th>TAX</th>     <td>   -0.0094</td> <td>    0.004</td> <td>   -2.395</td> <td> 0.017</td> <td>   -0.017</td> <td>   -0.002</td>\n</tr>\n<tr>\n  <th>PTRATIO</th> <td>   -0.3922</td> <td>    0.110</td> <td>   -3.570</td> <td> 0.000</td> <td>   -0.608</td> <td>   -0.176</td>\n</tr>\n<tr>\n  <th>B</th>       <td>    0.0149</td> <td>    0.003</td> <td>    5.528</td> <td> 0.000</td> <td>    0.010</td> <td>    0.020</td>\n</tr>\n<tr>\n  <th>LSTAT</th>   <td>   -0.4163</td> <td>    0.051</td> <td>   -8.197</td> <td> 0.000</td> <td>   -0.516</td> <td>   -0.317</td>\n</tr>\n</table>\n<table class=\"simpletable\">\n<tr>\n  <th>Omnibus:</th>       <td>204.082</td> <th>  Durbin-Watson:     </th> <td>   0.999</td> \n</tr>\n<tr>\n  <th>Prob(Omnibus):</th> <td> 0.000</td>  <th>  Jarque-Bera (JB):  </th> <td>1374.225</td> \n</tr>\n<tr>\n  <th>Skew:</th>          <td> 1.609</td>  <th>  Prob(JB):          </th> <td>3.90e-299</td>\n</tr>\n<tr>\n  <th>Kurtosis:</th>      <td>10.404</td>  <th>  Cond. No.          </th> <td>8.50e+03</td> \n</tr>\n</table><br/><br/>Notes:<br/>[1] R² is computed without centering (uncentered) since the model does not contain a constant.<br/>[2] Standard Errors assume that the covariance matrix of the errors is correctly specified.<br/>[3] The condition number is large, 8.5e+03. This might indicate that there are<br/>strong multicollinearity or other numerical problems."
     },
     "execution_count": 5,
     "metadata": {},
     "output_type": "execute_result"
    }
   ],
   "source": [
    "# double-check with statsmodels\n",
    "linear_regression = sm.OLS(endog=y, exog=X).fit()\n",
    "print(linear_regression.params)\n",
    "linear_regression.summary()\n"
   ],
   "metadata": {
    "collapsed": false,
    "pycharm": {
     "name": "#%%\n"
    }
   }
  },
  {
   "cell_type": "code",
   "execution_count": 6,
   "outputs": [
    {
     "name": "stdout",
     "output_type": "stream",
     "text": [
      "coefficients: [ -0.10801   0.04642   0.02056   2.68673 -17.76661   3.80987   0.00069\n",
      "  -1.47557   0.30605  -0.01233  -0.95275   0.00931  -0.52476], 22.532806324110688\n",
      "============\n",
      "Mean of price: 22.532806324110677\n",
      "LinReg intercept: 22.532806324110688\n"
     ]
    }
   ],
   "source": [
    "# difference in intercept!\n",
    "scaler = StandardScaler(with_mean=True, with_std=False)\n",
    "linreg.fit(scaler.fit_transform(X), y)\n",
    "print(f'coefficients: {linreg.coef_}, {linreg.intercept_}')\n",
    "print('============')\n",
    "print(f'Mean of price: {np.mean(y)}')\n",
    "print(f'LinReg intercept: {linreg.intercept_}')"
   ],
   "metadata": {
    "collapsed": false,
    "pycharm": {
     "name": "#%%\n"
    }
   }
  },
  {
   "cell_type": "markdown",
   "source": [
    "### When there are missing values, it'll automatically tend to be the mean (22.53)\n",
    "Since missing values can be written as 0, they'll automatically convert to the mean!\n",
    "It's not necessary to scale the target variable, the only case to do so if it creates an overflow"
   ],
   "metadata": {
    "collapsed": false,
    "pycharm": {
     "name": "#%% md\n"
    }
   }
  },
  {
   "cell_type": "code",
   "execution_count": 7,
   "outputs": [
    {
     "name": "stdout",
     "output_type": "stream",
     "text": [
      "coefficients: [-0.92815  1.08157  0.1409   0.68174 -2.05672  2.67423  0.01947 -3.10404\n",
      "  2.66222 -2.07678 -2.06061  0.84927 -3.74363], 22.532806324110684\n"
     ]
    }
   ],
   "source": [
    "# standardization with both mean and std\n",
    "scaler = StandardScaler(with_mean=True, with_std=True)\n",
    "linreg.fit(scaler.fit_transform(X), y)\n",
    "print(f'coefficients: {linreg.coef_}, {linreg.intercept_}')"
   ],
   "metadata": {
    "collapsed": false,
    "pycharm": {
     "name": "#%%\n"
    }
   }
  },
  {
   "cell_type": "code",
   "execution_count": 8,
   "outputs": [
    {
     "name": "stdout",
     "output_type": "stream",
     "text": [
      "coefficients: [ -9.60976   4.64205   0.56084   2.68673  -8.63457  19.88369   0.06722\n",
      " -16.22666   7.03914  -6.46333  -8.95582   3.69283 -19.01724], 26.620267584687745\n"
     ]
    }
   ],
   "source": [
    "# normalization with MinMaxScaler\n",
    "minmax = MinMaxScaler(feature_range=(0, 1))\n",
    "linreg.fit(minmax.fit_transform(X), y)\n",
    "print(f'coefficients: {linreg.coef_}, {linreg.intercept_}')\n"
   ],
   "metadata": {
    "collapsed": false,
    "pycharm": {
     "name": "#%%\n"
    }
   }
  },
  {
   "cell_type": "markdown",
   "source": [
    "### Logistic Regression case with statsmodels\n",
    "\n",
    "Contrary to linear regression, in logistic regression a\n",
    "unit change in predictors changes the odds ratio of the response of a quantity equivalent to\n",
    "the exponentiation of the coefficients themselves:"
   ],
   "metadata": {
    "collapsed": false,
    "pycharm": {
     "name": "#%% md\n"
    }
   }
  },
  {
   "cell_type": "code",
   "execution_count": 9,
   "outputs": [
    {
     "name": "stdout",
     "output_type": "stream",
     "text": [
      "Optimization terminated successfully.\n",
      "         Current function value: 0.206631\n",
      "         Iterations 9\n",
      "                           Logit Regression Results                           \n",
      "==============================================================================\n",
      "Dep. Variable:                      y   No. Observations:                  506\n",
      "Model:                          Logit   Df Residuals:                      492\n",
      "Method:                           MLE   Df Model:                           13\n",
      "Date:                Sat, 20 Mar 2021   Pseudo R-squ.:                  0.6289\n",
      "Time:                        10:14:14   Log-Likelihood:                -104.56\n",
      "converged:                       True   LL-Null:                       -281.76\n",
      "Covariance Type:            nonrobust   LLR p-value:                 9.145e-68\n",
      "==============================================================================\n",
      "                 coef    std err          z      P>|z|      [0.025      0.975]\n",
      "------------------------------------------------------------------------------\n",
      "const         -3.0542      0.356     -8.571      0.000      -3.753      -2.356\n",
      "x1            -0.0954      0.390     -0.245      0.807      -0.859       0.668\n",
      "x2             0.2544      0.252      1.008      0.314      -0.240       0.749\n",
      "x3            -0.7570      0.403     -1.880      0.060      -1.546       0.032\n",
      "x4             0.2452      0.205      1.195      0.232      -0.157       0.648\n",
      "x5            -0.7923      0.519     -1.527      0.127      -1.810       0.225\n",
      "x6             1.3244      0.318      4.168      0.000       0.702       1.947\n",
      "x7             0.0982      0.313      0.314      0.754      -0.515       0.712\n",
      "x8            -1.2391      0.345     -3.591      0.000      -1.915      -0.563\n",
      "x9             2.7665      0.719      3.849      0.000       1.358       4.175\n",
      "x10           -1.8228      0.680     -2.682      0.007      -3.155      -0.491\n",
      "x11           -0.7635      0.264     -2.887      0.004      -1.282      -0.245\n",
      "x12           -0.2065      0.349     -0.592      0.554      -0.891       0.478\n",
      "x13           -2.6207      0.521     -5.031      0.000      -3.642      -1.600\n",
      "==============================================================================\n"
     ]
    },
    {
     "data": {
      "text/plain": "         odds   features\n0    0.047159  intercept\n1    0.909015       CRIM\n2    1.289640         ZN\n3    0.469077      INDUS\n4    1.277878       CHAS\n5    0.452783        NOX\n6    3.760072         RM\n7    1.103144        AGE\n8    0.289653        DIS\n9   15.903414        RAD\n10   0.161577        TAX\n11   0.466030    PTRATIO\n12   0.813453          B\n13   0.072751      LSTAT",
      "text/html": "<div>\n<style scoped>\n    .dataframe tbody tr th:only-of-type {\n        vertical-align: middle;\n    }\n\n    .dataframe tbody tr th {\n        vertical-align: top;\n    }\n\n    .dataframe thead th {\n        text-align: right;\n    }\n</style>\n<table border=\"1\" class=\"dataframe\">\n  <thead>\n    <tr style=\"text-align: right;\">\n      <th></th>\n      <th>odds</th>\n      <th>features</th>\n    </tr>\n  </thead>\n  <tbody>\n    <tr>\n      <th>0</th>\n      <td>0.047159</td>\n      <td>intercept</td>\n    </tr>\n    <tr>\n      <th>1</th>\n      <td>0.909015</td>\n      <td>CRIM</td>\n    </tr>\n    <tr>\n      <th>2</th>\n      <td>1.289640</td>\n      <td>ZN</td>\n    </tr>\n    <tr>\n      <th>3</th>\n      <td>0.469077</td>\n      <td>INDUS</td>\n    </tr>\n    <tr>\n      <th>4</th>\n      <td>1.277878</td>\n      <td>CHAS</td>\n    </tr>\n    <tr>\n      <th>5</th>\n      <td>0.452783</td>\n      <td>NOX</td>\n    </tr>\n    <tr>\n      <th>6</th>\n      <td>3.760072</td>\n      <td>RM</td>\n    </tr>\n    <tr>\n      <th>7</th>\n      <td>1.103144</td>\n      <td>AGE</td>\n    </tr>\n    <tr>\n      <th>8</th>\n      <td>0.289653</td>\n      <td>DIS</td>\n    </tr>\n    <tr>\n      <th>9</th>\n      <td>15.903414</td>\n      <td>RAD</td>\n    </tr>\n    <tr>\n      <th>10</th>\n      <td>0.161577</td>\n      <td>TAX</td>\n    </tr>\n    <tr>\n      <th>11</th>\n      <td>0.466030</td>\n      <td>PTRATIO</td>\n    </tr>\n    <tr>\n      <th>12</th>\n      <td>0.813453</td>\n      <td>B</td>\n    </tr>\n    <tr>\n      <th>13</th>\n      <td>0.072751</td>\n      <td>LSTAT</td>\n    </tr>\n  </tbody>\n</table>\n</div>"
     },
     "execution_count": 9,
     "metadata": {},
     "output_type": "execute_result"
    }
   ],
   "source": [
    "Xq = sm.add_constant(scaler.fit_transform(X))\n",
    "logit = sm.Logit(yq, Xq).fit()\n",
    "print(logit.summary())\n",
    "\n",
    "# odds ratio -> how each added feature affects the model\n",
    "# odds = {'odds': logit.params, 'features': data.feature_names}\n",
    "odds = pd.DataFrame({'odds': np.exp(logit.params), 'features': np.append(['intercept'], data.feature_names)})\n",
    "odds"
   ],
   "metadata": {
    "collapsed": false,
    "pycharm": {
     "name": "#%%\n"
    }
   }
  },
  {
   "cell_type": "code",
   "execution_count": 10,
   "outputs": [
    {
     "name": "stdout",
     "output_type": "stream",
     "text": [
      "Intercept: -3.054222760914371\n",
      "Probability of value above 25 when all predictors are average: 0.045\n",
      "Actual Probability of values w/ price above 25k: 0.245\n"
     ]
    }
   ],
   "source": [
    "def sigmoid(p):\n",
    "    return 1 / (1 + np.exp(-p))\n",
    "\n",
    "print(f'Intercept: {logit.params[0]}')\n",
    "print(f'Probability of value above 25 when all predictors are average: {round(sigmoid(logit.params[0]), 3)}')\n",
    "\n",
    "print('Actual Probability of values w/ price above 25k:', round(len(boston[boston['Price'] > 25]) / observations, 3))"
   ],
   "metadata": {
    "collapsed": false,
    "pycharm": {
     "name": "#%%\n"
    }
   }
  },
  {
   "cell_type": "markdown",
   "source": [
    "### In the code above, we saw how one dataset can be solved with two distinct algorithms: Linear Regression & Logistic Regression.\n",
    "- Took a look at the difference among raw, standardized, and normalized data;\n",
    "\n",
    "- Experimented with StandardScaler & MinMaxScaler;\n",
    "\n",
    "- Saw how one dataset can be looked with different algorithms;\n",
    "\n",
    "\n",
    "### To check out:\n",
    "- likelihood\n",
    "- sampling\n"
   ],
   "metadata": {
    "collapsed": false,
    "pycharm": {
     "name": "#%% md\n"
    }
   }
  },
  {
   "cell_type": "markdown",
   "source": [
    "# Qualitative feature encoding\n"
   ],
   "metadata": {
    "collapsed": false,
    "pycharm": {
     "name": "#%% md\n"
    }
   }
  },
  {
   "cell_type": "code",
   "execution_count": 11,
   "outputs": [],
   "source": [
    "outlook = ['sunny', 'overcast', 'rainy']\n",
    "temperature = ['hot', 'mild', 'cool']\n",
    "humidity = ['high', 'normal']\n",
    "windy = ['True', 'False']\n",
    "\n",
    "weather_dataset = list()\n",
    "\n",
    "for o in outlook:\n",
    "    for t in temperature:\n",
    "        for h in humidity:\n",
    "            for w in windy:\n",
    "                weather_dataset.append([o, t, h, w])\n",
    "play = [0, 0, 1, 1, 1, 0, 1, 1, 0, 0, 0, 1, 1, 1, 1, 1, 1, 1, 1, 1, 0, 0, 1, 1, 0, 0, 0, 1, 0, 1, 0, 1, 0, 0, 0, 1]"
   ],
   "metadata": {
    "collapsed": false,
    "pycharm": {
     "name": "#%%\n"
    }
   }
  },
  {
   "cell_type": "code",
   "execution_count": 12,
   "outputs": [
    {
     "name": "stdout",
     "output_type": "stream",
     "text": [
      "Warning: Maximum number of iterations has been exceeded.\n",
      "         Current function value: 0.292346\n",
      "         Iterations: 35\n"
     ]
    },
    {
     "name": "stderr",
     "output_type": "stream",
     "text": [
      "c:\\users\\dinar\\appdata\\local\\programs\\python\\python38\\lib\\site-packages\\statsmodels\\base\\model.py:566: ConvergenceWarning: Maximum Likelihood optimization failed to converge. Check mle_retvals\n",
      "  warnings.warn(\"Maximum Likelihood optimization failed to \"\n"
     ]
    },
    {
     "data": {
      "text/plain": "<class 'statsmodels.iolib.summary.Summary'>\n\"\"\"\n                           Logit Regression Results                           \n==============================================================================\nDep. Variable:                      y   No. Observations:                   36\nModel:                          Logit   Df Residuals:                       29\nMethod:                           MLE   Df Model:                            6\nDate:                Sat, 20 Mar 2021   Pseudo R-squ.:                  0.5744\nTime:                        10:14:14   Log-Likelihood:                -10.524\nconverged:                      False   LL-Null:                       -24.731\nCovariance Type:            nonrobust   LLR p-value:                 7.856e-05\n====================================================================================\n                       coef    std err          z      P>|z|      [0.025      0.975]\n------------------------------------------------------------------------------------\nconst                0.2393        nan        nan        nan         nan         nan\noutlook_overcast     2.9833   4.99e+07   5.98e-08      1.000   -9.78e+07    9.78e+07\noutlook_rainy       -2.1746   4.69e+07  -4.64e-08      1.000   -9.19e+07    9.19e+07\noutlook_sunny       -0.5695   4.69e+07  -1.21e-08      1.000   -9.19e+07    9.19e+07\ntemperature_cool    -2.1996        nan        nan        nan         nan         nan\ntemperature_hot      0.3045        nan        nan        nan         nan         nan\ntemperature_mild     2.1344        nan        nan        nan         nan         nan\nhumidity_high       -2.0459      2.361     -0.867      0.386      -6.673       2.581\nhumidity_normal      2.2851          0        inf      0.000       2.285       2.285\nwindy_False          1.3162      4e+07   3.29e-08      1.000   -7.84e+07    7.84e+07\nwindy_True          -1.0770      4e+07  -2.69e-08      1.000   -7.84e+07    7.84e+07\n====================================================================================\n\"\"\"",
      "text/html": "<table class=\"simpletable\">\n<caption>Logit Regression Results</caption>\n<tr>\n  <th>Dep. Variable:</th>           <td>y</td>        <th>  No. Observations:  </th>  <td>    36</td>  \n</tr>\n<tr>\n  <th>Model:</th>                 <td>Logit</td>      <th>  Df Residuals:      </th>  <td>    29</td>  \n</tr>\n<tr>\n  <th>Method:</th>                 <td>MLE</td>       <th>  Df Model:          </th>  <td>     6</td>  \n</tr>\n<tr>\n  <th>Date:</th>            <td>Sat, 20 Mar 2021</td> <th>  Pseudo R-squ.:     </th>  <td>0.5744</td>  \n</tr>\n<tr>\n  <th>Time:</th>                <td>10:14:14</td>     <th>  Log-Likelihood:    </th> <td> -10.524</td> \n</tr>\n<tr>\n  <th>converged:</th>             <td>False</td>      <th>  LL-Null:           </th> <td> -24.731</td> \n</tr>\n<tr>\n  <th>Covariance Type:</th>     <td>nonrobust</td>    <th>  LLR p-value:       </th> <td>7.856e-05</td>\n</tr>\n</table>\n<table class=\"simpletable\">\n<tr>\n          <td></td>            <th>coef</th>     <th>std err</th>      <th>z</th>      <th>P>|z|</th>  <th>[0.025</th>    <th>0.975]</th>  \n</tr>\n<tr>\n  <th>const</th>            <td>    0.2393</td> <td>      nan</td> <td>      nan</td> <td>   nan</td> <td>      nan</td> <td>      nan</td>\n</tr>\n<tr>\n  <th>outlook_overcast</th> <td>    2.9833</td> <td> 4.99e+07</td> <td> 5.98e-08</td> <td> 1.000</td> <td>-9.78e+07</td> <td> 9.78e+07</td>\n</tr>\n<tr>\n  <th>outlook_rainy</th>    <td>   -2.1746</td> <td> 4.69e+07</td> <td>-4.64e-08</td> <td> 1.000</td> <td>-9.19e+07</td> <td> 9.19e+07</td>\n</tr>\n<tr>\n  <th>outlook_sunny</th>    <td>   -0.5695</td> <td> 4.69e+07</td> <td>-1.21e-08</td> <td> 1.000</td> <td>-9.19e+07</td> <td> 9.19e+07</td>\n</tr>\n<tr>\n  <th>temperature_cool</th> <td>   -2.1996</td> <td>      nan</td> <td>      nan</td> <td>   nan</td> <td>      nan</td> <td>      nan</td>\n</tr>\n<tr>\n  <th>temperature_hot</th>  <td>    0.3045</td> <td>      nan</td> <td>      nan</td> <td>   nan</td> <td>      nan</td> <td>      nan</td>\n</tr>\n<tr>\n  <th>temperature_mild</th> <td>    2.1344</td> <td>      nan</td> <td>      nan</td> <td>   nan</td> <td>      nan</td> <td>      nan</td>\n</tr>\n<tr>\n  <th>humidity_high</th>    <td>   -2.0459</td> <td>    2.361</td> <td>   -0.867</td> <td> 0.386</td> <td>   -6.673</td> <td>    2.581</td>\n</tr>\n<tr>\n  <th>humidity_normal</th>  <td>    2.2851</td> <td>        0</td> <td>      inf</td> <td> 0.000</td> <td>    2.285</td> <td>    2.285</td>\n</tr>\n<tr>\n  <th>windy_False</th>      <td>    1.3162</td> <td>    4e+07</td> <td> 3.29e-08</td> <td> 1.000</td> <td>-7.84e+07</td> <td> 7.84e+07</td>\n</tr>\n<tr>\n  <th>windy_True</th>       <td>   -1.0770</td> <td>    4e+07</td> <td>-2.69e-08</td> <td> 1.000</td> <td>-7.84e+07</td> <td> 7.84e+07</td>\n</tr>\n</table>"
     },
     "execution_count": 12,
     "metadata": {},
     "output_type": "execute_result"
    }
   ],
   "source": [
    "# dummy encoding\n",
    "df = pd.DataFrame(weather_dataset, columns=['outlook', 'temperature', 'humidity', 'windy'])\n",
    "dummy_encoding = pd.get_dummies(df)\n",
    "\n",
    "X = sm.add_constant(dummy_encoding)\n",
    "logit = sm.Logit(play, X).fit()\n",
    "logit.summary()"
   ],
   "metadata": {
    "collapsed": false,
    "pycharm": {
     "name": "#%%\n"
    }
   }
  },
  {
   "cell_type": "markdown",
   "source": [
    "Certain optimizations don't allow collinearity, therefore, the best thing to do is to drop some columns"
   ],
   "metadata": {
    "collapsed": false,
    "pycharm": {
     "name": "#%% md\n"
    }
   }
  },
  {
   "cell_type": "code",
   "execution_count": 13,
   "outputs": [
    {
     "name": "stdout",
     "output_type": "stream",
     "text": [
      "Optimization terminated successfully.\n",
      "         Current function value: 0.292346\n",
      "         Iterations 8\n"
     ]
    },
    {
     "data": {
      "text/plain": "<class 'statsmodels.iolib.summary.Summary'>\n\"\"\"\n                           Logit Regression Results                           \n==============================================================================\nDep. Variable:                      y   No. Observations:                   36\nModel:                          Logit   Df Residuals:                       29\nMethod:                           MLE   Df Model:                            6\nDate:                Sat, 20 Mar 2021   Pseudo R-squ.:                  0.5744\nTime:                        10:14:14   Log-Likelihood:                -10.524\nconverged:                       True   LL-Null:                       -24.731\nCovariance Type:            nonrobust   LLR p-value:                 7.856e-05\n====================================================================================\n                       coef    std err          z      P>|z|      [0.025      0.975]\n------------------------------------------------------------------------------------\nconst                5.4055      2.196      2.462      0.014       1.102       9.709\noutlook_overcast     3.5528      1.721      2.064      0.039       0.179       6.927\noutlook_rainy       -1.6051      1.357     -1.183      0.237      -4.265       1.055\ntemperature_cool    -4.3340      1.867     -2.322      0.020      -7.993      -0.675\ntemperature_hot     -1.8299      1.478     -1.238      0.216      -4.727       1.067\nhumidity_high       -4.3310      1.645     -2.633      0.008      -7.555      -1.107\nwindy_True          -2.3932      1.325     -1.807      0.071      -4.989       0.203\n====================================================================================\n\"\"\"",
      "text/html": "<table class=\"simpletable\">\n<caption>Logit Regression Results</caption>\n<tr>\n  <th>Dep. Variable:</th>           <td>y</td>        <th>  No. Observations:  </th>  <td>    36</td>  \n</tr>\n<tr>\n  <th>Model:</th>                 <td>Logit</td>      <th>  Df Residuals:      </th>  <td>    29</td>  \n</tr>\n<tr>\n  <th>Method:</th>                 <td>MLE</td>       <th>  Df Model:          </th>  <td>     6</td>  \n</tr>\n<tr>\n  <th>Date:</th>            <td>Sat, 20 Mar 2021</td> <th>  Pseudo R-squ.:     </th>  <td>0.5744</td>  \n</tr>\n<tr>\n  <th>Time:</th>                <td>10:14:14</td>     <th>  Log-Likelihood:    </th> <td> -10.524</td> \n</tr>\n<tr>\n  <th>converged:</th>             <td>True</td>       <th>  LL-Null:           </th> <td> -24.731</td> \n</tr>\n<tr>\n  <th>Covariance Type:</th>     <td>nonrobust</td>    <th>  LLR p-value:       </th> <td>7.856e-05</td>\n</tr>\n</table>\n<table class=\"simpletable\">\n<tr>\n          <td></td>            <th>coef</th>     <th>std err</th>      <th>z</th>      <th>P>|z|</th>  <th>[0.025</th>    <th>0.975]</th>  \n</tr>\n<tr>\n  <th>const</th>            <td>    5.4055</td> <td>    2.196</td> <td>    2.462</td> <td> 0.014</td> <td>    1.102</td> <td>    9.709</td>\n</tr>\n<tr>\n  <th>outlook_overcast</th> <td>    3.5528</td> <td>    1.721</td> <td>    2.064</td> <td> 0.039</td> <td>    0.179</td> <td>    6.927</td>\n</tr>\n<tr>\n  <th>outlook_rainy</th>    <td>   -1.6051</td> <td>    1.357</td> <td>   -1.183</td> <td> 0.237</td> <td>   -4.265</td> <td>    1.055</td>\n</tr>\n<tr>\n  <th>temperature_cool</th> <td>   -4.3340</td> <td>    1.867</td> <td>   -2.322</td> <td> 0.020</td> <td>   -7.993</td> <td>   -0.675</td>\n</tr>\n<tr>\n  <th>temperature_hot</th>  <td>   -1.8299</td> <td>    1.478</td> <td>   -1.238</td> <td> 0.216</td> <td>   -4.727</td> <td>    1.067</td>\n</tr>\n<tr>\n  <th>humidity_high</th>    <td>   -4.3310</td> <td>    1.645</td> <td>   -2.633</td> <td> 0.008</td> <td>   -7.555</td> <td>   -1.107</td>\n</tr>\n<tr>\n  <th>windy_True</th>       <td>   -2.3932</td> <td>    1.325</td> <td>   -1.807</td> <td> 0.071</td> <td>   -4.989</td> <td>    0.203</td>\n</tr>\n</table>"
     },
     "execution_count": 13,
     "metadata": {},
     "output_type": "execute_result"
    }
   ],
   "source": [
    "X.drop(['outlook_sunny', 'temperature_mild', 'humidity_normal', 'windy_False'], axis=1, inplace=True)\n",
    "logit = sm.Logit(play, X)\n",
    "result = logit.fit()\n",
    "result.summary()"
   ],
   "metadata": {
    "collapsed": false,
    "pycharm": {
     "name": "#%%\n"
    }
   }
  },
  {
   "cell_type": "markdown",
   "source": [
    "### DictVectorizer & LabelEncoder w/ LabelBinarizer & OneHotEncoder\n",
    "DictVectorizer has the ability to transform only qualitative data while leaving numeric untouched. It's <b>slow</b> but\n",
    "has its advantage as storing only non-null values\n"
   ],
   "metadata": {
    "collapsed": false,
    "pycharm": {
     "name": "#%% md\n"
    }
   }
  },
  {
   "cell_type": "code",
   "execution_count": 14,
   "outputs": [
    {
     "name": "stdout",
     "output_type": "stream",
     "text": [
      "{'outlook': 'sunny', 'temperature': 'hot', 'humidity': 'high', 'windy': 'True'}\n",
      "[[1. 0. 0. 0. 1. 0. 1. 0. 0. 1.]\n",
      " [1. 0. 0. 0. 1. 0. 1. 0. 1. 0.]\n",
      " [0. 1. 0. 0. 1. 0. 1. 0. 0. 1.]\n",
      " [0. 1. 0. 0. 1. 0. 1. 0. 1. 0.]\n",
      " [1. 0. 0. 0. 1. 0. 0. 1. 0. 1.]\n",
      " [1. 0. 0. 0. 1. 0. 0. 1. 1. 0.]\n",
      " [0. 1. 0. 0. 1. 0. 0. 1. 0. 1.]\n",
      " [0. 1. 0. 0. 1. 0. 0. 1. 1. 0.]\n",
      " [1. 0. 0. 0. 1. 1. 0. 0. 0. 1.]\n",
      " [1. 0. 0. 0. 1. 1. 0. 0. 1. 0.]\n",
      " [0. 1. 0. 0. 1. 1. 0. 0. 0. 1.]\n",
      " [0. 1. 0. 0. 1. 1. 0. 0. 1. 0.]\n",
      " [1. 0. 1. 0. 0. 0. 1. 0. 0. 1.]\n",
      " [1. 0. 1. 0. 0. 0. 1. 0. 1. 0.]\n",
      " [0. 1. 1. 0. 0. 0. 1. 0. 0. 1.]\n",
      " [0. 1. 1. 0. 0. 0. 1. 0. 1. 0.]\n",
      " [1. 0. 1. 0. 0. 0. 0. 1. 0. 1.]\n",
      " [1. 0. 1. 0. 0. 0. 0. 1. 1. 0.]\n",
      " [0. 1. 1. 0. 0. 0. 0. 1. 0. 1.]\n",
      " [0. 1. 1. 0. 0. 0. 0. 1. 1. 0.]\n",
      " [1. 0. 1. 0. 0. 1. 0. 0. 0. 1.]\n",
      " [1. 0. 1. 0. 0. 1. 0. 0. 1. 0.]\n",
      " [0. 1. 1. 0. 0. 1. 0. 0. 0. 1.]\n",
      " [0. 1. 1. 0. 0. 1. 0. 0. 1. 0.]\n",
      " [1. 0. 0. 1. 0. 0. 1. 0. 0. 1.]\n",
      " [1. 0. 0. 1. 0. 0. 1. 0. 1. 0.]\n",
      " [0. 1. 0. 1. 0. 0. 1. 0. 0. 1.]\n",
      " [0. 1. 0. 1. 0. 0. 1. 0. 1. 0.]\n",
      " [1. 0. 0. 1. 0. 0. 0. 1. 0. 1.]\n",
      " [1. 0. 0. 1. 0. 0. 0. 1. 1. 0.]\n",
      " [0. 1. 0. 1. 0. 0. 0. 1. 0. 1.]\n",
      " [0. 1. 0. 1. 0. 0. 0. 1. 1. 0.]\n",
      " [1. 0. 0. 1. 0. 1. 0. 0. 0. 1.]\n",
      " [1. 0. 0. 1. 0. 1. 0. 0. 1. 0.]\n",
      " [0. 1. 0. 1. 0. 1. 0. 0. 0. 1.]\n",
      " [0. 1. 0. 1. 0. 1. 0. 0. 1. 0.]]\n",
      "['humidity=high', 'humidity=normal', 'outlook=overcast', 'outlook=rainy', 'outlook=sunny', 'temperature=cool', 'temperature=hot', 'temperature=mild', 'windy=False', 'windy=True']\n"
     ]
    }
   ],
   "source": [
    "from sklearn.feature_extraction import DictVectorizer\n",
    "\n",
    "vectorizer = DictVectorizer(sparse=False)\n",
    "dict_repr = [{varname: var for var, varname in zip(row, ['outlook', 'temperature', 'humidity', 'windy'])} for row in weather_dataset]\n",
    "print(dict_repr[0])\n",
    "print(vectorizer.fit_transform(dict_repr))\n",
    "print(vectorizer.feature_names_)"
   ],
   "metadata": {
    "collapsed": false,
    "pycharm": {
     "name": "#%%\n"
    }
   }
  },
  {
   "cell_type": "code",
   "execution_count": 15,
   "outputs": [
    {
     "name": "stdout",
     "output_type": "stream",
     "text": [
      "[2 2 2 2 2 2 2 2 2 2 2 2 0 0 0 0 0 0 0 0 0 0 0 0 1 1 1 1 1 1 1 1 1 1 1 1]\n",
      "['overcast' 'rainy' 'sunny']\n",
      "['overcast' 'rainy' 'sunny']\n"
     ]
    }
   ],
   "source": [
    "# LabelEncoder & LabelBinarizer\n",
    "from sklearn.preprocessing import LabelEncoder, LabelBinarizer\n",
    "encoder = LabelEncoder()\n",
    "print(encoder.fit_transform(df.outlook))\n",
    "print(encoder.inverse_transform([0, 1, 2]))\n",
    "print(encoder.classes_)\n",
    "\n"
   ],
   "metadata": {
    "collapsed": false,
    "pycharm": {
     "name": "#%%\n"
    }
   }
  },
  {
   "cell_type": "markdown",
   "source": [
    "When the values are transformed with LabelEncoder, we can use LabelBinarizer which transforms everything according to\n",
    "<b>one-vs-all</b> method. ONLY USED WITH SUPERVISED LEARNING <b>TARGETS</b>.\n"
   ],
   "metadata": {
    "collapsed": false,
    "pycharm": {
     "name": "#%% md\n"
    }
   }
  },
  {
   "cell_type": "markdown",
   "source": [
    "### NLP technique -> CountVectorizer\n"
   ],
   "metadata": {
    "collapsed": false,
    "pycharm": {
     "name": "#%% md\n"
    }
   }
  },
  {
   "cell_type": "code",
   "execution_count": 18,
   "outputs": [
    {
     "name": "stdout",
     "output_type": "stream",
     "text": [
      "[[0 0 1 0 1 0 1 1 0 0 1 1 0 1 0 0]\n",
      " [1 1 1 0 0 0 0 0 0 0 0 0 1 0 1 1]\n",
      " [0 0 1 1 0 1 0 0 1 1 0 0 0 0 0 0]]\n",
      "['around', 'bird', 'dog', 'fido', 'fox', 'is', 'jumped', 'lazy', 'my', 'named', 'over', 'quick', 'sought', 'the', 'with', 'wondering']\n",
      "[[0 0 0 0 0 0 0 0 0 0 0 0 0 0 0 0]]\n"
     ]
    }
   ],
   "source": [
    "from sklearn.feature_extraction.text import CountVectorizer\n",
    "\n",
    "corpus = ['The quick fox jumped over the lazy dog', 'I sought a dog wondering around with a bird', 'My dog is named Fido']\n",
    "textual_encoder = CountVectorizer(binary=True)\n",
    "textual_encoder.fit(corpus)\n",
    "vectorized_text = textual_encoder.transform(corpus)\n",
    "print(vectorized_text.todense())\n",
    "print(textual_encoder.get_feature_names())\n",
    "print(textual_encoder.transform(['John went home today']).todense())"
   ],
   "metadata": {
    "collapsed": false,
    "pycharm": {
     "name": "#%%\n"
    }
   }
  },
  {
   "cell_type": "markdown",
   "source": [
    "This approach doesn't require a lot of space since it's getting squeezed with todense method. The same technique\n",
    "can be applied with HashingVectorizer. It's a way to observe the word itself before the assignment\n"
   ],
   "metadata": {
    "collapsed": false,
    "pycharm": {
     "name": "#%% md\n"
    }
   }
  },
  {
   "cell_type": "code",
   "execution_count": 20,
   "outputs": [
    {
     "name": "stdout",
     "output_type": "stream",
     "text": [
      "[[1. 0. 0. 1. 1. 0. 0. 1. 0. 0. 0.]\n",
      " [0. 0. 0. 1. 0. 1. 0. 1. 1. 0. 0.]\n",
      " [0. 0. 0. 1. 0. 0. 0. 1. 1. 0. 0.]]\n"
     ]
    }
   ],
   "source": [
    "from sklearn.feature_extraction.text import HashingVectorizer\n",
    "hashing_trick = HashingVectorizer(n_features=11, binary=True, norm=None)\n",
    "M = hashing_trick.transform(corpus)\n",
    "print(M.todense())\n"
   ],
   "metadata": {
    "collapsed": false,
    "pycharm": {
     "name": "#%%\n"
    }
   }
  },
  {
   "cell_type": "markdown",
   "source": [
    "## Numeric Feature Transformation\n"
   ],
   "metadata": {
    "collapsed": false,
    "pycharm": {
     "name": "#%% md\n"
    }
   }
  },
  {
   "cell_type": "code",
   "execution_count": 24,
   "outputs": [
    {
     "data": {
      "text/plain": "0.7406426641094095"
     },
     "execution_count": 24,
     "metadata": {},
     "output_type": "execute_result"
    }
   ],
   "source": [
    "from sklearn.metrics import r2_score\n",
    "\n",
    "X = boston.iloc[:, :-1]\n",
    "y = boston.iloc[:, -1]\n",
    "labels = X.columns\n",
    "\n",
    "linreg = lm.LinearRegression().fit(X, y)\n",
    "r2_score(y, linreg.predict(X))"
   ],
   "metadata": {
    "collapsed": false,
    "pycharm": {
     "name": "#%%\n"
    }
   }
  },
  {
   "cell_type": "code",
   "execution_count": 30,
   "outputs": [
    {
     "name": "stdout",
     "output_type": "stream",
     "text": [
      "Head of residuals: [-6.003843377016757, -3.425562379053151, 4.1324032813983855, 4.792963511271886, 8.256475767126972]\n",
      "Mean of residuals: -0.0\n",
      "STD of residuals: 4.679191295697281\n"
     ]
    }
   ],
   "source": [
    "# residuals analysis\n",
    "residuals = y - linreg.predict(X)\n",
    "print(f'Head of residuals: {residuals[:5].tolist()}')\n",
    "print(f'Mean of residuals: {np.round(np.mean(residuals), 2)}')\n",
    "print(f'STD of residuals: {np.std(residuals)}')"
   ],
   "metadata": {
    "collapsed": false,
    "pycharm": {
     "name": "#%%\n"
    }
   }
  },
  {
   "cell_type": "markdown",
   "source": [
    "- The mean of residuals always tends to be 0.\n",
    "- Standard Deviation will depend on the size of error produced\n",
    "- <b>Residuals provide the insights on unusual observations & non-linearity</b>\n",
    "\n",
    "To detect non-linearity, we can use <b>partial residual plot</b>\n",
    "\n",
    "In the fragment below, we can see that the relationship is non-linear, it should be an inverse logarithmic function"
   ],
   "metadata": {
    "collapsed": false,
    "pycharm": {
     "name": "#%% md\n"
    }
   }
  },
  {
   "cell_type": "code",
   "execution_count": 50,
   "outputs": [
    {
     "data": {
      "text/plain": "<Figure size 432x288 with 1 Axes>",
      "image/png": "[encoded data removed]"
     },
     "metadata": {},
     "output_type": "display_data"
    },
    {
     "data": {
      "text/plain": "0.7406426641094095"
     },
     "execution_count": 50,
     "metadata": {},
     "output_type": "execute_result"
    }
   ],
   "source": [
    "var = 7\n",
    "partial_residuals = residuals + X.iloc[:, var] * linreg.coef_[var]\n",
    "plt.plot(X.iloc[:, var], partial_residuals, 'wo', c='red', alpha=0.3)\n",
    "plt.xlabel(labels[var])\n",
    "plt.ylabel('partial residuals')\n",
    "plt.show()\n",
    "\n",
    "r2_score(y, linreg.predict(X))"
   ],
   "metadata": {
    "collapsed": false,
    "pycharm": {
     "name": "#%%\n"
    }
   }
  },
  {
   "cell_type": "code",
   "execution_count": 53,
   "outputs": [
    {
     "data": {
      "text/plain": "<Figure size 432x288 with 1 Axes>",
      "image/png": "[encoded data removed]"
     },
     "metadata": {},
     "output_type": "display_data"
    },
    {
     "data": {
      "text/plain": "0.768907727254642"
     },
     "execution_count": 53,
     "metadata": {},
     "output_type": "execute_result"
    }
   ],
   "source": [
    "# inverse log implementation\n",
    "X_t = X.copy()\n",
    "X_t.iloc[:, var] = 1./np.sqrt(X_t.iloc[:, var])\n",
    "linreg.fit(X_t, y)\n",
    "partial_residuals = residuals + X_t.iloc[:, var] * linreg.coef_[var]\n",
    "plt.plot(X_t.iloc[:, var], partial_residuals, 'wo', c='red', alpha=0.3)\n",
    "plt.xlabel(labels[var])\n",
    "plt.ylabel('partial residuals')\n",
    "plt.show()\n",
    "\n",
    "r2_score(y, linreg.predict(X_t))"
   ],
   "metadata": {
    "collapsed": false,
    "pycharm": {
     "name": "#%%\n"
    }
   }
  },
  {
   "cell_type": "markdown",
   "source": [
    "We can see a 2.8% increase just by transforming the DIS column to inverse log! Isn't it great?\n",
    "\n",
    "### Other transformations to try out on either single or all columns\n",
    "- Logarithmic: np.log(X)\n",
    "- Exponential: np.exp(X)\n",
    "- Squared, Cubed: X^2, X^3\n",
    "- Square root: np.sqrt(X)\n",
    "- Cube Root: X^(1/3)\n",
    "- Inverse: $\\frac{1.}{X}$\n",
    "\n",
    "\"Some of the transformations suggested in the preceding table won’t work properly after\n",
    "normalization or otherwise in the presence of zero and negative values: logarithmic\n",
    "transformation needs positive values above zero, square root won’t work with negative\n",
    "values, and inverse transformation won’t operate with zero values. Sometimes adding a\n",
    "constant may help (like in the case of np.log(x+1)). Generally, just try the possible\n",
    "transformations, according to your data values.\"\n",
    "** Regression Analysis w/ Python (p. 225)"
   ],
   "metadata": {
    "collapsed": false,
    "pycharm": {
     "name": "#%% md\n"
    }
   }
  },
  {
   "cell_type": "code",
   "execution_count": 55,
   "outputs": [],
   "source": [],
   "metadata": {
    "collapsed": false,
    "pycharm": {
     "name": "#%%\n"
    }
   }
  },
  {
   "cell_type": "code",
   "execution_count": 53,
   "outputs": [],
   "source": [],
   "metadata": {
    "collapsed": false,
    "pycharm": {
     "name": "#%%\n"
    }
   }
  },
  {
   "cell_type": "code",
   "execution_count": 53,
   "outputs": [],
   "source": [],
   "metadata": {
    "collapsed": false,
    "pycharm": {
     "name": "#%%\n"
    }
   }
  },
  {
   "cell_type": "code",
   "execution_count": 53,
   "outputs": [],
   "source": [],
   "metadata": {
    "collapsed": false,
    "pycharm": {
     "name": "#%%\n"
    }
   }
  },
  {
   "cell_type": "code",
   "execution_count": 53,
   "outputs": [],
   "source": [],
   "metadata": {
    "collapsed": false,
    "pycharm": {
     "name": "#%%\n"
    }
   }
  },
  {
   "cell_type": "code",
   "execution_count": null,
   "outputs": [],
   "source": [],
   "metadata": {
    "collapsed": false,
    "pycharm": {
     "name": "#%%\n"
    }
   }
  }
 ],
 "metadata": {
  "kernelspec": {
   "display_name": "Python 3",
   "language": "python",
   "name": "python3"
  },
  "language_info": {
   "codemirror_mode": {
    "name": "ipython",
    "version": 2
   },
   "file_extension": ".py",
   "mimetype": "text/x-python",
   "name": "python",
   "nbconvert_exporter": "python",
   "pygments_lexer": "ipython2",
   "version": "2.7.6"
  }
 },
 "nbformat": 4,
 "nbformat_minor": 0
}